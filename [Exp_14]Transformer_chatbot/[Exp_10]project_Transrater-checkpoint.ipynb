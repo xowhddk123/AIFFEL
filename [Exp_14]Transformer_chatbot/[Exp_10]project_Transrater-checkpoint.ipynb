{
 "cells": [
  {
   "cell_type": "markdown",
   "id": "2a0dd3fc",
   "metadata": {},
   "source": [
    "# 10. 프로젝트 : 단어 Level로 번역기 업그레이드하기"
   ]
  },
  {
   "cell_type": "code",
   "execution_count": 1,
   "id": "92645aa5",
   "metadata": {},
   "outputs": [],
   "source": [
    "import tensorflow\n",
    "import pandas as pd\n",
    "from tensorflow.keras.preprocessing.text import Tokenizer\n",
    "from tensorflow.keras.preprocessing.sequence import pad_sequences\n",
    "from tensorflow.keras.utils import to_categorical\n",
    "import numpy as np\n",
    "\n",
    "import os\n",
    "import re\n",
    "import shutil\n",
    "import zipfile\n",
    "\n",
    "import numpy as np\n",
    "import pandas as pd\n",
    "import tensorflow as tf\n",
    "import unicodedata\n",
    "import urllib3\n",
    "from tensorflow.keras.layers import Embedding, GRU, Dense\n",
    "from tensorflow.keras.preprocessing.sequence import pad_sequences\n",
    "from tensorflow.keras.preprocessing.text import Tokenizer"
   ]
  },
  {
   "cell_type": "markdown",
   "id": "03c05967",
   "metadata": {},
   "source": [
    "## Step 1. 정제, 정규화, 전처리 (영어, 프랑스어 모두!)"
   ]
  },
  {
   "cell_type": "code",
   "execution_count": 2,
   "id": "fd96f1b6",
   "metadata": {},
   "outputs": [
    {
     "name": "stdout",
     "output_type": "stream",
     "text": [
      "전체 샘플의 수 : 197463\n"
     ]
    },
    {
     "data": {
      "text/html": [
       "<div>\n",
       "<style scoped>\n",
       "    .dataframe tbody tr th:only-of-type {\n",
       "        vertical-align: middle;\n",
       "    }\n",
       "\n",
       "    .dataframe tbody tr th {\n",
       "        vertical-align: top;\n",
       "    }\n",
       "\n",
       "    .dataframe thead th {\n",
       "        text-align: right;\n",
       "    }\n",
       "</style>\n",
       "<table border=\"1\" class=\"dataframe\">\n",
       "  <thead>\n",
       "    <tr style=\"text-align: right;\">\n",
       "      <th></th>\n",
       "      <th>eng</th>\n",
       "      <th>fra</th>\n",
       "      <th>cc</th>\n",
       "    </tr>\n",
       "  </thead>\n",
       "  <tbody>\n",
       "    <tr>\n",
       "      <th>37060</th>\n",
       "      <td>Is college worth it?</td>\n",
       "      <td>La faculté vaut-elle le coup ?</td>\n",
       "      <td>CC-BY 2.0 (France) Attribution: tatoeba.org #1...</td>\n",
       "    </tr>\n",
       "    <tr>\n",
       "      <th>169033</th>\n",
       "      <td>I've been waiting for almost half an hour.</td>\n",
       "      <td>Cela fait presque une demi-heure que j'attends.</td>\n",
       "      <td>CC-BY 2.0 (France) Attribution: tatoeba.org #2...</td>\n",
       "    </tr>\n",
       "    <tr>\n",
       "      <th>150104</th>\n",
       "      <td>Hurry up, or you will miss the train.</td>\n",
       "      <td>Dépêchez-vous, ou vous allez rater le train.</td>\n",
       "      <td>CC-BY 2.0 (France) Attribution: tatoeba.org #1...</td>\n",
       "    </tr>\n",
       "    <tr>\n",
       "      <th>52322</th>\n",
       "      <td>The brake didn't work.</td>\n",
       "      <td>Le frein n'a pas fonctionné.</td>\n",
       "      <td>CC-BY 2.0 (France) Attribution: tatoeba.org #3...</td>\n",
       "    </tr>\n",
       "    <tr>\n",
       "      <th>20932</th>\n",
       "      <td>Time is precious.</td>\n",
       "      <td>Le temps est précieux.</td>\n",
       "      <td>CC-BY 2.0 (France) Attribution: tatoeba.org #3...</td>\n",
       "    </tr>\n",
       "  </tbody>\n",
       "</table>\n",
       "</div>"
      ],
      "text/plain": [
       "                                               eng  \\\n",
       "37060                         Is college worth it?   \n",
       "169033  I've been waiting for almost half an hour.   \n",
       "150104       Hurry up, or you will miss the train.   \n",
       "52322                       The brake didn't work.   \n",
       "20932                            Time is precious.   \n",
       "\n",
       "                                                    fra  \\\n",
       "37060                    La faculté vaut-elle le coup ?   \n",
       "169033  Cela fait presque une demi-heure que j'attends.   \n",
       "150104     Dépêchez-vous, ou vous allez rater le train.   \n",
       "52322                      Le frein n'a pas fonctionné.   \n",
       "20932                            Le temps est précieux.   \n",
       "\n",
       "                                                       cc  \n",
       "37060   CC-BY 2.0 (France) Attribution: tatoeba.org #1...  \n",
       "169033  CC-BY 2.0 (France) Attribution: tatoeba.org #2...  \n",
       "150104  CC-BY 2.0 (France) Attribution: tatoeba.org #1...  \n",
       "52322   CC-BY 2.0 (France) Attribution: tatoeba.org #3...  \n",
       "20932   CC-BY 2.0 (France) Attribution: tatoeba.org #3...  "
      ]
     },
     "execution_count": 2,
     "metadata": {},
     "output_type": "execute_result"
    }
   ],
   "source": [
    "import os\n",
    "file_path = os.getenv('HOME')+'/aiffel/translator_seq2seq/data/fra.txt'\n",
    "lines = pd.read_csv(file_path, names=['eng', 'fra', 'cc'], sep='\\t')\n",
    "print('전체 샘플의 수 :',len(lines))\n",
    "lines.sample(5) #샘플 5개 출력"
   ]
  },
  {
   "cell_type": "code",
   "execution_count": 3,
   "id": "4479ca23",
   "metadata": {},
   "outputs": [
    {
     "data": {
      "text/html": [
       "<div>\n",
       "<style scoped>\n",
       "    .dataframe tbody tr th:only-of-type {\n",
       "        vertical-align: middle;\n",
       "    }\n",
       "\n",
       "    .dataframe tbody tr th {\n",
       "        vertical-align: top;\n",
       "    }\n",
       "\n",
       "    .dataframe thead th {\n",
       "        text-align: right;\n",
       "    }\n",
       "</style>\n",
       "<table border=\"1\" class=\"dataframe\">\n",
       "  <thead>\n",
       "    <tr style=\"text-align: right;\">\n",
       "      <th></th>\n",
       "      <th>eng</th>\n",
       "      <th>fra</th>\n",
       "    </tr>\n",
       "  </thead>\n",
       "  <tbody>\n",
       "    <tr>\n",
       "      <th>6588</th>\n",
       "      <td>You're young.</td>\n",
       "      <td>Vous êtes jeune.</td>\n",
       "    </tr>\n",
       "    <tr>\n",
       "      <th>29703</th>\n",
       "      <td>I fell off my bike.</td>\n",
       "      <td>Je suis tombé de vélo.</td>\n",
       "    </tr>\n",
       "    <tr>\n",
       "      <th>32261</th>\n",
       "      <td>They're all hungry.</td>\n",
       "      <td>Ils ont tous faim.</td>\n",
       "    </tr>\n",
       "    <tr>\n",
       "      <th>5085</th>\n",
       "      <td>I smelled it.</td>\n",
       "      <td>Je l'ai sentie.</td>\n",
       "    </tr>\n",
       "    <tr>\n",
       "      <th>12918</th>\n",
       "      <td>You're immoral.</td>\n",
       "      <td>Tu es immoral.</td>\n",
       "    </tr>\n",
       "  </tbody>\n",
       "</table>\n",
       "</div>"
      ],
      "text/plain": [
       "                       eng                     fra\n",
       "6588         You're young.        Vous êtes jeune.\n",
       "29703  I fell off my bike.  Je suis tombé de vélo.\n",
       "32261  They're all hungry.      Ils ont tous faim.\n",
       "5085         I smelled it.         Je l'ai sentie.\n",
       "12918      You're immoral.          Tu es immoral."
      ]
     },
     "execution_count": 3,
     "metadata": {},
     "output_type": "execute_result"
    }
   ],
   "source": [
    "# 세 번째 열은 제거하고 500000까지 추출\n",
    "lines = lines[['eng', 'fra']][:33000] # 5만개 샘플 사용\n",
    "lines.sample(5)"
   ]
  },
  {
   "cell_type": "code",
   "execution_count": 4,
   "id": "b9fac97e",
   "metadata": {},
   "outputs": [],
   "source": [
    "def to_ascii(s):\n",
    "  # 프랑스어 악센트(accent) 삭제\n",
    "  # 예시 : 'déjà diné' -> deja dine\n",
    "    return ''.join(c for c in unicodedata.normalize('NFD', s)\n",
    "                   if unicodedata.category(c) != 'Mn')\n",
    "\n",
    "def preprocess_sentence(sent):\n",
    "    # 악센트 제거 함수 호출\n",
    "    sent = to_ascii(sent.lower())\n",
    "\n",
    "    # 단어와 구두점 사이에 공백 추가.\n",
    "    # ex) \"I am a student.\" => \"I am a student .\"\n",
    "    sent = re.sub(r\"([?.!,¿])\", r\" \\1\", sent)\n",
    "\n",
    "    # (a-z, A-Z, \".\", \"?\", \"!\", \",\") 이들을 제외하고는 전부 공백으로 변환.\n",
    "    sent = re.sub(r\"[^a-zA-Z!.?]+\", r\" \", sent)\n",
    "\n",
    "    # 다수 개의 공백을 하나의 공백으로 치환\n",
    "    sent = re.sub(r\"\\s+\", \" \", sent)\n",
    "    return sent"
   ]
  },
  {
   "cell_type": "code",
   "execution_count": 5,
   "id": "ebefd752",
   "metadata": {},
   "outputs": [
    {
     "name": "stdout",
     "output_type": "stream",
     "text": [
      "전처리 전 영어 문장 : Have you had dinner?\n",
      "전처리 후 영어 문장 : have you had dinner ?\n",
      "전처리 전 프랑스어 문장 : Avez-vous déjà diné?\n",
      "전처리 후 프랑스어 문장 : avez vous deja dine ?\n"
     ]
    }
   ],
   "source": [
    "# 전처리 테스트\n",
    "en_sent = u\"Have you had dinner?\"\n",
    "fr_sent = u\"Avez-vous déjà diné?\"\n",
    "\n",
    "print('전처리 전 영어 문장 :', en_sent)\n",
    "print('전처리 후 영어 문장 :',preprocess_sentence(en_sent))\n",
    "print('전처리 전 프랑스어 문장 :', fr_sent)\n",
    "print('전처리 후 프랑스어 문장 :', preprocess_sentence(fr_sent))"
   ]
  },
  {
   "cell_type": "code",
   "execution_count": 6,
   "id": "978da581",
   "metadata": {},
   "outputs": [],
   "source": [
    "# 문장 전처리 하기\n",
    "lines[\"pre_eng\"] = lines[\"eng\"].apply(preprocess_sentence)\n",
    "lines[\"pre_fra\"] = lines[\"fra\"].apply(to_ascii)\n",
    "lines[\"pre_fra\"] = lines[\"fra\"].apply(preprocess_sentence)"
   ]
  },
  {
   "cell_type": "code",
   "execution_count": 7,
   "id": "d5879fce",
   "metadata": {
    "scrolled": true
   },
   "outputs": [
    {
     "data": {
      "text/html": [
       "<div>\n",
       "<style scoped>\n",
       "    .dataframe tbody tr th:only-of-type {\n",
       "        vertical-align: middle;\n",
       "    }\n",
       "\n",
       "    .dataframe tbody tr th {\n",
       "        vertical-align: top;\n",
       "    }\n",
       "\n",
       "    .dataframe thead th {\n",
       "        text-align: right;\n",
       "    }\n",
       "</style>\n",
       "<table border=\"1\" class=\"dataframe\">\n",
       "  <thead>\n",
       "    <tr style=\"text-align: right;\">\n",
       "      <th></th>\n",
       "      <th>eng</th>\n",
       "      <th>pre_eng</th>\n",
       "      <th>fra</th>\n",
       "      <th>pre_fra</th>\n",
       "    </tr>\n",
       "  </thead>\n",
       "  <tbody>\n",
       "    <tr>\n",
       "      <th>16897</th>\n",
       "      <td>What's going on?</td>\n",
       "      <td>what s going on ?</td>\n",
       "      <td>Qu'y a-t-il ?</td>\n",
       "      <td>qu y a t il ?</td>\n",
       "    </tr>\n",
       "    <tr>\n",
       "      <th>343</th>\n",
       "      <td>I'm fat.</td>\n",
       "      <td>i m fat .</td>\n",
       "      <td>Je suis gros.</td>\n",
       "      <td>je suis gros .</td>\n",
       "    </tr>\n",
       "    <tr>\n",
       "      <th>30405</th>\n",
       "      <td>I wasn't told that.</td>\n",
       "      <td>i wasn t told that .</td>\n",
       "      <td>On ne m'a pas dit ça.</td>\n",
       "      <td>on ne m a pas dit ca .</td>\n",
       "    </tr>\n",
       "    <tr>\n",
       "      <th>8840</th>\n",
       "      <td>Tom is guilty.</td>\n",
       "      <td>tom is guilty .</td>\n",
       "      <td>Tom est coupable.</td>\n",
       "      <td>tom est coupable .</td>\n",
       "    </tr>\n",
       "    <tr>\n",
       "      <th>755</th>\n",
       "      <td>Say what?</td>\n",
       "      <td>say what ?</td>\n",
       "      <td>De quoi ?</td>\n",
       "      <td>de quoi ?</td>\n",
       "    </tr>\n",
       "  </tbody>\n",
       "</table>\n",
       "</div>"
      ],
      "text/plain": [
       "                       eng               pre_eng                    fra  \\\n",
       "16897     What's going on?     what s going on ?          Qu'y a-t-il ?   \n",
       "343               I'm fat.             i m fat .          Je suis gros.   \n",
       "30405  I wasn't told that.  i wasn t told that .  On ne m'a pas dit ça.   \n",
       "8840        Tom is guilty.       tom is guilty .      Tom est coupable.   \n",
       "755              Say what?            say what ?              De quoi ?   \n",
       "\n",
       "                      pre_fra  \n",
       "16897           qu y a t il ?  \n",
       "343            je suis gros .  \n",
       "30405  on ne m a pas dit ca .  \n",
       "8840       tom est coupable .  \n",
       "755                 de quoi ?  "
      ]
     },
     "execution_count": 7,
     "metadata": {},
     "output_type": "execute_result"
    }
   ],
   "source": [
    "# 전처리 잘 됐는지 확인\n",
    "lines[[\"eng\",\"pre_eng\",\"fra\", \"pre_fra\"]].sample(5)"
   ]
  },
  {
   "cell_type": "markdown",
   "id": "fe094153",
   "metadata": {},
   "source": [
    "## Step 2. 디코더의 문장에 시작 토큰과 종료 토큰을 넣어주세요."
   ]
  },
  {
   "cell_type": "code",
   "execution_count": 8,
   "id": "1a7907ed",
   "metadata": {},
   "outputs": [
    {
     "name": "stdout",
     "output_type": "stream",
     "text": [
      "전체 샘플의 수 : 33000\n"
     ]
    },
    {
     "data": {
      "text/html": [
       "<div>\n",
       "<style scoped>\n",
       "    .dataframe tbody tr th:only-of-type {\n",
       "        vertical-align: middle;\n",
       "    }\n",
       "\n",
       "    .dataframe tbody tr th {\n",
       "        vertical-align: top;\n",
       "    }\n",
       "\n",
       "    .dataframe thead th {\n",
       "        text-align: right;\n",
       "    }\n",
       "</style>\n",
       "<table border=\"1\" class=\"dataframe\">\n",
       "  <thead>\n",
       "    <tr style=\"text-align: right;\">\n",
       "      <th></th>\n",
       "      <th>eng</th>\n",
       "      <th>fra</th>\n",
       "      <th>pre_eng</th>\n",
       "      <th>pre_fra</th>\n",
       "    </tr>\n",
       "  </thead>\n",
       "  <tbody>\n",
       "    <tr>\n",
       "      <th>25991</th>\n",
       "      <td>That's no defense.</td>\n",
       "      <td>Ça ne constitue pas une défense.</td>\n",
       "      <td>that s no defense .</td>\n",
       "      <td>&lt;start&gt; ca ne constitue pas une defense . &lt;end&gt;</td>\n",
       "    </tr>\n",
       "    <tr>\n",
       "      <th>17384</th>\n",
       "      <td>Are we done here?</td>\n",
       "      <td>En avons-nous terminé, ici ?</td>\n",
       "      <td>are we done here ?</td>\n",
       "      <td>&lt;start&gt; en avons nous termine ici ? &lt;end&gt;</td>\n",
       "    </tr>\n",
       "    <tr>\n",
       "      <th>24331</th>\n",
       "      <td>I really hope not.</td>\n",
       "      <td>J'espère vraiment que non.</td>\n",
       "      <td>i really hope not .</td>\n",
       "      <td>&lt;start&gt; j espere vraiment que non . &lt;end&gt;</td>\n",
       "    </tr>\n",
       "    <tr>\n",
       "      <th>11869</th>\n",
       "      <td>The siren blew.</td>\n",
       "      <td>La sirène a sonné.</td>\n",
       "      <td>the siren blew .</td>\n",
       "      <td>&lt;start&gt; la sirene a sonne . &lt;end&gt;</td>\n",
       "    </tr>\n",
       "    <tr>\n",
       "      <th>15137</th>\n",
       "      <td>It's news to me.</td>\n",
       "      <td>Je n'étais pas au courant.</td>\n",
       "      <td>it s news to me .</td>\n",
       "      <td>&lt;start&gt; je n etais pas au courant . &lt;end&gt;</td>\n",
       "    </tr>\n",
       "  </tbody>\n",
       "</table>\n",
       "</div>"
      ],
      "text/plain": [
       "                      eng                               fra  \\\n",
       "25991  That's no defense.  Ça ne constitue pas une défense.   \n",
       "17384   Are we done here?      En avons-nous terminé, ici ?   \n",
       "24331  I really hope not.        J'espère vraiment que non.   \n",
       "11869     The siren blew.                La sirène a sonné.   \n",
       "15137    It's news to me.        Je n'étais pas au courant.   \n",
       "\n",
       "                   pre_eng                                          pre_fra  \n",
       "25991  that s no defense .  <start> ca ne constitue pas une defense . <end>  \n",
       "17384   are we done here ?        <start> en avons nous termine ici ? <end>  \n",
       "24331  i really hope not .        <start> j espere vraiment que non . <end>  \n",
       "11869     the siren blew .                <start> la sirene a sonne . <end>  \n",
       "15137    it s news to me .        <start> je n etais pas au courant . <end>  "
      ]
     },
     "execution_count": 8,
     "metadata": {},
     "output_type": "execute_result"
    }
   ],
   "source": [
    "# 시작 토큰과 종료 토큰 추가\n",
    "sos_token = \"<start>\"\n",
    "eos_token = \"<end>\"\n",
    "lines.pre_fra = lines.pre_fra.apply(lambda x : \"<start> \"+ x + \" <end>\")\n",
    "# lines.pre_eng = lines.pre_eng.apply(lambda x : \"<start> \"+ x + \" <end>\")\n",
    "print('전체 샘플의 수 :',len(lines))\n",
    "lines.sample(5)"
   ]
  },
  {
   "cell_type": "markdown",
   "id": "40c625f8",
   "metadata": {},
   "source": [
    "## Step 3. 케라스의 토크나이저로 텍스트를 숫자로 바꿔보세요."
   ]
  },
  {
   "cell_type": "markdown",
   "id": "9301705f",
   "metadata": {},
   "source": [
    "__단어장 만들기__"
   ]
  },
  {
   "cell_type": "code",
   "execution_count": 9,
   "id": "bd9e00e8",
   "metadata": {},
   "outputs": [
    {
     "name": "stdout",
     "output_type": "stream",
     "text": [
      "[[25], [25], [25]]\n"
     ]
    }
   ],
   "source": [
    "# 영어 단어장 만들기\n",
    "eng_tokenizer = Tokenizer(char_level=False)   # 문자 단위로 Tokenizer를 생성합니다. \n",
    "eng_tokenizer.fit_on_texts(lines.pre_eng)               # pre_eng의 각 행에 토큰화를 수행\n",
    "input_text = eng_tokenizer.texts_to_sequences(lines.pre_eng)    # 단어를 숫자값 인덱스로 변환하여 저장\n",
    "print(input_text[:3])"
   ]
  },
  {
   "cell_type": "code",
   "execution_count": 10,
   "id": "6b9f8e85",
   "metadata": {},
   "outputs": [
    {
     "name": "stdout",
     "output_type": "stream",
     "text": [
      "[[1, 72, 9, 2], [1, 203, 3, 2], [1, 25, 490, 9, 2]]\n"
     ]
    }
   ],
   "source": [
    "# 프랑스어 단어장\n",
    "fra_tokenizer = Tokenizer(char_level=False, filters = \"\")   # 문자 단위로 Tokenizer를 생성합니다. \n",
    "fra_tokenizer.fit_on_texts(lines.pre_fra)                 # pre_fra의 각 행에 토큰화를 수행\n",
    "target_text = fra_tokenizer.texts_to_sequences(lines.pre_fra)     # 단어를 숫자값 인덱스로 변환하여 저장\n",
    "print(target_text[:3])"
   ]
  },
  {
   "cell_type": "markdown",
   "id": "7c26e33c",
   "metadata": {},
   "source": [
    "__단어장 크기 맞추기__ "
   ]
  },
  {
   "cell_type": "code",
   "execution_count": 11,
   "id": "4e7ee102",
   "metadata": {},
   "outputs": [
    {
     "name": "stdout",
     "output_type": "stream",
     "text": [
      "영어 단어장의 크기 : 4667\n",
      "프랑스어 단어장의 크기 : 8137\n"
     ]
    }
   ],
   "source": [
    "# 단어장의 크기를 변수에 저장\n",
    "eng_vocab_size = len(eng_tokenizer.word_index) + 1  # 문자 숫자\n",
    "fra_vocab_size = len(fra_tokenizer.word_index) + 1\n",
    "print('영어 단어장의 크기 :', eng_vocab_size)\n",
    "print('프랑스어 단어장의 크기 :', fra_vocab_size)"
   ]
  },
  {
   "cell_type": "code",
   "execution_count": 12,
   "id": "093e7752",
   "metadata": {},
   "outputs": [
    {
     "name": "stdout",
     "output_type": "stream",
     "text": [
      "영어 시퀀스의 최대 길이 7\n",
      "프랑스어 시퀀스의 최대 길이 17\n"
     ]
    }
   ],
   "source": [
    "# padding을 위해 각 언어의 최대 길이를 뽑아본다.\n",
    "max_eng_seq_len = max([len(line) for line in input_text])\n",
    "max_fra_seq_len = max([len(line) for line in target_text])\n",
    "print('영어 시퀀스의 최대 길이', max_eng_seq_len)\n",
    "print('프랑스어 시퀀스의 최대 길이', max_fra_seq_len)"
   ]
  },
  {
   "cell_type": "code",
   "execution_count": 13,
   "id": "7092d26a",
   "metadata": {},
   "outputs": [
    {
     "name": "stdout",
     "output_type": "stream",
     "text": [
      "전체 샘플의 수 : 33000\n",
      "영어 단어장의 크기 : 4667\n",
      "프랑스어 단어장의 크기 : 8137\n",
      "영어 시퀀스의 최대 길이 7\n",
      "프랑스어 시퀀스의 최대 길이 17\n"
     ]
    }
   ],
   "source": [
    "print('전체 샘플의 수 :',len(lines))\n",
    "print('영어 단어장의 크기 :', eng_vocab_size)\n",
    "print('프랑스어 단어장의 크기 :', fra_vocab_size)\n",
    "print('영어 시퀀스의 최대 길이', max_eng_seq_len)\n",
    "print('프랑스어 시퀀스의 최대 길이', max_fra_seq_len)"
   ]
  },
  {
   "cell_type": "code",
   "execution_count": 14,
   "id": "63250968",
   "metadata": {},
   "outputs": [],
   "source": [
    "eng_to_index = eng_tokenizer.word_index\n",
    "index_to_eng = eng_tokenizer.index_word\n",
    "fra_to_index = fra_tokenizer.word_index\n",
    "index_to_fra = fra_tokenizer.index_word"
   ]
  },
  {
   "cell_type": "markdown",
   "id": "4f97bb82",
   "metadata": {},
   "source": [
    "__padding 추가하기__"
   ]
  },
  {
   "cell_type": "code",
   "execution_count": 15,
   "id": "38643f21",
   "metadata": {},
   "outputs": [],
   "source": [
    "encoder_input = input_text\n",
    "# 종료 토큰 제거\n",
    "decoder_input = [[ char for char in line if char != fra_tokenizer.word_index[eos_token] ] for line in target_text] \n",
    "# 시작 토큰 제거\n",
    "decoder_target = [[ char for char in line if char != fra_tokenizer.word_index[sos_token] ] for line in target_text]"
   ]
  },
  {
   "cell_type": "code",
   "execution_count": 16,
   "id": "63d4deef",
   "metadata": {},
   "outputs": [
    {
     "name": "stdout",
     "output_type": "stream",
     "text": [
      "[[1, 72, 9], [1, 203, 3], [1, 25, 490, 9]]\n",
      "[[72, 9, 2], [203, 3, 2], [25, 490, 9, 2]]\n"
     ]
    }
   ],
   "source": [
    "print(decoder_input[:3])\n",
    "print(decoder_target[:3])"
   ]
  },
  {
   "cell_type": "code",
   "execution_count": 17,
   "id": "4c491ad9",
   "metadata": {},
   "outputs": [
    {
     "name": "stdout",
     "output_type": "stream",
     "text": [
      "영어 데이터의 크기(shape) : (33000, 7)\n",
      "프랑스어 입력데이터의 크기(shape) : (33000, 17)\n",
      "프랑스어 출력데이터의 크기(shape) : (33000, 17)\n"
     ]
    }
   ],
   "source": [
    "encoder_input = pad_sequences(encoder_input, maxlen = max_eng_seq_len, padding='post')\n",
    "decoder_input = pad_sequences(decoder_input, maxlen = max_fra_seq_len, padding='post')\n",
    "decoder_target = pad_sequences(decoder_target, maxlen = max_fra_seq_len, padding='post')\n",
    "print('영어 데이터의 크기(shape) :',np.shape(encoder_input))\n",
    "print('프랑스어 입력데이터의 크기(shape) :',np.shape(decoder_input))\n",
    "print('프랑스어 출력데이터의 크기(shape) :',np.shape(decoder_target))"
   ]
  },
  {
   "cell_type": "code",
   "execution_count": 18,
   "id": "d52cb577",
   "metadata": {},
   "outputs": [
    {
     "name": "stdout",
     "output_type": "stream",
     "text": [
      "[25  0  0  0  0  0  0]\n"
     ]
    }
   ],
   "source": [
    "print(encoder_input[0])   # 패딩 추가 결과"
   ]
  },
  {
   "cell_type": "markdown",
   "id": "2567b9b6",
   "metadata": {},
   "source": [
    "__훈련세트 테스트세트 분리__"
   ]
  },
  {
   "cell_type": "code",
   "execution_count": 19,
   "id": "a66db601",
   "metadata": {},
   "outputs": [],
   "source": [
    "n_of_val = 3000\n",
    "# print('검증 데이터의 개수 :',n_of_val)\n",
    "\n",
    "encoder_input_train = encoder_input[:-n_of_val]\n",
    "decoder_input_train = decoder_input[:-n_of_val]\n",
    "decoder_target_train = decoder_target[:-n_of_val]\n",
    "\n",
    "encoder_input_test = encoder_input[-n_of_val:]\n",
    "decoder_input_test = decoder_input[-n_of_val:]\n",
    "decoder_target_test = decoder_target[-n_of_val:]"
   ]
  },
  {
   "cell_type": "code",
   "execution_count": 20,
   "id": "a90e90e5",
   "metadata": {},
   "outputs": [
    {
     "name": "stdout",
     "output_type": "stream",
     "text": [
      "훈련 source 데이터의 크기 : (30000, 7)\n",
      "훈련 target 데이터의 크기 : (30000, 17)\n",
      "훈련 target 레이블의 크기 : (30000, 17)\n",
      "테스트 source 데이터의 크기 : (3000, 7)\n",
      "테스트 target 데이터의 크기 : (3000, 17)\n",
      "테스트 target 레이블의 크기 : (3000, 17)\n"
     ]
    }
   ],
   "source": [
    "print('훈련 source 데이터의 크기 :',encoder_input_train.shape)\n",
    "print('훈련 target 데이터의 크기 :',decoder_input_train.shape)\n",
    "print('훈련 target 레이블의 크기 :',decoder_target_train.shape)\n",
    "print('테스트 source 데이터의 크기 :',encoder_input_test.shape)\n",
    "print('테스트 target 데이터의 크기 :',decoder_input_test.shape)\n",
    "print('테스트 target 레이블의 크기 :',decoder_target_test.shape)"
   ]
  },
  {
   "cell_type": "markdown",
   "id": "252e9984",
   "metadata": {},
   "source": [
    "## Step 4. 임베딩 층(Embedding layer) 사용하기"
   ]
  },
  {
   "cell_type": "code",
   "execution_count": 21,
   "id": "50239a9b",
   "metadata": {},
   "outputs": [],
   "source": [
    "from tensorflow.keras.layers import Input, LSTM, Embedding, Dense, Masking\n",
    "from tensorflow.keras.models import Model"
   ]
  },
  {
   "cell_type": "code",
   "execution_count": 51,
   "id": "f9a020b5",
   "metadata": {},
   "outputs": [],
   "source": [
    "embedding_dim = 64\n",
    "hidden_units = 64"
   ]
  },
  {
   "cell_type": "code",
   "execution_count": 52,
   "id": "c8c5e2f9",
   "metadata": {},
   "outputs": [],
   "source": [
    "# 인코더\n",
    "encoder_inputs = Input(shape=(None,))\n",
    "enc_emb = Embedding(eng_vocab_size, embedding_dim)(encoder_inputs) # 임베딩 층\n",
    "enc_masking = Masking(mask_value=0.0)(enc_emb) # 패딩 0은 연산에서 제외\n",
    "encoder_lstm = LSTM(hidden_units, return_state=True) # 상태값 리턴을 위해 return_state는 True\n",
    "encoder_outputs, state_h, state_c = encoder_lstm(enc_masking) # 은닉 상태와 셀 상태를 리턴\n",
    "encoder_states = [state_h, state_c] # 인코더의 은닉 상태와 셀 상태를 저장"
   ]
  },
  {
   "cell_type": "code",
   "execution_count": 53,
   "id": "4c0dce69",
   "metadata": {},
   "outputs": [],
   "source": [
    "# 디코더\n",
    "decoder_inputs = Input(shape=(None,))\n",
    "dec_emb_layer = Embedding(fra_vocab_size, hidden_units) # 임베딩 층\n",
    "dec_emb = dec_emb_layer(decoder_inputs) # 패딩 0은 연산에서 제외\n",
    "dec_masking = Masking(mask_value=0.0)(dec_emb)\n",
    "\n",
    "# 상태값 리턴을 위해 return_state는 True, 모든 시점에 대해서 단어를 예측하기 위해 return_sequences는 True\n",
    "decoder_lstm = LSTM(hidden_units, return_sequences=True, return_state=True) \n",
    "\n",
    "# 인코더의 은닉 상태를 초기 은닉 상태(initial_state)로 사용\n",
    "decoder_outputs, _, _ = decoder_lstm(dec_masking,\n",
    "                                     initial_state=encoder_states)\n",
    "\n",
    "# 모든 시점의 결과에 대해서 소프트맥스 함수를 사용한 출력층을 통해 단어 예측\n",
    "decoder_dense = Dense(fra_vocab_size, activation='softmax')\n",
    "decoder_outputs = decoder_dense(decoder_outputs)\n",
    "\n",
    "# 모델의 입력과 출력을 정의.\n",
    "model = Model([encoder_inputs, decoder_inputs], decoder_outputs)\n",
    "\n",
    "model.compile(optimizer='adam', loss='sparse_categorical_crossentropy', metrics=['acc'])"
   ]
  },
  {
   "cell_type": "code",
   "execution_count": 54,
   "id": "f404e50d",
   "metadata": {},
   "outputs": [
    {
     "name": "stdout",
     "output_type": "stream",
     "text": [
      "Epoch 1/23\n",
      "235/235 [==============================] - 15s 36ms/step - loss: 3.3118 - acc: 0.6381 - val_loss: 2.1747 - val_acc: 0.6015\n",
      "Epoch 2/23\n",
      "235/235 [==============================] - 7s 28ms/step - loss: 1.7290 - acc: 0.7081 - val_loss: 1.8917 - val_acc: 0.7248\n",
      "Epoch 3/23\n",
      "235/235 [==============================] - 7s 28ms/step - loss: 1.5397 - acc: 0.7619 - val_loss: 1.7481 - val_acc: 0.7367\n",
      "Epoch 4/23\n",
      "235/235 [==============================] - 7s 28ms/step - loss: 1.4174 - acc: 0.7736 - val_loss: 1.6473 - val_acc: 0.7519\n",
      "Epoch 5/23\n",
      "235/235 [==============================] - 7s 28ms/step - loss: 1.3284 - acc: 0.7824 - val_loss: 1.5837 - val_acc: 0.7551\n",
      "Epoch 6/23\n",
      "235/235 [==============================] - 7s 28ms/step - loss: 1.2591 - acc: 0.7918 - val_loss: 1.5350 - val_acc: 0.7612\n",
      "Epoch 7/23\n",
      "235/235 [==============================] - 7s 28ms/step - loss: 1.1920 - acc: 0.8033 - val_loss: 1.4763 - val_acc: 0.7713\n",
      "Epoch 8/23\n",
      "235/235 [==============================] - 7s 28ms/step - loss: 1.1315 - acc: 0.8147 - val_loss: 1.4320 - val_acc: 0.7794\n",
      "Epoch 9/23\n",
      "235/235 [==============================] - 7s 28ms/step - loss: 1.0806 - acc: 0.8213 - val_loss: 1.3896 - val_acc: 0.7843\n",
      "Epoch 10/23\n",
      "235/235 [==============================] - 7s 28ms/step - loss: 1.0354 - acc: 0.8269 - val_loss: 1.3585 - val_acc: 0.7871\n",
      "Epoch 11/23\n",
      "235/235 [==============================] - 7s 28ms/step - loss: 0.9955 - acc: 0.8313 - val_loss: 1.3285 - val_acc: 0.7918\n",
      "Epoch 12/23\n",
      "235/235 [==============================] - 7s 28ms/step - loss: 0.9590 - acc: 0.8362 - val_loss: 1.3058 - val_acc: 0.7947\n",
      "Epoch 13/23\n",
      "235/235 [==============================] - 7s 28ms/step - loss: 0.9246 - acc: 0.8404 - val_loss: 1.2822 - val_acc: 0.7978\n",
      "Epoch 14/23\n",
      "235/235 [==============================] - 7s 28ms/step - loss: 0.8926 - acc: 0.8445 - val_loss: 1.2629 - val_acc: 0.8009\n",
      "Epoch 15/23\n",
      "235/235 [==============================] - 7s 28ms/step - loss: 0.8623 - acc: 0.8484 - val_loss: 1.2449 - val_acc: 0.8048\n",
      "Epoch 16/23\n",
      "235/235 [==============================] - 7s 28ms/step - loss: 0.8335 - acc: 0.8518 - val_loss: 1.2271 - val_acc: 0.8085\n",
      "Epoch 17/23\n",
      "235/235 [==============================] - 6s 28ms/step - loss: 0.8069 - acc: 0.8551 - val_loss: 1.2162 - val_acc: 0.8089\n",
      "Epoch 18/23\n",
      "235/235 [==============================] - 6s 28ms/step - loss: 0.7819 - acc: 0.8579 - val_loss: 1.2018 - val_acc: 0.8112\n",
      "Epoch 19/23\n",
      "235/235 [==============================] - 6s 28ms/step - loss: 0.7585 - acc: 0.8603 - val_loss: 1.1902 - val_acc: 0.8129\n",
      "Epoch 20/23\n",
      "235/235 [==============================] - 7s 28ms/step - loss: 0.7361 - acc: 0.8624 - val_loss: 1.1821 - val_acc: 0.8134\n",
      "Epoch 21/23\n",
      "235/235 [==============================] - 6s 28ms/step - loss: 0.7151 - acc: 0.8649 - val_loss: 1.1749 - val_acc: 0.8141\n",
      "Epoch 22/23\n",
      "235/235 [==============================] - 6s 27ms/step - loss: 0.6952 - acc: 0.8671 - val_loss: 1.1669 - val_acc: 0.8141\n",
      "Epoch 23/23\n",
      "235/235 [==============================] - 6s 27ms/step - loss: 0.6763 - acc: 0.8691 - val_loss: 1.1638 - val_acc: 0.8152\n"
     ]
    }
   ],
   "source": [
    "history = model.fit(x=[encoder_input_train, decoder_input_train], y=decoder_target_train, \\\n",
    "          validation_data=([encoder_input_test, decoder_input_test], decoder_target_test),\n",
    "          batch_size=128, epochs=23)"
   ]
  },
  {
   "cell_type": "code",
   "execution_count": 55,
   "id": "0f239179",
   "metadata": {},
   "outputs": [
    {
     "data": {
      "image/png": "[encoded data removed]",
      "text/plain": [
       "<Figure size 1152x360 with 2 Axes>"
      ]
     },
     "metadata": {
      "needs_background": "light"
     },
     "output_type": "display_data"
    }
   ],
   "source": [
    "history_dict = history.history\n",
    "\n",
    "# train과 validation 시각화\n",
    "import matplotlib.pyplot as plt\n",
    "\n",
    "acc = history_dict['acc']\n",
    "val_acc = history_dict['val_acc']\n",
    "loss = history_dict['loss']\n",
    "val_loss = history_dict['val_loss']\n",
    "\n",
    "epochs = range(1, len(acc) + 1)\n",
    "\n",
    "plt.figure(figsize = (16,5))\n",
    "\n",
    "plt.subplot(1,2,1)\n",
    "# \"bo\"는 \"파란색 점\"입니다\n",
    "plt.plot(epochs, loss, 'b', label='Training loss')\n",
    "# b는 \"파란 실선\"입니다\n",
    "plt.plot(epochs, val_loss, 'r--', label='Validation loss')\n",
    "plt.title('Training and validation loss')\n",
    "plt.xlabel('Epochs')\n",
    "plt.ylabel('Loss')\n",
    "plt.legend()\n",
    "\n",
    "plt.subplot(1,2,2)\n",
    "plt.plot(epochs, acc, 'b', label='Training acc')\n",
    "plt.plot(epochs, val_acc, 'r--', label='Validation acc')\n",
    "plt.title('Training and validation accuracy')\n",
    "plt.xlabel('Epochs')\n",
    "plt.ylabel('Accuracy')\n",
    "plt.legend()\n",
    "\n",
    "\n",
    "plt.show()"
   ]
  },
  {
   "cell_type": "markdown",
   "id": "7a9e5a67",
   "metadata": {},
   "source": [
    "## Step 5. 모델 구현하기"
   ]
  },
  {
   "cell_type": "code",
   "execution_count": 56,
   "id": "fa84e552",
   "metadata": {},
   "outputs": [
    {
     "name": "stdout",
     "output_type": "stream",
     "text": [
      "Model: \"model_11\"\n",
      "__________________________________________________________________________________________________\n",
      "Layer (type)                    Output Shape         Param #     Connected to                     \n",
      "==================================================================================================\n",
      "input_12 (InputLayer)           [(None, None)]       0                                            \n",
      "__________________________________________________________________________________________________\n",
      "embedding_5 (Embedding)         (None, None, 64)     520768      input_12[0][0]                   \n",
      "__________________________________________________________________________________________________\n",
      "input_13 (InputLayer)           [(None, 64)]         0                                            \n",
      "__________________________________________________________________________________________________\n",
      "input_14 (InputLayer)           [(None, 64)]         0                                            \n",
      "__________________________________________________________________________________________________\n",
      "lstm_5 (LSTM)                   [(None, None, 64), ( 33024       embedding_5[1][0]                \n",
      "                                                                 input_13[0][0]                   \n",
      "                                                                 input_14[0][0]                   \n",
      "__________________________________________________________________________________________________\n",
      "dense_3 (Dense)                 (None, None, 8137)   528905      lstm_5[1][0]                     \n",
      "==================================================================================================\n",
      "Total params: 1,082,697\n",
      "Trainable params: 1,082,697\n",
      "Non-trainable params: 0\n",
      "__________________________________________________________________________________________________\n"
     ]
    }
   ],
   "source": [
    "# 인코더\n",
    "encoder_model = Model(encoder_inputs, encoder_states)\n",
    "\n",
    "# 디코더 설계 시작\n",
    "# 이전 시점의 상태를 보관할 텐서\n",
    "decoder_state_input_h = Input(shape=(hidden_units,))\n",
    "decoder_state_input_c = Input(shape=(hidden_units,))\n",
    "decoder_states_inputs = [decoder_state_input_h, decoder_state_input_c]\n",
    "\n",
    "# 훈련 때 사용했던 임베딩 층을 재사용\n",
    "dec_emb2 = dec_emb_layer(decoder_inputs)\n",
    "\n",
    "# 다음 단어 예측을 위해 이전 시점의 상태를 현 시점의 초기 상태로 사용\n",
    "decoder_outputs2, state_h2, state_c2 = decoder_lstm(dec_emb2, initial_state=decoder_states_inputs)\n",
    "decoder_states2 = [state_h2, state_c2]\n",
    "\n",
    "# 모든 시점에 대해서 단어 예측\n",
    "decoder_outputs2 = decoder_dense(decoder_outputs2)\n",
    "\n",
    "# 수정된 디코더\n",
    "decoder_model = Model(\n",
    "    [decoder_inputs] + decoder_states_inputs,\n",
    "    [decoder_outputs2] + decoder_states2)\n",
    "\n",
    "decoder_model.summary()"
   ]
  },
  {
   "cell_type": "code",
   "execution_count": 57,
   "id": "5e4b4c98",
   "metadata": {},
   "outputs": [],
   "source": [
    "def decode_sequence(input_seq):\n",
    "    # 입력으로부터 인코더의 마지막 시점의 상태(은닉 상태, 셀 상태)를 얻음\n",
    "    states_value = encoder_model.predict(input_seq)\n",
    "\n",
    "    # <SOS>에 해당하는 정수 생성\n",
    "    target_seq = np.zeros((1,1))\n",
    "    target_seq[0, 0] = fra_to_index['<start>']\n",
    "\n",
    "    stop_condition = False\n",
    "    decoded_sentence = ''\n",
    "\n",
    "  # stop_condition이 True가 될 때까지 루프 반복\n",
    "  # 구현의 간소화를 위해서 이 함수는 배치 크기를 1로 가정합니다.\n",
    "    while not stop_condition:\n",
    "        # 이점 시점의 상태 states_value를 현 시점의 초기 상태로 사용\n",
    "        output_tokens, h, c = decoder_model.predict([target_seq] + states_value)\n",
    "\n",
    "        # 예측 결과를 단어로 변환\n",
    "        sampled_token_index = np.argmax(output_tokens[0, -1, :])\n",
    "        sampled_char = index_to_fra[sampled_token_index]\n",
    "\n",
    "        # 현재 시점의 예측 단어를 예측 문장에 추가\n",
    "        decoded_sentence += ' '+sampled_char\n",
    "\n",
    "        # <eos>에 도달하거나 정해진 길이를 넘으면 중단.\n",
    "        if (sampled_char == '<end>' or\n",
    "            len(decoded_sentence) > 50):\n",
    "            stop_condition = True\n",
    "\n",
    "        # 현재 시점의 예측 결과를 다음 시점의 입력으로 사용하기 위해 저장\n",
    "        target_seq = np.zeros((1,1))\n",
    "        target_seq[0, 0] = sampled_token_index\n",
    "\n",
    "        # 현재 시점의 상태를 다음 시점의 상태로 사용하기 위해 저장\n",
    "        states_value = [h, c]\n",
    "\n",
    "    return decoded_sentence"
   ]
  },
  {
   "cell_type": "code",
   "execution_count": 58,
   "id": "9aa372f2",
   "metadata": {},
   "outputs": [],
   "source": [
    "# 원문의 정수 시퀀스를 텍스트 시퀀스로 변환\n",
    "def seq_to_eng(input_seq):\n",
    "    sentence = ''\n",
    "    for encoded_word in input_seq:\n",
    "        if(encoded_word != 0):\n",
    "            sentence = sentence + index_to_eng[encoded_word] + ' '\n",
    "    return sentence\n",
    "\n",
    "# 번역문의 정수 시퀀스를 텍스트 시퀀스로 변환\n",
    "def seq_to_fra(input_seq):\n",
    "    sentence = ''\n",
    "    for encoded_word in input_seq:\n",
    "        if(encoded_word != 0 and encoded_word != fra_to_index['<start>'] and encoded_word != fra_to_index['<end>']):\n",
    "            sentence = sentence + index_to_fra[encoded_word] + ' '\n",
    "    return sentence"
   ]
  },
  {
   "cell_type": "markdown",
   "id": "e5702293",
   "metadata": {},
   "source": [
    "## Step 6. 모델 평가하기"
   ]
  },
  {
   "cell_type": "code",
   "execution_count": 59,
   "id": "6f0111d2",
   "metadata": {},
   "outputs": [
    {
     "name": "stdout",
     "output_type": "stream",
     "text": [
      "입력문장 : i love a challenge \n",
      "정답문장 : j adore les defis . \n",
      "번역문장 : j adore les cheveux . \n",
      "--------------------------------------------------\n",
      "입력문장 : i met an old woman \n",
      "정답문장 : j ai rencontre une vieille femme . \n",
      "번역문장 : j ai besoin de la musique . \n",
      "--------------------------------------------------\n",
      "입력문장 : i never got caught \n",
      "정답문장 : je ne me suis jamais fait prendre . \n",
      "번역문장 : je ne me suis pas a la . \n",
      "--------------------------------------------------\n",
      "입력문장 : i want to end this \n",
      "정답문장 : je veux terminer ceci . \n",
      "번역문장 : je veux que je suis en train de travailler . \n",
      "--------------------------------------------------\n",
      "입력문장 : it won t last long \n",
      "정답문장 : ca ne durera pas longtemps . \n",
      "번역문장 : ce n est pas mal . \n",
      "--------------------------------------------------\n"
     ]
    }
   ],
   "source": [
    "for seq_index in [3, 50, 100, 300, 1001]:\n",
    "    input_seq = encoder_input_test[seq_index: seq_index + 1]\n",
    "    decoded_sentence = decode_sequence(input_seq)\n",
    "\n",
    "    print(\"입력문장 :\",seq_to_eng(encoder_input_test[seq_index]))\n",
    "    print(\"정답문장 :\",seq_to_fra(decoder_input_test[seq_index]))\n",
    "    print(\"번역문장 :\",decoded_sentence[1:-5])\n",
    "    print(\"-\"*50)"
   ]
  },
  {
   "cell_type": "markdown",
   "id": "92c07dfc",
   "metadata": {},
   "source": [
    "__해석__\n",
    "\n",
    "입력문장 : i love a challenge   \n",
    "정답문장 : j adore les defis . -> 도전을 사랑합니다.  \n",
    "번역문장 : j adore les cheveux . -> 나는 머리카락을 좋아한다. \n",
    "\n",
    "--------------------------------------------------\n",
    "입력문장 : i met an old woman   \n",
    "정답문장 : j ai rencontre une vieille femme . -> 아주머니를 만났습니다.  \n",
    "번역문장 : j ai besoin de la musique . -> 음악이 필요해  \n",
    "\n",
    "--------------------------------------------------\n",
    "입력문장 : i never got caught   \n",
    "정답문장 : je ne me suis jamais fait prendre . -> 나는 결코 잡히지 않았다.  \n",
    "번역문장 : je ne me suis pas a la . -> 나는 거기에 가지 않았다.  \n",
    "\n",
    "--------------------------------------------------\n",
    "입력문장 : i want to end this   \n",
    "정답문장 : je veux terminer ceci . -> 나는 이것을 끝내고 싶다.  \n",
    "번역문장 : je veux que je suis en train de travailler . -> 나는 내가 일하고 싶다.  \n",
    "\n",
    "--------------------------------------------------\n",
    "입력문장 : it won t last long   \n",
    "정답문장 : ca ne durera pas longtemps . -> 오래 가지 않을 것입니다.  \n",
    "번역문장 : ce n est pas mal . -> 이것은 나쁘지 않다.  "
   ]
  },
  {
   "cell_type": "markdown",
   "id": "3e1b0313",
   "metadata": {},
   "source": [
    "## 회고"
   ]
  },
  {
   "cell_type": "markdown",
   "id": "00a6e5fa",
   "metadata": {},
   "source": [
    "1. 전혀 모르는 언어를 전처리 하는것은 쉽지 않았다. 검색을 통해  프랑스어 악센트를 전처리 하는 방법을 찾았지만 정보가 없는 언어였다면 불가능했을것 같다.\n",
    "1. 유사해보이는 문장이 나오기는 했지만 주요 단어들을 잘 번역하지 못하는 문제가 발생했다. "
   ]
  },
  {
   "cell_type": "code",
   "execution_count": null,
   "id": "0b2d3ea1",
   "metadata": {},
   "outputs": [],
   "source": []
  },
  {
   "cell_type": "code",
   "execution_count": null,
   "id": "55c4d2c0",
   "metadata": {},
   "outputs": [],
   "source": []
  },
  {
   "cell_type": "code",
   "execution_count": null,
   "id": "9905912e",
   "metadata": {},
   "outputs": [],
   "source": []
  },
  {
   "cell_type": "code",
   "execution_count": null,
   "id": "da3c235b",
   "metadata": {},
   "outputs": [],
   "source": []
  },
  {
   "cell_type": "code",
   "execution_count": null,
   "id": "eac6d9ac",
   "metadata": {},
   "outputs": [],
   "source": []
  },
  {
   "cell_type": "code",
   "execution_count": null,
   "id": "d0f6205e",
   "metadata": {},
   "outputs": [],
   "source": []
  },
  {
   "cell_type": "code",
   "execution_count": null,
   "id": "8bee0baa",
   "metadata": {},
   "outputs": [],
   "source": []
  },
  {
   "cell_type": "code",
   "execution_count": null,
   "id": "4e456bfe",
   "metadata": {},
   "outputs": [],
   "source": []
  }
 ],
 "metadata": {
  "hide_input": false,
  "kernelspec": {
   "display_name": "Python 3 (ipykernel)",
   "language": "python",
   "name": "python3"
  },
  "language_info": {
   "codemirror_mode": {
    "name": "ipython",
    "version": 3
   },
   "file_extension": ".py",
   "mimetype": "text/x-python",
   "name": "python",
   "nbconvert_exporter": "python",
   "pygments_lexer": "ipython3",
   "version": "3.9.12"
  }
 },
 "nbformat": 4,
 "nbformat_minor": 5
}
