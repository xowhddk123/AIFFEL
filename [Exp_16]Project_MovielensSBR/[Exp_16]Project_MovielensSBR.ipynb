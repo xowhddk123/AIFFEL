{
 "cells": [
  {
   "cell_type": "markdown",
   "id": "882b6f4a",
   "metadata": {},
   "source": [
    "## 16-6. 프로젝트 - Movielens 영화 SBR\n",
    "\n",
    "이번에 우리는 Movielens 1M Dataset을 기반으로, Session based Recommendation 시스템을 제작해 보겠습니다.\n",
    "\n",
    "우선 주요 라이브러리 버전을 확인해 보죠."
   ]
  },
  {
   "cell_type": "code",
   "execution_count": 1,
   "id": "831cd6a2",
   "metadata": {},
   "outputs": [
    {
     "name": "stdout",
     "output_type": "stream",
     "text": [
      "1.3.3\n",
      "2.6.0\n"
     ]
    }
   ],
   "source": [
    "import pandas as pd\n",
    "import tensorflow\n",
    "from pathlib import Path\n",
    "import os\n",
    "import numpy as np\n",
    "import matplotlib.pyplot as plt\n",
    "import seaborn as sns\n",
    "\n",
    "print(pd.__version__)\n",
    "print(tensorflow.__version__)"
   ]
  },
  {
   "cell_type": "markdown",
   "id": "dfe0cb0d",
   "metadata": {},
   "source": [
    "```\n",
    "1) 데이터 확인\n",
    "$ ls -l ~/data\n",
    "\n",
    "2) 프로젝트 폴더 생성\n",
    "$ mkdir -p ~/aiffel/yoochoose\n",
    "\n",
    "3) 프로젝트 폴더로 데이터 폴더 링크 연결\n",
    "$ ln -s ~/data/* ~/aiffel/yoochoose/data\n",
    "```"
   ]
  },
  {
   "cell_type": "code",
   "execution_count": 2,
   "id": "55f45a0c",
   "metadata": {},
   "outputs": [],
   "source": [
    "# ! ls -l ~/data\n",
    "# ! mkdir -p ~/aiffel/yoochoose\n",
    "# ! ln -s ~/data/* ~/aiffel/yoochoose/data"
   ]
  },
  {
   "cell_type": "code",
   "execution_count": 3,
   "id": "0da7dcbb",
   "metadata": {},
   "outputs": [
    {
     "name": "stderr",
     "output_type": "stream",
     "text": [
      "/opt/conda/lib/python3.9/site-packages/pandas/util/_decorators.py:311: ParserWarning: Falling back to the 'python' engine because the 'c' engine does not support regex separators (separators > 1 char and different from '\\s+' are interpreted as regex); you can avoid this warning by specifying engine='python'.\n",
      "  return func(*args, **kwargs)\n"
     ]
    },
    {
     "data": {
      "text/html": [
       "<div>\n",
       "<style scoped>\n",
       "    .dataframe tbody tr th:only-of-type {\n",
       "        vertical-align: middle;\n",
       "    }\n",
       "\n",
       "    .dataframe tbody tr th {\n",
       "        vertical-align: top;\n",
       "    }\n",
       "\n",
       "    .dataframe thead th {\n",
       "        text-align: right;\n",
       "    }\n",
       "</style>\n",
       "<table border=\"1\" class=\"dataframe\">\n",
       "  <thead>\n",
       "    <tr style=\"text-align: right;\">\n",
       "      <th></th>\n",
       "      <th>UserId</th>\n",
       "      <th>ItemId</th>\n",
       "      <th>Rating</th>\n",
       "      <th>Timestamp</th>\n",
       "    </tr>\n",
       "  </thead>\n",
       "  <tbody>\n",
       "    <tr>\n",
       "      <th>31</th>\n",
       "      <td>1</td>\n",
       "      <td>3186</td>\n",
       "      <td>4</td>\n",
       "      <td>978300019</td>\n",
       "    </tr>\n",
       "    <tr>\n",
       "      <th>22</th>\n",
       "      <td>1</td>\n",
       "      <td>1270</td>\n",
       "      <td>5</td>\n",
       "      <td>978300055</td>\n",
       "    </tr>\n",
       "    <tr>\n",
       "      <th>27</th>\n",
       "      <td>1</td>\n",
       "      <td>1721</td>\n",
       "      <td>4</td>\n",
       "      <td>978300055</td>\n",
       "    </tr>\n",
       "    <tr>\n",
       "      <th>37</th>\n",
       "      <td>1</td>\n",
       "      <td>1022</td>\n",
       "      <td>5</td>\n",
       "      <td>978300055</td>\n",
       "    </tr>\n",
       "    <tr>\n",
       "      <th>24</th>\n",
       "      <td>1</td>\n",
       "      <td>2340</td>\n",
       "      <td>3</td>\n",
       "      <td>978300103</td>\n",
       "    </tr>\n",
       "    <tr>\n",
       "      <th>...</th>\n",
       "      <td>...</td>\n",
       "      <td>...</td>\n",
       "      <td>...</td>\n",
       "      <td>...</td>\n",
       "    </tr>\n",
       "    <tr>\n",
       "      <th>1000019</th>\n",
       "      <td>6040</td>\n",
       "      <td>2917</td>\n",
       "      <td>4</td>\n",
       "      <td>997454429</td>\n",
       "    </tr>\n",
       "    <tr>\n",
       "      <th>999988</th>\n",
       "      <td>6040</td>\n",
       "      <td>1921</td>\n",
       "      <td>4</td>\n",
       "      <td>997454464</td>\n",
       "    </tr>\n",
       "    <tr>\n",
       "      <th>1000172</th>\n",
       "      <td>6040</td>\n",
       "      <td>1784</td>\n",
       "      <td>3</td>\n",
       "      <td>997454464</td>\n",
       "    </tr>\n",
       "    <tr>\n",
       "      <th>1000167</th>\n",
       "      <td>6040</td>\n",
       "      <td>161</td>\n",
       "      <td>3</td>\n",
       "      <td>997454486</td>\n",
       "    </tr>\n",
       "    <tr>\n",
       "      <th>1000042</th>\n",
       "      <td>6040</td>\n",
       "      <td>1221</td>\n",
       "      <td>4</td>\n",
       "      <td>998315055</td>\n",
       "    </tr>\n",
       "  </tbody>\n",
       "</table>\n",
       "<p>1000209 rows × 4 columns</p>\n",
       "</div>"
      ],
      "text/plain": [
       "         UserId  ItemId  Rating  Timestamp\n",
       "31            1    3186       4  978300019\n",
       "22            1    1270       5  978300055\n",
       "27            1    1721       4  978300055\n",
       "37            1    1022       5  978300055\n",
       "24            1    2340       3  978300103\n",
       "...         ...     ...     ...        ...\n",
       "1000019    6040    2917       4  997454429\n",
       "999988     6040    1921       4  997454464\n",
       "1000172    6040    1784       3  997454464\n",
       "1000167    6040     161       3  997454486\n",
       "1000042    6040    1221       4  998315055\n",
       "\n",
       "[1000209 rows x 4 columns]"
      ]
     },
     "execution_count": 3,
     "metadata": {},
     "output_type": "execute_result"
    }
   ],
   "source": [
    "data_path = Path(os.getenv('HOME')+'/aiffel/yoochoose/data/') \n",
    "train_path = data_path / 'ratings.dat'\n",
    "\n",
    "def load_data(data_path: Path, nrows=None):\n",
    "    data = pd.read_csv(data_path, sep='::', header=None, usecols=[0, 1, 2, 3], dtype={0: np.int32, 1: np.int32, 2: np.int32}, nrows=nrows)\n",
    "    data.columns = ['UserId', 'ItemId', 'Rating', 'Timestamp']\n",
    "    return data\n",
    "\n",
    "data = load_data(train_path, None)\n",
    "data.sort_values(['UserId', 'Timestamp'], inplace=True)  # data를 id와 시간 순서로 정렬해줍니다.\n",
    "data"
   ]
  },
  {
   "cell_type": "code",
   "execution_count": 4,
   "id": "1e17d6cd",
   "metadata": {},
   "outputs": [
    {
     "data": {
      "text/plain": [
       "(6040, 3706)"
      ]
     },
     "execution_count": 4,
     "metadata": {},
     "output_type": "execute_result"
    }
   ],
   "source": [
    "# 전체 userid수와 아이템수\n",
    "data[\"UserId\"].nunique(), data[\"ItemId\"].nunique()"
   ]
  },
  {
   "cell_type": "markdown",
   "id": "78e421ad",
   "metadata": {},
   "source": [
    "- 여기서 이전 실습 내역과 가장 크게 다른 부분은 바로 SessionID 대신 UserID 항목이 들어갔다는 점입니다. 이 데이터셋은 명확한 1회 세션의 SessionID를 포함하지 않고 있습니다. 그래서 이번에는 UserID가 SessionID 역할을 해야 합니다.\n",
    "\n",
    "- Rating 정보가 포함되어 있습니다. 이전 실습 내역에서는 이런 항목이 포함되어 있지 않았으므로, 무시하고 제외할 수 있습니다. 하지만, 직전에 봤던 영화가 맘에 들었는지가 비슷한 영화를 더 고르게 하는 것과 상관이 있을 수도 있습니다. 아울러, Rating이 낮은 데이터를 어떻게 처리할지도 고민해야 합니다.\n",
    "\n",
    "- Time 항목에는 UTC time 가 포함되어, 1970년 1월 1일부터 경과된 초 단위 시간이 기재되어 있습니다.\n",
    "\n",
    "위와 같은 정보를 바탕으로 오늘의 실습과정과 유사한 프로젝트 과정을 진행해 보겠습니다."
   ]
  },
  {
   "cell_type": "code",
   "execution_count": 5,
   "id": "6e57b22b",
   "metadata": {
    "scrolled": false
   },
   "outputs": [
    {
     "data": {
      "text/plain": [
       "31        2000-12-31 22:00:19\n",
       "22        2000-12-31 22:00:55\n",
       "27        2000-12-31 22:00:55\n",
       "37        2000-12-31 22:00:55\n",
       "24        2000-12-31 22:01:43\n",
       "                  ...        \n",
       "1000019   2001-08-10 14:40:29\n",
       "999988    2001-08-10 14:41:04\n",
       "1000172   2001-08-10 14:41:04\n",
       "1000167   2001-08-10 14:41:26\n",
       "1000042   2001-08-20 13:44:15\n",
       "Name: Time, Length: 1000209, dtype: datetime64[ns]"
      ]
     },
     "execution_count": 5,
     "metadata": {},
     "output_type": "execute_result"
    }
   ],
   "source": [
    "# 시간변환\n",
    "data[\"Time\"] = pd.to_datetime(data[\"Timestamp\"], unit = \"s\")\n",
    "data[\"Time\"]"
   ]
  },
  {
   "cell_type": "markdown",
   "id": "5b2f07c6",
   "metadata": {},
   "source": [
    "### Step 1. 데이터의 전처리\n",
    "\n",
    "---------------------------------\n",
    "\n",
    "위와 같이 간단히 구성해 본 데이터셋을 꼼꼼히 살펴보면서 항목별 기본 분석, session length, session time, cleaning 등의 작업을 진행합니다.\n",
    "특히, 이 데이터셋에서는 Session이 아닌 UserID 단위로 데이터가 생성되어 있으므로, 이를 Session 단위로 어떻게 해석할지에 주의합니다."
   ]
  },
  {
   "cell_type": "markdown",
   "id": "6d321122",
   "metadata": {},
   "source": [
    "__Session 구분__\n",
    "\n",
    "\n",
    "유저의 취향이 변화될 수 있으므로 그떄 그때에 맞춰서 적절한 것을 추천할 필요가 있다. \n",
    "\n",
    "그런데 과거의 모든 히스토리를 반영하면 지금의 취향이 왜곡 될 수 있다. 그러므로 Session 구분이 필요하다. "
   ]
  },
  {
   "cell_type": "markdown",
   "id": "917f27b4",
   "metadata": {},
   "source": [
    "- 세션을 구분하는 근거를 찾기 위해 각 유저의 최초 평가인 중간평가일 최종 평가일을 나누어 보았다.\n",
    "- 중간값을 기준으로 최조 평가일과의 차이, 마지막 평가일과의 거리차이를 통해 유저들의 평가가 어디로 몰려있는지 확인할 수 있다. "
   ]
  },
  {
   "cell_type": "code",
   "execution_count": 44,
   "id": "304cce7f",
   "metadata": {},
   "outputs": [
    {
     "data": {
      "text/html": [
       "<div>\n",
       "<style scoped>\n",
       "    .dataframe tbody tr th:only-of-type {\n",
       "        vertical-align: middle;\n",
       "    }\n",
       "\n",
       "    .dataframe tbody tr th {\n",
       "        vertical-align: top;\n",
       "    }\n",
       "\n",
       "    .dataframe thead th {\n",
       "        text-align: right;\n",
       "    }\n",
       "</style>\n",
       "<table border=\"1\" class=\"dataframe\">\n",
       "  <thead>\n",
       "    <tr style=\"text-align: right;\">\n",
       "      <th></th>\n",
       "      <th>min</th>\n",
       "      <th>median</th>\n",
       "      <th>max</th>\n",
       "      <th>median-min</th>\n",
       "      <th>max-median</th>\n",
       "    </tr>\n",
       "    <tr>\n",
       "      <th>UserId</th>\n",
       "      <th></th>\n",
       "      <th></th>\n",
       "      <th></th>\n",
       "      <th></th>\n",
       "      <th></th>\n",
       "    </tr>\n",
       "  </thead>\n",
       "  <tbody>\n",
       "    <tr>\n",
       "      <th>1</th>\n",
       "      <td>2000-12-31 22:00:19</td>\n",
       "      <td>2000-12-31 22:33:59</td>\n",
       "      <td>2001-01-06 23:39:11</td>\n",
       "      <td>0 days 00:33:40</td>\n",
       "      <td>6 days 01:38:52</td>\n",
       "    </tr>\n",
       "    <tr>\n",
       "      <th>2</th>\n",
       "      <td>2000-12-31 21:28:44</td>\n",
       "      <td>2000-12-31 21:48:17</td>\n",
       "      <td>2000-12-31 22:02:54</td>\n",
       "      <td>0 days 00:19:33</td>\n",
       "      <td>0 days 00:34:10</td>\n",
       "    </tr>\n",
       "    <tr>\n",
       "      <th>3</th>\n",
       "      <td>2000-12-31 21:10:18</td>\n",
       "      <td>2000-12-31 21:22:37</td>\n",
       "      <td>2000-12-31 21:35:04</td>\n",
       "      <td>0 days 00:12:19</td>\n",
       "      <td>0 days 00:24:46</td>\n",
       "    </tr>\n",
       "    <tr>\n",
       "      <th>4</th>\n",
       "      <td>2000-12-31 20:18:44</td>\n",
       "      <td>2000-12-31 20:23:50</td>\n",
       "      <td>2000-12-31 20:24:42</td>\n",
       "      <td>0 days 00:05:06</td>\n",
       "      <td>0 days 00:05:58</td>\n",
       "    </tr>\n",
       "    <tr>\n",
       "      <th>5</th>\n",
       "      <td>2000-12-31 05:37:52</td>\n",
       "      <td>2000-12-31 06:40:08</td>\n",
       "      <td>2000-12-31 07:09:45</td>\n",
       "      <td>0 days 01:02:16</td>\n",
       "      <td>0 days 01:31:53</td>\n",
       "    </tr>\n",
       "    <tr>\n",
       "      <th>...</th>\n",
       "      <td>...</td>\n",
       "      <td>...</td>\n",
       "      <td>...</td>\n",
       "      <td>...</td>\n",
       "      <td>...</td>\n",
       "    </tr>\n",
       "    <tr>\n",
       "      <th>6036</th>\n",
       "      <td>2000-04-26 00:35:49</td>\n",
       "      <td>2000-04-26 02:39:40</td>\n",
       "      <td>2000-04-26 13:19:56</td>\n",
       "      <td>0 days 02:03:51</td>\n",
       "      <td>0 days 12:44:07</td>\n",
       "    </tr>\n",
       "    <tr>\n",
       "      <th>6037</th>\n",
       "      <td>2000-04-26 00:29:57</td>\n",
       "      <td>2000-04-26 03:11:40</td>\n",
       "      <td>2000-04-27 02:17:20</td>\n",
       "      <td>0 days 02:41:43</td>\n",
       "      <td>1 days 01:47:23</td>\n",
       "    </tr>\n",
       "    <tr>\n",
       "      <th>6038</th>\n",
       "      <td>2000-04-25 23:53:47</td>\n",
       "      <td>2000-04-26 00:06:44</td>\n",
       "      <td>2000-04-26 02:46:44</td>\n",
       "      <td>0 days 00:12:57</td>\n",
       "      <td>0 days 02:52:57</td>\n",
       "    </tr>\n",
       "    <tr>\n",
       "      <th>6039</th>\n",
       "      <td>2000-04-25 23:25:58</td>\n",
       "      <td>2000-04-25 23:36:51</td>\n",
       "      <td>2000-04-26 14:07:09</td>\n",
       "      <td>0 days 00:10:53</td>\n",
       "      <td>0 days 14:41:11</td>\n",
       "    </tr>\n",
       "    <tr>\n",
       "      <th>6040</th>\n",
       "      <td>2000-04-25 23:05:32</td>\n",
       "      <td>2000-04-26 02:33:58</td>\n",
       "      <td>2001-08-20 13:44:15</td>\n",
       "      <td>0 days 03:28:26</td>\n",
       "      <td>481 days 14:38:43</td>\n",
       "    </tr>\n",
       "  </tbody>\n",
       "</table>\n",
       "<p>6040 rows × 5 columns</p>\n",
       "</div>"
      ],
      "text/plain": [
       "                       min              median                 max  \\\n",
       "UserId                                                               \n",
       "1      2000-12-31 22:00:19 2000-12-31 22:33:59 2001-01-06 23:39:11   \n",
       "2      2000-12-31 21:28:44 2000-12-31 21:48:17 2000-12-31 22:02:54   \n",
       "3      2000-12-31 21:10:18 2000-12-31 21:22:37 2000-12-31 21:35:04   \n",
       "4      2000-12-31 20:18:44 2000-12-31 20:23:50 2000-12-31 20:24:42   \n",
       "5      2000-12-31 05:37:52 2000-12-31 06:40:08 2000-12-31 07:09:45   \n",
       "...                    ...                 ...                 ...   \n",
       "6036   2000-04-26 00:35:49 2000-04-26 02:39:40 2000-04-26 13:19:56   \n",
       "6037   2000-04-26 00:29:57 2000-04-26 03:11:40 2000-04-27 02:17:20   \n",
       "6038   2000-04-25 23:53:47 2000-04-26 00:06:44 2000-04-26 02:46:44   \n",
       "6039   2000-04-25 23:25:58 2000-04-25 23:36:51 2000-04-26 14:07:09   \n",
       "6040   2000-04-25 23:05:32 2000-04-26 02:33:58 2001-08-20 13:44:15   \n",
       "\n",
       "            median-min        max-median  \n",
       "UserId                                    \n",
       "1      0 days 00:33:40   6 days 01:38:52  \n",
       "2      0 days 00:19:33   0 days 00:34:10  \n",
       "3      0 days 00:12:19   0 days 00:24:46  \n",
       "4      0 days 00:05:06   0 days 00:05:58  \n",
       "5      0 days 01:02:16   0 days 01:31:53  \n",
       "...                ...               ...  \n",
       "6036   0 days 02:03:51   0 days 12:44:07  \n",
       "6037   0 days 02:41:43   1 days 01:47:23  \n",
       "6038   0 days 00:12:57   0 days 02:52:57  \n",
       "6039   0 days 00:10:53   0 days 14:41:11  \n",
       "6040   0 days 03:28:26 481 days 14:38:43  \n",
       "\n",
       "[6040 rows x 5 columns]"
      ]
     },
     "execution_count": 44,
     "metadata": {},
     "output_type": "execute_result"
    }
   ],
   "source": [
    "import datetime as dt\n",
    "# data[\"timediff\"] = data.diff(periods=1)[\"Time\"]\n",
    "temp = data.groupby([\"UserId\"])[\"Time\"].agg([\"min\", \"median\", \"max\"])\n",
    "temp[\"median-min\"] = temp[\"median\"] - temp[\"min\"]\n",
    "temp[\"max-median\"] = temp[\"max\"] - temp[\"min\"]\n",
    "temp"
   ]
  },
  {
   "cell_type": "code",
   "execution_count": 69,
   "id": "16fed64d",
   "metadata": {},
   "outputs": [
    {
     "data": {
      "text/html": [
       "<div>\n",
       "<style scoped>\n",
       "    .dataframe tbody tr th:only-of-type {\n",
       "        vertical-align: middle;\n",
       "    }\n",
       "\n",
       "    .dataframe tbody tr th {\n",
       "        vertical-align: top;\n",
       "    }\n",
       "\n",
       "    .dataframe thead th {\n",
       "        text-align: right;\n",
       "    }\n",
       "</style>\n",
       "<table border=\"1\" class=\"dataframe\">\n",
       "  <thead>\n",
       "    <tr style=\"text-align: right;\">\n",
       "      <th></th>\n",
       "      <th>min</th>\n",
       "      <th>median</th>\n",
       "      <th>max</th>\n",
       "      <th>median-min</th>\n",
       "      <th>max-median</th>\n",
       "    </tr>\n",
       "    <tr>\n",
       "      <th>UserId</th>\n",
       "      <th></th>\n",
       "      <th></th>\n",
       "      <th></th>\n",
       "      <th></th>\n",
       "      <th></th>\n",
       "    </tr>\n",
       "  </thead>\n",
       "  <tbody>\n",
       "    <tr>\n",
       "      <th>4</th>\n",
       "      <td>2000-12-31 20:18:44</td>\n",
       "      <td>2000-12-31 20:23:50</td>\n",
       "      <td>2000-12-31 20:24:42</td>\n",
       "      <td>0 days 00:05:06</td>\n",
       "      <td>0 days 00:05:58</td>\n",
       "    </tr>\n",
       "    <tr>\n",
       "      <th>94</th>\n",
       "      <td>2000-12-24 03:27:35</td>\n",
       "      <td>2000-12-24 03:31:09</td>\n",
       "      <td>2000-12-24 03:31:40</td>\n",
       "      <td>0 days 00:03:34</td>\n",
       "      <td>0 days 00:04:05</td>\n",
       "    </tr>\n",
       "    <tr>\n",
       "      <th>172</th>\n",
       "      <td>2000-12-18 18:39:25</td>\n",
       "      <td>2000-12-18 18:42:03</td>\n",
       "      <td>2000-12-18 18:42:58</td>\n",
       "      <td>0 days 00:02:38</td>\n",
       "      <td>0 days 00:03:33</td>\n",
       "    </tr>\n",
       "    <tr>\n",
       "      <th>417</th>\n",
       "      <td>2000-12-08 14:22:27</td>\n",
       "      <td>2000-12-08 14:26:34</td>\n",
       "      <td>2000-12-08 14:27:05</td>\n",
       "      <td>0 days 00:04:07</td>\n",
       "      <td>0 days 00:04:38</td>\n",
       "    </tr>\n",
       "    <tr>\n",
       "      <th>640</th>\n",
       "      <td>2000-12-02 03:01:21</td>\n",
       "      <td>2000-12-02 03:02:42</td>\n",
       "      <td>2000-12-02 03:03:38</td>\n",
       "      <td>0 days 00:01:21</td>\n",
       "      <td>0 days 00:02:17</td>\n",
       "    </tr>\n",
       "    <tr>\n",
       "      <th>951</th>\n",
       "      <td>2000-11-25 07:35:44</td>\n",
       "      <td>2000-11-25 07:37:59</td>\n",
       "      <td>2000-11-25 07:38:57</td>\n",
       "      <td>0 days 00:02:15</td>\n",
       "      <td>0 days 00:03:13</td>\n",
       "    </tr>\n",
       "    <tr>\n",
       "      <th>1102</th>\n",
       "      <td>2000-11-22 19:49:51</td>\n",
       "      <td>2000-11-22 20:05:16</td>\n",
       "      <td>2000-11-22 20:06:01</td>\n",
       "      <td>0 days 00:15:25</td>\n",
       "      <td>0 days 00:16:10</td>\n",
       "    </tr>\n",
       "    <tr>\n",
       "      <th>1518</th>\n",
       "      <td>2000-11-20 18:43:26</td>\n",
       "      <td>2000-11-20 18:48:24</td>\n",
       "      <td>2000-11-20 18:49:04</td>\n",
       "      <td>0 days 00:04:58</td>\n",
       "      <td>0 days 00:05:38</td>\n",
       "    </tr>\n",
       "    <tr>\n",
       "      <th>1535</th>\n",
       "      <td>2000-11-20 18:11:57</td>\n",
       "      <td>2000-11-20 18:13:32</td>\n",
       "      <td>2000-11-20 18:14:31</td>\n",
       "      <td>0 days 00:01:35</td>\n",
       "      <td>0 days 00:02:34</td>\n",
       "    </tr>\n",
       "    <tr>\n",
       "      <th>2269</th>\n",
       "      <td>2000-11-18 19:07:28</td>\n",
       "      <td>2001-02-11 15:17:14</td>\n",
       "      <td>2001-02-11 15:18:00</td>\n",
       "      <td>84 days 20:09:46</td>\n",
       "      <td>84 days 20:10:32</td>\n",
       "    </tr>\n",
       "    <tr>\n",
       "      <th>2527</th>\n",
       "      <td>2000-11-12 19:36:26</td>\n",
       "      <td>2000-11-12 19:46:23</td>\n",
       "      <td>2000-11-12 19:47:15</td>\n",
       "      <td>0 days 00:09:57</td>\n",
       "      <td>0 days 00:10:49</td>\n",
       "    </tr>\n",
       "    <tr>\n",
       "      <th>2696</th>\n",
       "      <td>2000-11-04 03:31:16</td>\n",
       "      <td>2000-11-04 03:34:25</td>\n",
       "      <td>2000-11-04 03:35:20</td>\n",
       "      <td>0 days 00:03:09</td>\n",
       "      <td>0 days 00:04:04</td>\n",
       "    </tr>\n",
       "    <tr>\n",
       "      <th>3160</th>\n",
       "      <td>2000-09-13 20:34:39</td>\n",
       "      <td>2000-09-13 20:38:27</td>\n",
       "      <td>2000-09-13 20:39:08</td>\n",
       "      <td>0 days 00:03:48</td>\n",
       "      <td>0 days 00:04:29</td>\n",
       "    </tr>\n",
       "    <tr>\n",
       "      <th>3354</th>\n",
       "      <td>2000-08-31 15:15:48</td>\n",
       "      <td>2000-08-31 15:17:59</td>\n",
       "      <td>2000-08-31 15:18:41</td>\n",
       "      <td>0 days 00:02:11</td>\n",
       "      <td>0 days 00:02:53</td>\n",
       "    </tr>\n",
       "    <tr>\n",
       "      <th>3388</th>\n",
       "      <td>2000-08-29 03:36:24</td>\n",
       "      <td>2000-08-29 03:38:12</td>\n",
       "      <td>2000-08-29 03:39:07</td>\n",
       "      <td>0 days 00:01:48</td>\n",
       "      <td>0 days 00:02:43</td>\n",
       "    </tr>\n",
       "    <tr>\n",
       "      <th>3548</th>\n",
       "      <td>2000-08-21 02:29:58</td>\n",
       "      <td>2000-08-21 02:33:55</td>\n",
       "      <td>2000-08-21 02:34:20</td>\n",
       "      <td>0 days 00:03:57</td>\n",
       "      <td>0 days 00:04:22</td>\n",
       "    </tr>\n",
       "    <tr>\n",
       "      <th>3623</th>\n",
       "      <td>2000-08-18 02:42:25</td>\n",
       "      <td>2000-08-18 02:45:01</td>\n",
       "      <td>2000-08-18 02:45:52</td>\n",
       "      <td>0 days 00:02:36</td>\n",
       "      <td>0 days 00:03:27</td>\n",
       "    </tr>\n",
       "    <tr>\n",
       "      <th>4056</th>\n",
       "      <td>2000-08-05 15:40:21</td>\n",
       "      <td>2000-08-05 15:45:14</td>\n",
       "      <td>2000-08-05 15:45:34</td>\n",
       "      <td>0 days 00:04:53</td>\n",
       "      <td>0 days 00:05:13</td>\n",
       "    </tr>\n",
       "    <tr>\n",
       "      <th>4176</th>\n",
       "      <td>2000-08-03 19:27:32</td>\n",
       "      <td>2000-08-03 19:29:15</td>\n",
       "      <td>2000-08-03 19:29:53</td>\n",
       "      <td>0 days 00:01:43</td>\n",
       "      <td>0 days 00:02:21</td>\n",
       "    </tr>\n",
       "    <tr>\n",
       "      <th>4493</th>\n",
       "      <td>2000-07-31 00:45:44</td>\n",
       "      <td>2000-07-31 23:23:55</td>\n",
       "      <td>2000-07-31 23:24:55</td>\n",
       "      <td>0 days 22:38:11</td>\n",
       "      <td>0 days 22:39:11</td>\n",
       "    </tr>\n",
       "    <tr>\n",
       "      <th>4548</th>\n",
       "      <td>2000-07-26 21:39:54</td>\n",
       "      <td>2000-07-26 21:42:07</td>\n",
       "      <td>2000-07-26 21:42:58</td>\n",
       "      <td>0 days 00:02:13</td>\n",
       "      <td>0 days 00:03:04</td>\n",
       "    </tr>\n",
       "    <tr>\n",
       "      <th>4822</th>\n",
       "      <td>2000-07-06 21:00:17</td>\n",
       "      <td>2000-07-06 21:03:09</td>\n",
       "      <td>2000-07-06 21:03:50</td>\n",
       "      <td>0 days 00:02:52</td>\n",
       "      <td>0 days 00:03:33</td>\n",
       "    </tr>\n",
       "    <tr>\n",
       "      <th>4874</th>\n",
       "      <td>2000-07-05 07:25:18</td>\n",
       "      <td>2000-07-05 07:26:39</td>\n",
       "      <td>2000-07-05 07:27:04</td>\n",
       "      <td>0 days 00:01:21</td>\n",
       "      <td>0 days 00:01:46</td>\n",
       "    </tr>\n",
       "    <tr>\n",
       "      <th>5207</th>\n",
       "      <td>2000-06-21 22:18:13</td>\n",
       "      <td>2000-06-21 22:22:15</td>\n",
       "      <td>2000-06-21 22:22:53</td>\n",
       "      <td>0 days 00:04:02</td>\n",
       "      <td>0 days 00:04:40</td>\n",
       "    </tr>\n",
       "    <tr>\n",
       "      <th>5238</th>\n",
       "      <td>2000-06-19 19:11:23</td>\n",
       "      <td>2000-06-19 19:13:11</td>\n",
       "      <td>2000-06-19 19:13:47</td>\n",
       "      <td>0 days 00:01:48</td>\n",
       "      <td>0 days 00:02:24</td>\n",
       "    </tr>\n",
       "    <tr>\n",
       "      <th>5409</th>\n",
       "      <td>2000-06-05 22:41:38</td>\n",
       "      <td>2000-06-05 22:44:50</td>\n",
       "      <td>2000-06-05 22:45:42</td>\n",
       "      <td>0 days 00:03:12</td>\n",
       "      <td>0 days 00:04:04</td>\n",
       "    </tr>\n",
       "    <tr>\n",
       "      <th>5546</th>\n",
       "      <td>2000-05-28 02:21:33</td>\n",
       "      <td>2000-05-28 02:25:02</td>\n",
       "      <td>2000-05-28 02:25:53</td>\n",
       "      <td>0 days 00:03:29</td>\n",
       "      <td>0 days 00:04:20</td>\n",
       "    </tr>\n",
       "    <tr>\n",
       "      <th>5696</th>\n",
       "      <td>2000-05-17 19:01:56</td>\n",
       "      <td>2000-05-17 19:06:57</td>\n",
       "      <td>2000-05-17 19:07:51</td>\n",
       "      <td>0 days 00:05:01</td>\n",
       "      <td>0 days 00:05:55</td>\n",
       "    </tr>\n",
       "    <tr>\n",
       "      <th>5873</th>\n",
       "      <td>2000-05-05 21:57:59</td>\n",
       "      <td>2000-05-05 21:59:36</td>\n",
       "      <td>2000-05-05 22:00:35</td>\n",
       "      <td>0 days 00:01:37</td>\n",
       "      <td>0 days 00:02:36</td>\n",
       "    </tr>\n",
       "  </tbody>\n",
       "</table>\n",
       "</div>"
      ],
      "text/plain": [
       "                       min              median                 max  \\\n",
       "UserId                                                               \n",
       "4      2000-12-31 20:18:44 2000-12-31 20:23:50 2000-12-31 20:24:42   \n",
       "94     2000-12-24 03:27:35 2000-12-24 03:31:09 2000-12-24 03:31:40   \n",
       "172    2000-12-18 18:39:25 2000-12-18 18:42:03 2000-12-18 18:42:58   \n",
       "417    2000-12-08 14:22:27 2000-12-08 14:26:34 2000-12-08 14:27:05   \n",
       "640    2000-12-02 03:01:21 2000-12-02 03:02:42 2000-12-02 03:03:38   \n",
       "951    2000-11-25 07:35:44 2000-11-25 07:37:59 2000-11-25 07:38:57   \n",
       "1102   2000-11-22 19:49:51 2000-11-22 20:05:16 2000-11-22 20:06:01   \n",
       "1518   2000-11-20 18:43:26 2000-11-20 18:48:24 2000-11-20 18:49:04   \n",
       "1535   2000-11-20 18:11:57 2000-11-20 18:13:32 2000-11-20 18:14:31   \n",
       "2269   2000-11-18 19:07:28 2001-02-11 15:17:14 2001-02-11 15:18:00   \n",
       "2527   2000-11-12 19:36:26 2000-11-12 19:46:23 2000-11-12 19:47:15   \n",
       "2696   2000-11-04 03:31:16 2000-11-04 03:34:25 2000-11-04 03:35:20   \n",
       "3160   2000-09-13 20:34:39 2000-09-13 20:38:27 2000-09-13 20:39:08   \n",
       "3354   2000-08-31 15:15:48 2000-08-31 15:17:59 2000-08-31 15:18:41   \n",
       "3388   2000-08-29 03:36:24 2000-08-29 03:38:12 2000-08-29 03:39:07   \n",
       "3548   2000-08-21 02:29:58 2000-08-21 02:33:55 2000-08-21 02:34:20   \n",
       "3623   2000-08-18 02:42:25 2000-08-18 02:45:01 2000-08-18 02:45:52   \n",
       "4056   2000-08-05 15:40:21 2000-08-05 15:45:14 2000-08-05 15:45:34   \n",
       "4176   2000-08-03 19:27:32 2000-08-03 19:29:15 2000-08-03 19:29:53   \n",
       "4493   2000-07-31 00:45:44 2000-07-31 23:23:55 2000-07-31 23:24:55   \n",
       "4548   2000-07-26 21:39:54 2000-07-26 21:42:07 2000-07-26 21:42:58   \n",
       "4822   2000-07-06 21:00:17 2000-07-06 21:03:09 2000-07-06 21:03:50   \n",
       "4874   2000-07-05 07:25:18 2000-07-05 07:26:39 2000-07-05 07:27:04   \n",
       "5207   2000-06-21 22:18:13 2000-06-21 22:22:15 2000-06-21 22:22:53   \n",
       "5238   2000-06-19 19:11:23 2000-06-19 19:13:11 2000-06-19 19:13:47   \n",
       "5409   2000-06-05 22:41:38 2000-06-05 22:44:50 2000-06-05 22:45:42   \n",
       "5546   2000-05-28 02:21:33 2000-05-28 02:25:02 2000-05-28 02:25:53   \n",
       "5696   2000-05-17 19:01:56 2000-05-17 19:06:57 2000-05-17 19:07:51   \n",
       "5873   2000-05-05 21:57:59 2000-05-05 21:59:36 2000-05-05 22:00:35   \n",
       "\n",
       "             median-min       max-median  \n",
       "UserId                                    \n",
       "4       0 days 00:05:06  0 days 00:05:58  \n",
       "94      0 days 00:03:34  0 days 00:04:05  \n",
       "172     0 days 00:02:38  0 days 00:03:33  \n",
       "417     0 days 00:04:07  0 days 00:04:38  \n",
       "640     0 days 00:01:21  0 days 00:02:17  \n",
       "951     0 days 00:02:15  0 days 00:03:13  \n",
       "1102    0 days 00:15:25  0 days 00:16:10  \n",
       "1518    0 days 00:04:58  0 days 00:05:38  \n",
       "1535    0 days 00:01:35  0 days 00:02:34  \n",
       "2269   84 days 20:09:46 84 days 20:10:32  \n",
       "2527    0 days 00:09:57  0 days 00:10:49  \n",
       "2696    0 days 00:03:09  0 days 00:04:04  \n",
       "3160    0 days 00:03:48  0 days 00:04:29  \n",
       "3354    0 days 00:02:11  0 days 00:02:53  \n",
       "3388    0 days 00:01:48  0 days 00:02:43  \n",
       "3548    0 days 00:03:57  0 days 00:04:22  \n",
       "3623    0 days 00:02:36  0 days 00:03:27  \n",
       "4056    0 days 00:04:53  0 days 00:05:13  \n",
       "4176    0 days 00:01:43  0 days 00:02:21  \n",
       "4493    0 days 22:38:11  0 days 22:39:11  \n",
       "4548    0 days 00:02:13  0 days 00:03:04  \n",
       "4822    0 days 00:02:52  0 days 00:03:33  \n",
       "4874    0 days 00:01:21  0 days 00:01:46  \n",
       "5207    0 days 00:04:02  0 days 00:04:40  \n",
       "5238    0 days 00:01:48  0 days 00:02:24  \n",
       "5409    0 days 00:03:12  0 days 00:04:04  \n",
       "5546    0 days 00:03:29  0 days 00:04:20  \n",
       "5696    0 days 00:05:01  0 days 00:05:55  \n",
       "5873    0 days 00:01:37  0 days 00:02:36  "
      ]
     },
     "execution_count": 69,
     "metadata": {},
     "output_type": "execute_result"
    }
   ],
   "source": [
    "temp[(temp[\"median-min\"] <= temp[\"max-median\"]+dt.timedelta(minutes = 1))&(temp[\"median-min\"] >= temp[\"max-median\"]-dt.timedelta(minutes = 1))]"
   ]
  },
  {
   "cell_type": "code",
   "execution_count": 73,
   "id": "ce913670",
   "metadata": {},
   "outputs": [
    {
     "data": {
      "text/html": [
       "<div>\n",
       "<style scoped>\n",
       "    .dataframe tbody tr th:only-of-type {\n",
       "        vertical-align: middle;\n",
       "    }\n",
       "\n",
       "    .dataframe tbody tr th {\n",
       "        vertical-align: top;\n",
       "    }\n",
       "\n",
       "    .dataframe thead th {\n",
       "        text-align: right;\n",
       "    }\n",
       "</style>\n",
       "<table border=\"1\" class=\"dataframe\">\n",
       "  <thead>\n",
       "    <tr style=\"text-align: right;\">\n",
       "      <th></th>\n",
       "      <th>UserId</th>\n",
       "      <th>ItemId</th>\n",
       "      <th>Rating</th>\n",
       "      <th>Timestamp</th>\n",
       "      <th>Time</th>\n",
       "      <th>median</th>\n",
       "    </tr>\n",
       "  </thead>\n",
       "  <tbody>\n",
       "    <tr>\n",
       "      <th>387842</th>\n",
       "      <td>2269</td>\n",
       "      <td>3218</td>\n",
       "      <td>3</td>\n",
       "      <td>974574448</td>\n",
       "      <td>2000-11-18 19:07:28</td>\n",
       "      <td>0</td>\n",
       "    </tr>\n",
       "    <tr>\n",
       "      <th>387852</th>\n",
       "      <td>2269</td>\n",
       "      <td>3101</td>\n",
       "      <td>5</td>\n",
       "      <td>974574448</td>\n",
       "      <td>2000-11-18 19:07:28</td>\n",
       "      <td>0</td>\n",
       "    </tr>\n",
       "    <tr>\n",
       "      <th>387862</th>\n",
       "      <td>2269</td>\n",
       "      <td>11</td>\n",
       "      <td>4</td>\n",
       "      <td>974574448</td>\n",
       "      <td>2000-11-18 19:07:28</td>\n",
       "      <td>0</td>\n",
       "    </tr>\n",
       "    <tr>\n",
       "      <th>387849</th>\n",
       "      <td>2269</td>\n",
       "      <td>480</td>\n",
       "      <td>5</td>\n",
       "      <td>974574485</td>\n",
       "      <td>2000-11-18 19:08:05</td>\n",
       "      <td>0</td>\n",
       "    </tr>\n",
       "    <tr>\n",
       "      <th>387856</th>\n",
       "      <td>2269</td>\n",
       "      <td>1569</td>\n",
       "      <td>3</td>\n",
       "      <td>974574485</td>\n",
       "      <td>2000-11-18 19:08:05</td>\n",
       "      <td>0</td>\n",
       "    </tr>\n",
       "    <tr>\n",
       "      <th>387861</th>\n",
       "      <td>2269</td>\n",
       "      <td>318</td>\n",
       "      <td>5</td>\n",
       "      <td>974574485</td>\n",
       "      <td>2000-11-18 19:08:05</td>\n",
       "      <td>0</td>\n",
       "    </tr>\n",
       "    <tr>\n",
       "      <th>387851</th>\n",
       "      <td>2269</td>\n",
       "      <td>2159</td>\n",
       "      <td>4</td>\n",
       "      <td>974574768</td>\n",
       "      <td>2000-11-18 19:12:48</td>\n",
       "      <td>0</td>\n",
       "    </tr>\n",
       "    <tr>\n",
       "      <th>387845</th>\n",
       "      <td>2269</td>\n",
       "      <td>3481</td>\n",
       "      <td>5</td>\n",
       "      <td>974574930</td>\n",
       "      <td>2000-11-18 19:15:30</td>\n",
       "      <td>0</td>\n",
       "    </tr>\n",
       "    <tr>\n",
       "      <th>387854</th>\n",
       "      <td>2269</td>\n",
       "      <td>3160</td>\n",
       "      <td>4</td>\n",
       "      <td>974574930</td>\n",
       "      <td>2000-11-18 19:15:30</td>\n",
       "      <td>0</td>\n",
       "    </tr>\n",
       "    <tr>\n",
       "      <th>387857</th>\n",
       "      <td>2269</td>\n",
       "      <td>3328</td>\n",
       "      <td>4</td>\n",
       "      <td>974574930</td>\n",
       "      <td>2000-11-18 19:15:30</td>\n",
       "      <td>0</td>\n",
       "    </tr>\n",
       "    <tr>\n",
       "      <th>387843</th>\n",
       "      <td>2269</td>\n",
       "      <td>3408</td>\n",
       "      <td>4</td>\n",
       "      <td>981904540</td>\n",
       "      <td>2001-02-11 15:15:40</td>\n",
       "      <td>0</td>\n",
       "    </tr>\n",
       "    <tr>\n",
       "      <th>387844</th>\n",
       "      <td>2269</td>\n",
       "      <td>3298</td>\n",
       "      <td>2</td>\n",
       "      <td>981904634</td>\n",
       "      <td>2001-02-11 15:17:14</td>\n",
       "      <td>0</td>\n",
       "    </tr>\n",
       "    <tr>\n",
       "      <th>387846</th>\n",
       "      <td>2269</td>\n",
       "      <td>2826</td>\n",
       "      <td>3</td>\n",
       "      <td>981904634</td>\n",
       "      <td>2001-02-11 15:17:14</td>\n",
       "      <td>0</td>\n",
       "    </tr>\n",
       "    <tr>\n",
       "      <th>387847</th>\n",
       "      <td>2269</td>\n",
       "      <td>2827</td>\n",
       "      <td>1</td>\n",
       "      <td>981904634</td>\n",
       "      <td>2001-02-11 15:17:14</td>\n",
       "      <td>0</td>\n",
       "    </tr>\n",
       "    <tr>\n",
       "      <th>387848</th>\n",
       "      <td>2269</td>\n",
       "      <td>2683</td>\n",
       "      <td>2</td>\n",
       "      <td>981904634</td>\n",
       "      <td>2001-02-11 15:17:14</td>\n",
       "      <td>0</td>\n",
       "    </tr>\n",
       "    <tr>\n",
       "      <th>387858</th>\n",
       "      <td>2269</td>\n",
       "      <td>2706</td>\n",
       "      <td>4</td>\n",
       "      <td>981904634</td>\n",
       "      <td>2001-02-11 15:17:14</td>\n",
       "      <td>0</td>\n",
       "    </tr>\n",
       "    <tr>\n",
       "      <th>387859</th>\n",
       "      <td>2269</td>\n",
       "      <td>2710</td>\n",
       "      <td>3</td>\n",
       "      <td>981904634</td>\n",
       "      <td>2001-02-11 15:17:14</td>\n",
       "      <td>0</td>\n",
       "    </tr>\n",
       "    <tr>\n",
       "      <th>387863</th>\n",
       "      <td>2269</td>\n",
       "      <td>2770</td>\n",
       "      <td>4</td>\n",
       "      <td>981904634</td>\n",
       "      <td>2001-02-11 15:17:14</td>\n",
       "      <td>0</td>\n",
       "    </tr>\n",
       "    <tr>\n",
       "      <th>387864</th>\n",
       "      <td>2269</td>\n",
       "      <td>2976</td>\n",
       "      <td>1</td>\n",
       "      <td>981904634</td>\n",
       "      <td>2001-02-11 15:17:14</td>\n",
       "      <td>0</td>\n",
       "    </tr>\n",
       "    <tr>\n",
       "      <th>387840</th>\n",
       "      <td>2269</td>\n",
       "      <td>3016</td>\n",
       "      <td>3</td>\n",
       "      <td>981904680</td>\n",
       "      <td>2001-02-11 15:18:00</td>\n",
       "      <td>0</td>\n",
       "    </tr>\n",
       "    <tr>\n",
       "      <th>387841</th>\n",
       "      <td>2269</td>\n",
       "      <td>3203</td>\n",
       "      <td>3</td>\n",
       "      <td>981904680</td>\n",
       "      <td>2001-02-11 15:18:00</td>\n",
       "      <td>0</td>\n",
       "    </tr>\n",
       "    <tr>\n",
       "      <th>387850</th>\n",
       "      <td>2269</td>\n",
       "      <td>3863</td>\n",
       "      <td>2</td>\n",
       "      <td>981904680</td>\n",
       "      <td>2001-02-11 15:18:00</td>\n",
       "      <td>0</td>\n",
       "    </tr>\n",
       "    <tr>\n",
       "      <th>387853</th>\n",
       "      <td>2269</td>\n",
       "      <td>2355</td>\n",
       "      <td>5</td>\n",
       "      <td>981904680</td>\n",
       "      <td>2001-02-11 15:18:00</td>\n",
       "      <td>0</td>\n",
       "    </tr>\n",
       "    <tr>\n",
       "      <th>387855</th>\n",
       "      <td>2269</td>\n",
       "      <td>2369</td>\n",
       "      <td>3</td>\n",
       "      <td>981904680</td>\n",
       "      <td>2001-02-11 15:18:00</td>\n",
       "      <td>0</td>\n",
       "    </tr>\n",
       "    <tr>\n",
       "      <th>387860</th>\n",
       "      <td>2269</td>\n",
       "      <td>2722</td>\n",
       "      <td>2</td>\n",
       "      <td>981904680</td>\n",
       "      <td>2001-02-11 15:18:00</td>\n",
       "      <td>0</td>\n",
       "    </tr>\n",
       "  </tbody>\n",
       "</table>\n",
       "</div>"
      ],
      "text/plain": [
       "        UserId  ItemId  Rating  Timestamp                Time  median\n",
       "387842    2269    3218       3  974574448 2000-11-18 19:07:28       0\n",
       "387852    2269    3101       5  974574448 2000-11-18 19:07:28       0\n",
       "387862    2269      11       4  974574448 2000-11-18 19:07:28       0\n",
       "387849    2269     480       5  974574485 2000-11-18 19:08:05       0\n",
       "387856    2269    1569       3  974574485 2000-11-18 19:08:05       0\n",
       "387861    2269     318       5  974574485 2000-11-18 19:08:05       0\n",
       "387851    2269    2159       4  974574768 2000-11-18 19:12:48       0\n",
       "387845    2269    3481       5  974574930 2000-11-18 19:15:30       0\n",
       "387854    2269    3160       4  974574930 2000-11-18 19:15:30       0\n",
       "387857    2269    3328       4  974574930 2000-11-18 19:15:30       0\n",
       "387843    2269    3408       4  981904540 2001-02-11 15:15:40       0\n",
       "387844    2269    3298       2  981904634 2001-02-11 15:17:14       0\n",
       "387846    2269    2826       3  981904634 2001-02-11 15:17:14       0\n",
       "387847    2269    2827       1  981904634 2001-02-11 15:17:14       0\n",
       "387848    2269    2683       2  981904634 2001-02-11 15:17:14       0\n",
       "387858    2269    2706       4  981904634 2001-02-11 15:17:14       0\n",
       "387859    2269    2710       3  981904634 2001-02-11 15:17:14       0\n",
       "387863    2269    2770       4  981904634 2001-02-11 15:17:14       0\n",
       "387864    2269    2976       1  981904634 2001-02-11 15:17:14       0\n",
       "387840    2269    3016       3  981904680 2001-02-11 15:18:00       0\n",
       "387841    2269    3203       3  981904680 2001-02-11 15:18:00       0\n",
       "387850    2269    3863       2  981904680 2001-02-11 15:18:00       0\n",
       "387853    2269    2355       5  981904680 2001-02-11 15:18:00       0\n",
       "387855    2269    2369       3  981904680 2001-02-11 15:18:00       0\n",
       "387860    2269    2722       2  981904680 2001-02-11 15:18:00       0"
      ]
     },
     "execution_count": 73,
     "metadata": {},
     "output_type": "execute_result"
    }
   ],
   "source": [
    "data[data[\"UserId\"] == 2269]"
   ]
  },
  {
   "cell_type": "code",
   "execution_count": 59,
   "id": "ead2ab73",
   "metadata": {},
   "outputs": [
    {
     "data": {
      "image/png": "[encoded data removed]",
      "text/plain": [
       "<Figure size 1152x720 with 1 Axes>"
      ]
     },
     "metadata": {
      "needs_background": "light"
     },
     "output_type": "display_data"
    }
   ],
   "source": [
    "plt.figure(figsize = (16,10))\n",
    "sns.scatterplot(data = temp, x = \"median-min\",y = \"max-median\").invert_yaxis()\n",
    "plt.show()"
   ]
  },
  {
   "cell_type": "markdown",
   "id": "eb3c3398",
   "metadata": {},
   "source": [
    "> 중앙값과 최소값 차이가 0인경우가 많고 중간값 이후에 마지막 평가가까지 기간은 다양하다. \n",
    "즉 처음에 하루 평가를 몰아서 하고 한동안 안 하다가 하게되는 경우가 많은 것으로 보인다. \n",
    "보통 초반에 평가를 모두 끝내고 이후에는 아주 천천히 했음을 알 수 있다.\n",
    "\n",
    "> ~가운데 경계선을 세션의 기준으로 삼으면 좋을 것 같다~\n",
    "\n",
    "> median값으로 나누는것이 어려울 뿐더러 별로 좋은 방법도 아니었다. 한 유저가 평가한 영화중 중앙에 위치한평가의 시간을 정확히 가운데라고 보기 어렵다. 왜냐하면 1월1일에 4개를 평가하고 1월 20일에 6개를 평가한 사람은 중앙값이 1월 20일 나오기 떄문에 정확히 1월1일과 1월20일을 구분짓는세션이라고 보기 어렵다."
   ]
  },
  {
   "cell_type": "code",
   "execution_count": 19,
   "id": "f96b8cec",
   "metadata": {
    "scrolled": false
   },
   "outputs": [
    {
     "data": {
      "text/html": [
       "<div>\n",
       "<style scoped>\n",
       "    .dataframe tbody tr th:only-of-type {\n",
       "        vertical-align: middle;\n",
       "    }\n",
       "\n",
       "    .dataframe tbody tr th {\n",
       "        vertical-align: top;\n",
       "    }\n",
       "\n",
       "    .dataframe thead th {\n",
       "        text-align: right;\n",
       "    }\n",
       "</style>\n",
       "<table border=\"1\" class=\"dataframe\">\n",
       "  <thead>\n",
       "    <tr style=\"text-align: right;\">\n",
       "      <th></th>\n",
       "      <th>UserId</th>\n",
       "      <th>ItemId</th>\n",
       "      <th>Rating</th>\n",
       "      <th>Timestamp</th>\n",
       "      <th>Time</th>\n",
       "      <th>iddiff</th>\n",
       "      <th>timediff</th>\n",
       "      <th>SessionId</th>\n",
       "    </tr>\n",
       "  </thead>\n",
       "  <tbody>\n",
       "    <tr>\n",
       "      <th>31</th>\n",
       "      <td>1</td>\n",
       "      <td>3186</td>\n",
       "      <td>4</td>\n",
       "      <td>978300019</td>\n",
       "      <td>2000-12-31 22:00:19</td>\n",
       "      <td>NaN</td>\n",
       "      <td>NaT</td>\n",
       "      <td>1</td>\n",
       "    </tr>\n",
       "    <tr>\n",
       "      <th>22</th>\n",
       "      <td>1</td>\n",
       "      <td>1270</td>\n",
       "      <td>5</td>\n",
       "      <td>978300055</td>\n",
       "      <td>2000-12-31 22:00:55</td>\n",
       "      <td>0.0</td>\n",
       "      <td>0 days 00:00:36</td>\n",
       "      <td>1</td>\n",
       "    </tr>\n",
       "    <tr>\n",
       "      <th>27</th>\n",
       "      <td>1</td>\n",
       "      <td>1721</td>\n",
       "      <td>4</td>\n",
       "      <td>978300055</td>\n",
       "      <td>2000-12-31 22:00:55</td>\n",
       "      <td>0.0</td>\n",
       "      <td>0 days 00:00:00</td>\n",
       "      <td>1</td>\n",
       "    </tr>\n",
       "    <tr>\n",
       "      <th>37</th>\n",
       "      <td>1</td>\n",
       "      <td>1022</td>\n",
       "      <td>5</td>\n",
       "      <td>978300055</td>\n",
       "      <td>2000-12-31 22:00:55</td>\n",
       "      <td>0.0</td>\n",
       "      <td>0 days 00:00:00</td>\n",
       "      <td>1</td>\n",
       "    </tr>\n",
       "    <tr>\n",
       "      <th>24</th>\n",
       "      <td>1</td>\n",
       "      <td>2340</td>\n",
       "      <td>3</td>\n",
       "      <td>978300103</td>\n",
       "      <td>2000-12-31 22:01:43</td>\n",
       "      <td>0.0</td>\n",
       "      <td>0 days 00:00:48</td>\n",
       "      <td>1</td>\n",
       "    </tr>\n",
       "    <tr>\n",
       "      <th>...</th>\n",
       "      <td>...</td>\n",
       "      <td>...</td>\n",
       "      <td>...</td>\n",
       "      <td>...</td>\n",
       "      <td>...</td>\n",
       "      <td>...</td>\n",
       "      <td>...</td>\n",
       "      <td>...</td>\n",
       "    </tr>\n",
       "    <tr>\n",
       "      <th>1000019</th>\n",
       "      <td>6040</td>\n",
       "      <td>2917</td>\n",
       "      <td>4</td>\n",
       "      <td>997454429</td>\n",
       "      <td>2001-08-10 14:40:29</td>\n",
       "      <td>0.0</td>\n",
       "      <td>0 days 00:00:31</td>\n",
       "      <td>20715</td>\n",
       "    </tr>\n",
       "    <tr>\n",
       "      <th>999988</th>\n",
       "      <td>6040</td>\n",
       "      <td>1921</td>\n",
       "      <td>4</td>\n",
       "      <td>997454464</td>\n",
       "      <td>2001-08-10 14:41:04</td>\n",
       "      <td>0.0</td>\n",
       "      <td>0 days 00:00:35</td>\n",
       "      <td>20715</td>\n",
       "    </tr>\n",
       "    <tr>\n",
       "      <th>1000172</th>\n",
       "      <td>6040</td>\n",
       "      <td>1784</td>\n",
       "      <td>3</td>\n",
       "      <td>997454464</td>\n",
       "      <td>2001-08-10 14:41:04</td>\n",
       "      <td>0.0</td>\n",
       "      <td>0 days 00:00:00</td>\n",
       "      <td>20715</td>\n",
       "    </tr>\n",
       "    <tr>\n",
       "      <th>1000167</th>\n",
       "      <td>6040</td>\n",
       "      <td>161</td>\n",
       "      <td>3</td>\n",
       "      <td>997454486</td>\n",
       "      <td>2001-08-10 14:41:26</td>\n",
       "      <td>0.0</td>\n",
       "      <td>0 days 00:00:22</td>\n",
       "      <td>20715</td>\n",
       "    </tr>\n",
       "    <tr>\n",
       "      <th>1000042</th>\n",
       "      <td>6040</td>\n",
       "      <td>1221</td>\n",
       "      <td>4</td>\n",
       "      <td>998315055</td>\n",
       "      <td>2001-08-20 13:44:15</td>\n",
       "      <td>0.0</td>\n",
       "      <td>9 days 23:02:49</td>\n",
       "      <td>20716</td>\n",
       "    </tr>\n",
       "  </tbody>\n",
       "</table>\n",
       "<p>1000209 rows × 8 columns</p>\n",
       "</div>"
      ],
      "text/plain": [
       "         UserId  ItemId  Rating  Timestamp                Time  iddiff  \\\n",
       "31            1    3186       4  978300019 2000-12-31 22:00:19     NaN   \n",
       "22            1    1270       5  978300055 2000-12-31 22:00:55     0.0   \n",
       "27            1    1721       4  978300055 2000-12-31 22:00:55     0.0   \n",
       "37            1    1022       5  978300055 2000-12-31 22:00:55     0.0   \n",
       "24            1    2340       3  978300103 2000-12-31 22:01:43     0.0   \n",
       "...         ...     ...     ...        ...                 ...     ...   \n",
       "1000019    6040    2917       4  997454429 2001-08-10 14:40:29     0.0   \n",
       "999988     6040    1921       4  997454464 2001-08-10 14:41:04     0.0   \n",
       "1000172    6040    1784       3  997454464 2001-08-10 14:41:04     0.0   \n",
       "1000167    6040     161       3  997454486 2001-08-10 14:41:26     0.0   \n",
       "1000042    6040    1221       4  998315055 2001-08-20 13:44:15     0.0   \n",
       "\n",
       "               timediff  SessionId  \n",
       "31                  NaT          1  \n",
       "22      0 days 00:00:36          1  \n",
       "27      0 days 00:00:00          1  \n",
       "37      0 days 00:00:00          1  \n",
       "24      0 days 00:00:48          1  \n",
       "...                 ...        ...  \n",
       "1000019 0 days 00:00:31      20715  \n",
       "999988  0 days 00:00:35      20715  \n",
       "1000172 0 days 00:00:00      20715  \n",
       "1000167 0 days 00:00:22      20715  \n",
       "1000042 9 days 23:02:49      20716  \n",
       "\n",
       "[1000209 rows x 8 columns]"
      ]
     },
     "execution_count": 19,
     "metadata": {},
     "output_type": "execute_result"
    }
   ],
   "source": [
    "import datetime as dt\n",
    "data[\"iddiff\"] = data.diff(periods=1)[\"UserId\"]\n",
    "data[\"timediff\"] = data.diff(periods=1)[\"Time\"]\n",
    "session = [1]\n",
    "s = 1\n",
    "for i, j in zip(data[\"iddiff\"][1:], data[\"timediff\"][1:]):\n",
    "    if (i == 0)&(j < dt.timedelta(1)):  # 1일 단위로 자름\n",
    "        session.append(s)\n",
    "    else :\n",
    "        s +=1\n",
    "        session.append(s)\n",
    "        continue\n",
    "data[\"SessionId\"] = session\n",
    "data"
   ]
  },
  {
   "cell_type": "code",
   "execution_count": null,
   "id": "6e8b2a0f",
   "metadata": {},
   "outputs": [],
   "source": [
    "import datetime as dt\n",
    "data[\"iddiff\"] = data.diff(periods=1)[\"UserId\"]\n",
    "data[\"timediff\"] = data.diff(periods=1)[\"Time\"]\n",
    "session = [1]\n",
    "s = 1\n",
    "for i, j in zip(data[\"iddiff\"][1:], data[\"timediff\"][1:]):\n",
    "    if (i == 0)&(j < dt.timedelta(1)):  # 1일 단위로 자름\n",
    "        session.append(s)\n",
    "    else :\n",
    "        s +=1\n",
    "        session.append(s)\n",
    "        continue\n",
    "data[\"SessionId\"] = session\n",
    "data"
   ]
  },
  {
   "cell_type": "markdown",
   "id": "22eb278f",
   "metadata": {},
   "source": [
    "__Session Length__  \n",
    "너무 많은 평가를 매긴 경우 이상치일 수 있다. "
   ]
  },
  {
   "cell_type": "code",
   "execution_count": 20,
   "id": "9dd2b8bf",
   "metadata": {},
   "outputs": [
    {
     "data": {
      "text/plain": [
       "SessionId\n",
       "1         40\n",
       "2         13\n",
       "3        129\n",
       "4         51\n",
       "5         21\n",
       "        ... \n",
       "20712      7\n",
       "20713     14\n",
       "20714      1\n",
       "20715     21\n",
       "20716      1\n",
       "Length: 20716, dtype: int64"
      ]
     },
     "execution_count": 20,
     "metadata": {},
     "output_type": "execute_result"
    }
   ],
   "source": [
    "# UserId Lenght\n",
    "session_length = data.groupby([\"SessionId\"]).size()  # 유저 아이디 숫자, 즉 각 유저아이디별로 활동한 사건 수\n",
    "session_length"
   ]
  },
  {
   "cell_type": "code",
   "execution_count": 22,
   "id": "352f8183",
   "metadata": {},
   "outputs": [
    {
     "name": "stdout",
     "output_type": "stream",
     "text": [
      "최소 값 :  1\n",
      "최대 값 :  1849\n",
      "평균 값 :  48.281955976057155\n",
      "중앙 값 :  7.0\n",
      "누적백분율 90% 값 :  139.0\n"
     ]
    },
    {
     "data": {
      "text/plain": [
       "<AxesSubplot:>"
      ]
     },
     "execution_count": 22,
     "metadata": {},
     "output_type": "execute_result"
    },
    {
     "data": {
      "image/png": "[encoded data removed]",
      "text/plain": [
       "<Figure size 432x288 with 1 Axes>"
      ]
     },
     "metadata": {
      "needs_background": "light"
     },
     "output_type": "display_data"
    }
   ],
   "source": [
    "# 기본적인 통계값 확인\n",
    "print(\"최소 값 : \",session_length.min())\n",
    "print(\"최대 값 : \",session_length.max())\n",
    "print(\"평균 값 : \",session_length.mean())\n",
    "print(\"중앙 값 : \",session_length.median())\n",
    "print(\"누적백분율 90% 값 : \",session_length.quantile(0.90))\n",
    "\n",
    "session_length.plot(kind = \"box\")"
   ]
  },
  {
   "cell_type": "markdown",
   "id": "d4778938",
   "metadata": {},
   "source": [
    "평균도 48.28이고 상위 90% 를 뽑아도 139밖에 안된다. "
   ]
  },
  {
   "cell_type": "code",
   "execution_count": 23,
   "id": "d2735b5d",
   "metadata": {},
   "outputs": [
    {
     "data": {
      "text/plain": [
       "1       5203\n",
       "2       2232\n",
       "3       1130\n",
       "4        694\n",
       "5        554\n",
       "        ... \n",
       "1180       1\n",
       "1216       1\n",
       "1262       1\n",
       "1442       1\n",
       "1849       1\n",
       "Length: 636, dtype: int64"
      ]
     },
     "execution_count": 23,
     "metadata": {},
     "output_type": "execute_result"
    }
   ],
   "source": [
    "session_length.groupby(session_length).size()"
   ]
  },
  {
   "cell_type": "code",
   "execution_count": 24,
   "id": "4bddd300",
   "metadata": {},
   "outputs": [
    {
     "data": {
      "text/plain": [
       "1      0.251159\n",
       "2      0.358901\n",
       "3      0.413449\n",
       "4      0.446949\n",
       "5      0.473692\n",
       "         ...   \n",
       "134    0.896602\n",
       "135    0.897229\n",
       "136    0.898339\n",
       "137    0.898919\n",
       "138    0.899595\n",
       "Length: 138, dtype: float64"
      ]
     },
     "execution_count": 24,
     "metadata": {},
     "output_type": "execute_result"
    }
   ],
   "source": [
    "length_count = session_length.groupby(session_length).size()  # 유저의 활동수를 기준으로 묶는다.\n",
    "length_percent_cumsum = length_count.cumsum() / length_count.sum()  # 각 활동이 얼마나 많은 활동이었는지 누적 분포로 확인한다. \n",
    "length_percent_cumsum_90 = length_percent_cumsum[length_percent_cumsum < 0.9]  # 클릭수가 너무 많은 상위 90% 이상은 제거한다.\n",
    "length_percent_cumsum_90"
   ]
  },
  {
   "cell_type": "code",
   "execution_count": 28,
   "id": "fd24b07e",
   "metadata": {},
   "outputs": [
    {
     "data": {
      "image/png": "[encoded data removed]",
      "text/plain": [
       "<Figure size 1440x720 with 1 Axes>"
      ]
     },
     "metadata": {
      "needs_background": "light"
     },
     "output_type": "display_data"
    }
   ],
   "source": [
    "plt.figure(figsize=(20, 10))\n",
    "plt.bar(x=length_percent_cumsum_90.index,\n",
    "        height=length_percent_cumsum_90, color='red')\n",
    "plt.xticks(length_percent_cumsum_90.index)\n",
    "plt.yticks(np.arange(0, 1.01, 0.05))\n",
    "plt.title('Cumsum Percentage Until 0.90', size=20)\n",
    "# plt.xticks(rotation = 45)\n",
    "plt.show()"
   ]
  },
  {
   "cell_type": "markdown",
   "id": "fd81ec58",
   "metadata": {},
   "source": [
    "__Session Time__  \n",
    "\n",
    "최신 트렌드를 반영하기 위해 최근 1년간 평가한 session을 활용"
   ]
  },
  {
   "cell_type": "code",
   "execution_count": 29,
   "id": "619515d6",
   "metadata": {},
   "outputs": [
    {
     "name": "stdout",
     "output_type": "stream",
     "text": [
      "2000-04-25 23:05:32\n",
      "2003-02-28 17:49:50\n"
     ]
    }
   ],
   "source": [
    "# 가장 오래된 노드와 가장 최신 노드\n",
    "oldest,latest = data[\"Time\"].min(), data[\"Time\"].max()\n",
    "print(oldest)\n",
    "print(latest)"
   ]
  },
  {
   "cell_type": "code",
   "execution_count": 30,
   "id": "cb41984c",
   "metadata": {},
   "outputs": [],
   "source": [
    "# month_ago = latest - dt.timedelta(730)\n",
    "# data_recent = data[data[\"Time\"] > month_ago]\n",
    "# data_recent"
   ]
  },
  {
   "cell_type": "markdown",
   "id": "d1afef14",
   "metadata": {},
   "source": [
    "__Data Cleaning__"
   ]
  },
  {
   "cell_type": "code",
   "execution_count": 16,
   "id": "36508d57",
   "metadata": {},
   "outputs": [
    {
     "data": {
      "text/plain": [
       "(1000209, 8)"
      ]
     },
     "execution_count": 16,
     "metadata": {},
     "output_type": "execute_result"
    }
   ],
   "source": [
    "data.shape"
   ]
  },
  {
   "cell_type": "code",
   "execution_count": 31,
   "id": "277f0fd9",
   "metadata": {},
   "outputs": [
    {
     "data": {
      "text/html": [
       "<div>\n",
       "<style scoped>\n",
       "    .dataframe tbody tr th:only-of-type {\n",
       "        vertical-align: middle;\n",
       "    }\n",
       "\n",
       "    .dataframe tbody tr th {\n",
       "        vertical-align: top;\n",
       "    }\n",
       "\n",
       "    .dataframe thead th {\n",
       "        text-align: right;\n",
       "    }\n",
       "</style>\n",
       "<table border=\"1\" class=\"dataframe\">\n",
       "  <thead>\n",
       "    <tr style=\"text-align: right;\">\n",
       "      <th></th>\n",
       "      <th>UserId</th>\n",
       "      <th>ItemId</th>\n",
       "      <th>Rating</th>\n",
       "      <th>Timestamp</th>\n",
       "      <th>Time</th>\n",
       "      <th>iddiff</th>\n",
       "      <th>timediff</th>\n",
       "      <th>SessionId</th>\n",
       "    </tr>\n",
       "  </thead>\n",
       "  <tbody>\n",
       "    <tr>\n",
       "      <th>31</th>\n",
       "      <td>1</td>\n",
       "      <td>3186</td>\n",
       "      <td>4</td>\n",
       "      <td>978300019</td>\n",
       "      <td>2000-12-31 22:00:19</td>\n",
       "      <td>NaN</td>\n",
       "      <td>NaT</td>\n",
       "      <td>1</td>\n",
       "    </tr>\n",
       "    <tr>\n",
       "      <th>22</th>\n",
       "      <td>1</td>\n",
       "      <td>1270</td>\n",
       "      <td>5</td>\n",
       "      <td>978300055</td>\n",
       "      <td>2000-12-31 22:00:55</td>\n",
       "      <td>0.0</td>\n",
       "      <td>0 days 00:00:36</td>\n",
       "      <td>1</td>\n",
       "    </tr>\n",
       "    <tr>\n",
       "      <th>27</th>\n",
       "      <td>1</td>\n",
       "      <td>1721</td>\n",
       "      <td>4</td>\n",
       "      <td>978300055</td>\n",
       "      <td>2000-12-31 22:00:55</td>\n",
       "      <td>0.0</td>\n",
       "      <td>0 days 00:00:00</td>\n",
       "      <td>1</td>\n",
       "    </tr>\n",
       "    <tr>\n",
       "      <th>37</th>\n",
       "      <td>1</td>\n",
       "      <td>1022</td>\n",
       "      <td>5</td>\n",
       "      <td>978300055</td>\n",
       "      <td>2000-12-31 22:00:55</td>\n",
       "      <td>0.0</td>\n",
       "      <td>0 days 00:00:00</td>\n",
       "      <td>1</td>\n",
       "    </tr>\n",
       "    <tr>\n",
       "      <th>36</th>\n",
       "      <td>1</td>\n",
       "      <td>1836</td>\n",
       "      <td>5</td>\n",
       "      <td>978300172</td>\n",
       "      <td>2000-12-31 22:02:52</td>\n",
       "      <td>0.0</td>\n",
       "      <td>0 days 00:01:09</td>\n",
       "      <td>1</td>\n",
       "    </tr>\n",
       "    <tr>\n",
       "      <th>...</th>\n",
       "      <td>...</td>\n",
       "      <td>...</td>\n",
       "      <td>...</td>\n",
       "      <td>...</td>\n",
       "      <td>...</td>\n",
       "      <td>...</td>\n",
       "      <td>...</td>\n",
       "      <td>...</td>\n",
       "    </tr>\n",
       "    <tr>\n",
       "      <th>1000119</th>\n",
       "      <td>6040</td>\n",
       "      <td>3671</td>\n",
       "      <td>4</td>\n",
       "      <td>997454367</td>\n",
       "      <td>2001-08-10 14:39:27</td>\n",
       "      <td>0.0</td>\n",
       "      <td>0 days 00:00:18</td>\n",
       "      <td>20715</td>\n",
       "    </tr>\n",
       "    <tr>\n",
       "      <th>999923</th>\n",
       "      <td>6040</td>\n",
       "      <td>232</td>\n",
       "      <td>5</td>\n",
       "      <td>997454398</td>\n",
       "      <td>2001-08-10 14:39:58</td>\n",
       "      <td>0.0</td>\n",
       "      <td>0 days 00:00:31</td>\n",
       "      <td>20715</td>\n",
       "    </tr>\n",
       "    <tr>\n",
       "      <th>1000019</th>\n",
       "      <td>6040</td>\n",
       "      <td>2917</td>\n",
       "      <td>4</td>\n",
       "      <td>997454429</td>\n",
       "      <td>2001-08-10 14:40:29</td>\n",
       "      <td>0.0</td>\n",
       "      <td>0 days 00:00:31</td>\n",
       "      <td>20715</td>\n",
       "    </tr>\n",
       "    <tr>\n",
       "      <th>999988</th>\n",
       "      <td>6040</td>\n",
       "      <td>1921</td>\n",
       "      <td>4</td>\n",
       "      <td>997454464</td>\n",
       "      <td>2001-08-10 14:41:04</td>\n",
       "      <td>0.0</td>\n",
       "      <td>0 days 00:00:35</td>\n",
       "      <td>20715</td>\n",
       "    </tr>\n",
       "    <tr>\n",
       "      <th>1000042</th>\n",
       "      <td>6040</td>\n",
       "      <td>1221</td>\n",
       "      <td>4</td>\n",
       "      <td>998315055</td>\n",
       "      <td>2001-08-20 13:44:15</td>\n",
       "      <td>0.0</td>\n",
       "      <td>9 days 23:02:49</td>\n",
       "      <td>20716</td>\n",
       "    </tr>\n",
       "  </tbody>\n",
       "</table>\n",
       "<p>575281 rows × 8 columns</p>\n",
       "</div>"
      ],
      "text/plain": [
       "         UserId  ItemId  Rating  Timestamp                Time  iddiff  \\\n",
       "31            1    3186       4  978300019 2000-12-31 22:00:19     NaN   \n",
       "22            1    1270       5  978300055 2000-12-31 22:00:55     0.0   \n",
       "27            1    1721       4  978300055 2000-12-31 22:00:55     0.0   \n",
       "37            1    1022       5  978300055 2000-12-31 22:00:55     0.0   \n",
       "36            1    1836       5  978300172 2000-12-31 22:02:52     0.0   \n",
       "...         ...     ...     ...        ...                 ...     ...   \n",
       "1000119    6040    3671       4  997454367 2001-08-10 14:39:27     0.0   \n",
       "999923     6040     232       5  997454398 2001-08-10 14:39:58     0.0   \n",
       "1000019    6040    2917       4  997454429 2001-08-10 14:40:29     0.0   \n",
       "999988     6040    1921       4  997454464 2001-08-10 14:41:04     0.0   \n",
       "1000042    6040    1221       4  998315055 2001-08-20 13:44:15     0.0   \n",
       "\n",
       "               timediff  SessionId  \n",
       "31                  NaT          1  \n",
       "22      0 days 00:00:36          1  \n",
       "27      0 days 00:00:00          1  \n",
       "37      0 days 00:00:00          1  \n",
       "36      0 days 00:01:09          1  \n",
       "...                 ...        ...  \n",
       "1000119 0 days 00:00:18      20715  \n",
       "999923  0 days 00:00:31      20715  \n",
       "1000019 0 days 00:00:31      20715  \n",
       "999988  0 days 00:00:35      20715  \n",
       "1000042 9 days 23:02:49      20716  \n",
       "\n",
       "[575281 rows x 8 columns]"
      ]
     },
     "execution_count": 31,
     "metadata": {},
     "output_type": "execute_result"
    }
   ],
   "source": [
    "# Rating 이 4 미만인 행은 삭제\n",
    "data = data[data[\"Rating\"] >= 4]\n",
    "data"
   ]
  },
  {
   "cell_type": "code",
   "execution_count": 32,
   "id": "1e63f970",
   "metadata": {},
   "outputs": [],
   "source": [
    "def cleanse_recursive(data : pd.DataFrame, shortest, least_eval) -> pd.DataFrame :\n",
    "    while True : \n",
    "        before_len = len(data)\n",
    "        data = cleanse_short_session(data, shortest)\n",
    "        data = cleanse_unpopular_item(data, least_eval)\n",
    "        after_len = len(data)\n",
    "        if before_len == after_len:\n",
    "            break\n",
    "    return data\n",
    "        \n",
    "        \n",
    "def cleanse_short_session(data : pd.DataFrame, shortest) : \n",
    "    session_len = data.groupby(\"SessionId\").size()\n",
    "    session_use = session_len[session_len >= shortest].index  # 가장 짧은 세션 이상의 session의 index 저장\n",
    "    data = data[data[\"SessionId\"].isin(session_use)]\n",
    "    return data\n",
    "\n",
    "def cleanse_unpopular_item(data : pd.DataFrame, least_eval) : \n",
    "    item_popular = data.groupby([\"ItemId\"]).size()\n",
    "    item_use = item_popular[item_popular >= least_eval].index\n",
    "    data = data[data[\"ItemId\"].isin(item_use)]\n",
    "    return data"
   ]
  },
  {
   "cell_type": "code",
   "execution_count": 33,
   "id": "58237432",
   "metadata": {},
   "outputs": [
    {
     "data": {
      "text/plain": [
       "1"
      ]
     },
     "execution_count": 33,
     "metadata": {},
     "output_type": "execute_result"
    }
   ],
   "source": [
    "# itemid 출현 빈토 최소값\n",
    "data.groupby([\"ItemId\"]).size().min()"
   ]
  },
  {
   "cell_type": "code",
   "execution_count": 34,
   "id": "ea7291ac",
   "metadata": {},
   "outputs": [
    {
     "data": {
      "text/html": [
       "<div>\n",
       "<style scoped>\n",
       "    .dataframe tbody tr th:only-of-type {\n",
       "        vertical-align: middle;\n",
       "    }\n",
       "\n",
       "    .dataframe tbody tr th {\n",
       "        vertical-align: top;\n",
       "    }\n",
       "\n",
       "    .dataframe thead th {\n",
       "        text-align: right;\n",
       "    }\n",
       "</style>\n",
       "<table border=\"1\" class=\"dataframe\">\n",
       "  <thead>\n",
       "    <tr style=\"text-align: right;\">\n",
       "      <th></th>\n",
       "      <th>UserId</th>\n",
       "      <th>ItemId</th>\n",
       "      <th>Rating</th>\n",
       "      <th>Timestamp</th>\n",
       "      <th>Time</th>\n",
       "      <th>iddiff</th>\n",
       "      <th>timediff</th>\n",
       "      <th>SessionId</th>\n",
       "    </tr>\n",
       "  </thead>\n",
       "  <tbody>\n",
       "    <tr>\n",
       "      <th>31</th>\n",
       "      <td>1</td>\n",
       "      <td>3186</td>\n",
       "      <td>4</td>\n",
       "      <td>978300019</td>\n",
       "      <td>2000-12-31 22:00:19</td>\n",
       "      <td>NaN</td>\n",
       "      <td>NaT</td>\n",
       "      <td>1</td>\n",
       "    </tr>\n",
       "    <tr>\n",
       "      <th>22</th>\n",
       "      <td>1</td>\n",
       "      <td>1270</td>\n",
       "      <td>5</td>\n",
       "      <td>978300055</td>\n",
       "      <td>2000-12-31 22:00:55</td>\n",
       "      <td>0.0</td>\n",
       "      <td>0 days 00:00:36</td>\n",
       "      <td>1</td>\n",
       "    </tr>\n",
       "    <tr>\n",
       "      <th>27</th>\n",
       "      <td>1</td>\n",
       "      <td>1721</td>\n",
       "      <td>4</td>\n",
       "      <td>978300055</td>\n",
       "      <td>2000-12-31 22:00:55</td>\n",
       "      <td>0.0</td>\n",
       "      <td>0 days 00:00:00</td>\n",
       "      <td>1</td>\n",
       "    </tr>\n",
       "    <tr>\n",
       "      <th>37</th>\n",
       "      <td>1</td>\n",
       "      <td>1022</td>\n",
       "      <td>5</td>\n",
       "      <td>978300055</td>\n",
       "      <td>2000-12-31 22:00:55</td>\n",
       "      <td>0.0</td>\n",
       "      <td>0 days 00:00:00</td>\n",
       "      <td>1</td>\n",
       "    </tr>\n",
       "    <tr>\n",
       "      <th>36</th>\n",
       "      <td>1</td>\n",
       "      <td>1836</td>\n",
       "      <td>5</td>\n",
       "      <td>978300172</td>\n",
       "      <td>2000-12-31 22:02:52</td>\n",
       "      <td>0.0</td>\n",
       "      <td>0 days 00:01:09</td>\n",
       "      <td>1</td>\n",
       "    </tr>\n",
       "    <tr>\n",
       "      <th>...</th>\n",
       "      <td>...</td>\n",
       "      <td>...</td>\n",
       "      <td>...</td>\n",
       "      <td>...</td>\n",
       "      <td>...</td>\n",
       "      <td>...</td>\n",
       "      <td>...</td>\n",
       "      <td>...</td>\n",
       "    </tr>\n",
       "    <tr>\n",
       "      <th>1000118</th>\n",
       "      <td>6040</td>\n",
       "      <td>457</td>\n",
       "      <td>4</td>\n",
       "      <td>997454349</td>\n",
       "      <td>2001-08-10 14:39:09</td>\n",
       "      <td>0.0</td>\n",
       "      <td>0 days 00:02:17</td>\n",
       "      <td>20715</td>\n",
       "    </tr>\n",
       "    <tr>\n",
       "      <th>1000119</th>\n",
       "      <td>6040</td>\n",
       "      <td>3671</td>\n",
       "      <td>4</td>\n",
       "      <td>997454367</td>\n",
       "      <td>2001-08-10 14:39:27</td>\n",
       "      <td>0.0</td>\n",
       "      <td>0 days 00:00:18</td>\n",
       "      <td>20715</td>\n",
       "    </tr>\n",
       "    <tr>\n",
       "      <th>999923</th>\n",
       "      <td>6040</td>\n",
       "      <td>232</td>\n",
       "      <td>5</td>\n",
       "      <td>997454398</td>\n",
       "      <td>2001-08-10 14:39:58</td>\n",
       "      <td>0.0</td>\n",
       "      <td>0 days 00:00:31</td>\n",
       "      <td>20715</td>\n",
       "    </tr>\n",
       "    <tr>\n",
       "      <th>1000019</th>\n",
       "      <td>6040</td>\n",
       "      <td>2917</td>\n",
       "      <td>4</td>\n",
       "      <td>997454429</td>\n",
       "      <td>2001-08-10 14:40:29</td>\n",
       "      <td>0.0</td>\n",
       "      <td>0 days 00:00:31</td>\n",
       "      <td>20715</td>\n",
       "    </tr>\n",
       "    <tr>\n",
       "      <th>999988</th>\n",
       "      <td>6040</td>\n",
       "      <td>1921</td>\n",
       "      <td>4</td>\n",
       "      <td>997454464</td>\n",
       "      <td>2001-08-10 14:41:04</td>\n",
       "      <td>0.0</td>\n",
       "      <td>0 days 00:00:35</td>\n",
       "      <td>20715</td>\n",
       "    </tr>\n",
       "  </tbody>\n",
       "</table>\n",
       "<p>569657 rows × 8 columns</p>\n",
       "</div>"
      ],
      "text/plain": [
       "         UserId  ItemId  Rating  Timestamp                Time  iddiff  \\\n",
       "31            1    3186       4  978300019 2000-12-31 22:00:19     NaN   \n",
       "22            1    1270       5  978300055 2000-12-31 22:00:55     0.0   \n",
       "27            1    1721       4  978300055 2000-12-31 22:00:55     0.0   \n",
       "37            1    1022       5  978300055 2000-12-31 22:00:55     0.0   \n",
       "36            1    1836       5  978300172 2000-12-31 22:02:52     0.0   \n",
       "...         ...     ...     ...        ...                 ...     ...   \n",
       "1000118    6040     457       4  997454349 2001-08-10 14:39:09     0.0   \n",
       "1000119    6040    3671       4  997454367 2001-08-10 14:39:27     0.0   \n",
       "999923     6040     232       5  997454398 2001-08-10 14:39:58     0.0   \n",
       "1000019    6040    2917       4  997454429 2001-08-10 14:40:29     0.0   \n",
       "999988     6040    1921       4  997454464 2001-08-10 14:41:04     0.0   \n",
       "\n",
       "               timediff  SessionId  \n",
       "31                  NaT          1  \n",
       "22      0 days 00:00:36          1  \n",
       "27      0 days 00:00:00          1  \n",
       "37      0 days 00:00:00          1  \n",
       "36      0 days 00:01:09          1  \n",
       "...                 ...        ...  \n",
       "1000118 0 days 00:02:17      20715  \n",
       "1000119 0 days 00:00:18      20715  \n",
       "999923  0 days 00:00:31      20715  \n",
       "1000019 0 days 00:00:31      20715  \n",
       "999988  0 days 00:00:35      20715  \n",
       "\n",
       "[569657 rows x 8 columns]"
      ]
     },
     "execution_count": 34,
     "metadata": {},
     "output_type": "execute_result"
    }
   ],
   "source": [
    "# 평가 수가 2개 이하인 세션은 삭제, 평가 횟수가 5회 미만인 영화도 삭제\n",
    "data = cleanse_recursive(data, shortest = 2, least_eval = 5)\n",
    "data"
   ]
  },
  {
   "cell_type": "markdown",
   "id": "d31304e4",
   "metadata": {},
   "source": [
    "__Train / Valid / Test split__"
   ]
  },
  {
   "cell_type": "code",
   "execution_count": 35,
   "id": "1b863be6",
   "metadata": {},
   "outputs": [],
   "source": [
    "def split_by_date(data : pd.DataFrame, n_days: int):\n",
    "    final_time = data[\"Time\"].max()\n",
    "    session_last_time = data.groupby([\"SessionId\"])[\"Time\"].max()\n",
    "    session_in_train = session_last_time[session_last_time < final_time - dt.timedelta(n_days)].index\n",
    "    session_in_test = session_last_time[session_last_time >= final_time - dt.timedelta(n_days)].index\n",
    "    \n",
    "    before_date = data[data[\"SessionId\"].isin(session_in_train)]\n",
    "    after_date = data[data['SessionId'].isin(session_in_test)]\n",
    "    after_date = after_date[after_date['ItemId'].isin(before_date['ItemId'])]\n",
    "    return before_date, after_date    "
   ]
  },
  {
   "cell_type": "code",
   "execution_count": 36,
   "id": "79ed82aa",
   "metadata": {},
   "outputs": [
    {
     "data": {
      "text/plain": [
       "datetime.timedelta(days=600)"
      ]
     },
     "execution_count": 36,
     "metadata": {},
     "output_type": "execute_result"
    }
   ],
   "source": [
    "dt.timedelta(600)"
   ]
  },
  {
   "cell_type": "code",
   "execution_count": 37,
   "id": "8c3f4415",
   "metadata": {},
   "outputs": [],
   "source": [
    "data.sort_values(by = \"Time\", ascending = True, inplace = True)"
   ]
  },
  {
   "cell_type": "code",
   "execution_count": 38,
   "id": "3ca49da7",
   "metadata": {},
   "outputs": [],
   "source": [
    "data[\"date\"] = data[\"Time\"].dt.date"
   ]
  },
  {
   "cell_type": "code",
   "execution_count": 39,
   "id": "1f7290fc",
   "metadata": {},
   "outputs": [],
   "source": [
    "train, test = split_by_date(data, n_days = 180)\n",
    "train, val = split_by_date(train, n_days = 180)"
   ]
  },
  {
   "cell_type": "code",
   "execution_count": 40,
   "id": "7f771b31",
   "metadata": {},
   "outputs": [
    {
     "data": {
      "text/plain": [
       "((559619, 9), (5740, 9), (4298, 9))"
      ]
     },
     "execution_count": 40,
     "metadata": {},
     "output_type": "execute_result"
    }
   ],
   "source": [
    "train.shape, val.shape, test.shape"
   ]
  },
  {
   "cell_type": "code",
   "execution_count": 41,
   "id": "6523f4ee",
   "metadata": {},
   "outputs": [],
   "source": [
    "# data에 대한 정보를 살펴봅니다.\n",
    "def stats_info(data: pd.DataFrame, status: str):\n",
    "    print(f'* {status} Set Stats Info\\n'\n",
    "          f'\\t Events: {len(data)}\\n'\n",
    "          f'\\t Sessions: {data[\"SessionId\"].nunique()}\\n'\n",
    "          f'\\t Items: {data[\"ItemId\"].nunique()}\\n'\n",
    "          f'\\t First Time : {data[\"Time\"].min()}\\n'\n",
    "          f'\\t Last Time : {data[\"Time\"].max()}\\n')"
   ]
  },
  {
   "cell_type": "code",
   "execution_count": 42,
   "id": "9bde1d6c",
   "metadata": {},
   "outputs": [
    {
     "name": "stdout",
     "output_type": "stream",
     "text": [
      "* train Set Stats Info\n",
      "\t Events: 559619\n",
      "\t Sessions: 12160\n",
      "\t Items: 3119\n",
      "\t First Time : 2000-04-25 23:05:32\n",
      "\t Last Time : 2002-03-04 20:27:21\n",
      "\n",
      "* valid Set Stats Info\n",
      "\t Events: 5740\n",
      "\t Sessions: 584\n",
      "\t Items: 1822\n",
      "\t First Time : 2002-03-04 18:58:36\n",
      "\t Last Time : 2002-08-31 20:38:06\n",
      "\n",
      "* test Set Stats Info\n",
      "\t Events: 4298\n",
      "\t Sessions: 409\n",
      "\t Items: 1473\n",
      "\t First Time : 2002-09-01 04:16:16\n",
      "\t Last Time : 2003-02-28 17:49:50\n",
      "\n"
     ]
    }
   ],
   "source": [
    "stats_info(train, 'train')\n",
    "stats_info(val, 'valid')\n",
    "stats_info(test, 'test')"
   ]
  },
  {
   "cell_type": "code",
   "execution_count": 43,
   "id": "31354bb6",
   "metadata": {},
   "outputs": [],
   "source": [
    "id2idx = {item_id : index for index, item_id in enumerate(train['ItemId'].unique())}\n",
    "\n",
    "def indexing(df, id2idx):\n",
    "    df['item_idx'] = df['ItemId'].map(lambda x: id2idx.get(x, -1))  # id2idx에 없는 아이템은 모르는 값(-1) 처리 해줍니다.\n",
    "    return df\n",
    "\n",
    "train = indexing(train, id2idx)\n",
    "val = indexing(val, id2idx)\n",
    "test = indexing(test, id2idx)"
   ]
  },
  {
   "cell_type": "code",
   "execution_count": 44,
   "id": "5f9d5a57",
   "metadata": {},
   "outputs": [],
   "source": [
    "save_path = data_path / 'processed'  # Path(os.getenv('HOME')+'/aiffel/yoochoose/data/') \n",
    "save_path.mkdir(parents=True, exist_ok=True)\n",
    "\n",
    "train.to_pickle(save_path / 'train.pkl')\n",
    "val.to_pickle(save_path / 'valid.pkl')\n",
    "test.to_pickle(save_path / 'test.pkl')"
   ]
  },
  {
   "cell_type": "markdown",
   "id": "c5cb26fb",
   "metadata": {},
   "source": [
    "### Step 2. 미니 배치의 구성\n",
    "\n",
    "--------------------------------------\n",
    "\n",
    "실습 코드 내역을 참고하여 데이터셋과 미니 배치를 구성해 봅시다. Session-Parallel Mini-Batch의 개념에 따라, 학습 속도의 저하가 최소화될 수 있도록 구성합니다.\n",
    "단, 위 Step 1에서 Session 단위를 어떻게 정의했느냐에 따라서 Session-Parallel Mini-Batch이 굳이 필요하지 않을 수도 있습니다."
   ]
  },
  {
   "cell_type": "code",
   "execution_count": 45,
   "id": "c2b1237c",
   "metadata": {},
   "outputs": [],
   "source": [
    "class SessionDataset:\n",
    "\n",
    "    def __init__(self, data):\n",
    "        self.df = data\n",
    "        self.click_offsets = self.get_click_offsets()\n",
    "        self.session_idx = np.arange(self.df['SessionId'].nunique())  # indexing to SessionId\n",
    "        # 유니크 아이디 개수만큼 배열 생성\n",
    "            \n",
    "    def get_click_offsets(self):\n",
    "        \"\"\"\n",
    "        세션에 수 누적값 구하기\n",
    "        \"\"\"\n",
    "        offsets = np.zeros(self.df['SessionId'].nunique() + 1, dtype=np.int32)\n",
    "        offsets[1:] = self.df.groupby('SessionId').size().cumsum()  # 이게 무슨말일까?\n",
    "        return offsets"
   ]
  },
  {
   "cell_type": "code",
   "execution_count": 46,
   "id": "3a146f5c",
   "metadata": {},
   "outputs": [
    {
     "data": {
      "text/html": [
       "<div>\n",
       "<style scoped>\n",
       "    .dataframe tbody tr th:only-of-type {\n",
       "        vertical-align: middle;\n",
       "    }\n",
       "\n",
       "    .dataframe tbody tr th {\n",
       "        vertical-align: top;\n",
       "    }\n",
       "\n",
       "    .dataframe thead th {\n",
       "        text-align: right;\n",
       "    }\n",
       "</style>\n",
       "<table border=\"1\" class=\"dataframe\">\n",
       "  <thead>\n",
       "    <tr style=\"text-align: right;\">\n",
       "      <th></th>\n",
       "      <th>UserId</th>\n",
       "      <th>ItemId</th>\n",
       "      <th>Rating</th>\n",
       "      <th>Timestamp</th>\n",
       "      <th>Time</th>\n",
       "      <th>iddiff</th>\n",
       "      <th>timediff</th>\n",
       "      <th>SessionId</th>\n",
       "      <th>date</th>\n",
       "      <th>item_idx</th>\n",
       "    </tr>\n",
       "  </thead>\n",
       "  <tbody>\n",
       "    <tr>\n",
       "      <th>1000138</th>\n",
       "      <td>6040</td>\n",
       "      <td>858</td>\n",
       "      <td>4</td>\n",
       "      <td>956703932</td>\n",
       "      <td>2000-04-25 23:05:32</td>\n",
       "      <td>1.0</td>\n",
       "      <td>-1 days +08:58:23</td>\n",
       "      <td>20709</td>\n",
       "      <td>2000-04-25</td>\n",
       "      <td>0</td>\n",
       "    </tr>\n",
       "    <tr>\n",
       "      <th>999873</th>\n",
       "      <td>6040</td>\n",
       "      <td>593</td>\n",
       "      <td>5</td>\n",
       "      <td>956703954</td>\n",
       "      <td>2000-04-25 23:05:54</td>\n",
       "      <td>0.0</td>\n",
       "      <td>0 days 00:00:22</td>\n",
       "      <td>20709</td>\n",
       "      <td>2000-04-25</td>\n",
       "      <td>1</td>\n",
       "    </tr>\n",
       "    <tr>\n",
       "      <th>1000153</th>\n",
       "      <td>6040</td>\n",
       "      <td>2384</td>\n",
       "      <td>4</td>\n",
       "      <td>956703954</td>\n",
       "      <td>2000-04-25 23:05:54</td>\n",
       "      <td>0.0</td>\n",
       "      <td>0 days 00:00:00</td>\n",
       "      <td>20709</td>\n",
       "      <td>2000-04-25</td>\n",
       "      <td>2</td>\n",
       "    </tr>\n",
       "    <tr>\n",
       "      <th>1000192</th>\n",
       "      <td>6040</td>\n",
       "      <td>2019</td>\n",
       "      <td>5</td>\n",
       "      <td>956703977</td>\n",
       "      <td>2000-04-25 23:06:17</td>\n",
       "      <td>0.0</td>\n",
       "      <td>0 days 00:00:00</td>\n",
       "      <td>20709</td>\n",
       "      <td>2000-04-25</td>\n",
       "      <td>3</td>\n",
       "    </tr>\n",
       "    <tr>\n",
       "      <th>1000007</th>\n",
       "      <td>6040</td>\n",
       "      <td>1961</td>\n",
       "      <td>4</td>\n",
       "      <td>956703977</td>\n",
       "      <td>2000-04-25 23:06:17</td>\n",
       "      <td>0.0</td>\n",
       "      <td>0 days 00:00:23</td>\n",
       "      <td>20709</td>\n",
       "      <td>2000-04-25</td>\n",
       "      <td>4</td>\n",
       "    </tr>\n",
       "    <tr>\n",
       "      <th>999980</th>\n",
       "      <td>6040</td>\n",
       "      <td>3505</td>\n",
       "      <td>4</td>\n",
       "      <td>956704056</td>\n",
       "      <td>2000-04-25 23:07:36</td>\n",
       "      <td>0.0</td>\n",
       "      <td>0 days 00:00:00</td>\n",
       "      <td>20709</td>\n",
       "      <td>2000-04-25</td>\n",
       "      <td>5</td>\n",
       "    </tr>\n",
       "    <tr>\n",
       "      <th>999967</th>\n",
       "      <td>6040</td>\n",
       "      <td>3111</td>\n",
       "      <td>5</td>\n",
       "      <td>956704056</td>\n",
       "      <td>2000-04-25 23:07:36</td>\n",
       "      <td>0.0</td>\n",
       "      <td>0 days 00:00:00</td>\n",
       "      <td>20709</td>\n",
       "      <td>2000-04-25</td>\n",
       "      <td>6</td>\n",
       "    </tr>\n",
       "    <tr>\n",
       "      <th>999920</th>\n",
       "      <td>6040</td>\n",
       "      <td>213</td>\n",
       "      <td>5</td>\n",
       "      <td>956704056</td>\n",
       "      <td>2000-04-25 23:07:36</td>\n",
       "      <td>0.0</td>\n",
       "      <td>0 days 00:00:00</td>\n",
       "      <td>20709</td>\n",
       "      <td>2000-04-25</td>\n",
       "      <td>7</td>\n",
       "    </tr>\n",
       "    <tr>\n",
       "      <th>999868</th>\n",
       "      <td>6040</td>\n",
       "      <td>573</td>\n",
       "      <td>4</td>\n",
       "      <td>956704056</td>\n",
       "      <td>2000-04-25 23:07:36</td>\n",
       "      <td>0.0</td>\n",
       "      <td>0 days 00:01:19</td>\n",
       "      <td>20709</td>\n",
       "      <td>2000-04-25</td>\n",
       "      <td>8</td>\n",
       "    </tr>\n",
       "    <tr>\n",
       "      <th>999888</th>\n",
       "      <td>6040</td>\n",
       "      <td>919</td>\n",
       "      <td>5</td>\n",
       "      <td>956704191</td>\n",
       "      <td>2000-04-25 23:09:51</td>\n",
       "      <td>0.0</td>\n",
       "      <td>0 days 00:00:00</td>\n",
       "      <td>20709</td>\n",
       "      <td>2000-04-25</td>\n",
       "      <td>9</td>\n",
       "    </tr>\n",
       "  </tbody>\n",
       "</table>\n",
       "</div>"
      ],
      "text/plain": [
       "         UserId  ItemId  Rating  Timestamp                Time  iddiff  \\\n",
       "1000138    6040     858       4  956703932 2000-04-25 23:05:32     1.0   \n",
       "999873     6040     593       5  956703954 2000-04-25 23:05:54     0.0   \n",
       "1000153    6040    2384       4  956703954 2000-04-25 23:05:54     0.0   \n",
       "1000192    6040    2019       5  956703977 2000-04-25 23:06:17     0.0   \n",
       "1000007    6040    1961       4  956703977 2000-04-25 23:06:17     0.0   \n",
       "999980     6040    3505       4  956704056 2000-04-25 23:07:36     0.0   \n",
       "999967     6040    3111       5  956704056 2000-04-25 23:07:36     0.0   \n",
       "999920     6040     213       5  956704056 2000-04-25 23:07:36     0.0   \n",
       "999868     6040     573       4  956704056 2000-04-25 23:07:36     0.0   \n",
       "999888     6040     919       5  956704191 2000-04-25 23:09:51     0.0   \n",
       "\n",
       "                 timediff  SessionId        date  item_idx  \n",
       "1000138 -1 days +08:58:23      20709  2000-04-25         0  \n",
       "999873    0 days 00:00:22      20709  2000-04-25         1  \n",
       "1000153   0 days 00:00:00      20709  2000-04-25         2  \n",
       "1000192   0 days 00:00:00      20709  2000-04-25         3  \n",
       "1000007   0 days 00:00:23      20709  2000-04-25         4  \n",
       "999980    0 days 00:00:00      20709  2000-04-25         5  \n",
       "999967    0 days 00:00:00      20709  2000-04-25         6  \n",
       "999920    0 days 00:00:00      20709  2000-04-25         7  \n",
       "999868    0 days 00:01:19      20709  2000-04-25         8  \n",
       "999888    0 days 00:00:00      20709  2000-04-25         9  "
      ]
     },
     "execution_count": 46,
     "metadata": {},
     "output_type": "execute_result"
    }
   ],
   "source": [
    "train_dataset = SessionDataset(train)\n",
    "train_dataset.df.head(10)"
   ]
  },
  {
   "cell_type": "code",
   "execution_count": 47,
   "id": "4f4fe38e",
   "metadata": {},
   "outputs": [
    {
     "data": {
      "text/plain": [
       "array([    0,     1,     2, ..., 12157, 12158, 12159])"
      ]
     },
     "execution_count": 47,
     "metadata": {},
     "output_type": "execute_result"
    }
   ],
   "source": [
    "# sessionId to idx\n",
    "train_dataset.session_idx"
   ]
  },
  {
   "cell_type": "code",
   "execution_count": 48,
   "id": "836d3afb",
   "metadata": {},
   "outputs": [
    {
     "data": {
      "text/plain": [
       "SessionId\n",
       "1        34\n",
       "2        11\n",
       "3        73\n",
       "4        37\n",
       "5        18\n",
       "         ..\n",
       "20710    60\n",
       "20711    29\n",
       "20712     5\n",
       "20713    10\n",
       "20715    17\n",
       "Length: 12160, dtype: int64"
      ]
     },
     "execution_count": 48,
     "metadata": {},
     "output_type": "execute_result"
    }
   ],
   "source": [
    "# 이게 무슨 의미일까?\n",
    "# train_dataset.click_offsets\n",
    "train_dataset.df.groupby(\"SessionId\").size()"
   ]
  },
  {
   "cell_type": "code",
   "execution_count": 49,
   "id": "923a1103",
   "metadata": {},
   "outputs": [
    {
     "data": {
      "text/plain": [
       "SessionId\n",
       "2            45\n",
       "3           118\n",
       "4           155\n",
       "5           173\n",
       "6           255\n",
       "          ...  \n",
       "20710    559558\n",
       "20711    559587\n",
       "20712    559592\n",
       "20713    559602\n",
       "20715    559619\n",
       "Length: 12159, dtype: int64"
      ]
     },
     "execution_count": 49,
     "metadata": {},
     "output_type": "execute_result"
    }
   ],
   "source": [
    "# 1번 session에 2번 session을 더해서 점점 누적\n",
    "# 그래서 그게 무슨 의미가 있을까?\n",
    "train_dataset.df.groupby(\"SessionId\").size().cumsum()[1:]  # 심지어 2번 인덱스 부터 시작"
   ]
  },
  {
   "cell_type": "code",
   "execution_count": 50,
   "id": "49b12991",
   "metadata": {},
   "outputs": [
    {
     "data": {
      "text/plain": [
       "array([     0,     34,     45, ..., 559592, 559602, 559619], dtype=int32)"
      ]
     },
     "execution_count": 50,
     "metadata": {},
     "output_type": "execute_result"
    }
   ],
   "source": [
    "# 0 부터 시작하는 sessioid 발생건수의 누적합 배열이 생성된다.\n",
    "train_dataset.click_offsets"
   ]
  },
  {
   "cell_type": "markdown",
   "id": "6f1cd81e",
   "metadata": {},
   "source": [
    "__SessionDataLoader__"
   ]
  },
  {
   "cell_type": "code",
   "execution_count": 51,
   "id": "02aaac8e",
   "metadata": {},
   "outputs": [],
   "source": [
    "class SessionDataLoader:\n",
    "    \"\"\"Credit to yhs-968/pyGRU4REC.\"\"\"\n",
    "\n",
    "    def __init__(self, dataset: SessionDataset, batch_size=50):\n",
    "        self.dataset = dataset\n",
    "        self.batch_size = batch_size\n",
    "\n",
    "    def __iter__(self):\n",
    "        \"\"\" Returns the iterator for producing session-parallel training mini-batches.\n",
    "        Yields:\n",
    "            input (B,):  Item indices that will be encoded as one-hot vectors later.\n",
    "            target (B,): a Variable that stores the target item indices\n",
    "            masks: Numpy array indicating the positions of the sessions to be terminated\n",
    "        \"\"\"\n",
    "\n",
    "        start, end, mask, last_session, finished = self.initialize()  # initialize 메소드에서 확인해주세요.\n",
    "        \"\"\"\n",
    "        start : Index Where Session Start\n",
    "        end : Index Where Session End\n",
    "        mask : indicator for the sessions to be terminated\n",
    "        \"\"\"\n",
    "\n",
    "        while not finished:\n",
    "            min_len = (end - start).min() - 1  # Shortest Length Among Sessions\n",
    "            for i in range(min_len):\n",
    "                # Build inputs & targets\n",
    "                inp = self.dataset.df['item_idx'].values[start + i]\n",
    "                target = self.dataset.df['item_idx'].values[start + i + 1]\n",
    "                yield inp, target, mask\n",
    "\n",
    "            start, end, mask, last_session, finished = self.update_status(start, end, min_len, last_session, finished)\n",
    "\n",
    "    def initialize(self):\n",
    "        first_iters = np.arange(self.batch_size)    # 첫 배치에 사용할 세션 Index를 가져옵니다.\n",
    "        last_session = self.batch_size - 1    # 마지막으로 다루고 있는 세션 Index를 저장해둡니다.\n",
    "        start = self.dataset.click_offsets[self.dataset.session_idx[first_iters]]       # data 상에서 session이 시작된 위치를 가져옵니다.\n",
    "        end = self.dataset.click_offsets[self.dataset.session_idx[first_iters] + 1]  # session이 끝난 위치 바로 다음 위치를 가져옵니다.\n",
    "        mask = np.array([])   # session의 모든 아이템을 다 돌은 경우 mask에 추가해줄 것입니다.\n",
    "        finished = False         # data를 전부 돌았는지 기록하기 위한 변수입니다.\n",
    "        return start, end, mask, last_session, finished\n",
    "\n",
    "    def update_status(self, start: np.ndarray, end: np.ndarray, min_len: int, last_session: int, finished: bool):  \n",
    "        # 다음 배치 데이터를 생성하기 위해 상태를 update합니다.\n",
    "        \n",
    "        start += min_len   # __iter__에서 min_len 만큼 for문을 돌았으므로 start를 min_len 만큼 더해줍니다.\n",
    "        mask = np.arange(self.batch_size)[(end - start) == 1]  \n",
    "        # end는 다음 세션이 시작되는 위치인데 start와 한 칸 차이난다는 것은 session이 끝났다는 뜻입니다. mask에 기록해줍니다.\n",
    "\n",
    "        for i, idx in enumerate(mask, start=1):  # mask에 추가된 세션 개수만큼 새로운 세션을 돌것입니다.\n",
    "            new_session = last_session + i  \n",
    "            if new_session > self.dataset.session_idx[-1]:  # 만약 새로운 세션이 마지막 세션 index보다 크다면 모든 학습데이터를 돈 것입니다.\n",
    "                finished = True\n",
    "                break\n",
    "            # update the next starting/ending point\n",
    "            start[idx] = self.dataset.click_offsets[self.dataset.session_idx[new_session]]     # 종료된 세션 대신 새로운 세션의 시작점을 기록합니다.\n",
    "            end[idx] = self.dataset.click_offsets[self.dataset.session_idx[new_session] + 1]\n",
    "\n",
    "        last_session += len(mask)  # 마지막 세션의 위치를 기록해둡니다.\n",
    "        return start, end, mask, last_session, finished"
   ]
  },
  {
   "cell_type": "code",
   "execution_count": 52,
   "id": "6a2e2e67",
   "metadata": {},
   "outputs": [
    {
     "data": {
      "text/html": [
       "<div>\n",
       "<style scoped>\n",
       "    .dataframe tbody tr th:only-of-type {\n",
       "        vertical-align: middle;\n",
       "    }\n",
       "\n",
       "    .dataframe tbody tr th {\n",
       "        vertical-align: top;\n",
       "    }\n",
       "\n",
       "    .dataframe thead th {\n",
       "        text-align: right;\n",
       "    }\n",
       "</style>\n",
       "<table border=\"1\" class=\"dataframe\">\n",
       "  <thead>\n",
       "    <tr style=\"text-align: right;\">\n",
       "      <th></th>\n",
       "      <th>UserId</th>\n",
       "      <th>ItemId</th>\n",
       "      <th>Rating</th>\n",
       "      <th>Timestamp</th>\n",
       "      <th>Time</th>\n",
       "      <th>iddiff</th>\n",
       "      <th>timediff</th>\n",
       "      <th>SessionId</th>\n",
       "      <th>date</th>\n",
       "      <th>item_idx</th>\n",
       "    </tr>\n",
       "  </thead>\n",
       "  <tbody>\n",
       "    <tr>\n",
       "      <th>1000138</th>\n",
       "      <td>6040</td>\n",
       "      <td>858</td>\n",
       "      <td>4</td>\n",
       "      <td>956703932</td>\n",
       "      <td>2000-04-25 23:05:32</td>\n",
       "      <td>1.0</td>\n",
       "      <td>-1 days +08:58:23</td>\n",
       "      <td>20709</td>\n",
       "      <td>2000-04-25</td>\n",
       "      <td>0</td>\n",
       "    </tr>\n",
       "    <tr>\n",
       "      <th>999873</th>\n",
       "      <td>6040</td>\n",
       "      <td>593</td>\n",
       "      <td>5</td>\n",
       "      <td>956703954</td>\n",
       "      <td>2000-04-25 23:05:54</td>\n",
       "      <td>0.0</td>\n",
       "      <td>0 days 00:00:22</td>\n",
       "      <td>20709</td>\n",
       "      <td>2000-04-25</td>\n",
       "      <td>1</td>\n",
       "    </tr>\n",
       "    <tr>\n",
       "      <th>1000153</th>\n",
       "      <td>6040</td>\n",
       "      <td>2384</td>\n",
       "      <td>4</td>\n",
       "      <td>956703954</td>\n",
       "      <td>2000-04-25 23:05:54</td>\n",
       "      <td>0.0</td>\n",
       "      <td>0 days 00:00:00</td>\n",
       "      <td>20709</td>\n",
       "      <td>2000-04-25</td>\n",
       "      <td>2</td>\n",
       "    </tr>\n",
       "    <tr>\n",
       "      <th>1000192</th>\n",
       "      <td>6040</td>\n",
       "      <td>2019</td>\n",
       "      <td>5</td>\n",
       "      <td>956703977</td>\n",
       "      <td>2000-04-25 23:06:17</td>\n",
       "      <td>0.0</td>\n",
       "      <td>0 days 00:00:00</td>\n",
       "      <td>20709</td>\n",
       "      <td>2000-04-25</td>\n",
       "      <td>3</td>\n",
       "    </tr>\n",
       "    <tr>\n",
       "      <th>1000007</th>\n",
       "      <td>6040</td>\n",
       "      <td>1961</td>\n",
       "      <td>4</td>\n",
       "      <td>956703977</td>\n",
       "      <td>2000-04-25 23:06:17</td>\n",
       "      <td>0.0</td>\n",
       "      <td>0 days 00:00:23</td>\n",
       "      <td>20709</td>\n",
       "      <td>2000-04-25</td>\n",
       "      <td>4</td>\n",
       "    </tr>\n",
       "    <tr>\n",
       "      <th>999980</th>\n",
       "      <td>6040</td>\n",
       "      <td>3505</td>\n",
       "      <td>4</td>\n",
       "      <td>956704056</td>\n",
       "      <td>2000-04-25 23:07:36</td>\n",
       "      <td>0.0</td>\n",
       "      <td>0 days 00:00:00</td>\n",
       "      <td>20709</td>\n",
       "      <td>2000-04-25</td>\n",
       "      <td>5</td>\n",
       "    </tr>\n",
       "    <tr>\n",
       "      <th>999967</th>\n",
       "      <td>6040</td>\n",
       "      <td>3111</td>\n",
       "      <td>5</td>\n",
       "      <td>956704056</td>\n",
       "      <td>2000-04-25 23:07:36</td>\n",
       "      <td>0.0</td>\n",
       "      <td>0 days 00:00:00</td>\n",
       "      <td>20709</td>\n",
       "      <td>2000-04-25</td>\n",
       "      <td>6</td>\n",
       "    </tr>\n",
       "    <tr>\n",
       "      <th>999920</th>\n",
       "      <td>6040</td>\n",
       "      <td>213</td>\n",
       "      <td>5</td>\n",
       "      <td>956704056</td>\n",
       "      <td>2000-04-25 23:07:36</td>\n",
       "      <td>0.0</td>\n",
       "      <td>0 days 00:00:00</td>\n",
       "      <td>20709</td>\n",
       "      <td>2000-04-25</td>\n",
       "      <td>7</td>\n",
       "    </tr>\n",
       "    <tr>\n",
       "      <th>999868</th>\n",
       "      <td>6040</td>\n",
       "      <td>573</td>\n",
       "      <td>4</td>\n",
       "      <td>956704056</td>\n",
       "      <td>2000-04-25 23:07:36</td>\n",
       "      <td>0.0</td>\n",
       "      <td>0 days 00:01:19</td>\n",
       "      <td>20709</td>\n",
       "      <td>2000-04-25</td>\n",
       "      <td>8</td>\n",
       "    </tr>\n",
       "    <tr>\n",
       "      <th>999888</th>\n",
       "      <td>6040</td>\n",
       "      <td>919</td>\n",
       "      <td>5</td>\n",
       "      <td>956704191</td>\n",
       "      <td>2000-04-25 23:09:51</td>\n",
       "      <td>0.0</td>\n",
       "      <td>0 days 00:00:00</td>\n",
       "      <td>20709</td>\n",
       "      <td>2000-04-25</td>\n",
       "      <td>9</td>\n",
       "    </tr>\n",
       "    <tr>\n",
       "      <th>999971</th>\n",
       "      <td>6040</td>\n",
       "      <td>2503</td>\n",
       "      <td>5</td>\n",
       "      <td>956704191</td>\n",
       "      <td>2000-04-25 23:09:51</td>\n",
       "      <td>0.0</td>\n",
       "      <td>0 days 00:00:00</td>\n",
       "      <td>20709</td>\n",
       "      <td>2000-04-25</td>\n",
       "      <td>10</td>\n",
       "    </tr>\n",
       "    <tr>\n",
       "      <th>999884</th>\n",
       "      <td>6040</td>\n",
       "      <td>912</td>\n",
       "      <td>5</td>\n",
       "      <td>956704191</td>\n",
       "      <td>2000-04-25 23:09:51</td>\n",
       "      <td>0.0</td>\n",
       "      <td>0 days 00:01:50</td>\n",
       "      <td>20709</td>\n",
       "      <td>2000-04-25</td>\n",
       "      <td>11</td>\n",
       "    </tr>\n",
       "    <tr>\n",
       "      <th>1000186</th>\n",
       "      <td>6040</td>\n",
       "      <td>527</td>\n",
       "      <td>5</td>\n",
       "      <td>956704219</td>\n",
       "      <td>2000-04-25 23:10:19</td>\n",
       "      <td>0.0</td>\n",
       "      <td>0 days 00:00:28</td>\n",
       "      <td>20709</td>\n",
       "      <td>2000-04-25</td>\n",
       "      <td>12</td>\n",
       "    </tr>\n",
       "    <tr>\n",
       "      <th>999953</th>\n",
       "      <td>6040</td>\n",
       "      <td>649</td>\n",
       "      <td>5</td>\n",
       "      <td>956704257</td>\n",
       "      <td>2000-04-25 23:10:57</td>\n",
       "      <td>0.0</td>\n",
       "      <td>0 days 00:00:38</td>\n",
       "      <td>20709</td>\n",
       "      <td>2000-04-25</td>\n",
       "      <td>13</td>\n",
       "    </tr>\n",
       "    <tr>\n",
       "      <th>999991</th>\n",
       "      <td>6040</td>\n",
       "      <td>318</td>\n",
       "      <td>4</td>\n",
       "      <td>956704257</td>\n",
       "      <td>2000-04-25 23:10:57</td>\n",
       "      <td>0.0</td>\n",
       "      <td>0 days 00:00:00</td>\n",
       "      <td>20709</td>\n",
       "      <td>2000-04-25</td>\n",
       "      <td>14</td>\n",
       "    </tr>\n",
       "  </tbody>\n",
       "</table>\n",
       "</div>"
      ],
      "text/plain": [
       "         UserId  ItemId  Rating  Timestamp                Time  iddiff  \\\n",
       "1000138    6040     858       4  956703932 2000-04-25 23:05:32     1.0   \n",
       "999873     6040     593       5  956703954 2000-04-25 23:05:54     0.0   \n",
       "1000153    6040    2384       4  956703954 2000-04-25 23:05:54     0.0   \n",
       "1000192    6040    2019       5  956703977 2000-04-25 23:06:17     0.0   \n",
       "1000007    6040    1961       4  956703977 2000-04-25 23:06:17     0.0   \n",
       "999980     6040    3505       4  956704056 2000-04-25 23:07:36     0.0   \n",
       "999967     6040    3111       5  956704056 2000-04-25 23:07:36     0.0   \n",
       "999920     6040     213       5  956704056 2000-04-25 23:07:36     0.0   \n",
       "999868     6040     573       4  956704056 2000-04-25 23:07:36     0.0   \n",
       "999888     6040     919       5  956704191 2000-04-25 23:09:51     0.0   \n",
       "999971     6040    2503       5  956704191 2000-04-25 23:09:51     0.0   \n",
       "999884     6040     912       5  956704191 2000-04-25 23:09:51     0.0   \n",
       "1000186    6040     527       5  956704219 2000-04-25 23:10:19     0.0   \n",
       "999953     6040     649       5  956704257 2000-04-25 23:10:57     0.0   \n",
       "999991     6040     318       4  956704257 2000-04-25 23:10:57     0.0   \n",
       "\n",
       "                 timediff  SessionId        date  item_idx  \n",
       "1000138 -1 days +08:58:23      20709  2000-04-25         0  \n",
       "999873    0 days 00:00:22      20709  2000-04-25         1  \n",
       "1000153   0 days 00:00:00      20709  2000-04-25         2  \n",
       "1000192   0 days 00:00:00      20709  2000-04-25         3  \n",
       "1000007   0 days 00:00:23      20709  2000-04-25         4  \n",
       "999980    0 days 00:00:00      20709  2000-04-25         5  \n",
       "999967    0 days 00:00:00      20709  2000-04-25         6  \n",
       "999920    0 days 00:00:00      20709  2000-04-25         7  \n",
       "999868    0 days 00:01:19      20709  2000-04-25         8  \n",
       "999888    0 days 00:00:00      20709  2000-04-25         9  \n",
       "999971    0 days 00:00:00      20709  2000-04-25        10  \n",
       "999884    0 days 00:01:50      20709  2000-04-25        11  \n",
       "1000186   0 days 00:00:28      20709  2000-04-25        12  \n",
       "999953    0 days 00:00:38      20709  2000-04-25        13  \n",
       "999991    0 days 00:00:00      20709  2000-04-25        14  "
      ]
     },
     "execution_count": 52,
     "metadata": {},
     "output_type": "execute_result"
    }
   ],
   "source": [
    "train_data_loader = SessionDataLoader(train_dataset, batch_size=4)\n",
    "train_dataset.df.head(15)"
   ]
  },
  {
   "cell_type": "code",
   "execution_count": 53,
   "id": "984342fe",
   "metadata": {},
   "outputs": [],
   "source": [
    "iter_ex = iter(train_data_loader)"
   ]
  },
  {
   "cell_type": "code",
   "execution_count": 54,
   "id": "ccd1fa00",
   "metadata": {},
   "outputs": [
    {
     "name": "stdout",
     "output_type": "stream",
     "text": [
      "Model Input Item Idx are : [  0  34  45 116]\n",
      "Label Item Idx are :       [  1  35  46 117]\n",
      "Previous Masked Input Idx are []\n"
     ]
    }
   ],
   "source": [
    "inputs, labels, mask =  next(iter_ex)\n",
    "print(f'Model Input Item Idx are : {inputs}')\n",
    "print(f'Label Item Idx are : {\"\":5} {labels}')\n",
    "print(f'Previous Masked Input Idx are {mask}')"
   ]
  },
  {
   "cell_type": "markdown",
   "id": "6c8a948b",
   "metadata": {},
   "source": [
    "### Step 3. 모델 구성\n",
    "\n",
    "------------------------------------\n",
    "\n",
    "이 부분도 실습 코드 내역을 참고하여 다양하게 모델 구조를 시도해 볼 수 있습니다."
   ]
  },
  {
   "cell_type": "markdown",
   "id": "4fcd2ef9",
   "metadata": {},
   "source": [
    "__Evaluation Metric__"
   ]
  },
  {
   "cell_type": "code",
   "execution_count": 55,
   "id": "24191566",
   "metadata": {},
   "outputs": [],
   "source": [
    "def mrr_k(pred, truth: int, k: int):\n",
    "    indexing = np.where(pred[:k] == truth)[0]\n",
    "    if len(indexing) > 0:\n",
    "        return 1 / (indexing[0] + 1)\n",
    "    else:\n",
    "        return 0\n",
    "\n",
    "\n",
    "def recall_k(pred, truth: int, k: int) -> int:\n",
    "    answer = truth in pred[:k]\n",
    "    return int(answer)"
   ]
  },
  {
   "cell_type": "markdown",
   "id": "ecc742eb",
   "metadata": {},
   "source": [
    "__Model Architecture__"
   ]
  },
  {
   "cell_type": "code",
   "execution_count": 56,
   "id": "8e5837bd",
   "metadata": {},
   "outputs": [],
   "source": [
    "import numpy as np\n",
    "import tensorflow as tf\n",
    "from tensorflow.keras.layers import Input, Dense, Dropout, GRU\n",
    "from tensorflow.keras.losses import categorical_crossentropy\n",
    "from tensorflow.keras.models import Model\n",
    "from tensorflow.keras.optimizers import Adam\n",
    "from tensorflow.keras.utils import to_categorical\n",
    "from tqdm import tqdm"
   ]
  },
  {
   "cell_type": "code",
   "execution_count": 57,
   "id": "4935607a",
   "metadata": {},
   "outputs": [],
   "source": [
    "def create_model(args):\n",
    "    inputs = Input(batch_shape=(args.batch_size, 1, args.num_items))\n",
    "    gru, _ = GRU(args.hsz, stateful=True, return_state=True, name='GRU')(inputs)\n",
    "    dropout = Dropout(args.drop_rate)(gru)\n",
    "    predictions = Dense(args.num_items, activation='softmax')(dropout)\n",
    "    model = Model(inputs=inputs, outputs=[predictions])\n",
    "    model.compile(loss=categorical_crossentropy, optimizer=Adam(args.lr), metrics=['accuracy'])\n",
    "    model.summary()\n",
    "    return model"
   ]
  },
  {
   "cell_type": "code",
   "execution_count": 59,
   "id": "8995c755",
   "metadata": {},
   "outputs": [],
   "source": [
    "# 모델에 사용할 hyper-parameter를 class형식으로 관리하겠습니다.\n",
    "\n",
    "class Args:\n",
    "    def __init__(self, tr, val, test, batch_size, hsz, drop_rate, lr, epochs, k):\n",
    "        self.tr = tr\n",
    "        self.val = val\n",
    "        self.test = test\n",
    "        self.num_items = tr['ItemId'].nunique()\n",
    "        self.num_sessions = tr['SessionId'].nunique()\n",
    "        self.batch_size = batch_size\n",
    "        self.hsz = hsz\n",
    "        self.drop_rate = drop_rate\n",
    "        self.lr = lr\n",
    "        self.epochs = epochs\n",
    "        self.k = k\n",
    "\n",
    "args = Args(train, val, test, batch_size=128, hsz=50, drop_rate=0.1, lr=0.001, epochs=10, k=20)"
   ]
  },
  {
   "cell_type": "code",
   "execution_count": 60,
   "id": "c471b2b4",
   "metadata": {},
   "outputs": [
    {
     "name": "stdout",
     "output_type": "stream",
     "text": [
      "Model: \"model\"\n",
      "_________________________________________________________________\n",
      "Layer (type)                 Output Shape              Param #   \n",
      "=================================================================\n",
      "input_1 (InputLayer)         [(128, 1, 3119)]          0         \n",
      "_________________________________________________________________\n",
      "GRU (GRU)                    [(128, 50), (128, 50)]    475650    \n",
      "_________________________________________________________________\n",
      "dropout (Dropout)            (128, 50)                 0         \n",
      "_________________________________________________________________\n",
      "dense (Dense)                (128, 3119)               159069    \n",
      "=================================================================\n",
      "Total params: 634,719\n",
      "Trainable params: 634,719\n",
      "Non-trainable params: 0\n",
      "_________________________________________________________________\n"
     ]
    }
   ],
   "source": [
    "model = create_model(args)"
   ]
  },
  {
   "cell_type": "markdown",
   "id": "b7e7da7c",
   "metadata": {},
   "source": [
    "### Step 4. 모델 학습\n",
    "\n",
    "-----------------------------\n",
    "\n",
    "다양한 하이퍼파라미터를 변경해 보며 검증해 보도록 합니다. 실습 코드에 언급되었던 Recall, MRR 등의 개념들도 함께 관리될 수 있도록 합니다."
   ]
  },
  {
   "cell_type": "code",
   "execution_count": 61,
   "id": "71bfb2a9",
   "metadata": {},
   "outputs": [],
   "source": [
    "# train 셋으로 학습하면서 valid 셋으로 검증합니다.\n",
    "def train_model(model, args):\n",
    "    train_dataset = SessionDataset(args.tr)\n",
    "    train_loader = SessionDataLoader(train_dataset, batch_size=args.batch_size)\n",
    "\n",
    "    for epoch in range(1, args.epochs + 1):\n",
    "        total_step = len(args.tr) - args.tr['SessionId'].nunique()\n",
    "        tr_loader = tqdm(train_loader, total=total_step // args.batch_size, desc='Train', mininterval=1)\n",
    "        for feat, target, mask in tr_loader:\n",
    "            reset_hidden_states(model, mask)  # 종료된 session은 hidden_state를 초기화합니다. 아래 메서드에서 확인해주세요.\n",
    "\n",
    "            input_ohe = to_categorical(feat, num_classes=args.num_items)\n",
    "            input_ohe = np.expand_dims(input_ohe, axis=1)\n",
    "            target_ohe = to_categorical(target, num_classes=args.num_items)\n",
    "\n",
    "            result = model.train_on_batch(input_ohe, target_ohe)\n",
    "            tr_loader.set_postfix(train_loss=result[0], accuracy = result[1])\n",
    "\n",
    "        val_recall, val_mrr = get_metrics(args.val, model, args, args.k)  # valid set에 대해 검증합니다.\n",
    "\n",
    "        print(f\"\\t - Recall@{args.k} epoch {epoch}: {val_recall:3f}\")\n",
    "        print(f\"\\t - MRR@{args.k}    epoch {epoch}: {val_mrr:3f}\\n\")\n",
    "\n",
    "\n",
    "def reset_hidden_states(model, mask):\n",
    "    gru_layer = model.get_layer(name='GRU')  # model에서 gru layer를 가져옵니다.\n",
    "    hidden_states = gru_layer.states[0].numpy()  # gru_layer의 parameter를 가져옵니다.\n",
    "    for elt in mask:  # mask된 인덱스 즉, 종료된 세션의 인덱스를 돌면서\n",
    "        hidden_states[elt, :] = 0  # parameter를 초기화 합니다.\n",
    "    gru_layer.reset_states(states=hidden_states)\n",
    "\n",
    "\n",
    "def get_metrics(data, model, args, k: int):  # valid셋과 test셋을 평가하는 코드입니다. \n",
    "                                             # train과 거의 같지만 mrr, recall을 구하는 라인이 있습니다.\n",
    "    dataset = SessionDataset(data)\n",
    "    loader = SessionDataLoader(dataset, batch_size=args.batch_size)\n",
    "    recall_list, mrr_list = [], []\n",
    "\n",
    "    total_step = len(data) - data['SessionId'].nunique()\n",
    "    for inputs, label, mask in tqdm(loader, total=total_step // args.batch_size, desc='Evaluation', mininterval=1):\n",
    "        reset_hidden_states(model, mask)\n",
    "        input_ohe = to_categorical(inputs, num_classes=args.num_items)\n",
    "        input_ohe = np.expand_dims(input_ohe, axis=1)\n",
    "\n",
    "        pred = model.predict(input_ohe, batch_size=args.batch_size)\n",
    "        pred_arg = tf.argsort(pred, direction='DESCENDING')  # softmax 값이 큰 순서대로 sorting 합니다.\n",
    "\n",
    "        length = len(inputs)\n",
    "        recall_list.extend([recall_k(pred_arg[i], label[i], k) for i in range(length)])\n",
    "        mrr_list.extend([mrr_k(pred_arg[i], label[i], k) for i in range(length)])\n",
    "\n",
    "    recall, mrr = np.mean(recall_list), np.mean(mrr_list)\n",
    "    return recall, mrr"
   ]
  },
  {
   "cell_type": "markdown",
   "id": "7a0fd080",
   "metadata": {},
   "source": [
    "__model_1__  \n",
    "\n",
    "train, val, test, batch_size=256, hsz=50, drop_rate=0.1, lr=0.001, epochs=10, k=20"
   ]
  },
  {
   "cell_type": "code",
   "execution_count": 62,
   "id": "e3301c43",
   "metadata": {},
   "outputs": [
    {
     "name": "stderr",
     "output_type": "stream",
     "text": [
      "Train:  98%|█████████▊| 4212/4277 [01:08<00:01, 61.78it/s, accuracy=0, train_loss=7.09]      \n",
      "Evaluation:  48%|████▊     | 19/40 [00:12<00:14,  1.49it/s]\n"
     ]
    },
    {
     "name": "stdout",
     "output_type": "stream",
     "text": [
      "\t - Recall@20 epoch 1: 0.068668\n",
      "\t - MRR@20    epoch 1: 0.016164\n",
      "\n"
     ]
    },
    {
     "name": "stderr",
     "output_type": "stream",
     "text": [
      "Train:  98%|█████████▊| 4212/4277 [01:01<00:00, 68.20it/s, accuracy=0.00781, train_loss=6.83]\n",
      "Evaluation:  48%|████▊     | 19/40 [00:12<00:13,  1.51it/s]\n"
     ]
    },
    {
     "name": "stdout",
     "output_type": "stream",
     "text": [
      "\t - Recall@20 epoch 2: 0.104852\n",
      "\t - MRR@20    epoch 2: 0.021992\n",
      "\n"
     ]
    },
    {
     "name": "stderr",
     "output_type": "stream",
     "text": [
      "Train:  98%|█████████▊| 4212/4277 [01:01<00:00, 68.23it/s, accuracy=0.0312, train_loss=6.7]  \n",
      "Evaluation:  48%|████▊     | 19/40 [00:12<00:14,  1.50it/s]\n"
     ]
    },
    {
     "name": "stdout",
     "output_type": "stream",
     "text": [
      "\t - Recall@20 epoch 3: 0.118832\n",
      "\t - MRR@20    epoch 3: 0.025553\n",
      "\n"
     ]
    },
    {
     "name": "stderr",
     "output_type": "stream",
     "text": [
      "Train:  98%|█████████▊| 4212/4277 [01:02<00:00, 66.99it/s, accuracy=0.0312, train_loss=6.63] \n",
      "Evaluation:  48%|████▊     | 19/40 [00:12<00:13,  1.52it/s]\n"
     ]
    },
    {
     "name": "stdout",
     "output_type": "stream",
     "text": [
      "\t - Recall@20 epoch 4: 0.127878\n",
      "\t - MRR@20    epoch 4: 0.027993\n",
      "\n"
     ]
    },
    {
     "name": "stderr",
     "output_type": "stream",
     "text": [
      "Train:  98%|█████████▊| 4212/4277 [01:01<00:00, 68.82it/s, accuracy=0.0156, train_loss=6.55] \n",
      "Evaluation:  48%|████▊     | 19/40 [00:12<00:13,  1.56it/s]\n"
     ]
    },
    {
     "name": "stdout",
     "output_type": "stream",
     "text": [
      "\t - Recall@20 epoch 5: 0.131168\n",
      "\t - MRR@20    epoch 5: 0.029833\n",
      "\n"
     ]
    },
    {
     "name": "stderr",
     "output_type": "stream",
     "text": [
      "Train:  98%|█████████▊| 4212/4277 [01:01<00:00, 68.73it/s, accuracy=0.0391, train_loss=6.51] \n",
      "Evaluation:  48%|████▊     | 19/40 [00:12<00:13,  1.56it/s]\n"
     ]
    },
    {
     "name": "stdout",
     "output_type": "stream",
     "text": [
      "\t - Recall@20 epoch 6: 0.129523\n",
      "\t - MRR@20    epoch 6: 0.031214\n",
      "\n"
     ]
    },
    {
     "name": "stderr",
     "output_type": "stream",
     "text": [
      "Train:  98%|█████████▊| 4212/4277 [01:01<00:00, 68.82it/s, accuracy=0.0234, train_loss=6.53] \n",
      "Evaluation:  48%|████▊     | 19/40 [00:12<00:13,  1.58it/s]\n"
     ]
    },
    {
     "name": "stdout",
     "output_type": "stream",
     "text": [
      "\t - Recall@20 epoch 7: 0.130345\n",
      "\t - MRR@20    epoch 7: 0.031072\n",
      "\n"
     ]
    },
    {
     "name": "stderr",
     "output_type": "stream",
     "text": [
      "Train:  98%|█████████▊| 4212/4277 [01:01<00:00, 68.86it/s, accuracy=0.0156, train_loss=6.42] \n",
      "Evaluation:  48%|████▊     | 19/40 [00:12<00:13,  1.57it/s]\n"
     ]
    },
    {
     "name": "stdout",
     "output_type": "stream",
     "text": [
      "\t - Recall@20 epoch 8: 0.129112\n",
      "\t - MRR@20    epoch 8: 0.030762\n",
      "\n"
     ]
    },
    {
     "name": "stderr",
     "output_type": "stream",
     "text": [
      "Train:  98%|█████████▊| 4212/4277 [01:00<00:00, 69.14it/s, accuracy=0.0234, train_loss=6.43] \n",
      "Evaluation:  48%|████▊     | 19/40 [00:12<00:13,  1.55it/s]\n"
     ]
    },
    {
     "name": "stdout",
     "output_type": "stream",
     "text": [
      "\t - Recall@20 epoch 9: 0.128289\n",
      "\t - MRR@20    epoch 9: 0.030775\n",
      "\n"
     ]
    },
    {
     "name": "stderr",
     "output_type": "stream",
     "text": [
      "Train:  98%|█████████▊| 4212/4277 [01:00<00:00, 69.12it/s, accuracy=0.0391, train_loss=6.4]  \n",
      "Evaluation:  48%|████▊     | 19/40 [00:11<00:13,  1.58it/s]"
     ]
    },
    {
     "name": "stdout",
     "output_type": "stream",
     "text": [
      "\t - Recall@20 epoch 10: 0.128289\n",
      "\t - MRR@20    epoch 10: 0.031379\n",
      "\n"
     ]
    },
    {
     "name": "stderr",
     "output_type": "stream",
     "text": [
      "\n"
     ]
    }
   ],
   "source": [
    "# 학습 시간이 다소 오래 소요됩니다. 아래 주석을 풀지 마세요.\n",
    "train_model(model, args)"
   ]
  },
  {
   "cell_type": "markdown",
   "id": "d338ec4b",
   "metadata": {},
   "source": [
    "> val 인덱싱에서 문제가 있었는데 날짜를 늘리니까 갑자기 됐다.\n",
    "아무래도 길이가 너무 짧아서 문제가 있었던거 같다. "
   ]
  },
  {
   "cell_type": "markdown",
   "id": "2cc17954",
   "metadata": {},
   "source": [
    "### Step 5. 모델 테스트\n",
    "\n",
    "-------------------------\n",
    "\n",
    "미리 구성한 테스트셋을 바탕으로 Recall, MRR 을 확인해 봅니다."
   ]
  },
  {
   "cell_type": "code",
   "execution_count": 63,
   "id": "97654a1c",
   "metadata": {},
   "outputs": [],
   "source": [
    "def test_model(model, args, test):\n",
    "    test_recall, test_mrr = get_metrics(test, model, args, 20)\n",
    "    print(f\"\\t - Recall@{args.k}: {test_recall:3f}\")\n",
    "    print(f\"\\t - MRR@{args.k}: {test_mrr:3f}\\n\")"
   ]
  },
  {
   "cell_type": "code",
   "execution_count": 64,
   "id": "bb602492",
   "metadata": {
    "scrolled": true
   },
   "outputs": [
    {
     "name": "stderr",
     "output_type": "stream",
     "text": [
      "Evaluation:  40%|████      | 12/30 [00:07<00:11,  1.57it/s]"
     ]
    },
    {
     "name": "stdout",
     "output_type": "stream",
     "text": [
      "\t - Recall@20: 0.145833\n",
      "\t - MRR@20: 0.034613\n",
      "\n"
     ]
    },
    {
     "name": "stderr",
     "output_type": "stream",
     "text": [
      "\n"
     ]
    }
   ],
   "source": [
    "test_model(model, args, test)"
   ]
  },
  {
   "cell_type": "markdown",
   "id": "5c5757be",
   "metadata": {},
   "source": [
    "### Step 6. 하이퍼 파라미터 수정"
   ]
  },
  {
   "cell_type": "markdown",
   "id": "385b44d4",
   "metadata": {},
   "source": [
    "__model_2__\n",
    "\n",
    "train, val, test, batch_size=256, hsz=100, drop_rate=0.1, lr=0.001, epochs=10, k=20"
   ]
  },
  {
   "cell_type": "code",
   "execution_count": 65,
   "id": "70de2270",
   "metadata": {
    "scrolled": false
   },
   "outputs": [
    {
     "name": "stdout",
     "output_type": "stream",
     "text": [
      "Model: \"model_1\"\n",
      "_________________________________________________________________\n",
      "Layer (type)                 Output Shape              Param #   \n",
      "=================================================================\n",
      "input_2 (InputLayer)         [(128, 1, 3119)]          0         \n",
      "_________________________________________________________________\n",
      "GRU (GRU)                    [(128, 100), (128, 100)]  966300    \n",
      "_________________________________________________________________\n",
      "dropout_1 (Dropout)          (128, 100)                0         \n",
      "_________________________________________________________________\n",
      "dense_1 (Dense)              (128, 3119)               315019    \n",
      "=================================================================\n",
      "Total params: 1,281,319\n",
      "Trainable params: 1,281,319\n",
      "Non-trainable params: 0\n",
      "_________________________________________________________________\n"
     ]
    },
    {
     "name": "stderr",
     "output_type": "stream",
     "text": [
      "Train:  98%|█████████▊| 4212/4277 [01:05<00:01, 64.15it/s, accuracy=0.0156, train_loss=6.9]  \n",
      "Evaluation:  48%|████▊     | 19/40 [00:22<00:24,  1.17s/it]\n"
     ]
    },
    {
     "name": "stdout",
     "output_type": "stream",
     "text": [
      "\t - Recall@40 epoch 1: 0.136924\n",
      "\t - MRR@40    epoch 1: 0.023085\n",
      "\n"
     ]
    },
    {
     "name": "stderr",
     "output_type": "stream",
     "text": [
      "Train:  98%|█████████▊| 4212/4277 [01:03<00:00, 65.82it/s, accuracy=0.0469, train_loss=6.62] \n",
      "Evaluation:  48%|████▊     | 19/40 [00:21<00:23,  1.13s/it]\n"
     ]
    },
    {
     "name": "stdout",
     "output_type": "stream",
     "text": [
      "\t - Recall@40 epoch 2: 0.177220\n",
      "\t - MRR@40    epoch 2: 0.027966\n",
      "\n"
     ]
    },
    {
     "name": "stderr",
     "output_type": "stream",
     "text": [
      "Train:  98%|█████████▊| 4212/4277 [01:03<00:00, 65.87it/s, accuracy=0.0547, train_loss=6.54] \n",
      "Evaluation:  48%|████▊     | 19/40 [00:21<00:23,  1.12s/it]\n"
     ]
    },
    {
     "name": "stdout",
     "output_type": "stream",
     "text": [
      "\t - Recall@40 epoch 3: 0.188322\n",
      "\t - MRR@40    epoch 3: 0.032370\n",
      "\n"
     ]
    },
    {
     "name": "stderr",
     "output_type": "stream",
     "text": [
      "Train:  98%|█████████▊| 4212/4277 [01:03<00:00, 65.84it/s, accuracy=0.0703, train_loss=6.43] \n",
      "Evaluation:  48%|████▊     | 19/40 [00:21<00:23,  1.11s/it]\n"
     ]
    },
    {
     "name": "stdout",
     "output_type": "stream",
     "text": [
      "\t - Recall@40 epoch 4: 0.192434\n",
      "\t - MRR@40    epoch 4: 0.032770\n",
      "\n"
     ]
    },
    {
     "name": "stderr",
     "output_type": "stream",
     "text": [
      "Train:  98%|█████████▊| 4212/4277 [01:03<00:00, 66.30it/s, accuracy=0.0469, train_loss=6.35] \n",
      "Evaluation:  48%|████▊     | 19/40 [00:21<00:23,  1.12s/it]\n"
     ]
    },
    {
     "name": "stdout",
     "output_type": "stream",
     "text": [
      "\t - Recall@40 epoch 5: 0.197368\n",
      "\t - MRR@40    epoch 5: 0.033782\n",
      "\n"
     ]
    },
    {
     "name": "stderr",
     "output_type": "stream",
     "text": [
      "Train:  98%|█████████▊| 4212/4277 [01:03<00:00, 66.12it/s, accuracy=0.0391, train_loss=6.33] \n",
      "Evaluation:  48%|████▊     | 19/40 [00:21<00:23,  1.11s/it]\n"
     ]
    },
    {
     "name": "stdout",
     "output_type": "stream",
     "text": [
      "\t - Recall@40 epoch 6: 0.194079\n",
      "\t - MRR@40    epoch 6: 0.034737\n",
      "\n"
     ]
    },
    {
     "name": "stderr",
     "output_type": "stream",
     "text": [
      "Train:  98%|█████████▊| 4212/4277 [01:03<00:00, 65.88it/s, accuracy=0.0469, train_loss=6.23] \n",
      "Evaluation:  48%|████▊     | 19/40 [00:21<00:23,  1.12s/it]\n"
     ]
    },
    {
     "name": "stdout",
     "output_type": "stream",
     "text": [
      "\t - Recall@40 epoch 7: 0.194079\n",
      "\t - MRR@40    epoch 7: 0.034676\n",
      "\n"
     ]
    },
    {
     "name": "stderr",
     "output_type": "stream",
     "text": [
      "Train:  98%|█████████▊| 4212/4277 [01:03<00:00, 66.30it/s, accuracy=0.0469, train_loss=6.16] \n",
      "Evaluation:  48%|████▊     | 19/40 [00:21<00:23,  1.11s/it]\n"
     ]
    },
    {
     "name": "stdout",
     "output_type": "stream",
     "text": [
      "\t - Recall@40 epoch 8: 0.190378\n",
      "\t - MRR@40    epoch 8: 0.034163\n",
      "\n"
     ]
    },
    {
     "name": "stderr",
     "output_type": "stream",
     "text": [
      "Train:  98%|█████████▊| 4212/4277 [01:03<00:00, 66.21it/s, accuracy=0.0547, train_loss=6.15] \n",
      "Evaluation:  48%|████▊     | 19/40 [00:21<00:23,  1.12s/it]\n"
     ]
    },
    {
     "name": "stdout",
     "output_type": "stream",
     "text": [
      "\t - Recall@40 epoch 9: 0.187911\n",
      "\t - MRR@40    epoch 9: 0.033959\n",
      "\n"
     ]
    },
    {
     "name": "stderr",
     "output_type": "stream",
     "text": [
      "Train:  98%|█████████▊| 4212/4277 [01:03<00:00, 66.28it/s, accuracy=0.0625, train_loss=6.05] \n",
      "Evaluation:  48%|████▊     | 19/40 [00:21<00:23,  1.12s/it]\n"
     ]
    },
    {
     "name": "stdout",
     "output_type": "stream",
     "text": [
      "\t - Recall@40 epoch 10: 0.183388\n",
      "\t - MRR@40    epoch 10: 0.033477\n",
      "\n"
     ]
    },
    {
     "name": "stderr",
     "output_type": "stream",
     "text": [
      "Train:  98%|█████████▊| 4212/4277 [01:03<00:00, 66.01it/s, accuracy=0.0391, train_loss=6.09] \n",
      "Evaluation:  48%|████▊     | 19/40 [00:21<00:23,  1.11s/it]\n"
     ]
    },
    {
     "name": "stdout",
     "output_type": "stream",
     "text": [
      "\t - Recall@40 epoch 11: 0.180510\n",
      "\t - MRR@40    epoch 11: 0.032724\n",
      "\n"
     ]
    },
    {
     "name": "stderr",
     "output_type": "stream",
     "text": [
      "Train:  98%|█████████▊| 4212/4277 [01:03<00:00, 65.97it/s, accuracy=0.0547, train_loss=5.98] \n",
      "Evaluation:  48%|████▊     | 19/40 [00:21<00:23,  1.13s/it]\n"
     ]
    },
    {
     "name": "stdout",
     "output_type": "stream",
     "text": [
      "\t - Recall@40 epoch 12: 0.180099\n",
      "\t - MRR@40    epoch 12: 0.033591\n",
      "\n"
     ]
    },
    {
     "name": "stderr",
     "output_type": "stream",
     "text": [
      "Train:  98%|█████████▊| 4212/4277 [01:03<00:00, 66.05it/s, accuracy=0.0547, train_loss=5.9]  \n",
      "Evaluation:  48%|████▊     | 19/40 [00:21<00:23,  1.12s/it]\n"
     ]
    },
    {
     "name": "stdout",
     "output_type": "stream",
     "text": [
      "\t - Recall@40 epoch 13: 0.178865\n",
      "\t - MRR@40    epoch 13: 0.033475\n",
      "\n"
     ]
    },
    {
     "name": "stderr",
     "output_type": "stream",
     "text": [
      "Train:  98%|█████████▊| 4212/4277 [01:03<00:00, 66.05it/s, accuracy=0.0312, train_loss=5.9]  \n",
      "Evaluation:  48%|████▊     | 19/40 [00:21<00:23,  1.12s/it]\n"
     ]
    },
    {
     "name": "stdout",
     "output_type": "stream",
     "text": [
      "\t - Recall@40 epoch 14: 0.181743\n",
      "\t - MRR@40    epoch 14: 0.033884\n",
      "\n"
     ]
    },
    {
     "name": "stderr",
     "output_type": "stream",
     "text": [
      "Train:  98%|█████████▊| 4212/4277 [01:03<00:00, 66.19it/s, accuracy=0.0625, train_loss=5.84] \n",
      "Evaluation:  48%|████▊     | 19/40 [00:21<00:23,  1.12s/it]\n"
     ]
    },
    {
     "name": "stdout",
     "output_type": "stream",
     "text": [
      "\t - Recall@40 epoch 15: 0.182155\n",
      "\t - MRR@40    epoch 15: 0.032326\n",
      "\n"
     ]
    },
    {
     "name": "stderr",
     "output_type": "stream",
     "text": [
      "Train:  98%|█████████▊| 4212/4277 [01:03<00:00, 66.18it/s, accuracy=0.0625, train_loss=5.83] \n",
      "Evaluation:  48%|████▊     | 19/40 [00:21<00:23,  1.12s/it]\n"
     ]
    },
    {
     "name": "stdout",
     "output_type": "stream",
     "text": [
      "\t - Recall@40 epoch 16: 0.181332\n",
      "\t - MRR@40    epoch 16: 0.032873\n",
      "\n"
     ]
    },
    {
     "name": "stderr",
     "output_type": "stream",
     "text": [
      "Train:  98%|█████████▊| 4212/4277 [01:03<00:00, 66.46it/s, accuracy=0.0625, train_loss=5.84] \n",
      "Evaluation:  48%|████▊     | 19/40 [00:21<00:23,  1.14s/it]\n"
     ]
    },
    {
     "name": "stdout",
     "output_type": "stream",
     "text": [
      "\t - Recall@40 epoch 17: 0.180921\n",
      "\t - MRR@40    epoch 17: 0.031798\n",
      "\n"
     ]
    },
    {
     "name": "stderr",
     "output_type": "stream",
     "text": [
      "Train:  98%|█████████▊| 4212/4277 [01:05<00:01, 64.51it/s, accuracy=0.0781, train_loss=5.8]  \n",
      "Evaluation:  48%|████▊     | 19/40 [00:21<00:23,  1.12s/it]\n"
     ]
    },
    {
     "name": "stdout",
     "output_type": "stream",
     "text": [
      "\t - Recall@40 epoch 18: 0.183799\n",
      "\t - MRR@40    epoch 18: 0.031022\n",
      "\n"
     ]
    },
    {
     "name": "stderr",
     "output_type": "stream",
     "text": [
      "Train:  98%|█████████▊| 4212/4277 [01:04<00:00, 65.37it/s, accuracy=0.0859, train_loss=5.79] \n",
      "Evaluation:  48%|████▊     | 19/40 [00:21<00:23,  1.11s/it]\n"
     ]
    },
    {
     "name": "stdout",
     "output_type": "stream",
     "text": [
      "\t - Recall@40 epoch 19: 0.182977\n",
      "\t - MRR@40    epoch 19: 0.031641\n",
      "\n"
     ]
    },
    {
     "name": "stderr",
     "output_type": "stream",
     "text": [
      "Train:  98%|█████████▊| 4212/4277 [01:06<00:01, 63.59it/s, accuracy=0.0391, train_loss=5.75] \n",
      "Evaluation:  48%|████▊     | 19/40 [00:21<00:23,  1.12s/it]"
     ]
    },
    {
     "name": "stdout",
     "output_type": "stream",
     "text": [
      "\t - Recall@40 epoch 20: 0.182155\n",
      "\t - MRR@40    epoch 20: 0.030889\n",
      "\n"
     ]
    },
    {
     "name": "stderr",
     "output_type": "stream",
     "text": [
      "\n"
     ]
    }
   ],
   "source": [
    "args = Args(train, val, test, batch_size=128, hsz=100, drop_rate=0.1, lr=0.001, epochs=20, k=40)\n",
    "model_2 = create_model(args)\n",
    "train_model(model_2, args)"
   ]
  },
  {
   "cell_type": "code",
   "execution_count": 66,
   "id": "283e5872",
   "metadata": {},
   "outputs": [
    {
     "name": "stderr",
     "output_type": "stream",
     "text": [
      "Evaluation:  40%|████      | 12/30 [00:07<00:11,  1.55it/s]"
     ]
    },
    {
     "name": "stdout",
     "output_type": "stream",
     "text": [
      "\t - Recall@40: 0.130859\n",
      "\t - MRR@40: 0.030491\n",
      "\n"
     ]
    },
    {
     "name": "stderr",
     "output_type": "stream",
     "text": [
      "\n"
     ]
    }
   ],
   "source": [
    "test_model(model_2, args, test)"
   ]
  },
  {
   "cell_type": "markdown",
   "id": "a70bb7f2",
   "metadata": {},
   "source": [
    "## 회고 \n",
    "> 두 번째 파일인 \"[Exp_16]Project_MovielensSBR_nosession.ipynb\"파일에 회고하겠습니다. "
   ]
  }
 ],
 "metadata": {
  "kernelspec": {
   "display_name": "Python 3 (ipykernel)",
   "language": "python",
   "name": "python3"
  },
  "language_info": {
   "codemirror_mode": {
    "name": "ipython",
    "version": 3
   },
   "file_extension": ".py",
   "mimetype": "text/x-python",
   "name": "python",
   "nbconvert_exporter": "python",
   "pygments_lexer": "ipython3",
   "version": "3.9.7"
  }
 },
 "nbformat": 4,
 "nbformat_minor": 5
}
