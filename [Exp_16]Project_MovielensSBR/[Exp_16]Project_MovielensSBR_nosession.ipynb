{
 "cells": [
  {
   "cell_type": "markdown",
   "id": "baa99e25",
   "metadata": {},
   "source": [
    "## 16-6. 프로젝트 - Movielens 영화 SBR\n",
    "\n",
    "이번에 우리는 Movielens 1M Dataset을 기반으로, Session based Recommendation 시스템을 제작해 보겠습니다.\n",
    "\n",
    "우선 주요 라이브러리 버전을 확인해 보죠."
   ]
  },
  {
   "cell_type": "code",
   "execution_count": 1,
   "id": "8563582f",
   "metadata": {},
   "outputs": [
    {
     "name": "stdout",
     "output_type": "stream",
     "text": [
      "1.3.3\n",
      "2.6.0\n"
     ]
    }
   ],
   "source": [
    "import pandas as pd\n",
    "import tensorflow\n",
    "from pathlib import Path\n",
    "import os\n",
    "import numpy as np\n",
    "import matplotlib.pyplot as plt\n",
    "import seaborn as sns\n",
    "\n",
    "print(pd.__version__)\n",
    "print(tensorflow.__version__)"
   ]
  },
  {
   "cell_type": "markdown",
   "id": "bef92698",
   "metadata": {},
   "source": [
    "```\n",
    "1) 데이터 확인\n",
    "$ ls -l ~/data\n",
    "\n",
    "2) 프로젝트 폴더 생성\n",
    "$ mkdir -p ~/aiffel/yoochoose\n",
    "\n",
    "3) 프로젝트 폴더로 데이터 폴더 링크 연결\n",
    "$ ln -s ~/data/* ~/aiffel/yoochoose/data\n",
    "```"
   ]
  },
  {
   "cell_type": "code",
   "execution_count": 2,
   "id": "7e230952",
   "metadata": {},
   "outputs": [],
   "source": [
    "# ! ls -l ~/data\n",
    "# ! mkdir -p ~/aiffel/yoochoose\n",
    "# ! ln -s ~/data/* ~/aiffel/yoochoose/data"
   ]
  },
  {
   "cell_type": "code",
   "execution_count": 3,
   "id": "ca8e7e58",
   "metadata": {},
   "outputs": [
    {
     "name": "stderr",
     "output_type": "stream",
     "text": [
      "/opt/conda/lib/python3.9/site-packages/pandas/util/_decorators.py:311: ParserWarning: Falling back to the 'python' engine because the 'c' engine does not support regex separators (separators > 1 char and different from '\\s+' are interpreted as regex); you can avoid this warning by specifying engine='python'.\n",
      "  return func(*args, **kwargs)\n"
     ]
    },
    {
     "data": {
      "text/html": [
       "<div>\n",
       "<style scoped>\n",
       "    .dataframe tbody tr th:only-of-type {\n",
       "        vertical-align: middle;\n",
       "    }\n",
       "\n",
       "    .dataframe tbody tr th {\n",
       "        vertical-align: top;\n",
       "    }\n",
       "\n",
       "    .dataframe thead th {\n",
       "        text-align: right;\n",
       "    }\n",
       "</style>\n",
       "<table border=\"1\" class=\"dataframe\">\n",
       "  <thead>\n",
       "    <tr style=\"text-align: right;\">\n",
       "      <th></th>\n",
       "      <th>UserId</th>\n",
       "      <th>ItemId</th>\n",
       "      <th>Rating</th>\n",
       "      <th>Timestamp</th>\n",
       "    </tr>\n",
       "  </thead>\n",
       "  <tbody>\n",
       "    <tr>\n",
       "      <th>31</th>\n",
       "      <td>1</td>\n",
       "      <td>3186</td>\n",
       "      <td>4</td>\n",
       "      <td>978300019</td>\n",
       "    </tr>\n",
       "    <tr>\n",
       "      <th>22</th>\n",
       "      <td>1</td>\n",
       "      <td>1270</td>\n",
       "      <td>5</td>\n",
       "      <td>978300055</td>\n",
       "    </tr>\n",
       "    <tr>\n",
       "      <th>27</th>\n",
       "      <td>1</td>\n",
       "      <td>1721</td>\n",
       "      <td>4</td>\n",
       "      <td>978300055</td>\n",
       "    </tr>\n",
       "    <tr>\n",
       "      <th>37</th>\n",
       "      <td>1</td>\n",
       "      <td>1022</td>\n",
       "      <td>5</td>\n",
       "      <td>978300055</td>\n",
       "    </tr>\n",
       "    <tr>\n",
       "      <th>24</th>\n",
       "      <td>1</td>\n",
       "      <td>2340</td>\n",
       "      <td>3</td>\n",
       "      <td>978300103</td>\n",
       "    </tr>\n",
       "    <tr>\n",
       "      <th>...</th>\n",
       "      <td>...</td>\n",
       "      <td>...</td>\n",
       "      <td>...</td>\n",
       "      <td>...</td>\n",
       "    </tr>\n",
       "    <tr>\n",
       "      <th>1000019</th>\n",
       "      <td>6040</td>\n",
       "      <td>2917</td>\n",
       "      <td>4</td>\n",
       "      <td>997454429</td>\n",
       "    </tr>\n",
       "    <tr>\n",
       "      <th>999988</th>\n",
       "      <td>6040</td>\n",
       "      <td>1921</td>\n",
       "      <td>4</td>\n",
       "      <td>997454464</td>\n",
       "    </tr>\n",
       "    <tr>\n",
       "      <th>1000172</th>\n",
       "      <td>6040</td>\n",
       "      <td>1784</td>\n",
       "      <td>3</td>\n",
       "      <td>997454464</td>\n",
       "    </tr>\n",
       "    <tr>\n",
       "      <th>1000167</th>\n",
       "      <td>6040</td>\n",
       "      <td>161</td>\n",
       "      <td>3</td>\n",
       "      <td>997454486</td>\n",
       "    </tr>\n",
       "    <tr>\n",
       "      <th>1000042</th>\n",
       "      <td>6040</td>\n",
       "      <td>1221</td>\n",
       "      <td>4</td>\n",
       "      <td>998315055</td>\n",
       "    </tr>\n",
       "  </tbody>\n",
       "</table>\n",
       "<p>1000209 rows × 4 columns</p>\n",
       "</div>"
      ],
      "text/plain": [
       "         UserId  ItemId  Rating  Timestamp\n",
       "31            1    3186       4  978300019\n",
       "22            1    1270       5  978300055\n",
       "27            1    1721       4  978300055\n",
       "37            1    1022       5  978300055\n",
       "24            1    2340       3  978300103\n",
       "...         ...     ...     ...        ...\n",
       "1000019    6040    2917       4  997454429\n",
       "999988     6040    1921       4  997454464\n",
       "1000172    6040    1784       3  997454464\n",
       "1000167    6040     161       3  997454486\n",
       "1000042    6040    1221       4  998315055\n",
       "\n",
       "[1000209 rows x 4 columns]"
      ]
     },
     "execution_count": 3,
     "metadata": {},
     "output_type": "execute_result"
    }
   ],
   "source": [
    "data_path = Path(os.getenv('HOME')+'/aiffel/yoochoose/data/') \n",
    "train_path = data_path / 'ratings.dat'\n",
    "\n",
    "def load_data(data_path: Path, nrows=None):\n",
    "    data = pd.read_csv(data_path, sep='::', header=None, usecols=[0, 1, 2, 3], dtype={0: np.int32, 1: np.int32, 2: np.int32}, nrows=nrows)\n",
    "    data.columns = ['UserId', 'ItemId', 'Rating', 'Timestamp']\n",
    "    return data\n",
    "\n",
    "data = load_data(train_path, None)\n",
    "data.sort_values(['UserId', 'Timestamp'], inplace=True)  # data를 id와 시간 순서로 정렬해줍니다.\n",
    "data"
   ]
  },
  {
   "cell_type": "code",
   "execution_count": 4,
   "id": "639cca3f",
   "metadata": {},
   "outputs": [
    {
     "data": {
      "text/plain": [
       "(6040, 3706)"
      ]
     },
     "execution_count": 4,
     "metadata": {},
     "output_type": "execute_result"
    }
   ],
   "source": [
    "# 전체 userid수와 아이템수\n",
    "data[\"UserId\"].nunique(), data[\"ItemId\"].nunique()"
   ]
  },
  {
   "cell_type": "markdown",
   "id": "e8044922",
   "metadata": {},
   "source": [
    "- 여기서 이전 실습 내역과 가장 크게 다른 부분은 바로 SessionID 대신 UserID 항목이 들어갔다는 점입니다. 이 데이터셋은 명확한 1회 세션의 SessionID를 포함하지 않고 있습니다. 그래서 이번에는 UserID가 SessionID 역할을 해야 합니다.\n",
    "\n",
    "- Rating 정보가 포함되어 있습니다. 이전 실습 내역에서는 이런 항목이 포함되어 있지 않았으므로, 무시하고 제외할 수 있습니다. 하지만, 직전에 봤던 영화가 맘에 들었는지가 비슷한 영화를 더 고르게 하는 것과 상관이 있을 수도 있습니다. 아울러, Rating이 낮은 데이터를 어떻게 처리할지도 고민해야 합니다.\n",
    "\n",
    "- Time 항목에는 UTC time 가 포함되어, 1970년 1월 1일부터 경과된 초 단위 시간이 기재되어 있습니다.\n",
    "\n",
    "위와 같은 정보를 바탕으로 오늘의 실습과정과 유사한 프로젝트 과정을 진행해 보겠습니다."
   ]
  },
  {
   "cell_type": "code",
   "execution_count": 5,
   "id": "428a6838",
   "metadata": {
    "scrolled": false
   },
   "outputs": [
    {
     "data": {
      "text/plain": [
       "31        2000-12-31 22:00:19\n",
       "22        2000-12-31 22:00:55\n",
       "27        2000-12-31 22:00:55\n",
       "37        2000-12-31 22:00:55\n",
       "24        2000-12-31 22:01:43\n",
       "                  ...        \n",
       "1000019   2001-08-10 14:40:29\n",
       "999988    2001-08-10 14:41:04\n",
       "1000172   2001-08-10 14:41:04\n",
       "1000167   2001-08-10 14:41:26\n",
       "1000042   2001-08-20 13:44:15\n",
       "Name: Time, Length: 1000209, dtype: datetime64[ns]"
      ]
     },
     "execution_count": 5,
     "metadata": {},
     "output_type": "execute_result"
    }
   ],
   "source": [
    "# 시간변환\n",
    "data[\"Time\"] = pd.to_datetime(data[\"Timestamp\"], unit = \"s\")\n",
    "data[\"Time\"]"
   ]
  },
  {
   "cell_type": "markdown",
   "id": "a686d4f6",
   "metadata": {},
   "source": [
    "### Step 1. 데이터의 전처리\n",
    "\n",
    "---------------------------------\n",
    "\n",
    "위와 같이 간단히 구성해 본 데이터셋을 꼼꼼히 살펴보면서 항목별 기본 분석, session length, session time, cleaning 등의 작업을 진행합니다.\n",
    "특히, 이 데이터셋에서는 Session이 아닌 UserID 단위로 데이터가 생성되어 있으므로, 이를 Session 단위로 어떻게 해석할지에 주의합니다.\n",
    "\n",
    "> UserId = SessionId로 그냥 간다"
   ]
  },
  {
   "cell_type": "code",
   "execution_count": 6,
   "id": "c1572da1",
   "metadata": {
    "scrolled": false
   },
   "outputs": [
    {
     "data": {
      "text/html": [
       "<div>\n",
       "<style scoped>\n",
       "    .dataframe tbody tr th:only-of-type {\n",
       "        vertical-align: middle;\n",
       "    }\n",
       "\n",
       "    .dataframe tbody tr th {\n",
       "        vertical-align: top;\n",
       "    }\n",
       "\n",
       "    .dataframe thead th {\n",
       "        text-align: right;\n",
       "    }\n",
       "</style>\n",
       "<table border=\"1\" class=\"dataframe\">\n",
       "  <thead>\n",
       "    <tr style=\"text-align: right;\">\n",
       "      <th></th>\n",
       "      <th>UserId</th>\n",
       "      <th>ItemId</th>\n",
       "      <th>Rating</th>\n",
       "      <th>Timestamp</th>\n",
       "      <th>Time</th>\n",
       "      <th>SessionId</th>\n",
       "    </tr>\n",
       "  </thead>\n",
       "  <tbody>\n",
       "    <tr>\n",
       "      <th>31</th>\n",
       "      <td>1</td>\n",
       "      <td>3186</td>\n",
       "      <td>4</td>\n",
       "      <td>978300019</td>\n",
       "      <td>2000-12-31 22:00:19</td>\n",
       "      <td>1</td>\n",
       "    </tr>\n",
       "    <tr>\n",
       "      <th>22</th>\n",
       "      <td>1</td>\n",
       "      <td>1270</td>\n",
       "      <td>5</td>\n",
       "      <td>978300055</td>\n",
       "      <td>2000-12-31 22:00:55</td>\n",
       "      <td>1</td>\n",
       "    </tr>\n",
       "    <tr>\n",
       "      <th>27</th>\n",
       "      <td>1</td>\n",
       "      <td>1721</td>\n",
       "      <td>4</td>\n",
       "      <td>978300055</td>\n",
       "      <td>2000-12-31 22:00:55</td>\n",
       "      <td>1</td>\n",
       "    </tr>\n",
       "    <tr>\n",
       "      <th>37</th>\n",
       "      <td>1</td>\n",
       "      <td>1022</td>\n",
       "      <td>5</td>\n",
       "      <td>978300055</td>\n",
       "      <td>2000-12-31 22:00:55</td>\n",
       "      <td>1</td>\n",
       "    </tr>\n",
       "    <tr>\n",
       "      <th>24</th>\n",
       "      <td>1</td>\n",
       "      <td>2340</td>\n",
       "      <td>3</td>\n",
       "      <td>978300103</td>\n",
       "      <td>2000-12-31 22:01:43</td>\n",
       "      <td>1</td>\n",
       "    </tr>\n",
       "    <tr>\n",
       "      <th>...</th>\n",
       "      <td>...</td>\n",
       "      <td>...</td>\n",
       "      <td>...</td>\n",
       "      <td>...</td>\n",
       "      <td>...</td>\n",
       "      <td>...</td>\n",
       "    </tr>\n",
       "    <tr>\n",
       "      <th>1000019</th>\n",
       "      <td>6040</td>\n",
       "      <td>2917</td>\n",
       "      <td>4</td>\n",
       "      <td>997454429</td>\n",
       "      <td>2001-08-10 14:40:29</td>\n",
       "      <td>6040</td>\n",
       "    </tr>\n",
       "    <tr>\n",
       "      <th>999988</th>\n",
       "      <td>6040</td>\n",
       "      <td>1921</td>\n",
       "      <td>4</td>\n",
       "      <td>997454464</td>\n",
       "      <td>2001-08-10 14:41:04</td>\n",
       "      <td>6040</td>\n",
       "    </tr>\n",
       "    <tr>\n",
       "      <th>1000172</th>\n",
       "      <td>6040</td>\n",
       "      <td>1784</td>\n",
       "      <td>3</td>\n",
       "      <td>997454464</td>\n",
       "      <td>2001-08-10 14:41:04</td>\n",
       "      <td>6040</td>\n",
       "    </tr>\n",
       "    <tr>\n",
       "      <th>1000167</th>\n",
       "      <td>6040</td>\n",
       "      <td>161</td>\n",
       "      <td>3</td>\n",
       "      <td>997454486</td>\n",
       "      <td>2001-08-10 14:41:26</td>\n",
       "      <td>6040</td>\n",
       "    </tr>\n",
       "    <tr>\n",
       "      <th>1000042</th>\n",
       "      <td>6040</td>\n",
       "      <td>1221</td>\n",
       "      <td>4</td>\n",
       "      <td>998315055</td>\n",
       "      <td>2001-08-20 13:44:15</td>\n",
       "      <td>6040</td>\n",
       "    </tr>\n",
       "  </tbody>\n",
       "</table>\n",
       "<p>1000209 rows × 6 columns</p>\n",
       "</div>"
      ],
      "text/plain": [
       "         UserId  ItemId  Rating  Timestamp                Time  SessionId\n",
       "31            1    3186       4  978300019 2000-12-31 22:00:19          1\n",
       "22            1    1270       5  978300055 2000-12-31 22:00:55          1\n",
       "27            1    1721       4  978300055 2000-12-31 22:00:55          1\n",
       "37            1    1022       5  978300055 2000-12-31 22:00:55          1\n",
       "24            1    2340       3  978300103 2000-12-31 22:01:43          1\n",
       "...         ...     ...     ...        ...                 ...        ...\n",
       "1000019    6040    2917       4  997454429 2001-08-10 14:40:29       6040\n",
       "999988     6040    1921       4  997454464 2001-08-10 14:41:04       6040\n",
       "1000172    6040    1784       3  997454464 2001-08-10 14:41:04       6040\n",
       "1000167    6040     161       3  997454486 2001-08-10 14:41:26       6040\n",
       "1000042    6040    1221       4  998315055 2001-08-20 13:44:15       6040\n",
       "\n",
       "[1000209 rows x 6 columns]"
      ]
     },
     "execution_count": 6,
     "metadata": {},
     "output_type": "execute_result"
    }
   ],
   "source": [
    "data[\"SessionId\"] = data[\"UserId\"]\n",
    "data"
   ]
  },
  {
   "cell_type": "markdown",
   "id": "d57276b4",
   "metadata": {},
   "source": [
    "__Session Length__  \n",
    "너무 많은 평가를 매긴 경우 이상치일 수 있다. "
   ]
  },
  {
   "cell_type": "code",
   "execution_count": 7,
   "id": "51b29e73",
   "metadata": {},
   "outputs": [
    {
     "data": {
      "text/plain": [
       "SessionId\n",
       "1        53\n",
       "2       129\n",
       "3        51\n",
       "4        21\n",
       "5       198\n",
       "       ... \n",
       "6036    888\n",
       "6037    202\n",
       "6038     20\n",
       "6039    123\n",
       "6040    341\n",
       "Length: 6040, dtype: int64"
      ]
     },
     "execution_count": 7,
     "metadata": {},
     "output_type": "execute_result"
    }
   ],
   "source": [
    "# UserId Lenght\n",
    "session_length = data.groupby([\"SessionId\"]).size()  # 유저 아이디 숫자, 즉 각 유저아이디별로 활동한 사건 수\n",
    "session_length"
   ]
  },
  {
   "cell_type": "code",
   "execution_count": 8,
   "id": "ed981eaf",
   "metadata": {},
   "outputs": [
    {
     "name": "stdout",
     "output_type": "stream",
     "text": [
      "최소 값 :  20\n",
      "최대 값 :  2314\n",
      "평균 값 :  165.5975165562914\n",
      "중앙 값 :  96.0\n",
      "누적백분율 90% 값 :  400.0\n"
     ]
    },
    {
     "data": {
      "text/plain": [
       "<AxesSubplot:>"
      ]
     },
     "execution_count": 8,
     "metadata": {},
     "output_type": "execute_result"
    },
    {
     "data": {
      "image/png": "[encoded data removed]",
      "text/plain": [
       "<Figure size 432x288 with 1 Axes>"
      ]
     },
     "metadata": {
      "needs_background": "light"
     },
     "output_type": "display_data"
    }
   ],
   "source": [
    "# 기본적인 통계값 확인\n",
    "print(\"최소 값 : \",session_length.min())\n",
    "print(\"최대 값 : \",session_length.max())\n",
    "print(\"평균 값 : \",session_length.mean())\n",
    "print(\"중앙 값 : \",session_length.median())\n",
    "print(\"누적백분율 90% 값 : \",session_length.quantile(0.90))\n",
    "\n",
    "session_length.plot(kind = \"box\")"
   ]
  },
  {
   "cell_type": "code",
   "execution_count": 9,
   "id": "4063a829",
   "metadata": {},
   "outputs": [
    {
     "data": {
      "text/plain": [
       "20      86\n",
       "21      91\n",
       "22      77\n",
       "23      81\n",
       "24      81\n",
       "        ..\n",
       "1521     1\n",
       "1595     1\n",
       "1743     1\n",
       "1850     1\n",
       "2314     1\n",
       "Length: 743, dtype: int64"
      ]
     },
     "execution_count": 9,
     "metadata": {},
     "output_type": "execute_result"
    }
   ],
   "source": [
    "session_length.groupby(session_length).size()"
   ]
  },
  {
   "cell_type": "code",
   "execution_count": 10,
   "id": "8fb574fd",
   "metadata": {},
   "outputs": [
    {
     "data": {
      "text/plain": [
       "20     0.014238\n",
       "21     0.029305\n",
       "22     0.042053\n",
       "23     0.055464\n",
       "24     0.068874\n",
       "         ...   \n",
       "395    0.897682\n",
       "396    0.897848\n",
       "397    0.898344\n",
       "398    0.899007\n",
       "399    0.899834\n",
       "Length: 376, dtype: float64"
      ]
     },
     "execution_count": 10,
     "metadata": {},
     "output_type": "execute_result"
    }
   ],
   "source": [
    "length_count = session_length.groupby(session_length).size()  # 유저의 활동수를 기준으로 묶는다.\n",
    "length_percent_cumsum = length_count.cumsum() / length_count.sum()  # 각 활동이 얼마나 많은 활동이었는지 누적 분포로 확인한다. \n",
    "length_percent_cumsum_90 = length_percent_cumsum[length_percent_cumsum < 0.9]  # 클릭수가 너무 많은 상위 90% 이상은 제거한다.\n",
    "length_percent_cumsum_90"
   ]
  },
  {
   "cell_type": "code",
   "execution_count": 11,
   "id": "4de2e8e1",
   "metadata": {},
   "outputs": [
    {
     "data": {
      "image/png": "[encoded data removed]",
      "text/plain": [
       "<Figure size 1440x720 with 1 Axes>"
      ]
     },
     "metadata": {
      "needs_background": "light"
     },
     "output_type": "display_data"
    }
   ],
   "source": [
    "plt.figure(figsize=(20, 10))\n",
    "plt.bar(x=length_percent_cumsum_90.index,\n",
    "        height=length_percent_cumsum_90, color='red')\n",
    "plt.xticks(length_percent_cumsum_90.index)\n",
    "plt.yticks(np.arange(0, 1.01, 0.05))\n",
    "plt.title('Cumsum Percentage Until 0.90', size=20)\n",
    "# plt.xticks(rotation = 45)\n",
    "plt.show()"
   ]
  },
  {
   "cell_type": "markdown",
   "id": "c17a1e77",
   "metadata": {},
   "source": [
    "__Session Time__  \n",
    "\n",
    "최신 트렌드를 반영하기 위해 최근 1년간 평가한 session을 활용"
   ]
  },
  {
   "cell_type": "code",
   "execution_count": 12,
   "id": "c8a692fc",
   "metadata": {},
   "outputs": [
    {
     "name": "stdout",
     "output_type": "stream",
     "text": [
      "2000-04-25 23:05:32\n",
      "2003-02-28 17:49:50\n"
     ]
    }
   ],
   "source": [
    "# 가장 오래된 노드와 가장 최신 노드\n",
    "oldest,latest = data[\"Time\"].min(), data[\"Time\"].max()\n",
    "print(oldest)\n",
    "print(latest)"
   ]
  },
  {
   "cell_type": "code",
   "execution_count": 13,
   "id": "5f853aa8",
   "metadata": {},
   "outputs": [],
   "source": [
    "# month_ago = latest - dt.timedelta(730)\n",
    "# data_recent = data[data[\"Time\"] > month_ago]\n",
    "# data_recent"
   ]
  },
  {
   "cell_type": "markdown",
   "id": "da3517ea",
   "metadata": {},
   "source": [
    "__Data Cleaning__"
   ]
  },
  {
   "cell_type": "code",
   "execution_count": 14,
   "id": "59319fb8",
   "metadata": {},
   "outputs": [
    {
     "data": {
      "text/plain": [
       "(1000209, 6)"
      ]
     },
     "execution_count": 14,
     "metadata": {},
     "output_type": "execute_result"
    }
   ],
   "source": [
    "data.shape"
   ]
  },
  {
   "cell_type": "code",
   "execution_count": 15,
   "id": "c634f4b5",
   "metadata": {},
   "outputs": [
    {
     "data": {
      "text/html": [
       "<div>\n",
       "<style scoped>\n",
       "    .dataframe tbody tr th:only-of-type {\n",
       "        vertical-align: middle;\n",
       "    }\n",
       "\n",
       "    .dataframe tbody tr th {\n",
       "        vertical-align: top;\n",
       "    }\n",
       "\n",
       "    .dataframe thead th {\n",
       "        text-align: right;\n",
       "    }\n",
       "</style>\n",
       "<table border=\"1\" class=\"dataframe\">\n",
       "  <thead>\n",
       "    <tr style=\"text-align: right;\">\n",
       "      <th></th>\n",
       "      <th>UserId</th>\n",
       "      <th>ItemId</th>\n",
       "      <th>Rating</th>\n",
       "      <th>Timestamp</th>\n",
       "      <th>Time</th>\n",
       "      <th>SessionId</th>\n",
       "    </tr>\n",
       "  </thead>\n",
       "  <tbody>\n",
       "    <tr>\n",
       "      <th>31</th>\n",
       "      <td>1</td>\n",
       "      <td>3186</td>\n",
       "      <td>4</td>\n",
       "      <td>978300019</td>\n",
       "      <td>2000-12-31 22:00:19</td>\n",
       "      <td>1</td>\n",
       "    </tr>\n",
       "    <tr>\n",
       "      <th>22</th>\n",
       "      <td>1</td>\n",
       "      <td>1270</td>\n",
       "      <td>5</td>\n",
       "      <td>978300055</td>\n",
       "      <td>2000-12-31 22:00:55</td>\n",
       "      <td>1</td>\n",
       "    </tr>\n",
       "    <tr>\n",
       "      <th>27</th>\n",
       "      <td>1</td>\n",
       "      <td>1721</td>\n",
       "      <td>4</td>\n",
       "      <td>978300055</td>\n",
       "      <td>2000-12-31 22:00:55</td>\n",
       "      <td>1</td>\n",
       "    </tr>\n",
       "    <tr>\n",
       "      <th>37</th>\n",
       "      <td>1</td>\n",
       "      <td>1022</td>\n",
       "      <td>5</td>\n",
       "      <td>978300055</td>\n",
       "      <td>2000-12-31 22:00:55</td>\n",
       "      <td>1</td>\n",
       "    </tr>\n",
       "    <tr>\n",
       "      <th>36</th>\n",
       "      <td>1</td>\n",
       "      <td>1836</td>\n",
       "      <td>5</td>\n",
       "      <td>978300172</td>\n",
       "      <td>2000-12-31 22:02:52</td>\n",
       "      <td>1</td>\n",
       "    </tr>\n",
       "    <tr>\n",
       "      <th>...</th>\n",
       "      <td>...</td>\n",
       "      <td>...</td>\n",
       "      <td>...</td>\n",
       "      <td>...</td>\n",
       "      <td>...</td>\n",
       "      <td>...</td>\n",
       "    </tr>\n",
       "    <tr>\n",
       "      <th>1000119</th>\n",
       "      <td>6040</td>\n",
       "      <td>3671</td>\n",
       "      <td>4</td>\n",
       "      <td>997454367</td>\n",
       "      <td>2001-08-10 14:39:27</td>\n",
       "      <td>6040</td>\n",
       "    </tr>\n",
       "    <tr>\n",
       "      <th>999923</th>\n",
       "      <td>6040</td>\n",
       "      <td>232</td>\n",
       "      <td>5</td>\n",
       "      <td>997454398</td>\n",
       "      <td>2001-08-10 14:39:58</td>\n",
       "      <td>6040</td>\n",
       "    </tr>\n",
       "    <tr>\n",
       "      <th>1000019</th>\n",
       "      <td>6040</td>\n",
       "      <td>2917</td>\n",
       "      <td>4</td>\n",
       "      <td>997454429</td>\n",
       "      <td>2001-08-10 14:40:29</td>\n",
       "      <td>6040</td>\n",
       "    </tr>\n",
       "    <tr>\n",
       "      <th>999988</th>\n",
       "      <td>6040</td>\n",
       "      <td>1921</td>\n",
       "      <td>4</td>\n",
       "      <td>997454464</td>\n",
       "      <td>2001-08-10 14:41:04</td>\n",
       "      <td>6040</td>\n",
       "    </tr>\n",
       "    <tr>\n",
       "      <th>1000042</th>\n",
       "      <td>6040</td>\n",
       "      <td>1221</td>\n",
       "      <td>4</td>\n",
       "      <td>998315055</td>\n",
       "      <td>2001-08-20 13:44:15</td>\n",
       "      <td>6040</td>\n",
       "    </tr>\n",
       "  </tbody>\n",
       "</table>\n",
       "<p>575281 rows × 6 columns</p>\n",
       "</div>"
      ],
      "text/plain": [
       "         UserId  ItemId  Rating  Timestamp                Time  SessionId\n",
       "31            1    3186       4  978300019 2000-12-31 22:00:19          1\n",
       "22            1    1270       5  978300055 2000-12-31 22:00:55          1\n",
       "27            1    1721       4  978300055 2000-12-31 22:00:55          1\n",
       "37            1    1022       5  978300055 2000-12-31 22:00:55          1\n",
       "36            1    1836       5  978300172 2000-12-31 22:02:52          1\n",
       "...         ...     ...     ...        ...                 ...        ...\n",
       "1000119    6040    3671       4  997454367 2001-08-10 14:39:27       6040\n",
       "999923     6040     232       5  997454398 2001-08-10 14:39:58       6040\n",
       "1000019    6040    2917       4  997454429 2001-08-10 14:40:29       6040\n",
       "999988     6040    1921       4  997454464 2001-08-10 14:41:04       6040\n",
       "1000042    6040    1221       4  998315055 2001-08-20 13:44:15       6040\n",
       "\n",
       "[575281 rows x 6 columns]"
      ]
     },
     "execution_count": 15,
     "metadata": {},
     "output_type": "execute_result"
    }
   ],
   "source": [
    "# Rating 이 4 미만인 행은 삭제\n",
    "data = data[data[\"Rating\"] >= 4]\n",
    "data"
   ]
  },
  {
   "cell_type": "code",
   "execution_count": 16,
   "id": "89c45436",
   "metadata": {},
   "outputs": [],
   "source": [
    "def cleanse_recursive(data : pd.DataFrame, shortest, least_eval) -> pd.DataFrame :\n",
    "    while True : \n",
    "        before_len = len(data)\n",
    "        data = cleanse_short_session(data, shortest)\n",
    "        data = cleanse_unpopular_item(data, least_eval)\n",
    "        after_len = len(data)\n",
    "        if before_len == after_len:\n",
    "            break\n",
    "    return data\n",
    "        \n",
    "        \n",
    "def cleanse_short_session(data : pd.DataFrame, shortest) : \n",
    "    session_len = data.groupby(\"SessionId\").size()\n",
    "    session_use = session_len[session_len >= shortest].index  # 가장 짧은 세션 이상의 session의 index 저장\n",
    "    data = data[data[\"SessionId\"].isin(session_use)]\n",
    "    return data\n",
    "\n",
    "def cleanse_unpopular_item(data : pd.DataFrame, least_eval) : \n",
    "    item_popular = data.groupby([\"ItemId\"]).size()\n",
    "    item_use = item_popular[item_popular >= least_eval].index\n",
    "    data = data[data[\"ItemId\"].isin(item_use)]\n",
    "    return data"
   ]
  },
  {
   "cell_type": "code",
   "execution_count": 17,
   "id": "6044641a",
   "metadata": {},
   "outputs": [
    {
     "data": {
      "text/plain": [
       "1"
      ]
     },
     "execution_count": 17,
     "metadata": {},
     "output_type": "execute_result"
    }
   ],
   "source": [
    "# itemid 출현 빈토 최소값\n",
    "data.groupby([\"ItemId\"]).size().min()"
   ]
  },
  {
   "cell_type": "code",
   "execution_count": 18,
   "id": "ee67df1a",
   "metadata": {},
   "outputs": [
    {
     "data": {
      "text/html": [
       "<div>\n",
       "<style scoped>\n",
       "    .dataframe tbody tr th:only-of-type {\n",
       "        vertical-align: middle;\n",
       "    }\n",
       "\n",
       "    .dataframe tbody tr th {\n",
       "        vertical-align: top;\n",
       "    }\n",
       "\n",
       "    .dataframe thead th {\n",
       "        text-align: right;\n",
       "    }\n",
       "</style>\n",
       "<table border=\"1\" class=\"dataframe\">\n",
       "  <thead>\n",
       "    <tr style=\"text-align: right;\">\n",
       "      <th></th>\n",
       "      <th>UserId</th>\n",
       "      <th>ItemId</th>\n",
       "      <th>Rating</th>\n",
       "      <th>Timestamp</th>\n",
       "      <th>Time</th>\n",
       "      <th>SessionId</th>\n",
       "    </tr>\n",
       "  </thead>\n",
       "  <tbody>\n",
       "    <tr>\n",
       "      <th>31</th>\n",
       "      <td>1</td>\n",
       "      <td>3186</td>\n",
       "      <td>4</td>\n",
       "      <td>978300019</td>\n",
       "      <td>2000-12-31 22:00:19</td>\n",
       "      <td>1</td>\n",
       "    </tr>\n",
       "    <tr>\n",
       "      <th>22</th>\n",
       "      <td>1</td>\n",
       "      <td>1270</td>\n",
       "      <td>5</td>\n",
       "      <td>978300055</td>\n",
       "      <td>2000-12-31 22:00:55</td>\n",
       "      <td>1</td>\n",
       "    </tr>\n",
       "    <tr>\n",
       "      <th>27</th>\n",
       "      <td>1</td>\n",
       "      <td>1721</td>\n",
       "      <td>4</td>\n",
       "      <td>978300055</td>\n",
       "      <td>2000-12-31 22:00:55</td>\n",
       "      <td>1</td>\n",
       "    </tr>\n",
       "    <tr>\n",
       "      <th>37</th>\n",
       "      <td>1</td>\n",
       "      <td>1022</td>\n",
       "      <td>5</td>\n",
       "      <td>978300055</td>\n",
       "      <td>2000-12-31 22:00:55</td>\n",
       "      <td>1</td>\n",
       "    </tr>\n",
       "    <tr>\n",
       "      <th>36</th>\n",
       "      <td>1</td>\n",
       "      <td>1836</td>\n",
       "      <td>5</td>\n",
       "      <td>978300172</td>\n",
       "      <td>2000-12-31 22:02:52</td>\n",
       "      <td>1</td>\n",
       "    </tr>\n",
       "    <tr>\n",
       "      <th>...</th>\n",
       "      <td>...</td>\n",
       "      <td>...</td>\n",
       "      <td>...</td>\n",
       "      <td>...</td>\n",
       "      <td>...</td>\n",
       "      <td>...</td>\n",
       "    </tr>\n",
       "    <tr>\n",
       "      <th>1000119</th>\n",
       "      <td>6040</td>\n",
       "      <td>3671</td>\n",
       "      <td>4</td>\n",
       "      <td>997454367</td>\n",
       "      <td>2001-08-10 14:39:27</td>\n",
       "      <td>6040</td>\n",
       "    </tr>\n",
       "    <tr>\n",
       "      <th>999923</th>\n",
       "      <td>6040</td>\n",
       "      <td>232</td>\n",
       "      <td>5</td>\n",
       "      <td>997454398</td>\n",
       "      <td>2001-08-10 14:39:58</td>\n",
       "      <td>6040</td>\n",
       "    </tr>\n",
       "    <tr>\n",
       "      <th>1000019</th>\n",
       "      <td>6040</td>\n",
       "      <td>2917</td>\n",
       "      <td>4</td>\n",
       "      <td>997454429</td>\n",
       "      <td>2001-08-10 14:40:29</td>\n",
       "      <td>6040</td>\n",
       "    </tr>\n",
       "    <tr>\n",
       "      <th>999988</th>\n",
       "      <td>6040</td>\n",
       "      <td>1921</td>\n",
       "      <td>4</td>\n",
       "      <td>997454464</td>\n",
       "      <td>2001-08-10 14:41:04</td>\n",
       "      <td>6040</td>\n",
       "    </tr>\n",
       "    <tr>\n",
       "      <th>1000042</th>\n",
       "      <td>6040</td>\n",
       "      <td>1221</td>\n",
       "      <td>4</td>\n",
       "      <td>998315055</td>\n",
       "      <td>2001-08-20 13:44:15</td>\n",
       "      <td>6040</td>\n",
       "    </tr>\n",
       "  </tbody>\n",
       "</table>\n",
       "<p>574384 rows × 6 columns</p>\n",
       "</div>"
      ],
      "text/plain": [
       "         UserId  ItemId  Rating  Timestamp                Time  SessionId\n",
       "31            1    3186       4  978300019 2000-12-31 22:00:19          1\n",
       "22            1    1270       5  978300055 2000-12-31 22:00:55          1\n",
       "27            1    1721       4  978300055 2000-12-31 22:00:55          1\n",
       "37            1    1022       5  978300055 2000-12-31 22:00:55          1\n",
       "36            1    1836       5  978300172 2000-12-31 22:02:52          1\n",
       "...         ...     ...     ...        ...                 ...        ...\n",
       "1000119    6040    3671       4  997454367 2001-08-10 14:39:27       6040\n",
       "999923     6040     232       5  997454398 2001-08-10 14:39:58       6040\n",
       "1000019    6040    2917       4  997454429 2001-08-10 14:40:29       6040\n",
       "999988     6040    1921       4  997454464 2001-08-10 14:41:04       6040\n",
       "1000042    6040    1221       4  998315055 2001-08-20 13:44:15       6040\n",
       "\n",
       "[574384 rows x 6 columns]"
      ]
     },
     "execution_count": 18,
     "metadata": {},
     "output_type": "execute_result"
    }
   ],
   "source": [
    "# 평가 수가 2개 이하인 세션은 삭제, 평가 횟수가 5회 미만인 영화도 삭제\n",
    "data = cleanse_recursive(data, shortest = 2, least_eval = 5)\n",
    "data"
   ]
  },
  {
   "cell_type": "markdown",
   "id": "8ee90784",
   "metadata": {},
   "source": [
    "__Train / Valid / Test split__"
   ]
  },
  {
   "cell_type": "code",
   "execution_count": 19,
   "id": "2bf8fedc",
   "metadata": {},
   "outputs": [],
   "source": [
    "def split_by_date(data : pd.DataFrame, n_days: int):\n",
    "    final_time = data[\"Time\"].max()\n",
    "    session_last_time = data.groupby([\"SessionId\"])[\"Time\"].max()\n",
    "    session_in_train = session_last_time[session_last_time < final_time - dt.timedelta(n_days)].index\n",
    "    session_in_test = session_last_time[session_last_time >= final_time - dt.timedelta(n_days)].index\n",
    "    \n",
    "    before_date = data[data[\"SessionId\"].isin(session_in_train)]\n",
    "    after_date = data[data['SessionId'].isin(session_in_test)]\n",
    "    after_date = after_date[after_date['ItemId'].isin(before_date['ItemId'])]\n",
    "    return before_date, after_date    "
   ]
  },
  {
   "cell_type": "code",
   "execution_count": 20,
   "id": "39c756b5",
   "metadata": {},
   "outputs": [],
   "source": [
    "data.sort_values(by = \"Time\", ascending = True, inplace = True)"
   ]
  },
  {
   "cell_type": "code",
   "execution_count": 21,
   "id": "b3f001e1",
   "metadata": {},
   "outputs": [],
   "source": [
    "data[\"date\"] = data[\"Time\"].dt.date"
   ]
  },
  {
   "cell_type": "code",
   "execution_count": 22,
   "id": "242993e6",
   "metadata": {},
   "outputs": [
    {
     "data": {
      "text/html": [
       "<div>\n",
       "<style scoped>\n",
       "    .dataframe tbody tr th:only-of-type {\n",
       "        vertical-align: middle;\n",
       "    }\n",
       "\n",
       "    .dataframe tbody tr th {\n",
       "        vertical-align: top;\n",
       "    }\n",
       "\n",
       "    .dataframe thead th {\n",
       "        text-align: right;\n",
       "    }\n",
       "</style>\n",
       "<table border=\"1\" class=\"dataframe\">\n",
       "  <thead>\n",
       "    <tr style=\"text-align: right;\">\n",
       "      <th></th>\n",
       "      <th>UserId</th>\n",
       "      <th>ItemId</th>\n",
       "      <th>Rating</th>\n",
       "      <th>Timestamp</th>\n",
       "      <th>Time</th>\n",
       "      <th>SessionId</th>\n",
       "      <th>date</th>\n",
       "    </tr>\n",
       "  </thead>\n",
       "  <tbody>\n",
       "    <tr>\n",
       "      <th>1000138</th>\n",
       "      <td>6040</td>\n",
       "      <td>858</td>\n",
       "      <td>4</td>\n",
       "      <td>956703932</td>\n",
       "      <td>2000-04-25 23:05:32</td>\n",
       "      <td>6040</td>\n",
       "      <td>2000-04-25</td>\n",
       "    </tr>\n",
       "    <tr>\n",
       "      <th>999873</th>\n",
       "      <td>6040</td>\n",
       "      <td>593</td>\n",
       "      <td>5</td>\n",
       "      <td>956703954</td>\n",
       "      <td>2000-04-25 23:05:54</td>\n",
       "      <td>6040</td>\n",
       "      <td>2000-04-25</td>\n",
       "    </tr>\n",
       "    <tr>\n",
       "      <th>1000153</th>\n",
       "      <td>6040</td>\n",
       "      <td>2384</td>\n",
       "      <td>4</td>\n",
       "      <td>956703954</td>\n",
       "      <td>2000-04-25 23:05:54</td>\n",
       "      <td>6040</td>\n",
       "      <td>2000-04-25</td>\n",
       "    </tr>\n",
       "    <tr>\n",
       "      <th>1000007</th>\n",
       "      <td>6040</td>\n",
       "      <td>1961</td>\n",
       "      <td>4</td>\n",
       "      <td>956703977</td>\n",
       "      <td>2000-04-25 23:06:17</td>\n",
       "      <td>6040</td>\n",
       "      <td>2000-04-25</td>\n",
       "    </tr>\n",
       "    <tr>\n",
       "      <th>1000192</th>\n",
       "      <td>6040</td>\n",
       "      <td>2019</td>\n",
       "      <td>5</td>\n",
       "      <td>956703977</td>\n",
       "      <td>2000-04-25 23:06:17</td>\n",
       "      <td>6040</td>\n",
       "      <td>2000-04-25</td>\n",
       "    </tr>\n",
       "    <tr>\n",
       "      <th>...</th>\n",
       "      <td>...</td>\n",
       "      <td>...</td>\n",
       "      <td>...</td>\n",
       "      <td>...</td>\n",
       "      <td>...</td>\n",
       "      <td>...</td>\n",
       "      <td>...</td>\n",
       "    </tr>\n",
       "    <tr>\n",
       "      <th>825497</th>\n",
       "      <td>4958</td>\n",
       "      <td>2453</td>\n",
       "      <td>4</td>\n",
       "      <td>1046454260</td>\n",
       "      <td>2003-02-28 17:44:20</td>\n",
       "      <td>4958</td>\n",
       "      <td>2003-02-28</td>\n",
       "    </tr>\n",
       "    <tr>\n",
       "      <th>825526</th>\n",
       "      <td>4958</td>\n",
       "      <td>3489</td>\n",
       "      <td>4</td>\n",
       "      <td>1046454320</td>\n",
       "      <td>2003-02-28 17:45:20</td>\n",
       "      <td>4958</td>\n",
       "      <td>2003-02-28</td>\n",
       "    </tr>\n",
       "    <tr>\n",
       "      <th>825438</th>\n",
       "      <td>4958</td>\n",
       "      <td>1407</td>\n",
       "      <td>5</td>\n",
       "      <td>1046454443</td>\n",
       "      <td>2003-02-28 17:47:23</td>\n",
       "      <td>4958</td>\n",
       "      <td>2003-02-28</td>\n",
       "    </tr>\n",
       "    <tr>\n",
       "      <th>825724</th>\n",
       "      <td>4958</td>\n",
       "      <td>3264</td>\n",
       "      <td>4</td>\n",
       "      <td>1046454548</td>\n",
       "      <td>2003-02-28 17:49:08</td>\n",
       "      <td>4958</td>\n",
       "      <td>2003-02-28</td>\n",
       "    </tr>\n",
       "    <tr>\n",
       "      <th>825603</th>\n",
       "      <td>4958</td>\n",
       "      <td>1924</td>\n",
       "      <td>4</td>\n",
       "      <td>1046454590</td>\n",
       "      <td>2003-02-28 17:49:50</td>\n",
       "      <td>4958</td>\n",
       "      <td>2003-02-28</td>\n",
       "    </tr>\n",
       "  </tbody>\n",
       "</table>\n",
       "<p>574384 rows × 7 columns</p>\n",
       "</div>"
      ],
      "text/plain": [
       "         UserId  ItemId  Rating   Timestamp                Time  SessionId  \\\n",
       "1000138    6040     858       4   956703932 2000-04-25 23:05:32       6040   \n",
       "999873     6040     593       5   956703954 2000-04-25 23:05:54       6040   \n",
       "1000153    6040    2384       4   956703954 2000-04-25 23:05:54       6040   \n",
       "1000007    6040    1961       4   956703977 2000-04-25 23:06:17       6040   \n",
       "1000192    6040    2019       5   956703977 2000-04-25 23:06:17       6040   \n",
       "...         ...     ...     ...         ...                 ...        ...   \n",
       "825497     4958    2453       4  1046454260 2003-02-28 17:44:20       4958   \n",
       "825526     4958    3489       4  1046454320 2003-02-28 17:45:20       4958   \n",
       "825438     4958    1407       5  1046454443 2003-02-28 17:47:23       4958   \n",
       "825724     4958    3264       4  1046454548 2003-02-28 17:49:08       4958   \n",
       "825603     4958    1924       4  1046454590 2003-02-28 17:49:50       4958   \n",
       "\n",
       "               date  \n",
       "1000138  2000-04-25  \n",
       "999873   2000-04-25  \n",
       "1000153  2000-04-25  \n",
       "1000007  2000-04-25  \n",
       "1000192  2000-04-25  \n",
       "...             ...  \n",
       "825497   2003-02-28  \n",
       "825526   2003-02-28  \n",
       "825438   2003-02-28  \n",
       "825724   2003-02-28  \n",
       "825603   2003-02-28  \n",
       "\n",
       "[574384 rows x 7 columns]"
      ]
     },
     "execution_count": 22,
     "metadata": {},
     "output_type": "execute_result"
    }
   ],
   "source": [
    "data"
   ]
  },
  {
   "cell_type": "code",
   "execution_count": 23,
   "id": "2d6516ed",
   "metadata": {},
   "outputs": [],
   "source": [
    "import datetime as dt\n",
    "train, test = split_by_date(data, n_days = 180)\n",
    "train, val = split_by_date(train, n_days = 180)"
   ]
  },
  {
   "cell_type": "code",
   "execution_count": 24,
   "id": "266cf6d6",
   "metadata": {},
   "outputs": [
    {
     "data": {
      "text/plain": [
       "((472369, 7), (29662, 7), (72353, 7))"
      ]
     },
     "execution_count": 24,
     "metadata": {},
     "output_type": "execute_result"
    }
   ],
   "source": [
    "train.shape, val.shape, test.shape"
   ]
  },
  {
   "cell_type": "code",
   "execution_count": 25,
   "id": "018b2fd2",
   "metadata": {},
   "outputs": [],
   "source": [
    "# data에 대한 정보를 살펴봅니다.\n",
    "def stats_info(data: pd.DataFrame, status: str):\n",
    "    print(f'* {status} Set Stats Info\\n'\n",
    "          f'\\t Events: {len(data)}\\n'\n",
    "          f'\\t Sessions: {data[\"SessionId\"].nunique()}\\n'\n",
    "          f'\\t Items: {data[\"ItemId\"].nunique()}\\n'\n",
    "          f'\\t First Time : {data[\"Time\"].min()}\\n'\n",
    "          f'\\t Last Time : {data[\"Time\"].max()}\\n')"
   ]
  },
  {
   "cell_type": "code",
   "execution_count": 26,
   "id": "262ecc6b",
   "metadata": {},
   "outputs": [
    {
     "name": "stdout",
     "output_type": "stream",
     "text": [
      "* train Set Stats Info\n",
      "\t Events: 472369\n",
      "\t Sessions: 5572\n",
      "\t Items: 3125\n",
      "\t First Time : 2000-04-25 23:05:32\n",
      "\t Last Time : 2002-03-04 22:46:11\n",
      "\n",
      "* valid Set Stats Info\n",
      "\t Events: 29662\n",
      "\t Sessions: 152\n",
      "\t Items: 2597\n",
      "\t First Time : 2000-04-30 06:38:59\n",
      "\t Last Time : 2002-09-01 00:14:13\n",
      "\n",
      "* test Set Stats Info\n",
      "\t Events: 72353\n",
      "\t Sessions: 313\n",
      "\t Items: 2933\n",
      "\t First Time : 2000-04-27 16:38:08\n",
      "\t Last Time : 2003-02-28 17:49:50\n",
      "\n"
     ]
    }
   ],
   "source": [
    "stats_info(train, 'train')\n",
    "stats_info(val, 'valid')\n",
    "stats_info(test, 'test')"
   ]
  },
  {
   "cell_type": "code",
   "execution_count": 27,
   "id": "8ecd68b2",
   "metadata": {},
   "outputs": [],
   "source": [
    "id2idx = {item_id : index for index, item_id in enumerate(train['ItemId'].unique())}\n",
    "\n",
    "def indexing(df, id2idx):\n",
    "    df['item_idx'] = df['ItemId'].map(lambda x: id2idx.get(x, -1))  # id2idx에 없는 아이템은 모르는 값(-1) 처리 해줍니다.\n",
    "    return df\n",
    "\n",
    "train = indexing(train, id2idx)\n",
    "val = indexing(val, id2idx)\n",
    "test = indexing(test, id2idx)"
   ]
  },
  {
   "cell_type": "code",
   "execution_count": 28,
   "id": "ddf31630",
   "metadata": {},
   "outputs": [],
   "source": [
    "save_path = data_path / 'processed'  # Path(os.getenv('HOME')+'/aiffel/yoochoose/data/') \n",
    "save_path.mkdir(parents=True, exist_ok=True)\n",
    "\n",
    "train.to_pickle(save_path / 'train.pkl')\n",
    "val.to_pickle(save_path / 'valid.pkl')\n",
    "test.to_pickle(save_path / 'test.pkl')"
   ]
  },
  {
   "cell_type": "markdown",
   "id": "f444ee98",
   "metadata": {},
   "source": [
    "### Step 2. 미니 배치의 구성\n",
    "\n",
    "--------------------------------------\n",
    "\n",
    "실습 코드 내역을 참고하여 데이터셋과 미니 배치를 구성해 봅시다. Session-Parallel Mini-Batch의 개념에 따라, 학습 속도의 저하가 최소화될 수 있도록 구성합니다.\n",
    "단, 위 Step 1에서 Session 단위를 어떻게 정의했느냐에 따라서 Session-Parallel Mini-Batch이 굳이 필요하지 않을 수도 있습니다."
   ]
  },
  {
   "cell_type": "code",
   "execution_count": 29,
   "id": "429c1495",
   "metadata": {},
   "outputs": [],
   "source": [
    "class SessionDataset:\n",
    "\n",
    "    def __init__(self, data):\n",
    "        self.df = data\n",
    "        self.click_offsets = self.get_click_offsets()\n",
    "        self.session_idx = np.arange(self.df['SessionId'].nunique())  # indexing to SessionId\n",
    "        # 유니크 아이디 개수만큼 배열 생성\n",
    "            \n",
    "    def get_click_offsets(self):\n",
    "        \"\"\"\n",
    "        세션에 수 누적값 구하기\n",
    "        \"\"\"\n",
    "        offsets = np.zeros(self.df['SessionId'].nunique() + 1, dtype=np.int32)\n",
    "        offsets[1:] = self.df.groupby('SessionId').size().cumsum()  # 이게 무슨말일까?\n",
    "        return offsets"
   ]
  },
  {
   "cell_type": "code",
   "execution_count": 30,
   "id": "7ca80efa",
   "metadata": {},
   "outputs": [
    {
     "data": {
      "text/html": [
       "<div>\n",
       "<style scoped>\n",
       "    .dataframe tbody tr th:only-of-type {\n",
       "        vertical-align: middle;\n",
       "    }\n",
       "\n",
       "    .dataframe tbody tr th {\n",
       "        vertical-align: top;\n",
       "    }\n",
       "\n",
       "    .dataframe thead th {\n",
       "        text-align: right;\n",
       "    }\n",
       "</style>\n",
       "<table border=\"1\" class=\"dataframe\">\n",
       "  <thead>\n",
       "    <tr style=\"text-align: right;\">\n",
       "      <th></th>\n",
       "      <th>UserId</th>\n",
       "      <th>ItemId</th>\n",
       "      <th>Rating</th>\n",
       "      <th>Timestamp</th>\n",
       "      <th>Time</th>\n",
       "      <th>SessionId</th>\n",
       "      <th>date</th>\n",
       "      <th>item_idx</th>\n",
       "    </tr>\n",
       "  </thead>\n",
       "  <tbody>\n",
       "    <tr>\n",
       "      <th>1000138</th>\n",
       "      <td>6040</td>\n",
       "      <td>858</td>\n",
       "      <td>4</td>\n",
       "      <td>956703932</td>\n",
       "      <td>2000-04-25 23:05:32</td>\n",
       "      <td>6040</td>\n",
       "      <td>2000-04-25</td>\n",
       "      <td>0</td>\n",
       "    </tr>\n",
       "    <tr>\n",
       "      <th>999873</th>\n",
       "      <td>6040</td>\n",
       "      <td>593</td>\n",
       "      <td>5</td>\n",
       "      <td>956703954</td>\n",
       "      <td>2000-04-25 23:05:54</td>\n",
       "      <td>6040</td>\n",
       "      <td>2000-04-25</td>\n",
       "      <td>1</td>\n",
       "    </tr>\n",
       "    <tr>\n",
       "      <th>1000153</th>\n",
       "      <td>6040</td>\n",
       "      <td>2384</td>\n",
       "      <td>4</td>\n",
       "      <td>956703954</td>\n",
       "      <td>2000-04-25 23:05:54</td>\n",
       "      <td>6040</td>\n",
       "      <td>2000-04-25</td>\n",
       "      <td>2</td>\n",
       "    </tr>\n",
       "    <tr>\n",
       "      <th>1000007</th>\n",
       "      <td>6040</td>\n",
       "      <td>1961</td>\n",
       "      <td>4</td>\n",
       "      <td>956703977</td>\n",
       "      <td>2000-04-25 23:06:17</td>\n",
       "      <td>6040</td>\n",
       "      <td>2000-04-25</td>\n",
       "      <td>3</td>\n",
       "    </tr>\n",
       "    <tr>\n",
       "      <th>1000192</th>\n",
       "      <td>6040</td>\n",
       "      <td>2019</td>\n",
       "      <td>5</td>\n",
       "      <td>956703977</td>\n",
       "      <td>2000-04-25 23:06:17</td>\n",
       "      <td>6040</td>\n",
       "      <td>2000-04-25</td>\n",
       "      <td>4</td>\n",
       "    </tr>\n",
       "    <tr>\n",
       "      <th>999967</th>\n",
       "      <td>6040</td>\n",
       "      <td>3111</td>\n",
       "      <td>5</td>\n",
       "      <td>956704056</td>\n",
       "      <td>2000-04-25 23:07:36</td>\n",
       "      <td>6040</td>\n",
       "      <td>2000-04-25</td>\n",
       "      <td>5</td>\n",
       "    </tr>\n",
       "    <tr>\n",
       "      <th>999868</th>\n",
       "      <td>6040</td>\n",
       "      <td>573</td>\n",
       "      <td>4</td>\n",
       "      <td>956704056</td>\n",
       "      <td>2000-04-25 23:07:36</td>\n",
       "      <td>6040</td>\n",
       "      <td>2000-04-25</td>\n",
       "      <td>6</td>\n",
       "    </tr>\n",
       "    <tr>\n",
       "      <th>999920</th>\n",
       "      <td>6040</td>\n",
       "      <td>213</td>\n",
       "      <td>5</td>\n",
       "      <td>956704056</td>\n",
       "      <td>2000-04-25 23:07:36</td>\n",
       "      <td>6040</td>\n",
       "      <td>2000-04-25</td>\n",
       "      <td>7</td>\n",
       "    </tr>\n",
       "    <tr>\n",
       "      <th>999980</th>\n",
       "      <td>6040</td>\n",
       "      <td>3505</td>\n",
       "      <td>4</td>\n",
       "      <td>956704056</td>\n",
       "      <td>2000-04-25 23:07:36</td>\n",
       "      <td>6040</td>\n",
       "      <td>2000-04-25</td>\n",
       "      <td>8</td>\n",
       "    </tr>\n",
       "    <tr>\n",
       "      <th>999971</th>\n",
       "      <td>6040</td>\n",
       "      <td>2503</td>\n",
       "      <td>5</td>\n",
       "      <td>956704191</td>\n",
       "      <td>2000-04-25 23:09:51</td>\n",
       "      <td>6040</td>\n",
       "      <td>2000-04-25</td>\n",
       "      <td>9</td>\n",
       "    </tr>\n",
       "  </tbody>\n",
       "</table>\n",
       "</div>"
      ],
      "text/plain": [
       "         UserId  ItemId  Rating  Timestamp                Time  SessionId  \\\n",
       "1000138    6040     858       4  956703932 2000-04-25 23:05:32       6040   \n",
       "999873     6040     593       5  956703954 2000-04-25 23:05:54       6040   \n",
       "1000153    6040    2384       4  956703954 2000-04-25 23:05:54       6040   \n",
       "1000007    6040    1961       4  956703977 2000-04-25 23:06:17       6040   \n",
       "1000192    6040    2019       5  956703977 2000-04-25 23:06:17       6040   \n",
       "999967     6040    3111       5  956704056 2000-04-25 23:07:36       6040   \n",
       "999868     6040     573       4  956704056 2000-04-25 23:07:36       6040   \n",
       "999920     6040     213       5  956704056 2000-04-25 23:07:36       6040   \n",
       "999980     6040    3505       4  956704056 2000-04-25 23:07:36       6040   \n",
       "999971     6040    2503       5  956704191 2000-04-25 23:09:51       6040   \n",
       "\n",
       "               date  item_idx  \n",
       "1000138  2000-04-25         0  \n",
       "999873   2000-04-25         1  \n",
       "1000153  2000-04-25         2  \n",
       "1000007  2000-04-25         3  \n",
       "1000192  2000-04-25         4  \n",
       "999967   2000-04-25         5  \n",
       "999868   2000-04-25         6  \n",
       "999920   2000-04-25         7  \n",
       "999980   2000-04-25         8  \n",
       "999971   2000-04-25         9  "
      ]
     },
     "execution_count": 30,
     "metadata": {},
     "output_type": "execute_result"
    }
   ],
   "source": [
    "train_dataset = SessionDataset(train)\n",
    "train_dataset.df.head(10)"
   ]
  },
  {
   "cell_type": "code",
   "execution_count": 31,
   "id": "84e4abf1",
   "metadata": {},
   "outputs": [
    {
     "data": {
      "text/plain": [
       "array([   0,    1,    2, ..., 5569, 5570, 5571])"
      ]
     },
     "execution_count": 31,
     "metadata": {},
     "output_type": "execute_result"
    }
   ],
   "source": [
    "# sessionId to idx\n",
    "train_dataset.session_idx"
   ]
  },
  {
   "cell_type": "code",
   "execution_count": 32,
   "id": "a134e9d2",
   "metadata": {},
   "outputs": [
    {
     "data": {
      "text/plain": [
       "SessionId\n",
       "1        45\n",
       "2        73\n",
       "3        37\n",
       "4        18\n",
       "5        82\n",
       "       ... \n",
       "6036    399\n",
       "6037    120\n",
       "6038     13\n",
       "6039     90\n",
       "6040    213\n",
       "Length: 5572, dtype: int64"
      ]
     },
     "execution_count": 32,
     "metadata": {},
     "output_type": "execute_result"
    }
   ],
   "source": [
    "# 이게 무슨 의미일까?\n",
    "# train_dataset.click_offsets\n",
    "train_dataset.df.groupby(\"SessionId\").size()"
   ]
  },
  {
   "cell_type": "code",
   "execution_count": 33,
   "id": "a9a1d648",
   "metadata": {},
   "outputs": [
    {
     "data": {
      "text/plain": [
       "SessionId\n",
       "2          118\n",
       "3          155\n",
       "4          173\n",
       "5          255\n",
       "6          305\n",
       "         ...  \n",
       "6036    471933\n",
       "6037    472053\n",
       "6038    472066\n",
       "6039    472156\n",
       "6040    472369\n",
       "Length: 5571, dtype: int64"
      ]
     },
     "execution_count": 33,
     "metadata": {},
     "output_type": "execute_result"
    }
   ],
   "source": [
    "# 1번 session에 2번 session을 더해서 점점 누적\n",
    "# 그래서 그게 무슨 의미가 있을까?\n",
    "train_dataset.df.groupby(\"SessionId\").size().cumsum()[1:]  # 심지어 2번 인덱스 부터 시작"
   ]
  },
  {
   "cell_type": "code",
   "execution_count": 34,
   "id": "5713ac7d",
   "metadata": {},
   "outputs": [
    {
     "data": {
      "text/plain": [
       "array([     0,     45,    118, ..., 472066, 472156, 472369], dtype=int32)"
      ]
     },
     "execution_count": 34,
     "metadata": {},
     "output_type": "execute_result"
    }
   ],
   "source": [
    "# 0 부터 시작하는 sessioid 발생건수의 누적합 배열이 생성된다.\n",
    "train_dataset.click_offsets"
   ]
  },
  {
   "cell_type": "markdown",
   "id": "5a00661e",
   "metadata": {},
   "source": [
    "__SessionDataLoader__"
   ]
  },
  {
   "cell_type": "code",
   "execution_count": 35,
   "id": "351098ef",
   "metadata": {},
   "outputs": [],
   "source": [
    "class SessionDataLoader:\n",
    "    \"\"\"Credit to yhs-968/pyGRU4REC.\"\"\"\n",
    "\n",
    "    def __init__(self, dataset: SessionDataset, batch_size=50):\n",
    "        self.dataset = dataset\n",
    "        self.batch_size = batch_size\n",
    "\n",
    "    def __iter__(self):\n",
    "        \"\"\" Returns the iterator for producing session-parallel training mini-batches.\n",
    "        Yields:\n",
    "            input (B,):  Item indices that will be encoded as one-hot vectors later.\n",
    "            target (B,): a Variable that stores the target item indices\n",
    "            masks: Numpy array indicating the positions of the sessions to be terminated\n",
    "        \"\"\"\n",
    "\n",
    "        start, end, mask, last_session, finished = self.initialize()  # initialize 메소드에서 확인해주세요.\n",
    "        \"\"\"\n",
    "        start : Index Where Session Start\n",
    "        end : Index Where Session End\n",
    "        mask : indicator for the sessions to be terminated\n",
    "        \"\"\"\n",
    "\n",
    "        while not finished:\n",
    "            min_len = (end - start).min() - 1  # Shortest Length Among Sessions\n",
    "            for i in range(min_len):\n",
    "                # Build inputs & targets\n",
    "                inp = self.dataset.df['item_idx'].values[start + i]\n",
    "                target = self.dataset.df['item_idx'].values[start + i + 1]\n",
    "                yield inp, target, mask\n",
    "\n",
    "            start, end, mask, last_session, finished = self.update_status(start, end, min_len, last_session, finished)\n",
    "\n",
    "    def initialize(self):\n",
    "        first_iters = np.arange(self.batch_size)    # 첫 배치에 사용할 세션 Index를 가져옵니다.\n",
    "        last_session = self.batch_size - 1    # 마지막으로 다루고 있는 세션 Index를 저장해둡니다.\n",
    "        start = self.dataset.click_offsets[self.dataset.session_idx[first_iters]]       # data 상에서 session이 시작된 위치를 가져옵니다.\n",
    "        end = self.dataset.click_offsets[self.dataset.session_idx[first_iters] + 1]  # session이 끝난 위치 바로 다음 위치를 가져옵니다.\n",
    "        mask = np.array([])   # session의 모든 아이템을 다 돌은 경우 mask에 추가해줄 것입니다.\n",
    "        finished = False         # data를 전부 돌았는지 기록하기 위한 변수입니다.\n",
    "        return start, end, mask, last_session, finished\n",
    "\n",
    "    def update_status(self, start: np.ndarray, end: np.ndarray, min_len: int, last_session: int, finished: bool):  \n",
    "        # 다음 배치 데이터를 생성하기 위해 상태를 update합니다.\n",
    "        \n",
    "        start += min_len   # __iter__에서 min_len 만큼 for문을 돌았으므로 start를 min_len 만큼 더해줍니다.\n",
    "        mask = np.arange(self.batch_size)[(end - start) == 1]  \n",
    "        # end는 다음 세션이 시작되는 위치인데 start와 한 칸 차이난다는 것은 session이 끝났다는 뜻입니다. mask에 기록해줍니다.\n",
    "\n",
    "        for i, idx in enumerate(mask, start=1):  # mask에 추가된 세션 개수만큼 새로운 세션을 돌것입니다.\n",
    "            new_session = last_session + i  \n",
    "            if new_session > self.dataset.session_idx[-1]:  # 만약 새로운 세션이 마지막 세션 index보다 크다면 모든 학습데이터를 돈 것입니다.\n",
    "                finished = True\n",
    "                break\n",
    "            # update the next starting/ending point\n",
    "            start[idx] = self.dataset.click_offsets[self.dataset.session_idx[new_session]]     # 종료된 세션 대신 새로운 세션의 시작점을 기록합니다.\n",
    "            end[idx] = self.dataset.click_offsets[self.dataset.session_idx[new_session] + 1]\n",
    "\n",
    "        last_session += len(mask)  # 마지막 세션의 위치를 기록해둡니다.\n",
    "        return start, end, mask, last_session, finished"
   ]
  },
  {
   "cell_type": "code",
   "execution_count": 36,
   "id": "432b9d74",
   "metadata": {},
   "outputs": [
    {
     "data": {
      "text/html": [
       "<div>\n",
       "<style scoped>\n",
       "    .dataframe tbody tr th:only-of-type {\n",
       "        vertical-align: middle;\n",
       "    }\n",
       "\n",
       "    .dataframe tbody tr th {\n",
       "        vertical-align: top;\n",
       "    }\n",
       "\n",
       "    .dataframe thead th {\n",
       "        text-align: right;\n",
       "    }\n",
       "</style>\n",
       "<table border=\"1\" class=\"dataframe\">\n",
       "  <thead>\n",
       "    <tr style=\"text-align: right;\">\n",
       "      <th></th>\n",
       "      <th>UserId</th>\n",
       "      <th>ItemId</th>\n",
       "      <th>Rating</th>\n",
       "      <th>Timestamp</th>\n",
       "      <th>Time</th>\n",
       "      <th>SessionId</th>\n",
       "      <th>date</th>\n",
       "      <th>item_idx</th>\n",
       "    </tr>\n",
       "  </thead>\n",
       "  <tbody>\n",
       "    <tr>\n",
       "      <th>1000138</th>\n",
       "      <td>6040</td>\n",
       "      <td>858</td>\n",
       "      <td>4</td>\n",
       "      <td>956703932</td>\n",
       "      <td>2000-04-25 23:05:32</td>\n",
       "      <td>6040</td>\n",
       "      <td>2000-04-25</td>\n",
       "      <td>0</td>\n",
       "    </tr>\n",
       "    <tr>\n",
       "      <th>999873</th>\n",
       "      <td>6040</td>\n",
       "      <td>593</td>\n",
       "      <td>5</td>\n",
       "      <td>956703954</td>\n",
       "      <td>2000-04-25 23:05:54</td>\n",
       "      <td>6040</td>\n",
       "      <td>2000-04-25</td>\n",
       "      <td>1</td>\n",
       "    </tr>\n",
       "    <tr>\n",
       "      <th>1000153</th>\n",
       "      <td>6040</td>\n",
       "      <td>2384</td>\n",
       "      <td>4</td>\n",
       "      <td>956703954</td>\n",
       "      <td>2000-04-25 23:05:54</td>\n",
       "      <td>6040</td>\n",
       "      <td>2000-04-25</td>\n",
       "      <td>2</td>\n",
       "    </tr>\n",
       "    <tr>\n",
       "      <th>1000007</th>\n",
       "      <td>6040</td>\n",
       "      <td>1961</td>\n",
       "      <td>4</td>\n",
       "      <td>956703977</td>\n",
       "      <td>2000-04-25 23:06:17</td>\n",
       "      <td>6040</td>\n",
       "      <td>2000-04-25</td>\n",
       "      <td>3</td>\n",
       "    </tr>\n",
       "    <tr>\n",
       "      <th>1000192</th>\n",
       "      <td>6040</td>\n",
       "      <td>2019</td>\n",
       "      <td>5</td>\n",
       "      <td>956703977</td>\n",
       "      <td>2000-04-25 23:06:17</td>\n",
       "      <td>6040</td>\n",
       "      <td>2000-04-25</td>\n",
       "      <td>4</td>\n",
       "    </tr>\n",
       "    <tr>\n",
       "      <th>999967</th>\n",
       "      <td>6040</td>\n",
       "      <td>3111</td>\n",
       "      <td>5</td>\n",
       "      <td>956704056</td>\n",
       "      <td>2000-04-25 23:07:36</td>\n",
       "      <td>6040</td>\n",
       "      <td>2000-04-25</td>\n",
       "      <td>5</td>\n",
       "    </tr>\n",
       "    <tr>\n",
       "      <th>999868</th>\n",
       "      <td>6040</td>\n",
       "      <td>573</td>\n",
       "      <td>4</td>\n",
       "      <td>956704056</td>\n",
       "      <td>2000-04-25 23:07:36</td>\n",
       "      <td>6040</td>\n",
       "      <td>2000-04-25</td>\n",
       "      <td>6</td>\n",
       "    </tr>\n",
       "    <tr>\n",
       "      <th>999920</th>\n",
       "      <td>6040</td>\n",
       "      <td>213</td>\n",
       "      <td>5</td>\n",
       "      <td>956704056</td>\n",
       "      <td>2000-04-25 23:07:36</td>\n",
       "      <td>6040</td>\n",
       "      <td>2000-04-25</td>\n",
       "      <td>7</td>\n",
       "    </tr>\n",
       "    <tr>\n",
       "      <th>999980</th>\n",
       "      <td>6040</td>\n",
       "      <td>3505</td>\n",
       "      <td>4</td>\n",
       "      <td>956704056</td>\n",
       "      <td>2000-04-25 23:07:36</td>\n",
       "      <td>6040</td>\n",
       "      <td>2000-04-25</td>\n",
       "      <td>8</td>\n",
       "    </tr>\n",
       "    <tr>\n",
       "      <th>999971</th>\n",
       "      <td>6040</td>\n",
       "      <td>2503</td>\n",
       "      <td>5</td>\n",
       "      <td>956704191</td>\n",
       "      <td>2000-04-25 23:09:51</td>\n",
       "      <td>6040</td>\n",
       "      <td>2000-04-25</td>\n",
       "      <td>9</td>\n",
       "    </tr>\n",
       "    <tr>\n",
       "      <th>999888</th>\n",
       "      <td>6040</td>\n",
       "      <td>919</td>\n",
       "      <td>5</td>\n",
       "      <td>956704191</td>\n",
       "      <td>2000-04-25 23:09:51</td>\n",
       "      <td>6040</td>\n",
       "      <td>2000-04-25</td>\n",
       "      <td>10</td>\n",
       "    </tr>\n",
       "    <tr>\n",
       "      <th>999884</th>\n",
       "      <td>6040</td>\n",
       "      <td>912</td>\n",
       "      <td>5</td>\n",
       "      <td>956704191</td>\n",
       "      <td>2000-04-25 23:09:51</td>\n",
       "      <td>6040</td>\n",
       "      <td>2000-04-25</td>\n",
       "      <td>11</td>\n",
       "    </tr>\n",
       "    <tr>\n",
       "      <th>1000186</th>\n",
       "      <td>6040</td>\n",
       "      <td>527</td>\n",
       "      <td>5</td>\n",
       "      <td>956704219</td>\n",
       "      <td>2000-04-25 23:10:19</td>\n",
       "      <td>6040</td>\n",
       "      <td>2000-04-25</td>\n",
       "      <td>12</td>\n",
       "    </tr>\n",
       "    <tr>\n",
       "      <th>1000063</th>\n",
       "      <td>6040</td>\n",
       "      <td>1252</td>\n",
       "      <td>5</td>\n",
       "      <td>956704257</td>\n",
       "      <td>2000-04-25 23:10:57</td>\n",
       "      <td>6040</td>\n",
       "      <td>2000-04-25</td>\n",
       "      <td>13</td>\n",
       "    </tr>\n",
       "    <tr>\n",
       "      <th>999953</th>\n",
       "      <td>6040</td>\n",
       "      <td>649</td>\n",
       "      <td>5</td>\n",
       "      <td>956704257</td>\n",
       "      <td>2000-04-25 23:10:57</td>\n",
       "      <td>6040</td>\n",
       "      <td>2000-04-25</td>\n",
       "      <td>14</td>\n",
       "    </tr>\n",
       "  </tbody>\n",
       "</table>\n",
       "</div>"
      ],
      "text/plain": [
       "         UserId  ItemId  Rating  Timestamp                Time  SessionId  \\\n",
       "1000138    6040     858       4  956703932 2000-04-25 23:05:32       6040   \n",
       "999873     6040     593       5  956703954 2000-04-25 23:05:54       6040   \n",
       "1000153    6040    2384       4  956703954 2000-04-25 23:05:54       6040   \n",
       "1000007    6040    1961       4  956703977 2000-04-25 23:06:17       6040   \n",
       "1000192    6040    2019       5  956703977 2000-04-25 23:06:17       6040   \n",
       "999967     6040    3111       5  956704056 2000-04-25 23:07:36       6040   \n",
       "999868     6040     573       4  956704056 2000-04-25 23:07:36       6040   \n",
       "999920     6040     213       5  956704056 2000-04-25 23:07:36       6040   \n",
       "999980     6040    3505       4  956704056 2000-04-25 23:07:36       6040   \n",
       "999971     6040    2503       5  956704191 2000-04-25 23:09:51       6040   \n",
       "999888     6040     919       5  956704191 2000-04-25 23:09:51       6040   \n",
       "999884     6040     912       5  956704191 2000-04-25 23:09:51       6040   \n",
       "1000186    6040     527       5  956704219 2000-04-25 23:10:19       6040   \n",
       "1000063    6040    1252       5  956704257 2000-04-25 23:10:57       6040   \n",
       "999953     6040     649       5  956704257 2000-04-25 23:10:57       6040   \n",
       "\n",
       "               date  item_idx  \n",
       "1000138  2000-04-25         0  \n",
       "999873   2000-04-25         1  \n",
       "1000153  2000-04-25         2  \n",
       "1000007  2000-04-25         3  \n",
       "1000192  2000-04-25         4  \n",
       "999967   2000-04-25         5  \n",
       "999868   2000-04-25         6  \n",
       "999920   2000-04-25         7  \n",
       "999980   2000-04-25         8  \n",
       "999971   2000-04-25         9  \n",
       "999888   2000-04-25        10  \n",
       "999884   2000-04-25        11  \n",
       "1000186  2000-04-25        12  \n",
       "1000063  2000-04-25        13  \n",
       "999953   2000-04-25        14  "
      ]
     },
     "execution_count": 36,
     "metadata": {},
     "output_type": "execute_result"
    }
   ],
   "source": [
    "train_data_loader = SessionDataLoader(train_dataset, batch_size=4)\n",
    "train_dataset.df.head(15)"
   ]
  },
  {
   "cell_type": "code",
   "execution_count": 37,
   "id": "7f060f6e",
   "metadata": {},
   "outputs": [],
   "source": [
    "iter_ex = iter(train_data_loader)"
   ]
  },
  {
   "cell_type": "code",
   "execution_count": 38,
   "id": "b237efca",
   "metadata": {},
   "outputs": [
    {
     "name": "stdout",
     "output_type": "stream",
     "text": [
      "Model Input Item Idx are : [  0  45 116 138]\n",
      "Label Item Idx are :       [  1  46 117 139]\n",
      "Previous Masked Input Idx are []\n"
     ]
    }
   ],
   "source": [
    "inputs, labels, mask =  next(iter_ex)\n",
    "print(f'Model Input Item Idx are : {inputs}')\n",
    "print(f'Label Item Idx are : {\"\":5} {labels}')\n",
    "print(f'Previous Masked Input Idx are {mask}')"
   ]
  },
  {
   "cell_type": "markdown",
   "id": "1d33dc39",
   "metadata": {},
   "source": [
    "### Step 3. 모델 구성\n",
    "\n",
    "------------------------------------\n",
    "\n",
    "이 부분도 실습 코드 내역을 참고하여 다양하게 모델 구조를 시도해 볼 수 있습니다."
   ]
  },
  {
   "cell_type": "markdown",
   "id": "762940b7",
   "metadata": {},
   "source": [
    "__Evaluation Metric__"
   ]
  },
  {
   "cell_type": "code",
   "execution_count": 39,
   "id": "90a475c6",
   "metadata": {},
   "outputs": [],
   "source": [
    "def mrr_k(pred, truth: int, k: int):\n",
    "    indexing = np.where(pred[:k] == truth)[0]\n",
    "    if len(indexing) > 0:\n",
    "        return 1 / (indexing[0] + 1)\n",
    "    else:\n",
    "        return 0\n",
    "\n",
    "\n",
    "def recall_k(pred, truth: int, k: int) -> int:\n",
    "    answer = truth in pred[:k]\n",
    "    return int(answer)"
   ]
  },
  {
   "cell_type": "markdown",
   "id": "6e691797",
   "metadata": {},
   "source": [
    "__Model Architecture__"
   ]
  },
  {
   "cell_type": "code",
   "execution_count": 40,
   "id": "4672fd18",
   "metadata": {},
   "outputs": [],
   "source": [
    "import numpy as np\n",
    "import tensorflow as tf\n",
    "from tensorflow.keras.layers import Input, Dense, Dropout, GRU\n",
    "from tensorflow.keras.losses import categorical_crossentropy\n",
    "from tensorflow.keras.models import Model\n",
    "from tensorflow.keras.optimizers import Adam\n",
    "from tensorflow.keras.utils import to_categorical\n",
    "from tqdm import tqdm"
   ]
  },
  {
   "cell_type": "code",
   "execution_count": 41,
   "id": "5f59d2ff",
   "metadata": {},
   "outputs": [],
   "source": [
    "def create_model(args):\n",
    "    inputs = Input(batch_shape=(args.batch_size, 1, args.num_items))\n",
    "    gru, _ = GRU(args.hsz, stateful=True, return_state=True, name='GRU')(inputs)\n",
    "    dropout = Dropout(args.drop_rate)(gru)\n",
    "    predictions = Dense(args.num_items, activation='softmax')(dropout)\n",
    "    model = Model(inputs=inputs, outputs=[predictions])\n",
    "    model.compile(loss=categorical_crossentropy, optimizer=Adam(args.lr), metrics=['accuracy'])\n",
    "    model.summary()\n",
    "    return model"
   ]
  },
  {
   "cell_type": "code",
   "execution_count": 42,
   "id": "4cd91dcd",
   "metadata": {},
   "outputs": [],
   "source": [
    "# 모델에 사용할 hyper-parameter를 class형식으로 관리하겠습니다.\n",
    "\n",
    "class Args:\n",
    "    def __init__(self, tr, val, test, batch_size, hsz, drop_rate, lr, epochs, k):\n",
    "        self.tr = tr\n",
    "        self.val = val\n",
    "        self.test = test\n",
    "        self.num_items = tr['ItemId'].nunique()\n",
    "        self.num_sessions = tr['SessionId'].nunique()\n",
    "        self.batch_size = batch_size\n",
    "        self.hsz = hsz\n",
    "        self.drop_rate = drop_rate\n",
    "        self.lr = lr\n",
    "        self.epochs = epochs\n",
    "        self.k = k\n",
    "\n",
    "args = Args(train, val, test, batch_size=128, hsz=50, drop_rate=0.1, lr=0.001, epochs=10, k=20)"
   ]
  },
  {
   "cell_type": "code",
   "execution_count": 43,
   "id": "5ea9d6db",
   "metadata": {},
   "outputs": [
    {
     "name": "stdout",
     "output_type": "stream",
     "text": [
      "Model: \"model\"\n",
      "_________________________________________________________________\n",
      "Layer (type)                 Output Shape              Param #   \n",
      "=================================================================\n",
      "input_1 (InputLayer)         [(128, 1, 3125)]          0         \n",
      "_________________________________________________________________\n",
      "GRU (GRU)                    [(128, 50), (128, 50)]    476550    \n",
      "_________________________________________________________________\n",
      "dropout (Dropout)            (128, 50)                 0         \n",
      "_________________________________________________________________\n",
      "dense (Dense)                (128, 3125)               159375    \n",
      "=================================================================\n",
      "Total params: 635,925\n",
      "Trainable params: 635,925\n",
      "Non-trainable params: 0\n",
      "_________________________________________________________________\n"
     ]
    }
   ],
   "source": [
    "model = create_model(args)"
   ]
  },
  {
   "cell_type": "markdown",
   "id": "f46dc351",
   "metadata": {},
   "source": [
    "### Step 4. 모델 학습\n",
    "\n",
    "-----------------------------\n",
    "\n",
    "다양한 하이퍼파라미터를 변경해 보며 검증해 보도록 합니다. 실습 코드에 언급되었던 Recall, MRR 등의 개념들도 함께 관리될 수 있도록 합니다."
   ]
  },
  {
   "cell_type": "code",
   "execution_count": 44,
   "id": "d9b1be3d",
   "metadata": {},
   "outputs": [],
   "source": [
    "# train 셋으로 학습하면서 valid 셋으로 검증합니다.\n",
    "def train_model(model, args):\n",
    "    train_dataset = SessionDataset(args.tr)\n",
    "    train_loader = SessionDataLoader(train_dataset, batch_size=args.batch_size)\n",
    "\n",
    "    for epoch in range(1, args.epochs + 1):\n",
    "        total_step = len(args.tr) - args.tr['SessionId'].nunique()\n",
    "        tr_loader = tqdm(train_loader, total=total_step // args.batch_size, desc='Train', mininterval=1)\n",
    "        for feat, target, mask in tr_loader:\n",
    "            reset_hidden_states(model, mask)  # 종료된 session은 hidden_state를 초기화합니다. 아래 메서드에서 확인해주세요.\n",
    "\n",
    "            input_ohe = to_categorical(feat, num_classes=args.num_items)\n",
    "            input_ohe = np.expand_dims(input_ohe, axis=1)\n",
    "            target_ohe = to_categorical(target, num_classes=args.num_items)\n",
    "\n",
    "            result = model.train_on_batch(input_ohe, target_ohe)\n",
    "            tr_loader.set_postfix(train_loss=result[0], accuracy = result[1])\n",
    "\n",
    "        val_recall, val_mrr = get_metrics(args.val, model, args, args.k)  # valid set에 대해 검증합니다.\n",
    "\n",
    "        print(f\"\\t - Recall@{args.k} epoch {epoch}: {val_recall:3f}\")\n",
    "        print(f\"\\t - MRR@{args.k}    epoch {epoch}: {val_mrr:3f}\\n\")\n",
    "\n",
    "\n",
    "def reset_hidden_states(model, mask):\n",
    "    gru_layer = model.get_layer(name='GRU')  # model에서 gru layer를 가져옵니다.\n",
    "    hidden_states = gru_layer.states[0].numpy()  # gru_layer의 parameter를 가져옵니다.\n",
    "    for elt in mask:  # mask된 인덱스 즉, 종료된 세션의 인덱스를 돌면서\n",
    "        hidden_states[elt, :] = 0  # parameter를 초기화 합니다.\n",
    "    gru_layer.reset_states(states=hidden_states)\n",
    "\n",
    "\n",
    "def get_metrics(data, model, args, k: int):  # valid셋과 test셋을 평가하는 코드입니다. \n",
    "                                             # train과 거의 같지만 mrr, recall을 구하는 라인이 있습니다.\n",
    "    dataset = SessionDataset(data)\n",
    "    loader = SessionDataLoader(dataset, batch_size=args.batch_size)\n",
    "    recall_list, mrr_list = [], []\n",
    "\n",
    "    total_step = len(data) - data['SessionId'].nunique()\n",
    "    for inputs, label, mask in tqdm(loader, total=total_step // args.batch_size, desc='Evaluation', mininterval=1):\n",
    "        reset_hidden_states(model, mask)\n",
    "        input_ohe = to_categorical(inputs, num_classes=args.num_items)\n",
    "        input_ohe = np.expand_dims(input_ohe, axis=1)\n",
    "\n",
    "        pred = model.predict(input_ohe, batch_size=args.batch_size)\n",
    "        pred_arg = tf.argsort(pred, direction='DESCENDING')  # softmax 값이 큰 순서대로 sorting 합니다.\n",
    "\n",
    "        length = len(inputs)\n",
    "        recall_list.extend([recall_k(pred_arg[i], label[i], k) for i in range(length)])\n",
    "        mrr_list.extend([mrr_k(pred_arg[i], label[i], k) for i in range(length)])\n",
    "\n",
    "    recall, mrr = np.mean(recall_list), np.mean(mrr_list)\n",
    "    return recall, mrr"
   ]
  },
  {
   "cell_type": "markdown",
   "id": "e7553601",
   "metadata": {},
   "source": [
    "__model_1__  \n",
    "\n",
    "train, val, test, batch_size=256, hsz=50, drop_rate=0.1, lr=0.001, epochs=10, k=20"
   ]
  },
  {
   "cell_type": "code",
   "execution_count": 45,
   "id": "ca6e5027",
   "metadata": {},
   "outputs": [
    {
     "name": "stderr",
     "output_type": "stream",
     "text": [
      "Train:  98%|█████████▊| 3563/3646 [01:11<00:01, 49.83it/s, accuracy=0.00781, train_loss=7.21]\n",
      "Evaluation:  29%|██▉       | 67/230 [00:38<01:34,  1.73it/s]\n"
     ]
    },
    {
     "name": "stdout",
     "output_type": "stream",
     "text": [
      "\t - Recall@20 epoch 1: 0.097248\n",
      "\t - MRR@20    epoch 1: 0.021110\n",
      "\n"
     ]
    },
    {
     "name": "stderr",
     "output_type": "stream",
     "text": [
      "Train:  98%|█████████▊| 3563/3646 [00:48<00:01, 73.83it/s, accuracy=0.0156, train_loss=6.83] \n",
      "Evaluation:  29%|██▉       | 67/230 [00:36<01:29,  1.82it/s]\n"
     ]
    },
    {
     "name": "stdout",
     "output_type": "stream",
     "text": [
      "\t - Recall@20 epoch 2: 0.171409\n",
      "\t - MRR@20    epoch 2: 0.040135\n",
      "\n"
     ]
    },
    {
     "name": "stderr",
     "output_type": "stream",
     "text": [
      "Train:  98%|█████████▊| 3563/3646 [00:47<00:01, 75.34it/s, accuracy=0.00781, train_loss=6.64]\n",
      "Evaluation:  29%|██▉       | 67/230 [00:36<01:28,  1.84it/s]\n"
     ]
    },
    {
     "name": "stdout",
     "output_type": "stream",
     "text": [
      "\t - Recall@20 epoch 3: 0.195546\n",
      "\t - MRR@20    epoch 3: 0.046533\n",
      "\n"
     ]
    },
    {
     "name": "stderr",
     "output_type": "stream",
     "text": [
      "Train:  98%|█████████▊| 3563/3646 [00:47<00:01, 74.27it/s, accuracy=0.0156, train_loss=6.51] \n",
      "Evaluation:  29%|██▉       | 67/230 [00:35<01:27,  1.87it/s]\n"
     ]
    },
    {
     "name": "stdout",
     "output_type": "stream",
     "text": [
      "\t - Recall@20 epoch 4: 0.211754\n",
      "\t - MRR@20    epoch 4: 0.049868\n",
      "\n"
     ]
    },
    {
     "name": "stderr",
     "output_type": "stream",
     "text": [
      "Train:  98%|█████████▊| 3563/3646 [00:47<00:01, 74.94it/s, accuracy=0.00781, train_loss=6.45]\n",
      "Evaluation:  29%|██▉       | 67/230 [00:36<01:28,  1.85it/s]\n"
     ]
    },
    {
     "name": "stdout",
     "output_type": "stream",
     "text": [
      "\t - Recall@20 epoch 5: 0.219100\n",
      "\t - MRR@20    epoch 5: 0.052680\n",
      "\n"
     ]
    },
    {
     "name": "stderr",
     "output_type": "stream",
     "text": [
      "Train:  98%|█████████▊| 3563/3646 [00:48<00:01, 74.16it/s, accuracy=0.0234, train_loss=6.36] \n",
      "Evaluation:  29%|██▉       | 67/230 [00:35<01:26,  1.88it/s]\n"
     ]
    },
    {
     "name": "stdout",
     "output_type": "stream",
     "text": [
      "\t - Recall@20 epoch 6: 0.225047\n",
      "\t - MRR@20    epoch 6: 0.053814\n",
      "\n"
     ]
    },
    {
     "name": "stderr",
     "output_type": "stream",
     "text": [
      "Train:  98%|█████████▊| 3563/3646 [00:47<00:01, 74.50it/s, accuracy=0.0156, train_loss=6.29] \n",
      "Evaluation:  29%|██▉       | 67/230 [00:35<01:26,  1.88it/s]\n"
     ]
    },
    {
     "name": "stdout",
     "output_type": "stream",
     "text": [
      "\t - Recall@20 epoch 7: 0.227845\n",
      "\t - MRR@20    epoch 7: 0.054480\n",
      "\n"
     ]
    },
    {
     "name": "stderr",
     "output_type": "stream",
     "text": [
      "Train:  98%|█████████▊| 3563/3646 [00:47<00:01, 74.92it/s, accuracy=0.0312, train_loss=6.3]  \n",
      "Evaluation:  29%|██▉       | 67/230 [00:36<01:27,  1.86it/s]\n"
     ]
    },
    {
     "name": "stdout",
     "output_type": "stream",
     "text": [
      "\t - Recall@20 epoch 8: 0.228195\n",
      "\t - MRR@20    epoch 8: 0.055596\n",
      "\n"
     ]
    },
    {
     "name": "stderr",
     "output_type": "stream",
     "text": [
      "Train:  98%|█████████▊| 3563/3646 [00:47<00:01, 74.99it/s, accuracy=0.0234, train_loss=6.27] \n",
      "Evaluation:  29%|██▉       | 67/230 [00:35<01:25,  1.90it/s]\n"
     ]
    },
    {
     "name": "stdout",
     "output_type": "stream",
     "text": [
      "\t - Recall@20 epoch 9: 0.226096\n",
      "\t - MRR@20    epoch 9: 0.056607\n",
      "\n"
     ]
    },
    {
     "name": "stderr",
     "output_type": "stream",
     "text": [
      "Train:  98%|█████████▊| 3563/3646 [00:47<00:01, 75.56it/s, accuracy=0.0156, train_loss=6.31] \n",
      "Evaluation:  29%|██▉       | 67/230 [00:35<01:25,  1.90it/s]"
     ]
    },
    {
     "name": "stdout",
     "output_type": "stream",
     "text": [
      "\t - Recall@20 epoch 10: 0.223881\n",
      "\t - MRR@20    epoch 10: 0.056026\n",
      "\n"
     ]
    },
    {
     "name": "stderr",
     "output_type": "stream",
     "text": [
      "\n"
     ]
    }
   ],
   "source": [
    "# 학습 시간이 다소 오래 소요됩니다. 아래 주석을 풀지 마세요.\n",
    "train_model(model, args)"
   ]
  },
  {
   "cell_type": "markdown",
   "id": "31582d29",
   "metadata": {},
   "source": [
    "> val 인덱싱에서 문제가 있었는데 날짜를 늘리니까 갑자기 됐다.\n",
    "아무래도 길이가 너무 짧아서 문제가 있었던거 같다. "
   ]
  },
  {
   "cell_type": "markdown",
   "id": "44c3a240",
   "metadata": {},
   "source": [
    "### Step 5. 모델 테스트\n",
    "\n",
    "-------------------------\n",
    "\n",
    "미리 구성한 테스트셋을 바탕으로 Recall, MRR 을 확인해 봅니다."
   ]
  },
  {
   "cell_type": "code",
   "execution_count": 46,
   "id": "88571acd",
   "metadata": {},
   "outputs": [],
   "source": [
    "def test_model(model, args, test):\n",
    "    test_recall, test_mrr = get_metrics(test, model, args, 20)\n",
    "    print(f\"\\t - Recall@{args.k}: {test_recall:3f}\")\n",
    "    print(f\"\\t - MRR@{args.k}: {test_mrr:3f}\\n\")"
   ]
  },
  {
   "cell_type": "code",
   "execution_count": 47,
   "id": "bcff83b0",
   "metadata": {
    "scrolled": true
   },
   "outputs": [
    {
     "name": "stderr",
     "output_type": "stream",
     "text": [
      "Evaluation:  68%|██████▊   | 383/562 [03:22<01:34,  1.89it/s]"
     ]
    },
    {
     "name": "stdout",
     "output_type": "stream",
     "text": [
      "\t - Recall@20: 0.223340\n",
      "\t - MRR@20: 0.054573\n",
      "\n"
     ]
    },
    {
     "name": "stderr",
     "output_type": "stream",
     "text": [
      "\n"
     ]
    }
   ],
   "source": [
    "test_model(model, args, test)"
   ]
  },
  {
   "cell_type": "markdown",
   "id": "354e037e",
   "metadata": {},
   "source": [
    "### Step 6. 하이퍼 파라미터 수정"
   ]
  },
  {
   "cell_type": "markdown",
   "id": "b14684a7",
   "metadata": {},
   "source": [
    "__model_2__\n",
    "\n",
    "train, val, test, batch_size=256, hsz=100, drop_rate=0.1, lr=0.001, epochs=10, k=40"
   ]
  },
  {
   "cell_type": "code",
   "execution_count": 48,
   "id": "6931b67c",
   "metadata": {
    "scrolled": false
   },
   "outputs": [
    {
     "name": "stdout",
     "output_type": "stream",
     "text": [
      "Model: \"model_1\"\n",
      "_________________________________________________________________\n",
      "Layer (type)                 Output Shape              Param #   \n",
      "=================================================================\n",
      "input_2 (InputLayer)         [(128, 1, 3125)]          0         \n",
      "_________________________________________________________________\n",
      "GRU (GRU)                    [(128, 100), (128, 100)]  968100    \n",
      "_________________________________________________________________\n",
      "dropout_1 (Dropout)          (128, 100)                0         \n",
      "_________________________________________________________________\n",
      "dense_1 (Dense)              (128, 3125)               315625    \n",
      "=================================================================\n",
      "Total params: 1,283,725\n",
      "Trainable params: 1,283,725\n",
      "Non-trainable params: 0\n",
      "_________________________________________________________________\n"
     ]
    },
    {
     "name": "stderr",
     "output_type": "stream",
     "text": [
      "Train:  98%|█████████▊| 3563/3646 [00:50<00:01, 70.74it/s, accuracy=0.00781, train_loss=7.01]\n",
      "Evaluation:  29%|██▉       | 67/230 [01:03<02:35,  1.05it/s]\n"
     ]
    },
    {
     "name": "stdout",
     "output_type": "stream",
     "text": [
      "\t - Recall@40 epoch 1: 0.227379\n",
      "\t - MRR@40    epoch 1: 0.035723\n",
      "\n"
     ]
    },
    {
     "name": "stderr",
     "output_type": "stream",
     "text": [
      "Train:  98%|█████████▊| 3563/3646 [00:49<00:01, 72.14it/s, accuracy=0, train_loss=6.59]      \n",
      "Evaluation:  29%|██▉       | 67/230 [00:59<02:24,  1.13it/s]\n"
     ]
    },
    {
     "name": "stdout",
     "output_type": "stream",
     "text": [
      "\t - Recall@40 epoch 2: 0.302006\n",
      "\t - MRR@40    epoch 2: 0.051507\n",
      "\n"
     ]
    },
    {
     "name": "stderr",
     "output_type": "stream",
     "text": [
      "Train:  98%|█████████▊| 3563/3646 [00:49<00:01, 71.85it/s, accuracy=0.0156, train_loss=6.41] \n",
      "Evaluation:  29%|██▉       | 67/230 [00:59<02:25,  1.12it/s]\n"
     ]
    },
    {
     "name": "stdout",
     "output_type": "stream",
     "text": [
      "\t - Recall@40 epoch 3: 0.323461\n",
      "\t - MRR@40    epoch 3: 0.057051\n",
      "\n"
     ]
    },
    {
     "name": "stderr",
     "output_type": "stream",
     "text": [
      "Train:  98%|█████████▊| 3563/3646 [00:49<00:01, 71.65it/s, accuracy=0.00781, train_loss=6.32]\n",
      "Evaluation:  29%|██▉       | 67/230 [00:58<02:22,  1.14it/s]\n"
     ]
    },
    {
     "name": "stdout",
     "output_type": "stream",
     "text": [
      "\t - Recall@40 epoch 4: 0.333372\n",
      "\t - MRR@40    epoch 4: 0.059967\n",
      "\n"
     ]
    },
    {
     "name": "stderr",
     "output_type": "stream",
     "text": [
      "Train:  98%|█████████▊| 3563/3646 [00:49<00:01, 71.62it/s, accuracy=0.0312, train_loss=6.21] \n",
      "Evaluation:  29%|██▉       | 67/230 [00:59<02:24,  1.13it/s]\n"
     ]
    },
    {
     "name": "stdout",
     "output_type": "stream",
     "text": [
      "\t - Recall@40 epoch 5: 0.337920\n",
      "\t - MRR@40    epoch 5: 0.061166\n",
      "\n"
     ]
    },
    {
     "name": "stderr",
     "output_type": "stream",
     "text": [
      "Train:  98%|█████████▊| 3563/3646 [00:50<00:01, 70.21it/s, accuracy=0.0234, train_loss=6.14] \n",
      "Evaluation:  29%|██▉       | 67/230 [00:59<02:23,  1.14it/s]\n"
     ]
    },
    {
     "name": "stdout",
     "output_type": "stream",
     "text": [
      "\t - Recall@40 epoch 6: 0.334538\n",
      "\t - MRR@40    epoch 6: 0.062194\n",
      "\n"
     ]
    },
    {
     "name": "stderr",
     "output_type": "stream",
     "text": [
      "Train:  98%|█████████▊| 3563/3646 [00:49<00:01, 71.50it/s, accuracy=0.0156, train_loss=6.08] \n",
      "Evaluation:  29%|██▉       | 67/230 [00:57<02:20,  1.16it/s]\n"
     ]
    },
    {
     "name": "stdout",
     "output_type": "stream",
     "text": [
      "\t - Recall@40 epoch 7: 0.333605\n",
      "\t - MRR@40    epoch 7: 0.063174\n",
      "\n"
     ]
    },
    {
     "name": "stderr",
     "output_type": "stream",
     "text": [
      "Train:  98%|█████████▊| 3563/3646 [00:48<00:01, 72.90it/s, accuracy=0.0391, train_loss=5.98] \n",
      "Evaluation:  29%|██▉       | 67/230 [00:57<02:20,  1.16it/s]\n"
     ]
    },
    {
     "name": "stdout",
     "output_type": "stream",
     "text": [
      "\t - Recall@40 epoch 8: 0.331040\n",
      "\t - MRR@40    epoch 8: 0.062816\n",
      "\n"
     ]
    },
    {
     "name": "stderr",
     "output_type": "stream",
     "text": [
      "Train:  98%|█████████▊| 3563/3646 [00:48<00:01, 72.90it/s, accuracy=0.0156, train_loss=5.91] \n",
      "Evaluation:  29%|██▉       | 67/230 [00:57<02:20,  1.16it/s]\n"
     ]
    },
    {
     "name": "stdout",
     "output_type": "stream",
     "text": [
      "\t - Recall@40 epoch 9: 0.328825\n",
      "\t - MRR@40    epoch 9: 0.062251\n",
      "\n"
     ]
    },
    {
     "name": "stderr",
     "output_type": "stream",
     "text": [
      "Train:  98%|█████████▊| 3563/3646 [00:48<00:01, 73.06it/s, accuracy=0.0547, train_loss=5.8]  \n",
      "Evaluation:  29%|██▉       | 67/230 [00:57<02:20,  1.16it/s]\n"
     ]
    },
    {
     "name": "stdout",
     "output_type": "stream",
     "text": [
      "\t - Recall@40 epoch 10: 0.325326\n",
      "\t - MRR@40    epoch 10: 0.062674\n",
      "\n"
     ]
    },
    {
     "name": "stderr",
     "output_type": "stream",
     "text": [
      "Train:  98%|█████████▊| 3563/3646 [00:48<00:01, 73.00it/s, accuracy=0.0391, train_loss=5.74] \n",
      "Evaluation:  29%|██▉       | 67/230 [00:57<02:20,  1.16it/s]\n"
     ]
    },
    {
     "name": "stdout",
     "output_type": "stream",
     "text": [
      "\t - Recall@40 epoch 11: 0.323694\n",
      "\t - MRR@40    epoch 11: 0.062343\n",
      "\n"
     ]
    },
    {
     "name": "stderr",
     "output_type": "stream",
     "text": [
      "Train:  98%|█████████▊| 3563/3646 [00:48<00:01, 72.85it/s, accuracy=0.0547, train_loss=5.74] \n",
      "Evaluation:  29%|██▉       | 67/230 [00:58<02:21,  1.15it/s]\n"
     ]
    },
    {
     "name": "stdout",
     "output_type": "stream",
     "text": [
      "\t - Recall@40 epoch 12: 0.322178\n",
      "\t - MRR@40    epoch 12: 0.061193\n",
      "\n"
     ]
    },
    {
     "name": "stderr",
     "output_type": "stream",
     "text": [
      "Train:  98%|█████████▊| 3563/3646 [00:49<00:01, 72.59it/s, accuracy=0.0547, train_loss=5.66] \n",
      "Evaluation:  29%|██▉       | 67/230 [00:59<02:24,  1.13it/s]\n"
     ]
    },
    {
     "name": "stdout",
     "output_type": "stream",
     "text": [
      "\t - Recall@40 epoch 13: 0.318214\n",
      "\t - MRR@40    epoch 13: 0.061666\n",
      "\n"
     ]
    },
    {
     "name": "stderr",
     "output_type": "stream",
     "text": [
      "Train:  98%|█████████▊| 3563/3646 [00:49<00:01, 72.29it/s, accuracy=0.0703, train_loss=5.62] \n",
      "Evaluation:  29%|██▉       | 67/230 [00:58<02:21,  1.15it/s]\n"
     ]
    },
    {
     "name": "stdout",
     "output_type": "stream",
     "text": [
      "\t - Recall@40 epoch 14: 0.317631\n",
      "\t - MRR@40    epoch 14: 0.061114\n",
      "\n"
     ]
    },
    {
     "name": "stderr",
     "output_type": "stream",
     "text": [
      "Train:  98%|█████████▊| 3563/3646 [00:48<00:01, 73.44it/s, accuracy=0.0625, train_loss=5.6]  \n",
      "Evaluation:  29%|██▉       | 67/230 [00:58<02:22,  1.14it/s]\n"
     ]
    },
    {
     "name": "stdout",
     "output_type": "stream",
     "text": [
      "\t - Recall@40 epoch 15: 0.315065\n",
      "\t - MRR@40    epoch 15: 0.060575\n",
      "\n"
     ]
    },
    {
     "name": "stderr",
     "output_type": "stream",
     "text": [
      "Train:  98%|█████████▊| 3563/3646 [00:49<00:01, 72.36it/s, accuracy=0.0625, train_loss=5.57] \n",
      "Evaluation:  29%|██▉       | 67/230 [00:58<02:22,  1.15it/s]\n"
     ]
    },
    {
     "name": "stdout",
     "output_type": "stream",
     "text": [
      "\t - Recall@40 epoch 16: 0.314366\n",
      "\t - MRR@40    epoch 16: 0.060423\n",
      "\n"
     ]
    },
    {
     "name": "stderr",
     "output_type": "stream",
     "text": [
      "Train:  98%|█████████▊| 3563/3646 [00:49<00:01, 71.97it/s, accuracy=0.0781, train_loss=5.5]  \n",
      "Evaluation:  29%|██▉       | 67/230 [00:58<02:21,  1.15it/s]\n"
     ]
    },
    {
     "name": "stdout",
     "output_type": "stream",
     "text": [
      "\t - Recall@40 epoch 17: 0.312850\n",
      "\t - MRR@40    epoch 17: 0.060967\n",
      "\n"
     ]
    },
    {
     "name": "stderr",
     "output_type": "stream",
     "text": [
      "Train:  98%|█████████▊| 3563/3646 [00:48<00:01, 73.23it/s, accuracy=0.0625, train_loss=5.5]  \n",
      "Evaluation:  29%|██▉       | 67/230 [00:58<02:21,  1.15it/s]\n"
     ]
    },
    {
     "name": "stdout",
     "output_type": "stream",
     "text": [
      "\t - Recall@40 epoch 18: 0.310868\n",
      "\t - MRR@40    epoch 18: 0.060632\n",
      "\n"
     ]
    },
    {
     "name": "stderr",
     "output_type": "stream",
     "text": [
      "Train:  98%|█████████▊| 3563/3646 [00:48<00:01, 73.74it/s, accuracy=0.0547, train_loss=5.45] \n",
      "Evaluation:  29%|██▉       | 67/230 [00:57<02:20,  1.16it/s]\n"
     ]
    },
    {
     "name": "stdout",
     "output_type": "stream",
     "text": [
      "\t - Recall@40 epoch 19: 0.310984\n",
      "\t - MRR@40    epoch 19: 0.060271\n",
      "\n"
     ]
    },
    {
     "name": "stderr",
     "output_type": "stream",
     "text": [
      "Train:  98%|█████████▊| 3563/3646 [00:48<00:01, 73.30it/s, accuracy=0.109, train_loss=5.4]   \n",
      "Evaluation:  29%|██▉       | 67/230 [00:58<02:21,  1.15it/s]"
     ]
    },
    {
     "name": "stdout",
     "output_type": "stream",
     "text": [
      "\t - Recall@40 epoch 20: 0.308652\n",
      "\t - MRR@40    epoch 20: 0.059203\n",
      "\n"
     ]
    },
    {
     "name": "stderr",
     "output_type": "stream",
     "text": [
      "\n"
     ]
    }
   ],
   "source": [
    "args = Args(train, val, test, batch_size=128, hsz=100, drop_rate=0.1, lr=0.001, epochs=20, k=40)\n",
    "model_2 = create_model(args)\n",
    "train_model(model_2, args)"
   ]
  },
  {
   "cell_type": "code",
   "execution_count": 49,
   "id": "271654a9",
   "metadata": {},
   "outputs": [
    {
     "name": "stderr",
     "output_type": "stream",
     "text": [
      "Evaluation:  68%|██████▊   | 383/562 [03:20<01:33,  1.91it/s]"
     ]
    },
    {
     "name": "stdout",
     "output_type": "stream",
     "text": [
      "\t - Recall@40: 0.205348\n",
      "\t - MRR@40: 0.052541\n",
      "\n"
     ]
    },
    {
     "name": "stderr",
     "output_type": "stream",
     "text": [
      "\n"
     ]
    }
   ],
   "source": [
    "test_model(model_2, args, test)"
   ]
  },
  {
   "cell_type": "markdown",
   "id": "f17ab288",
   "metadata": {},
   "source": [
    "## 회고\n",
    "> Session을 최선을 다해서 나누어 봤는데 결론은 userid를 기반을 만드는것이 가장 recall지표가 높았다. \n",
    "결론적으로 중앙값이나, 유저별로 특정한 시그널을 기준으로 session을 구분하는것은 어렵기도 하거니와 그냥 유저별로 일정텀이 넘어가면 session을 나누는 방법보다 특별히 효율적일것 같지 않았다. \n",
    "물론 내가 생각한 것보다 정교하게 session을 나누는 방법이 있을수도 있지만 내가 내린 결론은 movielens data는 영화데이터이고 심지어 영화를 보고 바로 평가하는 데이터가 아니라 이미 본 영화에 대해서 평가하는 시점만 다른 데이터라 지금 내가 보고싶은 영화를 추천해주는 세션 베이스 추천의 의미가 많이 퇴색될것으로 판단되었다. \n",
    "추후에 MF 방식을 활용해 다시 실험해보고싶다"
   ]
  },
  {
   "cell_type": "code",
   "execution_count": null,
   "id": "b7491b18",
   "metadata": {},
   "outputs": [],
   "source": []
  }
 ],
 "metadata": {
  "kernelspec": {
   "display_name": "Python 3 (ipykernel)",
   "language": "python",
   "name": "python3"
  },
  "language_info": {
   "codemirror_mode": {
    "name": "ipython",
    "version": 3
   },
   "file_extension": ".py",
   "mimetype": "text/x-python",
   "name": "python",
   "nbconvert_exporter": "python",
   "pygments_lexer": "ipython3",
   "version": "3.9.7"
  }
 },
 "nbformat": 4,
 "nbformat_minor": 5
}
