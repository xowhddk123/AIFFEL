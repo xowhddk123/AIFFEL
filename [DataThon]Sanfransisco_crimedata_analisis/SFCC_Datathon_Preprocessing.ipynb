{
 "cells": [
  {
   "cell_type": "markdown",
   "metadata": {},
   "source": [
    "# 전처리"
   ]
  },
  {
   "cell_type": "code",
   "execution_count": null,
   "metadata": {
    "id": "WGnk601bJ-5P"
   },
   "outputs": [],
   "source": [
    "import pandas as pd\n",
    "import numpy as np\n",
    "import matplotlib.pyplot as plt\n",
    "import seaborn as sns\n",
    "%matplotlib inline"
   ]
  },
  {
   "cell_type": "code",
   "execution_count": null,
   "metadata": {
    "id": "v_cli-wMKoTq"
   },
   "outputs": [],
   "source": [
    "train = pd.read_csv(\"train.csv\")"
   ]
  },
  {
   "cell_type": "markdown",
   "metadata": {},
   "source": [
    "## 데이터 확인"
   ]
  },
  {
   "cell_type": "code",
   "execution_count": null,
   "metadata": {},
   "outputs": [],
   "source": [
    "train"
   ]
  },
  {
   "cell_type": "markdown",
   "metadata": {
    "id": "-A6BZLR4W8ON"
   },
   "source": [
    "### 데이터 설명\n",
    "1. Category : 범죄 유형 - Target 데이터\n",
    "2. Dates : 발생 일자\n",
    "3. Descript : 범죄 상세 설명 \n",
    "4. DayOfWeek : 요일\n",
    "5. PdDistrict : 관할구역(총 10개) \n",
    "6. Resolution : 해결여부 \n",
    "7. Address : 범죄 발생 주소\n",
    "8. X, Y : 범죄 발생 장소의 경도, 위도"
   ]
  },
  {
   "cell_type": "markdown",
   "metadata": {},
   "source": [
    "- 데이터 개수 : 878,049개\n",
    "- 특징 개수 : 9개"
   ]
  },
  {
   "cell_type": "markdown",
   "metadata": {},
   "source": [
    "## 중복데이터 제거"
   ]
  },
  {
   "cell_type": "code",
   "execution_count": null,
   "metadata": {},
   "outputs": [],
   "source": [
    "# 중복값 확인\n",
    "train.duplicated().sum()"
   ]
  },
  {
   "cell_type": "code",
   "execution_count": null,
   "metadata": {
    "colab": {
     "base_uri": "https://localhost:8080/"
    },
    "executionInfo": {
     "elapsed": 2560,
     "status": "ok",
     "timestamp": 1663912798240,
     "user": {
      "displayName": "노현호 (노가리)",
      "userId": "08293160297861219477"
     },
     "user_tz": -540
    },
    "id": "si1YSOb0SjMK",
    "outputId": "2e68414d-7e3f-4052-8dcd-9ea19df2b4d1"
   },
   "outputs": [],
   "source": [
    "# 중복값 제거\n",
    "train = train.drop_duplicates().reset_index(drop=True)\n",
    "train"
   ]
  },
  {
   "cell_type": "markdown",
   "metadata": {},
   "source": [
    "## 이상치 제거"
   ]
  },
  {
   "cell_type": "code",
   "execution_count": null,
   "metadata": {},
   "outputs": [],
   "source": [
    "# 위도, 경도 좌표로 그래프 그리기\n",
    "plt.figure(figsize=(10,8))\n",
    "\n",
    "sns.scatterplot(x=train['X'], y=train['Y'])"
   ]
  },
  {
   "cell_type": "markdown",
   "metadata": {},
   "source": [
    "- 이상치로 인해 위의 그래프에서 샌프란시스코 지역을 볼 수 없음"
   ]
  },
  {
   "cell_type": "code",
   "execution_count": null,
   "metadata": {},
   "outputs": [],
   "source": [
    "# 좌표에서 가장 큰 값(이상치)을 확인\n",
    "train['X'].max(), train['Y'].max()"
   ]
  },
  {
   "cell_type": "markdown",
   "metadata": {},
   "source": [
    "- 경도 -122를 벗어난 -120 이상치 발견"
   ]
  },
  {
   "cell_type": "code",
   "execution_count": null,
   "metadata": {},
   "outputs": [],
   "source": [
    "# 경도 -122보다 낮은 값들만 추출\n",
    "train = train[train['X'] < -122]\n",
    "train.head()"
   ]
  },
  {
   "cell_type": "code",
   "execution_count": null,
   "metadata": {},
   "outputs": [],
   "source": [
    "# 위도, 경도 좌표로 그래프 그리기\n",
    "plt.figure(figsize=(10,8))\n",
    "\n",
    "sns.scatterplot(x=train['X'], y=train['Y'])"
   ]
  },
  {
   "cell_type": "markdown",
   "metadata": {},
   "source": [
    "## 결측치 확인"
   ]
  },
  {
   "cell_type": "code",
   "execution_count": null,
   "metadata": {
    "colab": {
     "base_uri": "https://localhost:8080/"
    },
    "executionInfo": {
     "elapsed": 871,
     "status": "ok",
     "timestamp": 1663912802715,
     "user": {
      "displayName": "노현호 (노가리)",
      "userId": "08293160297861219477"
     },
     "user_tz": -540
    },
    "id": "fej7YaOQVgUV",
    "outputId": "6cac32a2-7975-41b9-c999-38e27589210c"
   },
   "outputs": [],
   "source": [
    "train.isnull().sum()                    # 결측치 없음                 "
   ]
  },
  {
   "cell_type": "markdown",
   "metadata": {},
   "source": [
    "## Dates 세분화"
   ]
  },
  {
   "cell_type": "markdown",
   "metadata": {},
   "source": [
    "### Dates 피처 속성 변환 & 년,월,일,시,분 세분화"
   ]
  },
  {
   "cell_type": "code",
   "execution_count": null,
   "metadata": {},
   "outputs": [],
   "source": [
    "# 컬럼별 데이터 타입 확인\n",
    "train.dtypes"
   ]
  },
  {
   "cell_type": "markdown",
   "metadata": {},
   "source": [
    "- Dates 컬럼 데이터 타입은 문자열이므로 datetime 형으로 변환\n",
    "- 필요한 년, 월, 일, 시, 분, 초 추출 후 새로운 컬럼으로 추가"
   ]
  },
  {
   "cell_type": "code",
   "execution_count": null,
   "metadata": {},
   "outputs": [],
   "source": [
    "# datetime으로 변경하는 함수 정의\n",
    "def to_datetime(data):\n",
    "    data['Dates'] = pd.to_datetime(data['Dates'])\n",
    "    \n",
    "    data['Year'] = data['Dates'].dt.year.astype('int')\n",
    "    data['Month'] = data['Dates'].dt.month.astype('int')\n",
    "    data['Day'] = data['Dates'].dt.day.astype('int')\n",
    "    data['Hour'] = data['Dates'].dt.hour.astype('int')\n",
    "    data['Minute'] = data['Dates'].dt.minute.astype('int')\n",
    "    data['Second'] = data['Dates'].dt.second.astype('int')\n",
    "    \n",
    "    return data"
   ]
  },
  {
   "cell_type": "code",
   "execution_count": null,
   "metadata": {
    "id": "omChnUf1K92f"
   },
   "outputs": [],
   "source": [
    "# 날짜 데이터 datetimes64 타입으로 변경\n",
    "train = to_datetime(train.copy())"
   ]
  },
  {
   "cell_type": "code",
   "execution_count": null,
   "metadata": {},
   "outputs": [],
   "source": [
    "# datetime으로 변경됐는지 확인\n",
    "train.dtypes"
   ]
  },
  {
   "cell_type": "markdown",
   "metadata": {},
   "source": [
    "### 평일, 주말 구분"
   ]
  },
  {
   "cell_type": "code",
   "execution_count": null,
   "metadata": {},
   "outputs": [],
   "source": [
    "# train 데이터셋 주말, 평일 추출 함수 정의\n",
    "def weekday_weekend(data):\n",
    "    data['is_weeked'] = data['DayOfWeek'].apply(lambda x : 'weekend' if x == 'Saturday' or x =='Sunday' else 'weekday')\n",
    "    \n",
    "    return data"
   ]
  },
  {
   "cell_type": "code",
   "execution_count": null,
   "metadata": {
    "colab": {
     "base_uri": "https://localhost:8080/",
     "height": 327
    },
    "executionInfo": {
     "elapsed": 1048,
     "status": "ok",
     "timestamp": 1663912814494,
     "user": {
      "displayName": "노현호 (노가리)",
      "userId": "08293160297861219477"
     },
     "user_tz": -540
    },
    "id": "XURev8KktTef",
    "outputId": "71a557a8-d21e-45f4-caeb-0b3b9a59d611"
   },
   "outputs": [],
   "source": [
    "# train 데이터셋 주말, 평일 추출후 컬럼 옆에 추가하기\n",
    "train = weekday_weekend(train.copy())"
   ]
  },
  {
   "cell_type": "markdown",
   "metadata": {},
   "source": [
    "### 계절 구분"
   ]
  },
  {
   "cell_type": "code",
   "execution_count": null,
   "metadata": {
    "executionInfo": {
     "elapsed": 484,
     "status": "ok",
     "timestamp": 1663915936426,
     "user": {
      "displayName": "노현호 (노가리)",
      "userId": "08293160297861219477"
     },
     "user_tz": -540
    },
    "id": "lJW7VwL_rwb4"
   },
   "outputs": [],
   "source": [
    "# 계절 컬럼 추가하는 함수 정의\n",
    "def season(m):\n",
    "  if 3 <= m <= 5:\n",
    "    season = 'spring'\n",
    "  elif 6 <= m <=8:\n",
    "    season = 'summer'\n",
    "  elif 9 <= m <= 11:\n",
    "    season = 'fall'\n",
    "  else:\n",
    "    season = 'winter'\n",
    "\n",
    "  return season"
   ]
  },
  {
   "cell_type": "code",
   "execution_count": null,
   "metadata": {
    "executionInfo": {
     "elapsed": 379,
     "status": "ok",
     "timestamp": 1663915938151,
     "user": {
      "displayName": "노현호 (노가리)",
      "userId": "08293160297861219477"
     },
     "user_tz": -540
    },
    "id": "m83DAdds9Eye"
   },
   "outputs": [],
   "source": [
    "# 계절 컬럼 추가하기\n",
    "train['Season'] = train['Month'].apply(season)"
   ]
  },
  {
   "cell_type": "code",
   "execution_count": null,
   "metadata": {
    "colab": {
     "base_uri": "https://localhost:8080/"
    },
    "executionInfo": {
     "elapsed": 7,
     "status": "ok",
     "timestamp": 1663915941145,
     "user": {
      "displayName": "노현호 (노가리)",
      "userId": "08293160297861219477"
     },
     "user_tz": -540
    },
    "id": "rdXQO3Sr7Pny",
    "outputId": "a37ae7e7-8ccf-439c-8014-c09f8869c6b3"
   },
   "outputs": [],
   "source": [
    "# 계절 추가된지 확인하기\n",
    "train['Season'].unique()"
   ]
  },
  {
   "cell_type": "markdown",
   "metadata": {},
   "source": [
    "## 추가된 컬럼 설명"
   ]
  },
  {
   "cell_type": "code",
   "execution_count": null,
   "metadata": {},
   "outputs": [],
   "source": [
    "train.columns"
   ]
  },
  {
   "cell_type": "markdown",
   "metadata": {},
   "source": [
    "Year    : Dates에서 년도만 추출<br>\n",
    "Month   : Dates에서 월만 추출<br>\n",
    "Day     : Dates에서 일만 추출<br>\n",
    "Hour    : Dates에서 시간만 추출<br>\n",
    "Minute  : Dates에서 분만 추출<br>\n",
    "Second  : Dates에서 초만 추출<br>\n",
    "is_weeked : DayOfWeek에서 Saturday 또는 Sunday 이면 'weekend'로 아니면 'weekday' 로 변경 <br>\n",
    "Season  : 12월-2월 'winter', 3월-5월 'spring', 6월-8월 'summer', 9월-11월 'fall'\n"
   ]
  },
  {
   "cell_type": "code",
   "execution_count": null,
   "metadata": {},
   "outputs": [],
   "source": []
  }
 ],
 "metadata": {
  "colab": {
   "authorship_tag": "ABX9TyNoids2CpWiQgJvRGPoMZKX",
   "mount_file_id": "1bepUuOpObwAC201alI2IzMd2MldHTRLx",
   "provenance": []
  },
  "kernelspec": {
   "display_name": "Python 3 (ipykernel)",
   "language": "python",
   "name": "python3"
  },
  "language_info": {
   "codemirror_mode": {
    "name": "ipython",
    "version": 3
   },
   "file_extension": ".py",
   "mimetype": "text/x-python",
   "name": "python",
   "nbconvert_exporter": "python",
   "pygments_lexer": "ipython3",
   "version": "3.9.7"
  }
 },
 "nbformat": 4,
 "nbformat_minor": 4
}
