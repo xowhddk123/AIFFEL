{
 "cells": [
  {
   "cell_type": "markdown",
   "id": "5de6e62d",
   "metadata": {},
   "source": [
    "## 13-9. 프로젝트 - Movielens 영화 추천 실습"
   ]
  },
  {
   "cell_type": "markdown",
   "id": "ac87fd5f",
   "metadata": {},
   "source": [
    "이전 스텝에서 배운 MF 모델 학습 방법을 토대로, 내가 좋아할 만한 영화 추천 시스템을 제작해 보겠습니다.\n",
    "\n",
    "이번에 활용할 데이터셋은 추천 시스템의 MNIST라고 부를만한 Movielens 데이터입니다.\n",
    "\n",
    "- 유저가 영화에 대해 평점을 매긴 데이터가 데이터 크기 별로 있습니다. MovieLens 1M Dataset 사용을 권장합니다.\n",
    "- 별점 데이터는 대표적인 explicit 데이터입니다. 하지만 implicit 데이터로 간주하고 테스트해 볼 수 있습니다.\n",
    "- 별점을 시청횟수로 해석해서 생각하겠습니다.\n",
    "- 또한 유저가 3점 미만으로 준 데이터는 선호하지 않는다고 가정하고 제외하겠습니다.\n",
    "\n",
    "Cloud Storage에 미리 업로드된 ml-1m폴더 내 파일을 심볼릭 링크로 개인 storage에 연결해 줍니다."
   ]
  },
  {
   "cell_type": "code",
   "execution_count": 1,
   "id": "c6aaab81",
   "metadata": {},
   "outputs": [],
   "source": [
    "# ! mkdir -p ~/aiffel/recommendata_iu/data/ml-1m\n",
    "# ! ln -s ~/data/ml-1m/* ~/aiffel/recommendata_iu/data/ml-1m"
   ]
  },
  {
   "cell_type": "code",
   "execution_count": 123,
   "id": "25c6d33c",
   "metadata": {},
   "outputs": [
    {
     "name": "stdout",
     "output_type": "stream",
     "text": [
      "1.21.4\n",
      "1.7.1\n",
      "0.4.8\n"
     ]
    }
   ],
   "source": [
    "import numpy as np\n",
    "import scipy\n",
    "import implicit\n",
    "import pandas as pd\n",
    "import datetime as dt\n",
    "\n",
    "print(np.__version__)\n",
    "print(scipy.__version__)\n",
    "print(implicit.__version__)"
   ]
  },
  {
   "cell_type": "markdown",
   "id": "d82d80d7",
   "metadata": {},
   "source": [
    "### 1) 데이터 준비와 전처리\n",
    "\n",
    "----------------------------\n",
    "\n",
    "Movielens 데이터는 rating.dat 안에 이미 인덱싱까지 완료된 사용자-영화-평점 데이터가 깔끔하게 정리되어 있습니다."
   ]
  },
  {
   "cell_type": "code",
   "execution_count": 206,
   "id": "c7993232",
   "metadata": {},
   "outputs": [
    {
     "data": {
      "text/html": [
       "<div>\n",
       "<style scoped>\n",
       "    .dataframe tbody tr th:only-of-type {\n",
       "        vertical-align: middle;\n",
       "    }\n",
       "\n",
       "    .dataframe tbody tr th {\n",
       "        vertical-align: top;\n",
       "    }\n",
       "\n",
       "    .dataframe thead th {\n",
       "        text-align: right;\n",
       "    }\n",
       "</style>\n",
       "<table border=\"1\" class=\"dataframe\">\n",
       "  <thead>\n",
       "    <tr style=\"text-align: right;\">\n",
       "      <th></th>\n",
       "      <th>user_id</th>\n",
       "      <th>movie_id</th>\n",
       "      <th>ratings</th>\n",
       "      <th>timestamp</th>\n",
       "    </tr>\n",
       "  </thead>\n",
       "  <tbody>\n",
       "    <tr>\n",
       "      <th>0</th>\n",
       "      <td>1</td>\n",
       "      <td>1193</td>\n",
       "      <td>5</td>\n",
       "      <td>978300760</td>\n",
       "    </tr>\n",
       "    <tr>\n",
       "      <th>1</th>\n",
       "      <td>1</td>\n",
       "      <td>661</td>\n",
       "      <td>3</td>\n",
       "      <td>978302109</td>\n",
       "    </tr>\n",
       "    <tr>\n",
       "      <th>2</th>\n",
       "      <td>1</td>\n",
       "      <td>914</td>\n",
       "      <td>3</td>\n",
       "      <td>978301968</td>\n",
       "    </tr>\n",
       "    <tr>\n",
       "      <th>3</th>\n",
       "      <td>1</td>\n",
       "      <td>3408</td>\n",
       "      <td>4</td>\n",
       "      <td>978300275</td>\n",
       "    </tr>\n",
       "    <tr>\n",
       "      <th>4</th>\n",
       "      <td>1</td>\n",
       "      <td>2355</td>\n",
       "      <td>5</td>\n",
       "      <td>978824291</td>\n",
       "    </tr>\n",
       "  </tbody>\n",
       "</table>\n",
       "</div>"
      ],
      "text/plain": [
       "   user_id  movie_id  ratings  timestamp\n",
       "0        1      1193        5  978300760\n",
       "1        1       661        3  978302109\n",
       "2        1       914        3  978301968\n",
       "3        1      3408        4  978300275\n",
       "4        1      2355        5  978824291"
      ]
     },
     "execution_count": 206,
     "metadata": {},
     "output_type": "execute_result"
    }
   ],
   "source": [
    "import os\n",
    "rating_file_path=os.getenv('HOME') + '/aiffel/recommendata_iu/data/ml-1m/ratings.dat'\n",
    "ratings_cols = ['user_id', 'movie_id', 'ratings', 'timestamp']\n",
    "ratings = pd.read_csv(rating_file_path, sep='::', names=ratings_cols, engine='python', encoding = \"ISO-8859-1\")\n",
    "orginal_data_size = len(ratings)\n",
    "ratings.head()"
   ]
  },
  {
   "cell_type": "code",
   "execution_count": 207,
   "id": "8c053216",
   "metadata": {},
   "outputs": [],
   "source": [
    "ratings.drop(columns = \"timestamp\", inplace = True)"
   ]
  },
  {
   "cell_type": "code",
   "execution_count": 208,
   "id": "d55e372b",
   "metadata": {},
   "outputs": [
    {
     "name": "stdout",
     "output_type": "stream",
     "text": [
      "orginal_data_size: 1000209, filtered_data_size: 836478\n",
      "Ratio of Remaining Data is 83.63%\n"
     ]
    }
   ],
   "source": [
    "# 3점 이상만 남깁니다.\n",
    "ratings = ratings[ratings['ratings']>=3]\n",
    "filtered_data_size = len(ratings)\n",
    "\n",
    "print(f'orginal_data_size: {orginal_data_size}, filtered_data_size: {filtered_data_size}')\n",
    "print(f'Ratio of Remaining Data is {filtered_data_size / orginal_data_size:.2%}')"
   ]
  },
  {
   "cell_type": "code",
   "execution_count": 209,
   "id": "2325bbd2",
   "metadata": {},
   "outputs": [
    {
     "data": {
      "text/html": [
       "<div>\n",
       "<style scoped>\n",
       "    .dataframe tbody tr th:only-of-type {\n",
       "        vertical-align: middle;\n",
       "    }\n",
       "\n",
       "    .dataframe tbody tr th {\n",
       "        vertical-align: top;\n",
       "    }\n",
       "\n",
       "    .dataframe thead th {\n",
       "        text-align: right;\n",
       "    }\n",
       "</style>\n",
       "<table border=\"1\" class=\"dataframe\">\n",
       "  <thead>\n",
       "    <tr style=\"text-align: right;\">\n",
       "      <th></th>\n",
       "      <th>user_id</th>\n",
       "      <th>movie_id</th>\n",
       "      <th>ratings</th>\n",
       "    </tr>\n",
       "  </thead>\n",
       "  <tbody>\n",
       "    <tr>\n",
       "      <th>0</th>\n",
       "      <td>1</td>\n",
       "      <td>1193</td>\n",
       "      <td>5</td>\n",
       "    </tr>\n",
       "    <tr>\n",
       "      <th>1</th>\n",
       "      <td>1</td>\n",
       "      <td>661</td>\n",
       "      <td>3</td>\n",
       "    </tr>\n",
       "    <tr>\n",
       "      <th>2</th>\n",
       "      <td>1</td>\n",
       "      <td>914</td>\n",
       "      <td>3</td>\n",
       "    </tr>\n",
       "    <tr>\n",
       "      <th>3</th>\n",
       "      <td>1</td>\n",
       "      <td>3408</td>\n",
       "      <td>4</td>\n",
       "    </tr>\n",
       "    <tr>\n",
       "      <th>4</th>\n",
       "      <td>1</td>\n",
       "      <td>2355</td>\n",
       "      <td>5</td>\n",
       "    </tr>\n",
       "  </tbody>\n",
       "</table>\n",
       "</div>"
      ],
      "text/plain": [
       "   user_id  movie_id  ratings\n",
       "0        1      1193        5\n",
       "1        1       661        3\n",
       "2        1       914        3\n",
       "3        1      3408        4\n",
       "4        1      2355        5"
      ]
     },
     "execution_count": 209,
     "metadata": {},
     "output_type": "execute_result"
    }
   ],
   "source": [
    "# ratings 데이터 확인\n",
    "ratings.head()"
   ]
  },
  {
   "cell_type": "code",
   "execution_count": 210,
   "id": "648b8807",
   "metadata": {},
   "outputs": [],
   "source": [
    "# ratings 컬럼의 이름을 counts로 바꿉니다.\n",
    "ratings.rename(columns={'ratings':'counts'}, inplace=True)"
   ]
  },
  {
   "cell_type": "code",
   "execution_count": 211,
   "id": "bb937920",
   "metadata": {},
   "outputs": [
    {
     "data": {
      "text/html": [
       "<div>\n",
       "<style scoped>\n",
       "    .dataframe tbody tr th:only-of-type {\n",
       "        vertical-align: middle;\n",
       "    }\n",
       "\n",
       "    .dataframe tbody tr th {\n",
       "        vertical-align: top;\n",
       "    }\n",
       "\n",
       "    .dataframe thead th {\n",
       "        text-align: right;\n",
       "    }\n",
       "</style>\n",
       "<table border=\"1\" class=\"dataframe\">\n",
       "  <thead>\n",
       "    <tr style=\"text-align: right;\">\n",
       "      <th></th>\n",
       "      <th>movie_id</th>\n",
       "      <th>title</th>\n",
       "      <th>genre</th>\n",
       "    </tr>\n",
       "  </thead>\n",
       "  <tbody>\n",
       "    <tr>\n",
       "      <th>0</th>\n",
       "      <td>1</td>\n",
       "      <td>Toy Story (1995)</td>\n",
       "      <td>Animation|Children's|Comedy</td>\n",
       "    </tr>\n",
       "    <tr>\n",
       "      <th>1</th>\n",
       "      <td>2</td>\n",
       "      <td>Jumanji (1995)</td>\n",
       "      <td>Adventure|Children's|Fantasy</td>\n",
       "    </tr>\n",
       "    <tr>\n",
       "      <th>2</th>\n",
       "      <td>3</td>\n",
       "      <td>Grumpier Old Men (1995)</td>\n",
       "      <td>Comedy|Romance</td>\n",
       "    </tr>\n",
       "    <tr>\n",
       "      <th>3</th>\n",
       "      <td>4</td>\n",
       "      <td>Waiting to Exhale (1995)</td>\n",
       "      <td>Comedy|Drama</td>\n",
       "    </tr>\n",
       "    <tr>\n",
       "      <th>4</th>\n",
       "      <td>5</td>\n",
       "      <td>Father of the Bride Part II (1995)</td>\n",
       "      <td>Comedy</td>\n",
       "    </tr>\n",
       "  </tbody>\n",
       "</table>\n",
       "</div>"
      ],
      "text/plain": [
       "   movie_id                               title                         genre\n",
       "0         1                    Toy Story (1995)   Animation|Children's|Comedy\n",
       "1         2                      Jumanji (1995)  Adventure|Children's|Fantasy\n",
       "2         3             Grumpier Old Men (1995)                Comedy|Romance\n",
       "3         4            Waiting to Exhale (1995)                  Comedy|Drama\n",
       "4         5  Father of the Bride Part II (1995)                        Comedy"
      ]
     },
     "execution_count": 211,
     "metadata": {},
     "output_type": "execute_result"
    }
   ],
   "source": [
    "# 영화 제목을 보기 위해 메타 데이터를 읽어옵니다.\n",
    "movie_file_path=os.getenv('HOME') + '/aiffel/recommendata_iu/data/ml-1m/movies.dat'\n",
    "cols = ['movie_id', 'title', 'genre'] \n",
    "movies = pd.read_csv(movie_file_path, sep='::', names=cols, engine='python', encoding='ISO-8859-1')\n",
    "movies.head()"
   ]
  },
  {
   "cell_type": "markdown",
   "id": "df938b76",
   "metadata": {},
   "source": [
    "여기까지가 전처리입니다. 이후에는 이전 스텝에 소개했던 것과 동일한 방식으로 MF model을 구성하여 내가 좋아할 만한 영화를 추천해 볼 수 있습니다."
   ]
  },
  {
   "cell_type": "code",
   "execution_count": 212,
   "id": "70313ddb",
   "metadata": {},
   "outputs": [
    {
     "data": {
      "text/html": [
       "<div>\n",
       "<style scoped>\n",
       "    .dataframe tbody tr th:only-of-type {\n",
       "        vertical-align: middle;\n",
       "    }\n",
       "\n",
       "    .dataframe tbody tr th {\n",
       "        vertical-align: top;\n",
       "    }\n",
       "\n",
       "    .dataframe thead th {\n",
       "        text-align: right;\n",
       "    }\n",
       "</style>\n",
       "<table border=\"1\" class=\"dataframe\">\n",
       "  <thead>\n",
       "    <tr style=\"text-align: right;\">\n",
       "      <th></th>\n",
       "      <th>user_id</th>\n",
       "      <th>movie_id</th>\n",
       "      <th>counts</th>\n",
       "      <th>title</th>\n",
       "      <th>genre</th>\n",
       "    </tr>\n",
       "  </thead>\n",
       "  <tbody>\n",
       "    <tr>\n",
       "      <th>0</th>\n",
       "      <td>1</td>\n",
       "      <td>1193</td>\n",
       "      <td>5</td>\n",
       "      <td>One Flew Over the Cuckoo's Nest (1975)</td>\n",
       "      <td>Drama</td>\n",
       "    </tr>\n",
       "    <tr>\n",
       "      <th>1</th>\n",
       "      <td>2</td>\n",
       "      <td>1193</td>\n",
       "      <td>5</td>\n",
       "      <td>One Flew Over the Cuckoo's Nest (1975)</td>\n",
       "      <td>Drama</td>\n",
       "    </tr>\n",
       "    <tr>\n",
       "      <th>2</th>\n",
       "      <td>12</td>\n",
       "      <td>1193</td>\n",
       "      <td>4</td>\n",
       "      <td>One Flew Over the Cuckoo's Nest (1975)</td>\n",
       "      <td>Drama</td>\n",
       "    </tr>\n",
       "    <tr>\n",
       "      <th>3</th>\n",
       "      <td>15</td>\n",
       "      <td>1193</td>\n",
       "      <td>4</td>\n",
       "      <td>One Flew Over the Cuckoo's Nest (1975)</td>\n",
       "      <td>Drama</td>\n",
       "    </tr>\n",
       "    <tr>\n",
       "      <th>4</th>\n",
       "      <td>17</td>\n",
       "      <td>1193</td>\n",
       "      <td>5</td>\n",
       "      <td>One Flew Over the Cuckoo's Nest (1975)</td>\n",
       "      <td>Drama</td>\n",
       "    </tr>\n",
       "    <tr>\n",
       "      <th>...</th>\n",
       "      <td>...</td>\n",
       "      <td>...</td>\n",
       "      <td>...</td>\n",
       "      <td>...</td>\n",
       "      <td>...</td>\n",
       "    </tr>\n",
       "    <tr>\n",
       "      <th>836473</th>\n",
       "      <td>5851</td>\n",
       "      <td>3607</td>\n",
       "      <td>5</td>\n",
       "      <td>One Little Indian (1973)</td>\n",
       "      <td>Comedy|Drama|Western</td>\n",
       "    </tr>\n",
       "    <tr>\n",
       "      <th>836474</th>\n",
       "      <td>5854</td>\n",
       "      <td>3026</td>\n",
       "      <td>4</td>\n",
       "      <td>Slaughterhouse (1987)</td>\n",
       "      <td>Horror</td>\n",
       "    </tr>\n",
       "    <tr>\n",
       "      <th>836475</th>\n",
       "      <td>5854</td>\n",
       "      <td>690</td>\n",
       "      <td>3</td>\n",
       "      <td>Promise, The (Versprechen, Das) (1994)</td>\n",
       "      <td>Romance</td>\n",
       "    </tr>\n",
       "    <tr>\n",
       "      <th>836476</th>\n",
       "      <td>5938</td>\n",
       "      <td>2909</td>\n",
       "      <td>4</td>\n",
       "      <td>Five Wives, Three Secretaries and Me (1998)</td>\n",
       "      <td>Documentary</td>\n",
       "    </tr>\n",
       "    <tr>\n",
       "      <th>836477</th>\n",
       "      <td>5948</td>\n",
       "      <td>1360</td>\n",
       "      <td>5</td>\n",
       "      <td>Identification of a Woman (Identificazione di ...</td>\n",
       "      <td>Drama</td>\n",
       "    </tr>\n",
       "  </tbody>\n",
       "</table>\n",
       "<p>836478 rows × 5 columns</p>\n",
       "</div>"
      ],
      "text/plain": [
       "        user_id  movie_id  counts  \\\n",
       "0             1      1193       5   \n",
       "1             2      1193       5   \n",
       "2            12      1193       4   \n",
       "3            15      1193       4   \n",
       "4            17      1193       5   \n",
       "...         ...       ...     ...   \n",
       "836473     5851      3607       5   \n",
       "836474     5854      3026       4   \n",
       "836475     5854       690       3   \n",
       "836476     5938      2909       4   \n",
       "836477     5948      1360       5   \n",
       "\n",
       "                                                    title  \\\n",
       "0                  One Flew Over the Cuckoo's Nest (1975)   \n",
       "1                  One Flew Over the Cuckoo's Nest (1975)   \n",
       "2                  One Flew Over the Cuckoo's Nest (1975)   \n",
       "3                  One Flew Over the Cuckoo's Nest (1975)   \n",
       "4                  One Flew Over the Cuckoo's Nest (1975)   \n",
       "...                                                   ...   \n",
       "836473                           One Little Indian (1973)   \n",
       "836474                              Slaughterhouse (1987)   \n",
       "836475             Promise, The (Versprechen, Das) (1994)   \n",
       "836476        Five Wives, Three Secretaries and Me (1998)   \n",
       "836477  Identification of a Woman (Identificazione di ...   \n",
       "\n",
       "                       genre  \n",
       "0                      Drama  \n",
       "1                      Drama  \n",
       "2                      Drama  \n",
       "3                      Drama  \n",
       "4                      Drama  \n",
       "...                      ...  \n",
       "836473  Comedy|Drama|Western  \n",
       "836474                Horror  \n",
       "836475               Romance  \n",
       "836476           Documentary  \n",
       "836477                 Drama  \n",
       "\n",
       "[836478 rows x 5 columns]"
      ]
     },
     "execution_count": 212,
     "metadata": {},
     "output_type": "execute_result"
    }
   ],
   "source": [
    "df = pd.merge(ratings, movies)  # 그냥 merge를 해줘도 \n",
    "df"
   ]
  },
  {
   "cell_type": "code",
   "execution_count": 213,
   "id": "48b18ae4",
   "metadata": {},
   "outputs": [
    {
     "data": {
      "text/html": [
       "<div>\n",
       "<style scoped>\n",
       "    .dataframe tbody tr th:only-of-type {\n",
       "        vertical-align: middle;\n",
       "    }\n",
       "\n",
       "    .dataframe tbody tr th {\n",
       "        vertical-align: top;\n",
       "    }\n",
       "\n",
       "    .dataframe thead th {\n",
       "        text-align: right;\n",
       "    }\n",
       "</style>\n",
       "<table border=\"1\" class=\"dataframe\">\n",
       "  <thead>\n",
       "    <tr style=\"text-align: right;\">\n",
       "      <th></th>\n",
       "      <th>user_id</th>\n",
       "      <th>title</th>\n",
       "      <th>counts</th>\n",
       "    </tr>\n",
       "  </thead>\n",
       "  <tbody>\n",
       "    <tr>\n",
       "      <th>0</th>\n",
       "      <td>1</td>\n",
       "      <td>One Flew Over the Cuckoo's Nest (1975)</td>\n",
       "      <td>5</td>\n",
       "    </tr>\n",
       "    <tr>\n",
       "      <th>1</th>\n",
       "      <td>2</td>\n",
       "      <td>One Flew Over the Cuckoo's Nest (1975)</td>\n",
       "      <td>5</td>\n",
       "    </tr>\n",
       "    <tr>\n",
       "      <th>2</th>\n",
       "      <td>12</td>\n",
       "      <td>One Flew Over the Cuckoo's Nest (1975)</td>\n",
       "      <td>4</td>\n",
       "    </tr>\n",
       "    <tr>\n",
       "      <th>3</th>\n",
       "      <td>15</td>\n",
       "      <td>One Flew Over the Cuckoo's Nest (1975)</td>\n",
       "      <td>4</td>\n",
       "    </tr>\n",
       "    <tr>\n",
       "      <th>4</th>\n",
       "      <td>17</td>\n",
       "      <td>One Flew Over the Cuckoo's Nest (1975)</td>\n",
       "      <td>5</td>\n",
       "    </tr>\n",
       "    <tr>\n",
       "      <th>...</th>\n",
       "      <td>...</td>\n",
       "      <td>...</td>\n",
       "      <td>...</td>\n",
       "    </tr>\n",
       "    <tr>\n",
       "      <th>836473</th>\n",
       "      <td>5851</td>\n",
       "      <td>One Little Indian (1973)</td>\n",
       "      <td>5</td>\n",
       "    </tr>\n",
       "    <tr>\n",
       "      <th>836474</th>\n",
       "      <td>5854</td>\n",
       "      <td>Slaughterhouse (1987)</td>\n",
       "      <td>4</td>\n",
       "    </tr>\n",
       "    <tr>\n",
       "      <th>836475</th>\n",
       "      <td>5854</td>\n",
       "      <td>Promise, The (Versprechen, Das) (1994)</td>\n",
       "      <td>3</td>\n",
       "    </tr>\n",
       "    <tr>\n",
       "      <th>836476</th>\n",
       "      <td>5938</td>\n",
       "      <td>Five Wives, Three Secretaries and Me (1998)</td>\n",
       "      <td>4</td>\n",
       "    </tr>\n",
       "    <tr>\n",
       "      <th>836477</th>\n",
       "      <td>5948</td>\n",
       "      <td>Identification of a Woman (Identificazione di ...</td>\n",
       "      <td>5</td>\n",
       "    </tr>\n",
       "  </tbody>\n",
       "</table>\n",
       "<p>836478 rows × 3 columns</p>\n",
       "</div>"
      ],
      "text/plain": [
       "        user_id                                              title  counts\n",
       "0             1             One Flew Over the Cuckoo's Nest (1975)       5\n",
       "1             2             One Flew Over the Cuckoo's Nest (1975)       5\n",
       "2            12             One Flew Over the Cuckoo's Nest (1975)       4\n",
       "3            15             One Flew Over the Cuckoo's Nest (1975)       4\n",
       "4            17             One Flew Over the Cuckoo's Nest (1975)       5\n",
       "...         ...                                                ...     ...\n",
       "836473     5851                           One Little Indian (1973)       5\n",
       "836474     5854                              Slaughterhouse (1987)       4\n",
       "836475     5854             Promise, The (Versprechen, Das) (1994)       3\n",
       "836476     5938        Five Wives, Three Secretaries and Me (1998)       4\n",
       "836477     5948  Identification of a Woman (Identificazione di ...       5\n",
       "\n",
       "[836478 rows x 3 columns]"
      ]
     },
     "execution_count": 213,
     "metadata": {},
     "output_type": "execute_result"
    }
   ],
   "source": [
    "df_movies = df[[\"user_id\", \"title\", \"counts\"]]\n",
    "df_movies"
   ]
  },
  {
   "cell_type": "markdown",
   "id": "30420504",
   "metadata": {},
   "source": [
    "### 2) 분석해 봅시다.\n",
    "\n",
    "-----------------------------\n",
    "\n",
    "- df에 있는 유니크한 영화 개수\n",
    "- df에 있는 유니크한 사용자 수\n",
    "- 가장 인기 있는 영화 30개(인기순)"
   ]
  },
  {
   "cell_type": "code",
   "execution_count": 214,
   "id": "621082a5",
   "metadata": {},
   "outputs": [
    {
     "name": "stdout",
     "output_type": "stream",
     "text": [
      "df 데이터에 있는 유니크한 영화개수 :  3628\n",
      "df 데이터에 있는 유니크한 영화개수 :  6039\n"
     ]
    }
   ],
   "source": [
    "# 유니크한 영화개수 유니크한 사용자 수\n",
    "print(\"df 데이터에 있는 유니크한 영화개수 : \",df[\"movie_id\"].nunique())\n",
    "print(\"df 데이터에 있는 유니크한 영화개수 : \", df[\"user_id\"].nunique())"
   ]
  },
  {
   "cell_type": "code",
   "execution_count": 215,
   "id": "4b93bdf3",
   "metadata": {},
   "outputs": [
    {
     "data": {
      "text/html": [
       "<div>\n",
       "<style scoped>\n",
       "    .dataframe tbody tr th:only-of-type {\n",
       "        vertical-align: middle;\n",
       "    }\n",
       "\n",
       "    .dataframe tbody tr th {\n",
       "        vertical-align: top;\n",
       "    }\n",
       "\n",
       "    .dataframe thead th {\n",
       "        text-align: right;\n",
       "    }\n",
       "</style>\n",
       "<table border=\"1\" class=\"dataframe\">\n",
       "  <thead>\n",
       "    <tr style=\"text-align: right;\">\n",
       "      <th></th>\n",
       "      <th>movie_id</th>\n",
       "      <th>title</th>\n",
       "      <th>genre</th>\n",
       "    </tr>\n",
       "  </thead>\n",
       "  <tbody>\n",
       "    <tr>\n",
       "      <th>2858</th>\n",
       "      <td>2927</td>\n",
       "      <td>Brief Encounter (1946)</td>\n",
       "      <td>Drama|Romance</td>\n",
       "    </tr>\n",
       "    <tr>\n",
       "      <th>260</th>\n",
       "      <td>263</td>\n",
       "      <td>Ladybird Ladybird (1994)</td>\n",
       "      <td>Drama</td>\n",
       "    </tr>\n",
       "    <tr>\n",
       "      <th>1196</th>\n",
       "      <td>1214</td>\n",
       "      <td>Alien (1979)</td>\n",
       "      <td>Action|Horror|Sci-Fi|Thriller</td>\n",
       "    </tr>\n",
       "    <tr>\n",
       "      <th>2028</th>\n",
       "      <td>2097</td>\n",
       "      <td>Something Wicked This Way Comes (1983)</td>\n",
       "      <td>Children's|Horror</td>\n",
       "    </tr>\n",
       "    <tr>\n",
       "      <th>1210</th>\n",
       "      <td>1228</td>\n",
       "      <td>Raging Bull (1980)</td>\n",
       "      <td>Drama</td>\n",
       "    </tr>\n",
       "    <tr>\n",
       "      <th>1198</th>\n",
       "      <td>1216</td>\n",
       "      <td>Big Blue, The (Le Grand Bleu) (1988)</td>\n",
       "      <td>Adventure|Romance</td>\n",
       "    </tr>\n",
       "    <tr>\n",
       "      <th>593</th>\n",
       "      <td>597</td>\n",
       "      <td>Pretty Woman (1990)</td>\n",
       "      <td>Comedy|Romance</td>\n",
       "    </tr>\n",
       "    <tr>\n",
       "      <th>2571</th>\n",
       "      <td>2640</td>\n",
       "      <td>Superman (1978)</td>\n",
       "      <td>Action|Adventure|Sci-Fi</td>\n",
       "    </tr>\n",
       "    <tr>\n",
       "      <th>2762</th>\n",
       "      <td>2831</td>\n",
       "      <td>Dog of Flanders, A (1999)</td>\n",
       "      <td>Drama</td>\n",
       "    </tr>\n",
       "    <tr>\n",
       "      <th>589</th>\n",
       "      <td>593</td>\n",
       "      <td>Silence of the Lambs, The (1991)</td>\n",
       "      <td>Drama|Thriller</td>\n",
       "    </tr>\n",
       "    <tr>\n",
       "      <th>608</th>\n",
       "      <td>612</td>\n",
       "      <td>Pallbearer, The (1996)</td>\n",
       "      <td>Comedy</td>\n",
       "    </tr>\n",
       "    <tr>\n",
       "      <th>527</th>\n",
       "      <td>531</td>\n",
       "      <td>Secret Garden, The (1993)</td>\n",
       "      <td>Children's|Drama</td>\n",
       "    </tr>\n",
       "    <tr>\n",
       "      <th>110</th>\n",
       "      <td>112</td>\n",
       "      <td>Rumble in the Bronx (1995)</td>\n",
       "      <td>Action|Adventure|Crime</td>\n",
       "    </tr>\n",
       "    <tr>\n",
       "      <th>318</th>\n",
       "      <td>321</td>\n",
       "      <td>Strawberry and Chocolate (Fresa y chocolate) (...</td>\n",
       "      <td>Drama</td>\n",
       "    </tr>\n",
       "    <tr>\n",
       "      <th>1270</th>\n",
       "      <td>1290</td>\n",
       "      <td>Some Kind of Wonderful (1987)</td>\n",
       "      <td>Drama|Romance</td>\n",
       "    </tr>\n",
       "    <tr>\n",
       "      <th>858</th>\n",
       "      <td>869</td>\n",
       "      <td>Kansas City (1996)</td>\n",
       "      <td>Crime</td>\n",
       "    </tr>\n",
       "    <tr>\n",
       "      <th>1197</th>\n",
       "      <td>1215</td>\n",
       "      <td>Army of Darkness (1993)</td>\n",
       "      <td>Action|Adventure|Comedy|Horror|Sci-Fi</td>\n",
       "    </tr>\n",
       "    <tr>\n",
       "      <th>480</th>\n",
       "      <td>484</td>\n",
       "      <td>Lassie (1994)</td>\n",
       "      <td>Adventure|Children's</td>\n",
       "    </tr>\n",
       "    <tr>\n",
       "      <th>1617</th>\n",
       "      <td>1663</td>\n",
       "      <td>Stripes (1981)</td>\n",
       "      <td>Comedy</td>\n",
       "    </tr>\n",
       "    <tr>\n",
       "      <th>2396</th>\n",
       "      <td>2465</td>\n",
       "      <td>Deadly Friend (1986)</td>\n",
       "      <td>Horror</td>\n",
       "    </tr>\n",
       "    <tr>\n",
       "      <th>1580</th>\n",
       "      <td>1623</td>\n",
       "      <td>Wishmaster (1997)</td>\n",
       "      <td>Horror</td>\n",
       "    </tr>\n",
       "    <tr>\n",
       "      <th>296</th>\n",
       "      <td>299</td>\n",
       "      <td>Priest (1994)</td>\n",
       "      <td>Drama</td>\n",
       "    </tr>\n",
       "    <tr>\n",
       "      <th>2997</th>\n",
       "      <td>3066</td>\n",
       "      <td>Tora! Tora! Tora! (1970)</td>\n",
       "      <td>War</td>\n",
       "    </tr>\n",
       "    <tr>\n",
       "      <th>1265</th>\n",
       "      <td>1285</td>\n",
       "      <td>Heathers (1989)</td>\n",
       "      <td>Comedy</td>\n",
       "    </tr>\n",
       "    <tr>\n",
       "      <th>1097</th>\n",
       "      <td>1113</td>\n",
       "      <td>Associate, The (1996)</td>\n",
       "      <td>Comedy</td>\n",
       "    </tr>\n",
       "    <tr>\n",
       "      <th>356</th>\n",
       "      <td>360</td>\n",
       "      <td>I Love Trouble (1994)</td>\n",
       "      <td>Action|Comedy</td>\n",
       "    </tr>\n",
       "    <tr>\n",
       "      <th>1240</th>\n",
       "      <td>1260</td>\n",
       "      <td>M (1931)</td>\n",
       "      <td>Crime|Film-Noir|Thriller</td>\n",
       "    </tr>\n",
       "    <tr>\n",
       "      <th>1</th>\n",
       "      <td>2</td>\n",
       "      <td>Jumanji (1995)</td>\n",
       "      <td>Adventure|Children's|Fantasy</td>\n",
       "    </tr>\n",
       "    <tr>\n",
       "      <th>2716</th>\n",
       "      <td>2785</td>\n",
       "      <td>Tales of Terror (1962)</td>\n",
       "      <td>Horror</td>\n",
       "    </tr>\n",
       "    <tr>\n",
       "      <th>1214</th>\n",
       "      <td>1233</td>\n",
       "      <td>Boat, The (Das Boot) (1981)</td>\n",
       "      <td>Action|Drama|War</td>\n",
       "    </tr>\n",
       "  </tbody>\n",
       "</table>\n",
       "</div>"
      ],
      "text/plain": [
       "      movie_id                                              title  \\\n",
       "2858      2927                             Brief Encounter (1946)   \n",
       "260        263                           Ladybird Ladybird (1994)   \n",
       "1196      1214                                       Alien (1979)   \n",
       "2028      2097             Something Wicked This Way Comes (1983)   \n",
       "1210      1228                                 Raging Bull (1980)   \n",
       "1198      1216               Big Blue, The (Le Grand Bleu) (1988)   \n",
       "593        597                                Pretty Woman (1990)   \n",
       "2571      2640                                    Superman (1978)   \n",
       "2762      2831                          Dog of Flanders, A (1999)   \n",
       "589        593                   Silence of the Lambs, The (1991)   \n",
       "608        612                             Pallbearer, The (1996)   \n",
       "527        531                          Secret Garden, The (1993)   \n",
       "110        112                         Rumble in the Bronx (1995)   \n",
       "318        321  Strawberry and Chocolate (Fresa y chocolate) (...   \n",
       "1270      1290                      Some Kind of Wonderful (1987)   \n",
       "858        869                                 Kansas City (1996)   \n",
       "1197      1215                            Army of Darkness (1993)   \n",
       "480        484                                      Lassie (1994)   \n",
       "1617      1663                                     Stripes (1981)   \n",
       "2396      2465                               Deadly Friend (1986)   \n",
       "1580      1623                                  Wishmaster (1997)   \n",
       "296        299                                      Priest (1994)   \n",
       "2997      3066                           Tora! Tora! Tora! (1970)   \n",
       "1265      1285                                    Heathers (1989)   \n",
       "1097      1113                              Associate, The (1996)   \n",
       "356        360                              I Love Trouble (1994)   \n",
       "1240      1260                                           M (1931)   \n",
       "1            2                                     Jumanji (1995)   \n",
       "2716      2785                             Tales of Terror (1962)   \n",
       "1214      1233                        Boat, The (Das Boot) (1981)   \n",
       "\n",
       "                                      genre  \n",
       "2858                          Drama|Romance  \n",
       "260                                   Drama  \n",
       "1196          Action|Horror|Sci-Fi|Thriller  \n",
       "2028                      Children's|Horror  \n",
       "1210                                  Drama  \n",
       "1198                      Adventure|Romance  \n",
       "593                          Comedy|Romance  \n",
       "2571                Action|Adventure|Sci-Fi  \n",
       "2762                                  Drama  \n",
       "589                          Drama|Thriller  \n",
       "608                                  Comedy  \n",
       "527                        Children's|Drama  \n",
       "110                  Action|Adventure|Crime  \n",
       "318                                   Drama  \n",
       "1270                          Drama|Romance  \n",
       "858                                   Crime  \n",
       "1197  Action|Adventure|Comedy|Horror|Sci-Fi  \n",
       "480                    Adventure|Children's  \n",
       "1617                                 Comedy  \n",
       "2396                                 Horror  \n",
       "1580                                 Horror  \n",
       "296                                   Drama  \n",
       "2997                                    War  \n",
       "1265                                 Comedy  \n",
       "1097                                 Comedy  \n",
       "356                           Action|Comedy  \n",
       "1240               Crime|Film-Noir|Thriller  \n",
       "1              Adventure|Children's|Fantasy  \n",
       "2716                                 Horror  \n",
       "1214                       Action|Drama|War  "
      ]
     },
     "execution_count": 215,
     "metadata": {},
     "output_type": "execute_result"
    }
   ],
   "source": [
    "temp = df.groupby([\"movie_id\"])[[\"counts\"]].sum()\n",
    "a = temp.sort_values(ascending = False, by = \"counts\").head(30)\n",
    "\n",
    "# top 30 영화\n",
    "b = [i for i in a.index]\n",
    "movies.iloc[b]"
   ]
  },
  {
   "cell_type": "markdown",
   "id": "7f3335d2",
   "metadata": {},
   "source": [
    "### 3) 내가 선호하는 영화를 5가지 골라서 ratings에 추가해 줍시다."
   ]
  },
  {
   "cell_type": "code",
   "execution_count": 216,
   "id": "0a23c977",
   "metadata": {},
   "outputs": [
    {
     "data": {
      "text/html": [
       "<div>\n",
       "<style scoped>\n",
       "    .dataframe tbody tr th:only-of-type {\n",
       "        vertical-align: middle;\n",
       "    }\n",
       "\n",
       "    .dataframe tbody tr th {\n",
       "        vertical-align: top;\n",
       "    }\n",
       "\n",
       "    .dataframe thead th {\n",
       "        text-align: right;\n",
       "    }\n",
       "</style>\n",
       "<table border=\"1\" class=\"dataframe\">\n",
       "  <thead>\n",
       "    <tr style=\"text-align: right;\">\n",
       "      <th></th>\n",
       "      <th>movie_id</th>\n",
       "      <th>title</th>\n",
       "      <th>genre</th>\n",
       "    </tr>\n",
       "  </thead>\n",
       "  <tbody>\n",
       "    <tr>\n",
       "      <th>0</th>\n",
       "      <td>1</td>\n",
       "      <td>Toy Story (1995)</td>\n",
       "      <td>Animation|Children's|Comedy</td>\n",
       "    </tr>\n",
       "    <tr>\n",
       "      <th>1948</th>\n",
       "      <td>2017</td>\n",
       "      <td>Babes in Toyland (1961)</td>\n",
       "      <td>Children's|Fantasy|Musical</td>\n",
       "    </tr>\n",
       "    <tr>\n",
       "      <th>2184</th>\n",
       "      <td>2253</td>\n",
       "      <td>Toys (1992)</td>\n",
       "      <td>Action|Comedy|Fantasy</td>\n",
       "    </tr>\n",
       "    <tr>\n",
       "      <th>2411</th>\n",
       "      <td>2480</td>\n",
       "      <td>Dry Cleaning (Nettoyage à sec) (1997)</td>\n",
       "      <td>Drama</td>\n",
       "    </tr>\n",
       "    <tr>\n",
       "      <th>3017</th>\n",
       "      <td>3086</td>\n",
       "      <td>March of the Wooden Soldiers (a.k.a. Laurel &amp; ...</td>\n",
       "      <td>Comedy</td>\n",
       "    </tr>\n",
       "    <tr>\n",
       "      <th>3045</th>\n",
       "      <td>3114</td>\n",
       "      <td>Toy Story 2 (1999)</td>\n",
       "      <td>Animation|Children's|Comedy</td>\n",
       "    </tr>\n",
       "  </tbody>\n",
       "</table>\n",
       "</div>"
      ],
      "text/plain": [
       "      movie_id                                              title  \\\n",
       "0            1                                   Toy Story (1995)   \n",
       "1948      2017                            Babes in Toyland (1961)   \n",
       "2184      2253                                        Toys (1992)   \n",
       "2411      2480              Dry Cleaning (Nettoyage à sec) (1997)   \n",
       "3017      3086  March of the Wooden Soldiers (a.k.a. Laurel & ...   \n",
       "3045      3114                                 Toy Story 2 (1999)   \n",
       "\n",
       "                            genre  \n",
       "0     Animation|Children's|Comedy  \n",
       "1948   Children's|Fantasy|Musical  \n",
       "2184        Action|Comedy|Fantasy  \n",
       "2411                        Drama  \n",
       "3017                       Comedy  \n",
       "3045  Animation|Children's|Comedy  "
      ]
     },
     "execution_count": 216,
     "metadata": {},
     "output_type": "execute_result"
    }
   ],
   "source": [
    "# 영화 찾기\n",
    "movies[movies[\"title\"].str.lower().str.contains(\"toy\")]"
   ]
  },
  {
   "cell_type": "code",
   "execution_count": 217,
   "id": "c8f6bd33",
   "metadata": {},
   "outputs": [
    {
     "data": {
      "text/html": [
       "<div>\n",
       "<style scoped>\n",
       "    .dataframe tbody tr th:only-of-type {\n",
       "        vertical-align: middle;\n",
       "    }\n",
       "\n",
       "    .dataframe tbody tr th {\n",
       "        vertical-align: top;\n",
       "    }\n",
       "\n",
       "    .dataframe thead th {\n",
       "        text-align: right;\n",
       "    }\n",
       "</style>\n",
       "<table border=\"1\" class=\"dataframe\">\n",
       "  <thead>\n",
       "    <tr style=\"text-align: right;\">\n",
       "      <th></th>\n",
       "      <th>user_id</th>\n",
       "      <th>title</th>\n",
       "      <th>counts</th>\n",
       "    </tr>\n",
       "  </thead>\n",
       "  <tbody>\n",
       "    <tr>\n",
       "      <th>836473</th>\n",
       "      <td>5851</td>\n",
       "      <td>One Little Indian (1973)</td>\n",
       "      <td>5</td>\n",
       "    </tr>\n",
       "    <tr>\n",
       "      <th>836474</th>\n",
       "      <td>5854</td>\n",
       "      <td>Slaughterhouse (1987)</td>\n",
       "      <td>4</td>\n",
       "    </tr>\n",
       "    <tr>\n",
       "      <th>836475</th>\n",
       "      <td>5854</td>\n",
       "      <td>Promise, The (Versprechen, Das) (1994)</td>\n",
       "      <td>3</td>\n",
       "    </tr>\n",
       "    <tr>\n",
       "      <th>836476</th>\n",
       "      <td>5938</td>\n",
       "      <td>Five Wives, Three Secretaries and Me (1998)</td>\n",
       "      <td>4</td>\n",
       "    </tr>\n",
       "    <tr>\n",
       "      <th>836477</th>\n",
       "      <td>5948</td>\n",
       "      <td>Identification of a Woman (Identificazione di ...</td>\n",
       "      <td>5</td>\n",
       "    </tr>\n",
       "    <tr>\n",
       "      <th>0</th>\n",
       "      <td>Taejong</td>\n",
       "      <td>Toy Story (1995)</td>\n",
       "      <td>5</td>\n",
       "    </tr>\n",
       "    <tr>\n",
       "      <th>1</th>\n",
       "      <td>Taejong</td>\n",
       "      <td>Jumanji (1995)</td>\n",
       "      <td>4</td>\n",
       "    </tr>\n",
       "    <tr>\n",
       "      <th>2</th>\n",
       "      <td>Taejong</td>\n",
       "      <td>Amadeus (1984)</td>\n",
       "      <td>4</td>\n",
       "    </tr>\n",
       "    <tr>\n",
       "      <th>3</th>\n",
       "      <td>Taejong</td>\n",
       "      <td>When Harry Met Sally... (1989)</td>\n",
       "      <td>5</td>\n",
       "    </tr>\n",
       "    <tr>\n",
       "      <th>4</th>\n",
       "      <td>Taejong</td>\n",
       "      <td>Lion King, The (1994)</td>\n",
       "      <td>4</td>\n",
       "    </tr>\n",
       "  </tbody>\n",
       "</table>\n",
       "</div>"
      ],
      "text/plain": [
       "        user_id                                              title  counts\n",
       "836473     5851                           One Little Indian (1973)       5\n",
       "836474     5854                              Slaughterhouse (1987)       4\n",
       "836475     5854             Promise, The (Versprechen, Das) (1994)       3\n",
       "836476     5938        Five Wives, Three Secretaries and Me (1998)       4\n",
       "836477     5948  Identification of a Woman (Identificazione di ...       5\n",
       "0       Taejong                                   Toy Story (1995)       5\n",
       "1       Taejong                                     Jumanji (1995)       4\n",
       "2       Taejong                                     Amadeus (1984)       4\n",
       "3       Taejong                     When Harry Met Sally... (1989)       5\n",
       "4       Taejong                              Lion King, The (1994)       4"
      ]
     },
     "execution_count": 217,
     "metadata": {},
     "output_type": "execute_result"
    }
   ],
   "source": [
    "# 내가 좋아하는 영화\n",
    "my_favorite = [\"Toy Story (1995)\", \"Jumanji (1995)\", \"Amadeus (1984)\", \"When Harry Met Sally... (1989)\", \"Lion King, The (1994)\"]\n",
    "\n",
    "my_movies = pd.DataFrame({\"user_id\" : [\"Taejong\"]*5, \"title\": my_favorite, \"counts\" : [5, 4, 4, 5, 4]})\n",
    "\n",
    "if not df_movies.isin({\"user_id\" : [\"Taejong\"]})[\"user_id\"].any():\n",
    "    df_movies = df_movies.append(my_movies)\n",
    "\n",
    "df_movies.tail(10)"
   ]
  },
  {
   "cell_type": "code",
   "execution_count": 218,
   "id": "b20f9d6b",
   "metadata": {},
   "outputs": [
    {
     "data": {
      "text/html": [
       "<div>\n",
       "<style scoped>\n",
       "    .dataframe tbody tr th:only-of-type {\n",
       "        vertical-align: middle;\n",
       "    }\n",
       "\n",
       "    .dataframe tbody tr th {\n",
       "        vertical-align: top;\n",
       "    }\n",
       "\n",
       "    .dataframe thead th {\n",
       "        text-align: right;\n",
       "    }\n",
       "</style>\n",
       "<table border=\"1\" class=\"dataframe\">\n",
       "  <thead>\n",
       "    <tr style=\"text-align: right;\">\n",
       "      <th></th>\n",
       "      <th>user_id</th>\n",
       "      <th>title</th>\n",
       "      <th>counts</th>\n",
       "    </tr>\n",
       "  </thead>\n",
       "  <tbody>\n",
       "    <tr>\n",
       "      <th>0</th>\n",
       "      <td>1</td>\n",
       "      <td>One Flew Over the Cuckoo's Nest (1975)</td>\n",
       "      <td>5</td>\n",
       "    </tr>\n",
       "    <tr>\n",
       "      <th>1</th>\n",
       "      <td>2</td>\n",
       "      <td>One Flew Over the Cuckoo's Nest (1975)</td>\n",
       "      <td>5</td>\n",
       "    </tr>\n",
       "    <tr>\n",
       "      <th>2</th>\n",
       "      <td>12</td>\n",
       "      <td>One Flew Over the Cuckoo's Nest (1975)</td>\n",
       "      <td>4</td>\n",
       "    </tr>\n",
       "    <tr>\n",
       "      <th>3</th>\n",
       "      <td>15</td>\n",
       "      <td>One Flew Over the Cuckoo's Nest (1975)</td>\n",
       "      <td>4</td>\n",
       "    </tr>\n",
       "    <tr>\n",
       "      <th>4</th>\n",
       "      <td>17</td>\n",
       "      <td>One Flew Over the Cuckoo's Nest (1975)</td>\n",
       "      <td>5</td>\n",
       "    </tr>\n",
       "    <tr>\n",
       "      <th>...</th>\n",
       "      <td>...</td>\n",
       "      <td>...</td>\n",
       "      <td>...</td>\n",
       "    </tr>\n",
       "    <tr>\n",
       "      <th>0</th>\n",
       "      <td>Taejong</td>\n",
       "      <td>Toy Story (1995)</td>\n",
       "      <td>5</td>\n",
       "    </tr>\n",
       "    <tr>\n",
       "      <th>1</th>\n",
       "      <td>Taejong</td>\n",
       "      <td>Jumanji (1995)</td>\n",
       "      <td>4</td>\n",
       "    </tr>\n",
       "    <tr>\n",
       "      <th>2</th>\n",
       "      <td>Taejong</td>\n",
       "      <td>Amadeus (1984)</td>\n",
       "      <td>4</td>\n",
       "    </tr>\n",
       "    <tr>\n",
       "      <th>3</th>\n",
       "      <td>Taejong</td>\n",
       "      <td>When Harry Met Sally... (1989)</td>\n",
       "      <td>5</td>\n",
       "    </tr>\n",
       "    <tr>\n",
       "      <th>4</th>\n",
       "      <td>Taejong</td>\n",
       "      <td>Lion King, The (1994)</td>\n",
       "      <td>4</td>\n",
       "    </tr>\n",
       "  </tbody>\n",
       "</table>\n",
       "<p>836483 rows × 3 columns</p>\n",
       "</div>"
      ],
      "text/plain": [
       "    user_id                                   title  counts\n",
       "0         1  One Flew Over the Cuckoo's Nest (1975)       5\n",
       "1         2  One Flew Over the Cuckoo's Nest (1975)       5\n",
       "2        12  One Flew Over the Cuckoo's Nest (1975)       4\n",
       "3        15  One Flew Over the Cuckoo's Nest (1975)       4\n",
       "4        17  One Flew Over the Cuckoo's Nest (1975)       5\n",
       "..      ...                                     ...     ...\n",
       "0   Taejong                        Toy Story (1995)       5\n",
       "1   Taejong                          Jumanji (1995)       4\n",
       "2   Taejong                          Amadeus (1984)       4\n",
       "3   Taejong          When Harry Met Sally... (1989)       5\n",
       "4   Taejong                   Lion King, The (1994)       4\n",
       "\n",
       "[836483 rows x 3 columns]"
      ]
     },
     "execution_count": 218,
     "metadata": {},
     "output_type": "execute_result"
    }
   ],
   "source": [
    "df_movies"
   ]
  },
  {
   "cell_type": "code",
   "execution_count": 219,
   "id": "6ce26329",
   "metadata": {},
   "outputs": [],
   "source": [
    "# 고유한 유저, 영화를 찾아내는 코드\n",
    "user_unique= df_movies[\"user_id\"].unique()\n",
    "movies_unique = df_movies[\"title\"].unique()\n",
    "\n",
    "# 유저, 영화 indexing 하는 코드 \n",
    "user_to_idx = {v:k for k,v in enumerate(user_unique)}\n",
    "movie_to_idx = {v:k for k,v in enumerate(movies_unique)}"
   ]
  },
  {
   "cell_type": "code",
   "execution_count": 234,
   "id": "c6c9ef78",
   "metadata": {},
   "outputs": [
    {
     "data": {
      "text/plain": [
       "6040"
      ]
     },
     "execution_count": 234,
     "metadata": {},
     "output_type": "execute_result"
    }
   ],
   "source": [
    "len(df_movies[\"user_id\"].unique())"
   ]
  },
  {
   "cell_type": "code",
   "execution_count": 220,
   "id": "6285cbd9",
   "metadata": {},
   "outputs": [
    {
     "data": {
      "text/plain": [
       "488"
      ]
     },
     "execution_count": 220,
     "metadata": {},
     "output_type": "execute_result"
    }
   ],
   "source": [
    "movie_to_idx[\"When Harry Met Sally... (1989)\"]  # 잘 작동한다."
   ]
  },
  {
   "cell_type": "code",
   "execution_count": 221,
   "id": "e6d1d000",
   "metadata": {},
   "outputs": [
    {
     "data": {
      "text/plain": [
       "6039"
      ]
     },
     "execution_count": 221,
     "metadata": {},
     "output_type": "execute_result"
    }
   ],
   "source": [
    "user_to_idx[\"Taejong\"]"
   ]
  },
  {
   "cell_type": "code",
   "execution_count": 236,
   "id": "747efd11",
   "metadata": {
    "scrolled": true
   },
   "outputs": [
    {
     "name": "stdout",
     "output_type": "stream",
     "text": [
      "user_id column indexing OK!!\n",
      "movie column indexing OK!!\n"
     ]
    },
    {
     "data": {
      "text/html": [
       "<div>\n",
       "<style scoped>\n",
       "    .dataframe tbody tr th:only-of-type {\n",
       "        vertical-align: middle;\n",
       "    }\n",
       "\n",
       "    .dataframe tbody tr th {\n",
       "        vertical-align: top;\n",
       "    }\n",
       "\n",
       "    .dataframe thead th {\n",
       "        text-align: right;\n",
       "    }\n",
       "</style>\n",
       "<table border=\"1\" class=\"dataframe\">\n",
       "  <thead>\n",
       "    <tr style=\"text-align: right;\">\n",
       "      <th></th>\n",
       "      <th>user_id</th>\n",
       "      <th>title</th>\n",
       "      <th>counts</th>\n",
       "    </tr>\n",
       "  </thead>\n",
       "  <tbody>\n",
       "    <tr>\n",
       "      <th>0</th>\n",
       "      <td>0</td>\n",
       "      <td>0</td>\n",
       "      <td>5</td>\n",
       "    </tr>\n",
       "    <tr>\n",
       "      <th>1</th>\n",
       "      <td>1</td>\n",
       "      <td>0</td>\n",
       "      <td>5</td>\n",
       "    </tr>\n",
       "    <tr>\n",
       "      <th>2</th>\n",
       "      <td>2</td>\n",
       "      <td>0</td>\n",
       "      <td>4</td>\n",
       "    </tr>\n",
       "    <tr>\n",
       "      <th>3</th>\n",
       "      <td>3</td>\n",
       "      <td>0</td>\n",
       "      <td>4</td>\n",
       "    </tr>\n",
       "    <tr>\n",
       "      <th>4</th>\n",
       "      <td>4</td>\n",
       "      <td>0</td>\n",
       "      <td>5</td>\n",
       "    </tr>\n",
       "    <tr>\n",
       "      <th>...</th>\n",
       "      <td>...</td>\n",
       "      <td>...</td>\n",
       "      <td>...</td>\n",
       "    </tr>\n",
       "    <tr>\n",
       "      <th>0</th>\n",
       "      <td>6039</td>\n",
       "      <td>40</td>\n",
       "      <td>5</td>\n",
       "    </tr>\n",
       "    <tr>\n",
       "      <th>1</th>\n",
       "      <td>6039</td>\n",
       "      <td>513</td>\n",
       "      <td>4</td>\n",
       "    </tr>\n",
       "    <tr>\n",
       "      <th>2</th>\n",
       "      <td>6039</td>\n",
       "      <td>100</td>\n",
       "      <td>4</td>\n",
       "    </tr>\n",
       "    <tr>\n",
       "      <th>3</th>\n",
       "      <td>6039</td>\n",
       "      <td>488</td>\n",
       "      <td>5</td>\n",
       "    </tr>\n",
       "    <tr>\n",
       "      <th>4</th>\n",
       "      <td>6039</td>\n",
       "      <td>330</td>\n",
       "      <td>4</td>\n",
       "    </tr>\n",
       "  </tbody>\n",
       "</table>\n",
       "<p>836483 rows × 3 columns</p>\n",
       "</div>"
      ],
      "text/plain": [
       "    user_id  title  counts\n",
       "0         0      0       5\n",
       "1         1      0       5\n",
       "2         2      0       4\n",
       "3         3      0       4\n",
       "4         4      0       5\n",
       "..      ...    ...     ...\n",
       "0      6039     40       5\n",
       "1      6039    513       4\n",
       "2      6039    100       4\n",
       "3      6039    488       5\n",
       "4      6039    330       4\n",
       "\n",
       "[836483 rows x 3 columns]"
      ]
     },
     "execution_count": 236,
     "metadata": {},
     "output_type": "execute_result"
    }
   ],
   "source": [
    "# indexing을 통해 데이터 컬럼 내 값을 바꾸는 코드\n",
    "# dictionary 자료형의 get 함수는 https://wikidocs.net/16 을 참고하세요.\n",
    "\n",
    "# user_to_idx.get을 통해 user_id 컬럼의 모든 값을 인덱싱한 Series를 구해 봅시다. \n",
    "# 혹시 정상적으로 인덱싱되지 않은 row가 있다면 인덱스가 NaN이 될 테니 dropna()로 제거합니다. \n",
    "temp_user_data = df_movies['user_id'].map(user_to_idx.get).dropna()\n",
    "if len(temp_user_data) == len(df_movies):   # 모든 row가 정상적으로 인덱싱되었다면\n",
    "    print('user_id column indexing OK!!')\n",
    "    df_movies['user_id'] = temp_user_data   # data['user_id']을 인덱싱된 Series로 교체해 줍니다. \n",
    "else:\n",
    "    print('user_id column indexing Fail!!')\n",
    "\n",
    "# movie_to_idx을 통해 artist 컬럼도 동일한 방식으로 인덱싱해 줍니다. \n",
    "temp_movie_data = df_movies['title'].map(movie_to_idx.get).dropna()\n",
    "if len(temp_movie_data) == len(df_movies):\n",
    "    print('movie column indexing OK!!')\n",
    "    df_movies['title'] = temp_movie_data\n",
    "else:\n",
    "    print('movie column indexing Fail!!')\n",
    "\n",
    "df_movies"
   ]
  },
  {
   "cell_type": "code",
   "execution_count": 19,
   "id": "2e643f6d",
   "metadata": {},
   "outputs": [],
   "source": [
    "# 내가 만든 유저 인덱싱화 함수\n",
    "# def usertoidx(x):\n",
    "#     idx = user_to_idx[x]\n",
    "#     return idx\n",
    "\n",
    "# ratings[\"user_id\"] = ratings[\"user_id\"].apply(usertoidx)"
   ]
  },
  {
   "cell_type": "markdown",
   "id": "96616019",
   "metadata": {},
   "source": [
    "### 4) CSR matrix를 직접 만들어 봅시다."
   ]
  },
  {
   "cell_type": "code",
   "execution_count": 242,
   "id": "812c659f",
   "metadata": {},
   "outputs": [
    {
     "name": "stdout",
     "output_type": "stream",
     "text": [
      "df_movies.user_id.shape :  (836483,)\n",
      "df_movies.movie_id.shape :  (836483,)\n"
     ]
    }
   ],
   "source": [
    "print(\"df_movies.user_id.shape : \",df_movies.user_id.shape)\n",
    "print(\"df_movies.movie_id.shape : \", df_movies.title.shape)"
   ]
  },
  {
   "cell_type": "code",
   "execution_count": 241,
   "id": "23ece1d0",
   "metadata": {},
   "outputs": [
    {
     "data": {
      "text/html": [
       "<div>\n",
       "<style scoped>\n",
       "    .dataframe tbody tr th:only-of-type {\n",
       "        vertical-align: middle;\n",
       "    }\n",
       "\n",
       "    .dataframe tbody tr th {\n",
       "        vertical-align: top;\n",
       "    }\n",
       "\n",
       "    .dataframe thead th {\n",
       "        text-align: right;\n",
       "    }\n",
       "</style>\n",
       "<table border=\"1\" class=\"dataframe\">\n",
       "  <thead>\n",
       "    <tr style=\"text-align: right;\">\n",
       "      <th></th>\n",
       "      <th>user_id</th>\n",
       "      <th>title</th>\n",
       "      <th>counts</th>\n",
       "    </tr>\n",
       "  </thead>\n",
       "  <tbody>\n",
       "    <tr>\n",
       "      <th>1680</th>\n",
       "      <td>0</td>\n",
       "      <td>1</td>\n",
       "      <td>3</td>\n",
       "    </tr>\n",
       "    <tr>\n",
       "      <th>1681</th>\n",
       "      <td>15</td>\n",
       "      <td>1</td>\n",
       "      <td>3</td>\n",
       "    </tr>\n",
       "    <tr>\n",
       "      <th>1682</th>\n",
       "      <td>16</td>\n",
       "      <td>1</td>\n",
       "      <td>5</td>\n",
       "    </tr>\n",
       "    <tr>\n",
       "      <th>1683</th>\n",
       "      <td>1680</td>\n",
       "      <td>1</td>\n",
       "      <td>4</td>\n",
       "    </tr>\n",
       "    <tr>\n",
       "      <th>1684</th>\n",
       "      <td>18</td>\n",
       "      <td>1</td>\n",
       "      <td>5</td>\n",
       "    </tr>\n",
       "    <tr>\n",
       "      <th>...</th>\n",
       "      <td>...</td>\n",
       "      <td>...</td>\n",
       "      <td>...</td>\n",
       "    </tr>\n",
       "    <tr>\n",
       "      <th>2118</th>\n",
       "      <td>1659</td>\n",
       "      <td>1</td>\n",
       "      <td>3</td>\n",
       "    </tr>\n",
       "    <tr>\n",
       "      <th>2119</th>\n",
       "      <td>1938</td>\n",
       "      <td>1</td>\n",
       "      <td>5</td>\n",
       "    </tr>\n",
       "    <tr>\n",
       "      <th>2120</th>\n",
       "      <td>1939</td>\n",
       "      <td>1</td>\n",
       "      <td>5</td>\n",
       "    </tr>\n",
       "    <tr>\n",
       "      <th>2121</th>\n",
       "      <td>1672</td>\n",
       "      <td>1</td>\n",
       "      <td>4</td>\n",
       "    </tr>\n",
       "    <tr>\n",
       "      <th>2122</th>\n",
       "      <td>1940</td>\n",
       "      <td>1</td>\n",
       "      <td>3</td>\n",
       "    </tr>\n",
       "  </tbody>\n",
       "</table>\n",
       "<p>443 rows × 3 columns</p>\n",
       "</div>"
      ],
      "text/plain": [
       "      user_id  title  counts\n",
       "1680        0      1       3\n",
       "1681       15      1       3\n",
       "1682       16      1       5\n",
       "1683     1680      1       4\n",
       "1684       18      1       5\n",
       "...       ...    ...     ...\n",
       "2118     1659      1       3\n",
       "2119     1938      1       5\n",
       "2120     1939      1       5\n",
       "2121     1672      1       4\n",
       "2122     1940      1       3\n",
       "\n",
       "[443 rows x 3 columns]"
      ]
     },
     "execution_count": 241,
     "metadata": {},
     "output_type": "execute_result"
    }
   ],
   "source": [
    "df_movies[df_movies[\"title\"] == 1]"
   ]
  },
  {
   "cell_type": "code",
   "execution_count": 244,
   "id": "1f7aeac6",
   "metadata": {},
   "outputs": [
    {
     "data": {
      "text/plain": [
       "<6040x3628 sparse matrix of type '<class 'numpy.int64'>'\n",
       "\twith 836483 stored elements in Compressed Sparse Row format>"
      ]
     },
     "execution_count": 244,
     "metadata": {},
     "output_type": "execute_result"
    }
   ],
   "source": [
    "# 실습 위에 설명보고 이해해서 만들어보기\n",
    "from scipy.sparse import csr_matrix\n",
    "\n",
    "num_user = df_movies['user_id'].nunique()\n",
    "num_movie = df_movies['title'].nunique()\n",
    "\n",
    "csr_data = csr_matrix((df_movies.counts, (df_movies.user_id, df_movies.title)), shape= (num_user, num_movie))\n",
    "csr_data"
   ]
  },
  {
   "cell_type": "markdown",
   "id": "bccd4b02",
   "metadata": {},
   "source": [
    "### 5) als_model = AlternatingLeastSquares 모델을 직접 구성하여 훈련시켜 봅시다.\n",
    "\n",
    "- 참고자료1 : [document](https://implicit.readthedocs.io/en/latest/als.html)\n",
    "- 참고자료2 : [모델 설명](https://yeomko.tistory.com/4)  "
   ]
  },
  {
   "cell_type": "code",
   "execution_count": 245,
   "id": "cf50da64",
   "metadata": {},
   "outputs": [],
   "source": [
    "from implicit.als import AlternatingLeastSquares\n",
    "import os\n",
    "import numpy as np\n",
    "\n",
    "# implicit 라이브러리에서 권장하고 있는 부분입니다. 학습 내용과는 무관합니다.\n",
    "os.environ['OPENBLAS_NUM_THREADS']='1'\n",
    "os.environ['KMP_DUPLICATE_LIB_OK']='True'\n",
    "os.environ['MKL_NUM_THREADS']='1'"
   ]
  },
  {
   "cell_type": "code",
   "execution_count": 277,
   "id": "7418a9bf",
   "metadata": {},
   "outputs": [],
   "source": [
    "# Implicit AlternatingLeastSquares 모델의 선언\n",
    "als_model = AlternatingLeastSquares(factors=256, regularization=0.01, use_gpu=False, iterations=15, dtype=np.float32)"
   ]
  },
  {
   "cell_type": "code",
   "execution_count": 278,
   "id": "6429bd4c",
   "metadata": {},
   "outputs": [
    {
     "data": {
      "text/plain": [
       "<3628x6040 sparse matrix of type '<class 'numpy.int64'>'\n",
       "\twith 836483 stored elements in Compressed Sparse Column format>"
      ]
     },
     "execution_count": 278,
     "metadata": {},
     "output_type": "execute_result"
    }
   ],
   "source": [
    "# als 모델은 input으로 (item X user 꼴의 matrix를 받기 때문에 Transpose해줍니다.)\n",
    "csr_data_transpose = csr_data.T\n",
    "csr_data_transpose"
   ]
  },
  {
   "cell_type": "code",
   "execution_count": 279,
   "id": "0f355e5b",
   "metadata": {},
   "outputs": [
    {
     "data": {
      "application/vnd.jupyter.widget-view+json": {
       "model_id": "f1ffb19e1ab4425a9f3dbf1996a8122d",
       "version_major": 2,
       "version_minor": 0
      },
      "text/plain": [
       "  0%|          | 0/15 [00:00<?, ?it/s]"
      ]
     },
     "metadata": {},
     "output_type": "display_data"
    }
   ],
   "source": [
    "# 모델 훈련\n",
    "als_model.fit(csr_data_transpose)"
   ]
  },
  {
   "cell_type": "markdown",
   "id": "8a399ded",
   "metadata": {},
   "source": [
    "### 6) 내가 선호하는 5가지 영화 중 하나와 그 외의 영화 하나를 골라 훈련된 모델이 예측한 나의 선호도를 파악해 보세요."
   ]
  },
  {
   "cell_type": "code",
   "execution_count": 280,
   "id": "f3fd5e5c",
   "metadata": {},
   "outputs": [],
   "source": [
    "# 나(Taejong)  vector과 When Harry Met Sally... (1989) 확인\n",
    "taejong, harry = user_to_idx[\"Taejong\"], movie_to_idx[\"When Harry Met Sally... (1989)\"]\n",
    "taejong_vector, aladdin_vector = als_model.user_factors[taejong], als_model.item_factors[harry]"
   ]
  },
  {
   "cell_type": "code",
   "execution_count": 281,
   "id": "ac5fc06e",
   "metadata": {},
   "outputs": [
    {
     "data": {
      "text/plain": [
       "array([ 8.42599124e-02,  3.08123618e-01, -4.80960041e-01, -7.70504892e-01,\n",
       "        4.55295056e-01,  1.65119022e-01,  2.12424397e-01, -2.20252946e-01,\n",
       "        3.15821469e-01,  5.98911405e-01, -1.52001575e-01,  6.67313397e-01,\n",
       "        3.99563819e-01,  2.22136557e-01, -4.88440305e-01, -4.68620867e-01,\n",
       "       -4.31409568e-01,  5.88452041e-01,  4.22213048e-01,  7.52333820e-01,\n",
       "        5.98816156e-01,  2.29657650e-01,  1.05546981e-01,  9.12428200e-01,\n",
       "       -5.13866961e-01,  5.14174759e-01,  2.75413275e-01, -5.18804371e-01,\n",
       "        3.11761349e-01,  4.90929395e-01, -1.46398738e-01, -3.81059766e-01,\n",
       "       -3.06478478e-02, -2.87878424e-01,  5.27877510e-01, -7.22816467e-01,\n",
       "       -1.10223722e+00, -4.50531334e-01, -4.14747059e-01,  2.62370557e-01,\n",
       "        1.50488570e-01,  3.12360018e-01,  5.31804226e-02,  3.57757397e-02,\n",
       "       -6.42695069e-01,  1.32805482e-01, -3.12333524e-01,  1.04282939e+00,\n",
       "        2.83589572e-01,  8.77630934e-02,  8.70551243e-02, -9.17694569e-01,\n",
       "        1.58304125e-01,  7.50286411e-03,  3.69311750e-01, -2.66310573e-01,\n",
       "        9.37967896e-02, -7.90715963e-02, -3.93010437e-01, -4.99996573e-01,\n",
       "       -3.18033636e-01,  5.83865225e-01, -4.70215648e-01,  3.46249253e-01,\n",
       "       -8.52004811e-02,  2.71839142e-01,  3.12909305e-01, -5.15989698e-02,\n",
       "       -1.52231187e-01, -2.79442191e-01, -2.77862787e-01,  3.84134054e-01,\n",
       "        1.50118172e-01,  3.71905714e-01, -4.96839464e-01, -3.59110445e-01,\n",
       "        2.95769930e-01,  4.13222641e-01,  3.37527305e-01,  2.25365952e-01,\n",
       "        3.61017913e-01, -4.43053335e-01, -6.50252461e-01, -2.09328368e-01,\n",
       "        2.73594022e-01, -1.00537173e-01,  2.85218418e-01, -2.15532362e-01,\n",
       "       -7.00792968e-01, -6.86754584e-01, -6.17106438e-01,  1.75647587e-01,\n",
       "       -1.75202250e-01,  1.90461069e-01,  3.84095050e-02, -2.07446627e-02,\n",
       "        2.24865466e-01, -3.33942175e-01, -5.27456962e-03, -2.32033789e-01,\n",
       "        6.71231925e-01, -2.26641253e-01,  5.64983785e-02, -2.82510608e-01,\n",
       "       -3.59581441e-01, -1.04641519e-01,  2.19153404e-01, -1.84742734e-02,\n",
       "        3.84823799e-01, -4.27222013e-01,  1.89900801e-01,  6.56723455e-02,\n",
       "       -2.30636403e-01,  2.92391062e-01,  1.76387787e-01, -2.00454846e-01,\n",
       "        2.95313835e-01, -2.66064495e-01, -5.51860742e-02, -5.51169336e-01,\n",
       "       -6.88899755e-01,  5.22319436e-01,  4.58535701e-01,  2.97512144e-01,\n",
       "       -2.40812749e-01, -1.46837741e-01, -8.45066085e-03,  1.36741251e-01,\n",
       "       -5.87608218e-01,  2.71154325e-02,  2.46966586e-01,  3.17682683e-01,\n",
       "        1.17580727e-01,  2.65817523e-01,  5.87487876e-01,  2.25425571e-01,\n",
       "       -1.51521146e-01, -1.00013793e-01,  1.01962155e-02, -5.38092494e-01,\n",
       "        5.02635419e-01, -1.82776526e-01,  3.39256525e-01,  1.57447696e-01,\n",
       "        1.70445412e-01, -2.90238857e-01, -1.81456044e-01, -1.71411932e-01,\n",
       "        1.10101081e-01,  5.50863326e-01,  1.83297321e-01, -5.90560250e-02,\n",
       "        5.92953451e-02, -4.81355399e-01,  2.24206243e-02, -7.09536672e-01,\n",
       "        1.14955343e-01, -1.68967638e-02, -6.62602544e-01,  2.12908357e-01,\n",
       "        3.94266273e-04,  3.77769768e-01,  1.27479434e+00, -3.06721956e-01,\n",
       "        4.97378632e-02, -4.21823338e-02,  1.90664172e-01, -8.67447257e-02,\n",
       "       -1.88022152e-01, -2.74003386e-01,  7.54130900e-01,  5.35144687e-01,\n",
       "       -8.55227262e-02, -3.04967642e-01,  2.17536427e-02,  9.30329505e-03,\n",
       "       -1.81457013e-01,  4.92229640e-01, -5.39455235e-01, -6.36361241e-01,\n",
       "       -2.91391969e-01, -2.33861551e-01,  3.26129466e-01, -1.04493469e-01,\n",
       "       -4.87568110e-01, -7.30364859e-01, -6.23855889e-01,  2.05727205e-01,\n",
       "       -7.17010856e-01,  3.70618194e-01, -2.76841909e-01, -6.07265770e-01,\n",
       "        4.37857062e-02,  2.78701559e-02, -1.11849662e-02, -1.97706938e-01,\n",
       "       -2.10552722e-01, -2.50664264e-01,  1.56053096e-01, -4.84470800e-02,\n",
       "       -5.63971996e-01,  3.28249544e-01,  4.36396897e-02,  2.65843451e-01,\n",
       "        2.74146974e-01,  1.04667567e-01,  3.55193485e-03,  4.88453507e-01,\n",
       "        3.03051442e-01, -2.88654834e-01,  2.81347156e-01,  2.44398043e-01,\n",
       "        2.14863911e-01,  1.59017399e-01,  8.56093541e-02, -3.07709813e-01,\n",
       "       -2.50298828e-01,  1.92718655e-01,  6.24857485e-01, -2.80098289e-01,\n",
       "        1.17294967e-01, -2.26540491e-01,  1.29134822e+00,  2.41418272e-01,\n",
       "        5.16290128e-01,  1.37959182e-01,  5.81141531e-01,  8.08756411e-01,\n",
       "       -7.83560514e-01, -4.88134623e-01,  2.19586506e-01, -6.04507923e-01,\n",
       "        6.38467193e-01, -2.97696233e-01, -2.85661578e-01,  8.39312673e-02,\n",
       "       -1.39508337e-01,  1.69877693e-01,  1.12805419e-01, -2.53419608e-01,\n",
       "       -6.81632534e-02,  9.73321915e-01, -5.21724105e-01, -1.73257813e-01,\n",
       "        6.77827418e-01,  8.62587318e-02,  4.14077759e-01, -7.33267963e-01,\n",
       "        9.34811980e-02, -3.55145782e-01,  4.07901704e-01, -6.45443052e-02,\n",
       "       -4.05662596e-01, -1.17884524e-01, -4.39302176e-01,  7.08981931e-01],\n",
       "      dtype=float32)"
      ]
     },
     "execution_count": 281,
     "metadata": {},
     "output_type": "execute_result"
    }
   ],
   "source": [
    "taejong_vector"
   ]
  },
  {
   "cell_type": "code",
   "execution_count": 282,
   "id": "083c9099",
   "metadata": {},
   "outputs": [
    {
     "data": {
      "text/plain": [
       "array([-9.42420214e-03,  1.46307983e-02, -3.14703648e-04, -4.71641310e-03,\n",
       "        6.04150770e-03,  7.71319447e-03,  1.56708043e-02,  1.95928123e-02,\n",
       "        6.30931556e-03,  2.83026267e-02, -2.77050887e-03,  1.23205483e-02,\n",
       "        7.75552914e-03,  7.04481406e-03, -3.88570916e-04, -2.09724857e-03,\n",
       "       -1.70499254e-02,  1.44002875e-02,  1.09264273e-02,  1.72002707e-02,\n",
       "        2.17193421e-02, -1.35513744e-03,  9.43669211e-03,  2.15574428e-02,\n",
       "       -1.88775845e-02,  2.63369605e-02,  2.02089883e-02, -1.49300732e-02,\n",
       "        2.28104293e-02,  6.25519315e-04,  9.96695738e-03,  1.06205493e-02,\n",
       "        3.33633125e-02,  1.27594909e-02,  3.00915129e-02, -1.47077302e-03,\n",
       "       -2.18284093e-02,  2.20691729e-02, -7.45828403e-03, -4.79087839e-03,\n",
       "       -7.82622583e-03,  1.56295858e-02,  2.72750463e-02,  6.19850960e-03,\n",
       "       -9.64259170e-03,  8.02778266e-03, -2.32458599e-02,  3.15009095e-02,\n",
       "       -4.93109180e-03, -7.83073774e-04,  3.18239536e-03, -1.50187472e-02,\n",
       "        1.71398968e-02,  8.02683644e-03,  1.24251880e-02, -4.86852787e-03,\n",
       "        7.43040210e-03, -1.90832652e-02,  1.59133058e-02,  1.44907637e-02,\n",
       "       -6.25271397e-03,  3.22502889e-02,  7.33437249e-03,  1.04554137e-02,\n",
       "       -3.12959729e-03,  1.89963612e-04,  4.85769473e-03, -6.46512164e-03,\n",
       "       -3.05176759e-03, -2.53481208e-03,  1.82840396e-02, -2.16896948e-03,\n",
       "        1.56975798e-02,  1.30635761e-02, -4.69698524e-03,  1.88909849e-04,\n",
       "        2.79266648e-02, -8.69342964e-03,  1.33650526e-02,  2.69502606e-02,\n",
       "        8.50045402e-03, -1.35132801e-02,  1.04294363e-02,  1.31812701e-02,\n",
       "        1.47013215e-03,  1.26325740e-02, -1.54199377e-02,  1.50082866e-03,\n",
       "       -3.92075395e-03, -1.95936989e-02, -3.20825540e-02,  1.37201231e-02,\n",
       "        2.54154787e-03,  1.66427009e-02, -1.87645055e-04,  7.42363976e-03,\n",
       "       -4.84314002e-03, -4.60546697e-03, -6.51173340e-03, -7.70354224e-03,\n",
       "        2.59130802e-02,  1.11080138e-02,  1.62879489e-02,  2.09351126e-02,\n",
       "       -3.01203365e-03, -4.33361251e-03, -9.22166184e-03, -3.27222806e-04,\n",
       "        1.87770389e-02,  1.45848105e-02,  9.37999692e-03, -8.23108573e-03,\n",
       "       -7.35379197e-03,  3.55163915e-03,  5.57527971e-03,  1.17156152e-02,\n",
       "        4.43527475e-03, -4.99713840e-03,  2.36867499e-02, -2.36873776e-02,\n",
       "       -4.00992954e-04,  1.31833479e-02,  1.51891969e-02, -2.27779360e-03,\n",
       "       -7.73373235e-04,  4.69011534e-03, -1.11795980e-02,  6.64037559e-03,\n",
       "       -1.91591606e-02, -2.93525198e-04,  1.32878404e-02,  6.57823775e-03,\n",
       "        3.42790000e-02,  8.50505196e-03,  2.71446574e-02, -8.22083279e-03,\n",
       "        2.03253739e-02,  1.09091364e-02,  1.04922280e-02, -6.25054212e-03,\n",
       "        2.75255665e-02,  2.03227829e-02,  7.92171247e-03, -1.06922360e-02,\n",
       "        1.69299804e-02, -2.10794015e-03,  2.86550215e-03, -1.09543810e-02,\n",
       "        3.12565104e-03, -4.28314973e-03, -2.32029147e-02,  3.95849673e-03,\n",
       "        2.03756522e-02,  1.88013893e-02,  1.26557192e-02, -6.88477419e-03,\n",
       "        1.21009257e-02,  3.10258497e-03,  7.18425654e-05,  2.12067626e-02,\n",
       "        5.00601530e-03,  2.22109854e-02,  2.84497463e-03,  2.86407513e-03,\n",
       "       -2.31016278e-02,  1.49639118e-02,  1.45076439e-02,  6.19625673e-03,\n",
       "        1.96432509e-03,  6.57450827e-03, -2.12512678e-03,  2.11390089e-02,\n",
       "        1.41003858e-02, -2.97095813e-03,  1.84207354e-02,  1.67848747e-02,\n",
       "        1.92359299e-03, -1.27864280e-03,  5.32099698e-03,  1.63523725e-03,\n",
       "       -1.33740548e-02, -1.62538160e-02,  2.31035035e-02,  1.36845866e-02,\n",
       "        2.47084703e-02, -9.58582945e-03, -1.54607452e-03,  7.39511847e-03,\n",
       "        1.35146081e-03,  2.70129014e-02, -5.31177735e-03, -1.64350048e-02,\n",
       "        5.18145878e-03,  1.81646284e-03,  1.25523563e-02,  4.42265300e-03,\n",
       "       -3.19148763e-03, -8.73394310e-03, -6.11597486e-03, -3.05557885e-04,\n",
       "       -7.27921911e-03,  1.74316354e-02,  1.81665365e-02,  8.37726891e-03,\n",
       "        1.25403702e-02, -1.09313859e-03,  2.48110145e-02, -4.20706347e-03,\n",
       "        8.11139063e-04, -1.83144063e-02, -7.56225875e-03,  1.76649820e-02,\n",
       "        4.47172346e-03,  3.07276174e-02,  4.45619551e-03,  9.43607837e-03,\n",
       "       -4.04596794e-03, -1.03397798e-02,  3.87627538e-03,  1.18835864e-03,\n",
       "        1.48048894e-02, -3.43444664e-03,  1.23414984e-02,  1.58995036e-02,\n",
       "        1.51274167e-02,  1.94577985e-02,  1.16899619e-02,  7.96121545e-03,\n",
       "       -7.86347035e-03, -2.34501669e-03, -6.88292366e-03, -3.23318993e-03,\n",
       "        3.60502601e-02,  1.26865301e-02,  5.40692359e-04,  4.81833890e-03,\n",
       "       -1.60443550e-03,  2.06807088e-02, -2.55334261e-03, -1.24393934e-02,\n",
       "       -9.59907472e-03,  2.17047054e-02, -1.29509913e-02, -2.20548138e-02,\n",
       "       -6.22964976e-03,  3.73596023e-03,  4.37445799e-03,  1.01918913e-02,\n",
       "        1.75667536e-02, -1.43505065e-02,  1.16727538e-02, -1.72741548e-03,\n",
       "       -7.58613023e-05,  1.36169158e-02,  1.56032639e-02,  2.59559359e-02],\n",
       "      dtype=float32)"
      ]
     },
     "execution_count": 282,
     "metadata": {},
     "output_type": "execute_result"
    }
   ],
   "source": [
    "aladdin_vector"
   ]
  },
  {
   "cell_type": "code",
   "execution_count": 283,
   "id": "6b52b3a3",
   "metadata": {},
   "outputs": [
    {
     "data": {
      "text/plain": [
       "0.6086867"
      ]
     },
     "execution_count": 283,
     "metadata": {},
     "output_type": "execute_result"
    }
   ],
   "source": [
    "np.dot(taejong_vector,aladdin_vector)"
   ]
  },
  {
   "cell_type": "code",
   "execution_count": 284,
   "id": "036e233b",
   "metadata": {},
   "outputs": [
    {
     "name": "stdout",
     "output_type": "stream",
     "text": [
      "0.09502737\n"
     ]
    }
   ],
   "source": [
    "#snow white and the seven dwarfs vector을 가지고 선호도 예측 확인\n",
    "# 전혀 상관없는 영화 사용해봄\n",
    "snow = movie_to_idx['Snow White and the Seven Dwarfs (1937)']\n",
    "snow_vector = als_model.item_factors[snow]\n",
    "\n",
    "print(np.dot(taejong_vector, snow_vector))"
   ]
  },
  {
   "cell_type": "markdown",
   "id": "d81a0a6e",
   "metadata": {},
   "source": [
    "### 7) 내가 좋아하는 영화와 비슷한 영화를 추천받아 봅시다."
   ]
  },
  {
   "cell_type": "code",
   "execution_count": 285,
   "id": "0ca31e18",
   "metadata": {},
   "outputs": [],
   "source": [
    "idx_to_movie = {v:k for k, v in movie_to_idx.items()}  # movie_id 에서 title을 찾아내는 딕셔너리\n",
    "\n",
    "def get_similar_movie(movie_name : str):\n",
    "    movie_id = movie_to_idx[movie_name]\n",
    "    similar_movie = als_model.similar_items(movie_id)\n",
    "    similar_movie = [idx_to_movie[i[0]] for i in similar_movie]\n",
    "    return similar_movie[1:]  # 내가 넣은 영화는 제외"
   ]
  },
  {
   "cell_type": "code",
   "execution_count": 286,
   "id": "bb7d532b",
   "metadata": {},
   "outputs": [
    {
     "data": {
      "text/plain": [
       "[\"Ferris Bueller's Day Off (1986)\",\n",
       " 'Gate of Heavenly Peace, The (1995)',\n",
       " 'Free Willy 3: The Rescue (1997)',\n",
       " 'Alien Escape (1995)',\n",
       " 'Giant Gila Monster, The (1959)',\n",
       " 'Cabinet of Dr. Ramirez, The (1991)',\n",
       " 'Midaq Alley (Callejón de los milagros, El) (1995)',\n",
       " 'Woo (1998)',\n",
       " 'Oxygen (1999)']"
      ]
     },
     "execution_count": 286,
     "metadata": {},
     "output_type": "execute_result"
    }
   ],
   "source": [
    "# 내가 좋아하는 영화와 비슷한 영화\n",
    "# 내가 넣은 영화는 제외하고 유사한 영화만 출력\n",
    "get_similar_movie(\"When Harry Met Sally... (1989)\")"
   ]
  },
  {
   "cell_type": "markdown",
   "id": "14c827c4",
   "metadata": {},
   "source": [
    "### 8) 내가 가장 좋아할 만한 영화들을 추천받아 봅시다."
   ]
  },
  {
   "cell_type": "code",
   "execution_count": 287,
   "id": "cd3288b2",
   "metadata": {},
   "outputs": [
    {
     "data": {
      "text/plain": [
       "[(33, 0.3470786),\n",
       " (10, 0.30236813),\n",
       " (50, 0.2598582),\n",
       " (191, 0.25631785),\n",
       " (157, 0.21927714),\n",
       " (1144, 0.21306053),\n",
       " (30, 0.20522968),\n",
       " (19, 0.1985277),\n",
       " (13, 0.19441968),\n",
       " (545, 0.192971),\n",
       " (169, 0.18892914),\n",
       " (582, 0.1876348),\n",
       " (596, 0.17728232),\n",
       " (4, 0.1766702),\n",
       " (34, 0.16474399),\n",
       " (369, 0.1622696),\n",
       " (458, 0.15154257),\n",
       " (1023, 0.1511209),\n",
       " (107, 0.14833921),\n",
       " (653, 0.14651933)]"
      ]
     },
     "execution_count": 287,
     "metadata": {},
     "output_type": "execute_result"
    }
   ],
   "source": [
    "user = user_to_idx[\"Taejong\"]\n",
    "# recommend에서는 user*item CSR Matrix를 받는다.\n",
    "movie_recommended = als_model.recommend(user, csr_data, N=20, filter_already_liked_items = True)\n",
    "movie_recommended"
   ]
  },
  {
   "cell_type": "code",
   "execution_count": 288,
   "id": "c7d84dd9",
   "metadata": {},
   "outputs": [
    {
     "data": {
      "text/plain": [
       "['Aladdin (1992)',\n",
       " 'Beauty and the Beast (1991)',\n",
       " 'Toy Story 2 (1999)',\n",
       " 'Little Mermaid, The (1989)',\n",
       " 'Shawshank Redemption, The (1994)',\n",
       " 'Bull Durham (1988)',\n",
       " 'Antz (1998)',\n",
       " 'Big (1988)',\n",
       " \"Ferris Bueller's Day Off (1986)\",\n",
       " 'Santa Clause, The (1994)',\n",
       " 'Fish Called Wanda, A (1988)',\n",
       " 'Beetlejuice (1988)',\n",
       " 'Hook (1991)',\n",
       " \"Bug's Life, A (1998)\",\n",
       " 'Mulan (1998)',\n",
       " 'Witness (1985)',\n",
       " 'Mask, The (1994)',\n",
       " 'Office Space (1999)',\n",
       " 'Jurassic Park (1993)',\n",
       " '12 Angry Men (1957)']"
      ]
     },
     "execution_count": 288,
     "metadata": {},
     "output_type": "execute_result"
    }
   ],
   "source": [
    "# 내가 추천받은 영화 제목 뽑기\n",
    "[idx_to_movie[i[0]] for i in movie_recommended] "
   ]
  },
  {
   "cell_type": "code",
   "execution_count": 289,
   "id": "9cea0a84",
   "metadata": {},
   "outputs": [
    {
     "data": {
      "text/plain": [
       "[('Lion King, The (1994)', 0.02767795755934821),\n",
       " ('Toy Story (1995)', 0.0131895067893962),\n",
       " ('Amadeus (1984)', 0.010347548754542472),\n",
       " ('When Harry Met Sally... (1989)', 0.008455536526985514),\n",
       " ('Jumanji (1995)', -0.008478559045393422)]"
      ]
     },
     "execution_count": 289,
     "metadata": {},
     "output_type": "execute_result"
    }
   ],
   "source": [
    "# 영화을 넣으면 비슷한 영화 출력하기\n",
    "aladin = movie_to_idx[\"Raising Arizona (1987)\"]\n",
    "explain = als_model.explain(user, csr_data, itemid=aladin)\n",
    "[(idx_to_movie[i[0]], i[1]) for i in explain[1]]"
   ]
  },
  {
   "cell_type": "code",
   "execution_count": 290,
   "id": "ac43232d",
   "metadata": {},
   "outputs": [
    {
     "data": {
      "text/plain": [
       "0.05119199058487897"
      ]
     },
     "execution_count": 290,
     "metadata": {},
     "output_type": "execute_result"
    }
   ],
   "source": [
    "explain[0]"
   ]
  },
  {
   "cell_type": "markdown",
   "id": "79ce9abf",
   "metadata": {},
   "source": [
    "## 회고\n",
    "\n",
    "-------------------------\n",
    "\n",
    ">크게 어려운 부분이 없었고 추천도 어느정도 내가 생각한 대로 나오기도 했다. 하지만 crs matrix로 변환하는 과정이 순탄치가 않았다. 처음에는 row data를 merge하지 않고 진행하해서 rating  data에 이미 존재하는 movie_id를 그대로 활용하려고 했지만 정말 이상하게도 csr행렬 변환이 되지 않았다. 이것저것 만져보고 다른 분들과 인자들을 비교도 해보았지만 입력한 파라미터들의 크기는 동일했다. 유일하게 다른것은 title을 직접 변환시키지 않고 movie_id를 그대로 활용했다는 점이었는데 사실 이부분이 왜 오류가 나는건지 아직도 이해가 가지 않는다. 결국 나도 ratings 데이터와 movies 데이터를 merge하여 title을 직접 index화 하였다. 그렇게 하니까 신기하게도 문제가 해결되었다. \n",
    "\n"
   ]
  },
  {
   "cell_type": "code",
   "execution_count": null,
   "id": "530e2cb7",
   "metadata": {},
   "outputs": [],
   "source": []
  },
  {
   "cell_type": "code",
   "execution_count": null,
   "id": "2074e076",
   "metadata": {},
   "outputs": [],
   "source": []
  },
  {
   "cell_type": "code",
   "execution_count": null,
   "id": "dc6fa310",
   "metadata": {},
   "outputs": [],
   "source": []
  },
  {
   "cell_type": "code",
   "execution_count": null,
   "id": "0207af6b",
   "metadata": {},
   "outputs": [],
   "source": []
  },
  {
   "cell_type": "code",
   "execution_count": null,
   "id": "4f89f4c2",
   "metadata": {},
   "outputs": [],
   "source": []
  },
  {
   "cell_type": "code",
   "execution_count": null,
   "id": "2d4f96d9",
   "metadata": {},
   "outputs": [],
   "source": []
  },
  {
   "cell_type": "code",
   "execution_count": null,
   "id": "b4bce1d8",
   "metadata": {},
   "outputs": [],
   "source": []
  },
  {
   "cell_type": "code",
   "execution_count": null,
   "id": "4001588f",
   "metadata": {},
   "outputs": [],
   "source": []
  },
  {
   "cell_type": "code",
   "execution_count": null,
   "id": "d390ecbe",
   "metadata": {},
   "outputs": [],
   "source": []
  },
  {
   "cell_type": "code",
   "execution_count": null,
   "id": "edc23811",
   "metadata": {},
   "outputs": [],
   "source": []
  },
  {
   "cell_type": "code",
   "execution_count": null,
   "id": "0ea7b79a",
   "metadata": {},
   "outputs": [],
   "source": []
  },
  {
   "cell_type": "code",
   "execution_count": null,
   "id": "cc0fa86b",
   "metadata": {},
   "outputs": [],
   "source": []
  },
  {
   "cell_type": "code",
   "execution_count": null,
   "id": "df13a09a",
   "metadata": {},
   "outputs": [],
   "source": []
  }
 ],
 "metadata": {
  "kernelspec": {
   "display_name": "Python 3 (ipykernel)",
   "language": "python",
   "name": "python3"
  },
  "language_info": {
   "codemirror_mode": {
    "name": "ipython",
    "version": 3
   },
   "file_extension": ".py",
   "mimetype": "text/x-python",
   "name": "python",
   "nbconvert_exporter": "python",
   "pygments_lexer": "ipython3",
   "version": "3.9.7"
  }
 },
 "nbformat": 4,
 "nbformat_minor": 5
}
